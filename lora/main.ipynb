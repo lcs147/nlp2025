{
  "cells": [
    {
      "cell_type": "markdown",
      "metadata": {
        "id": "etSGt5PMevlK"
      },
      "source": [
        "# Setup inicial."
      ]
    },
    {
      "cell_type": "code",
      "execution_count": 1,
      "metadata": {
        "id": "uYEL88SHevlQ"
      },
      "outputs": [
        {
          "name": "stdout",
          "output_type": "stream",
          "text": [
            "Note: you may need to restart the kernel to use updated packages.\n",
            "Note: you may need to restart the kernel to use updated packages.\n"
          ]
        }
      ],
      "source": [
        "%pip install -q --upgrade transformers peft trl bitsandbytes accelerate datasets pandas\n",
        "%pip install -q --upgrade gdown huggingface_hub ipywidgets"
      ]
    },
    {
      "cell_type": "code",
      "execution_count": 2,
      "metadata": {
        "id": "tgEmd_FP8dZO"
      },
      "outputs": [],
      "source": [
        "qa_file_path = './datasets_lora_nlp2025/qa_dataset.csv'\n",
        "model_id = 'meta-llama/Llama-3.2-1B-Instruct'\n",
        "output_model_dir = \"./lora_folder\""
      ]
    },
    {
      "cell_type": "code",
      "execution_count": 3,
      "metadata": {
        "id": "GTcwfEKD2wZq"
      },
      "outputs": [],
      "source": [
        "import pandas as pd\n",
        "from datasets import Dataset\n",
        "from transformers import AutoTokenizer, AutoModelForCausalLM, BitsAndBytesConfig, TrainingArguments\n",
        "from peft import LoraConfig, get_peft_model, prepare_model_for_kbit_training\n",
        "from trl import SFTTrainer, SFTConfig\n",
        "import torch\n",
        "import os"
      ]
    },
    {
      "cell_type": "code",
      "execution_count": 4,
      "metadata": {
        "id": "qu9pODqQA5ze"
      },
      "outputs": [
        {
          "ename": "ModuleNotFoundError",
          "evalue": "No module named 'google'",
          "output_type": "error",
          "traceback": [
            "\u001b[31m---------------------------------------------------------------------------\u001b[39m",
            "\u001b[31mModuleNotFoundError\u001b[39m                       Traceback (most recent call last)",
            "\u001b[36mCell\u001b[39m\u001b[36m \u001b[39m\u001b[32mIn[4]\u001b[39m\u001b[32m, line 1\u001b[39m\n\u001b[32m----> \u001b[39m\u001b[32m1\u001b[39m \u001b[38;5;28;01mfrom\u001b[39;00m\u001b[38;5;250m \u001b[39m\u001b[34;01mgoogle\u001b[39;00m\u001b[34;01m.\u001b[39;00m\u001b[34;01mcolab\u001b[39;00m\u001b[38;5;250m \u001b[39m\u001b[38;5;28;01mimport\u001b[39;00m output\n\u001b[32m      2\u001b[39m output.enable_custom_widget_manager()\n",
            "\u001b[31mModuleNotFoundError\u001b[39m: No module named 'google'"
          ]
        }
      ],
      "source": [
        "from google.colab import output\n",
        "output.enable_custom_widget_manager()"
      ]
    },
    {
      "cell_type": "code",
      "execution_count": null,
      "metadata": {
        "colab": {
          "base_uri": "https://localhost:8080/"
        },
        "id": "k3NQaFt8evlV",
        "outputId": "0a02d731-4c03-4099-e698-7c0849b5f86a"
      },
      "outputs": [
        {
          "name": "stdout",
          "output_type": "stream",
          "text": [
            "True\n",
            "12.4\n"
          ]
        }
      ],
      "source": [
        "import torch\n",
        "print(torch.cuda.is_available()) # Should be True if CUDA is detected\n",
        "print(torch.version.cuda)"
      ]
    },
    {
      "cell_type": "markdown",
      "metadata": {
        "id": "KsZmm1c5Lhm4"
      },
      "source": [
        "# Importando Datasets"
      ]
    },
    {
      "cell_type": "markdown",
      "metadata": {
        "id": "dr4g2tSerG-a"
      },
      "source": [
        "Pega todas as noticias do site https://www.cnnbrasil.com.br referentes à Champions League 24/25."
      ]
    },
    {
      "cell_type": "code",
      "execution_count": null,
      "metadata": {
        "id": "wQkmNZoALgjg"
      },
      "outputs": [],
      "source": [
        "import gdown\n",
        "\n",
        "url = \"https://drive.google.com/drive/folders/10NbeNi3B_D448Fxst67bJQ7-s1GXx4nZ?usp=drive_link\"\n",
        "gdown.download_folder(url, quiet=False, use_cookies=False)\n"
      ]
    },
    {
      "cell_type": "markdown",
      "metadata": {
        "id": "rPQaKyN5-bzg"
      },
      "source": [
        "# Pegando as noticias."
      ]
    },
    {
      "cell_type": "code",
      "execution_count": null,
      "metadata": {
        "id": "cT1yk5Qt4jPy"
      },
      "outputs": [],
      "source": [
        "import requests\n",
        "from bs4 import BeautifulSoup\n",
        "import time\n",
        "import re\n",
        "\n",
        "BASE_URL = 'https://www.cnnbrasil.com.br/esportes/futebol/futebol-internacional/champions-league/pagina/'\n",
        "HEADERS = {'User-Agent': 'Mozilla/5.0'}\n",
        "OUTPUT_FILE = 'cnn_champions_news.txt'\n",
        "\n",
        "def get_news_links_cnn(page_number):\n",
        "    url = f'{BASE_URL}{page_number}/'\n",
        "    try:\n",
        "        response = requests.get(url, headers=HEADERS, timeout=10)\n",
        "        response.raise_for_status()\n",
        "    except requests.RequestException as e:\n",
        "        print(f'Erro ao acessar a página {page_number}: {e}')\n",
        "        return []\n",
        "\n",
        "    soup = BeautifulSoup(response.text, 'html.parser')\n",
        "    links = []\n",
        "    for a_tag in soup.find_all('a', href=True):\n",
        "        href = a_tag['href']\n",
        "        if re.match(r'^https://www\\.cnnbrasil\\.com\\.br/esportes/futebol/futebol-internacional/champions-league/.+', href) and \"onde-assistir\" not in href:\n",
        "            links.append(href)\n",
        "    return list(set(links))  # remover duplicatas\n",
        "\n",
        "def get_article_text_cnn(url):\n",
        "    try:\n",
        "        response = requests.get(url, headers=HEADERS, timeout=10)\n",
        "        response.raise_for_status()\n",
        "    except requests.RequestException as e:\n",
        "        print(f'Erro ao acessar a notícia {url}: {e}')\n",
        "        return ''\n",
        "\n",
        "    soup = BeautifulSoup(response.text, 'html.parser')\n",
        "    paragraphs = soup.find_all('p', class_=\"my-5 break-words\")\n",
        "    text = '\\n'.join(p.get_text(strip=True) for p in paragraphs)\n",
        "    return text\n",
        "\n",
        "def get_news_cnn():\n",
        "    all_links = set()\n",
        "    for page in range(1, 38):\n",
        "        print(f'Processando página {page}...')\n",
        "        links = get_news_links_cnn(page)\n",
        "        print(f'Encontrados {len(links)} links na página {page}.')\n",
        "        all_links.update(links)\n",
        "        time.sleep(1)\n",
        "\n",
        "    print(f'Total de links únicos encontrados: {len(all_links)}')\n",
        "\n",
        "    with open(OUTPUT_FILE, 'w', encoding='utf-8') as f:\n",
        "        for idx, link in enumerate(all_links, 1):\n",
        "            print(f'Lendo notícia {idx}/{len(all_links)}: {link}')\n",
        "            article_text = get_article_text_cnn(link)\n",
        "            if article_text:\n",
        "                f.write(article_text + '\\n\\n')\n",
        "            time.sleep(1)\n",
        "\n",
        "    print(f'Finalizado. Notícias salvas em {OUTPUT_FILE}.')\n",
        "\n",
        "get_news_cnn()\n"
      ]
    },
    {
      "cell_type": "markdown",
      "metadata": {
        "id": "rV99SIz--nVa"
      },
      "source": [
        "# Gerando dados sintéticos"
      ]
    },
    {
      "cell_type": "markdown",
      "metadata": {
        "id": "5nq7xLxtDk0f"
      },
      "source": [
        "## Configurando API do Google"
      ]
    },
    {
      "cell_type": "code",
      "execution_count": null,
      "metadata": {
        "id": "gkg6ZxhVCG60"
      },
      "outputs": [],
      "source": [
        "import os\n",
        "from google.colab import userdata\n",
        "\n",
        "try:\n",
        "    os.environ[\"GOOGLE_API_KEY\"] = userdata.get(\"GOOGLE_API_KEY\")\n",
        "    print(\"Chave de API do Gemini carregada dos Secrets.\")\n",
        "except KeyError:\n",
        "    print(\"Erro: A chave 'GOOGLE_API_KEY' não foi encontrada nos Secrets.\")"
      ]
    },
    {
      "cell_type": "code",
      "execution_count": null,
      "metadata": {
        "id": "UeEXpXgKCk4i"
      },
      "outputs": [],
      "source": [
        "import google.generativeai as genai  # Importa a biblioteca generativeai como genai\n",
        "genai.configure(api_key=os.environ.get(\"GOOGLE_API_KEY\"))"
      ]
    },
    {
      "cell_type": "code",
      "execution_count": null,
      "metadata": {
        "id": "cE836nmFCnHz"
      },
      "outputs": [],
      "source": [
        "models = genai.list_models()\n",
        "for model in models:\n",
        "    if('gemini' in model.name):\n",
        "        print(model.name)"
      ]
    },
    {
      "cell_type": "code",
      "execution_count": null,
      "metadata": {
        "id": "jIlg4tvVCoxN"
      },
      "outputs": [],
      "source": [
        "def chamada_LLM(prompt,\n",
        "                model_name='gemini-2.0-flash-001',\n",
        "                # model_name='gemini-2.5-flash-preview-05-20',\n",
        "                temperature=0.7,\n",
        "                max_output_tokens=1000000):\n",
        "  \"\"\"\n",
        "  Envia um prompt para um modelo Gemini e retorna a resposta gerada.\n",
        "\n",
        "  Args:\n",
        "    prompt: O prompt de texto a ser enviado ao modelo.\n",
        "    model_name: O nome do modelo Gemini a ser utilizado (padrão: 'gemini-2.0-flash').\n",
        "    temperature: Controla a aleatoriedade da saída (padrão: 0.7). Valores mais baixos tornam a saída mais determinística.\n",
        "    max_output_tokens: O número máximo de tokens a serem gerados na resposta (padrão: 500).\n",
        "\n",
        "  Returns:\n",
        "    O texto da resposta gerada pelo modelo Gemini ou None em caso de erro.\n",
        "  \"\"\"\n",
        "  try:\n",
        "    model = genai.GenerativeModel(model_name)\n",
        "    response = model.generate_content(\n",
        "        prompt,\n",
        "        generation_config={\n",
        "            \"temperature\": temperature,\n",
        "            \"max_output_tokens\": max_output_tokens\n",
        "        }\n",
        "    )\n",
        "    return response.text\n",
        "  except Exception as e:\n",
        "    print(f\"Erro ao gerar resposta com o modelo {model_name}: {e}\")\n",
        "    return None\n",
        "\n"
      ]
    },
    {
      "cell_type": "code",
      "execution_count": null,
      "metadata": {
        "id": "oEe_xxQWCr6l"
      },
      "outputs": [],
      "source": [
        "# prompt simples tem os seguintes elementos\n",
        "#### Instrução: uma tarefa ou instrução específica que se deseja que o modelo execute\n",
        "#### Contexto: Informações externas ou contexto adicional que podem orientar o modelo a fornecer melhores respostas\n",
        "#### Dados de entrada: entrada ou pergunta para a qual estamos interessados ​​​​em encontrar uma resposta\n",
        "#### Indicador de saída: tipo ou formato da saída.\n",
        "def prompt_simples(instrucao, contexto, indicador_saida):\n",
        "  \"\"\"\n",
        "  Envia um prompt para o Gemini e retorna a resposta gerada.\n",
        "\n",
        "  Args:\n",
        "    instrucao: A tarefa ou instrução específica.\n",
        "    contexto: Informações externas ou contexto adicional.\n",
        "    dados_entrada: Entrada ou pergunta.\n",
        "    indicador_saida: Tipo ou formato da saída desejado.\n",
        "\n",
        "  Returns:\n",
        "    A resposta gerada pelo Gemini ou None em caso de erro.\n",
        "  \"\"\"\n",
        "\n",
        "  prompt = f\"\"\"\n",
        "\n",
        "  Contexto: {contexto}\n",
        "\n",
        "  Instrução: {instrucao}\n",
        "\n",
        "  Indicador de saída: {indicador_saida}\n",
        "  \"\"\"\n",
        "\n",
        "  print(\"Prompt length:\", len(prompt), \"chars.\")\n",
        "  return chamada_LLM(prompt)\n",
        "\n",
        "\n",
        "instrucao = \"Complete a frase da melhor maneira. frase: O céu é \"\n",
        "contexto = \"Você é um físico\"\n",
        "indicador_saida = \"Texto em portugues, com no máximo 10 palavras\"\n",
        "\n",
        "resposta = prompt_simples(instrucao, contexto, indicador_saida)\n",
        "\n",
        "if resposta:\n",
        "  print(resposta)"
      ]
    },
    {
      "cell_type": "markdown",
      "metadata": {
        "id": "wZwT1OA-Diwe"
      },
      "source": [
        "## Gerando instruções + resposta"
      ]
    },
    {
      "cell_type": "markdown",
      "metadata": {
        "id": "gbiS5fQVrVAA"
      },
      "source": [
        "### Função que envia o prompt.\n",
        "\n",
        "- **Contexto**: arquivo e perguntas já feitas.\n",
        "- **Instrução**: Gere X perguntas e respostas sobre o texto que está no contexto.\n",
        "- **Descrição da saída**: Cada par pergunta/resposta deve estar no seguinte formato:id\\n@Pergunta: descricao_pergunta@\\n@Resposta: descricao_resposta@. Não enumere as perguntas. As perguntas devem ser relevantes para alguém que queira se informar sobre o assunto do contexto. As repostas tem que ser completamente baseada no texto do contexto. As respostas devem ser tão grandes quanto necessário para responder a pergunta satisfatoriamente. Não repita perguntas. No contexto também tem algumas perguntas já geradas anteriormente, não repita essas perguntas. As perguntas e respostas devem estar em português. Faça com que o conteudo do contexto inteiro seja abrangido pelas perguntas geradas. Deixa claro que a pergunta se refere a champions league 2024/2025 em alguma parte da pergunta ou da resposta. Lembre-se que algumas informações como número de pontos, colocação na tabela, etc., são dados que mudam com o tempo e o conteúdo do contexto ocorreu no passado, logo a data é importante nesses casos."
      ]
    },
    {
      "cell_type": "code",
      "execution_count": null,
      "metadata": {
        "id": "k2xZkxH_HsGv"
      },
      "outputs": [],
      "source": [
        "def generate_intruction_response(file, questions, number):\n",
        "    return prompt_simples(f\"Gere {number} perguntas e respostas sobre o texto que está no contexto.\",\n",
        "                   file + questions,\n",
        "                   \"Cada par pergunta/resposta deve estar no seguinte formato:id\\n@Pergunta: descricao_pergunta@\\n@Resposta: descricao_resposta@. Não enumere as perguntas. As perguntas devem ser relevantes para alguém que queira se informar sobre o assunto do contexto. As repostas tem que ser completamente baseada no texto do contexto. As respostas devem ser tão grandes quanto necessário para responder a pergunta satisfatoriamente. Não repita perguntas. No contexto também tem algumas perguntas já geradas anteriormente, não repita essas perguntas. As perguntas e respostas devem estar em português. Faça com que o conteudo do contexto inteiro seja abrangido pelas perguntas geradas. Deixa claro que a pergunta se refere a champions league 2024/2025 em alguma parte da pergunta ou da resposta. Lembre-se que algumas informações como número de pontos, colocação na tabela, etc., são dados que mudam com o tempo e o conteúdo do contexto ocorreu no passado, logo a data é importante nesses casos.\")"
      ]
    },
    {
      "cell_type": "markdown",
      "metadata": {
        "id": "7vrCXIFhrYJV"
      },
      "source": [
        "### Gerando perguntas para os textos base\n",
        "\n",
        "Nessa parte o prompt acima é executado até o seguinte número de perguntas e respostas forem geradas para cada texto base.\n",
        "\n",
        "- Artigos da wikipedia -> 450 perguntas e respostas\n",
        "- Noticias da CNN -> 450 perguntas e respostas\n",
        "- Relatorio do Gemini Deep Research -> 200 perguntas e repostas"
      ]
    },
    {
      "cell_type": "code",
      "execution_count": null,
      "metadata": {
        "id": "Dy3rKYKQGoes"
      },
      "outputs": [],
      "source": [
        "import re\n",
        "\n",
        "sintetic_data = []\n",
        "generated_questions = \"\"\n",
        "datasets = [('wikipedia_articles_pt.txt', 450), ('cnn_champions_news.txt', 450), ('gemini_deep_research.txt', 100)]\n",
        "for (file_name, quantity) in datasets:\n",
        "    print(f\"\\n######\\nGerando perguntas para o arquivo {file_name}...\")\n",
        "    print(f\"Quantidade de perguntas a serem geradas: {quantity}\")\n",
        "    print(\"######\\n\")\n",
        "\n",
        "    with open(f'datasets_lora_nlp2025/{file_name}', 'r', encoding='utf-8') as f:\n",
        "        file_content = f.read()\n",
        "        print(f\"Conteúdo do arquivo {file_name} carregado na variável 'file_content'. Tamanho: {len(file_content)} caracteres.\")\n",
        "\n",
        "    parsed = []\n",
        "    while len(parsed) < quantity:\n",
        "        res = generate_intruction_response(file_content, generated_questions, min(100, quantity - len(parsed)))\n",
        "        print(\"Caracteres na resposta:\", len(res))\n",
        "\n",
        "        blocks = res.split(\"@Pergunta:\")[1:]\n",
        "        for block in blocks:\n",
        "            try:\n",
        "                pergunta = block[:block.find(\"@\")].strip('@\\n ')\n",
        "\n",
        "                begin_resposta = block.find(\"@Resposta:\") + 10\n",
        "                end_resposta = block.find(\"@\", begin_resposta)\n",
        "                resposta = block[begin_resposta:end_resposta].strip('@\\n ')\n",
        "\n",
        "                parsed.append((pergunta, resposta))\n",
        "                generated_questions += \"@Pergunta:\" + pergunta + \"\\n\"\n",
        "            except:\n",
        "                print(\"Bad formatting:\", block)\n",
        "                pass\n",
        "\n",
        "        print(len(parsed), \"perguntas geradas até o momento.\")\n",
        "        print(\"Ultimas 10 geradas: \", parsed[-10:])\n",
        "\n",
        "    sintetic_data.extend(parsed[:quantity])"
      ]
    },
    {
      "cell_type": "code",
      "execution_count": null,
      "metadata": {
        "id": "DZaum5dlRSYV"
      },
      "outputs": [],
      "source": [
        "print(sintetic_data)\n",
        "print(len(sintetic_data))"
      ]
    },
    {
      "cell_type": "markdown",
      "metadata": {
        "id": "cyx7bVaIrfuw"
      },
      "source": [
        "###  Salva as perguntas/respostas geradas em um arquivo .csv"
      ]
    },
    {
      "cell_type": "code",
      "execution_count": null,
      "metadata": {
        "id": "Y1Z6oFzUVwec"
      },
      "outputs": [],
      "source": [
        "import csv\n",
        "\n",
        "with open(qa_file_path, 'w', newline='', encoding='utf-8') as csvfile:\n",
        "    writer = csv.writer(csvfile)\n",
        "    # Write header if needed\n",
        "    writer.writerow(['pergunta', 'resposta'])\n",
        "    # Write the data rows\n",
        "    writer.writerows(sintetic_data)\n",
        "\n",
        "print(f'Synthetic data saved to {qa_file_path}')"
      ]
    },
    {
      "cell_type": "code",
      "execution_count": null,
      "metadata": {
        "id": "kcxiWJsEuf1j"
      },
      "outputs": [],
      "source": [
        "# prompt: Download sintetic_data.csv in my computer\n",
        "\n",
        "from google.colab import files\n",
        "\n",
        "files.download(qa_file_path)"
      ]
    },
    {
      "cell_type": "markdown",
      "metadata": {
        "id": "PEz6fQ2QWCE8"
      },
      "source": [
        "# Treinando LoRA\n"
      ]
    },
    {
      "cell_type": "markdown",
      "metadata": {
        "id": "08mc0_Surmbq"
      },
      "source": [
        "### Carrega o dataset\n",
        "- Usa of formato ### Pergunta: descrição_pergunta\\n\\n### Resposta: descrição_resposta"
      ]
    },
    {
      "cell_type": "code",
      "execution_count": 6,
      "metadata": {
        "colab": {
          "base_uri": "https://localhost:8080/"
        },
        "id": "QMNsALWXHDvl",
        "outputId": "55f4cc13-6df7-4a8c-9fa9-4a3b3f832dc0"
      },
      "outputs": [
        {
          "name": "stdout",
          "output_type": "stream",
          "text": [
            "Dataset carregado com 1000 QAs.\n",
            "Exemplo:\n",
            "### Pergunta:\n",
            "Qual foi o palco da final da Liga dos Campeões da UEFA de 2024-25?\n",
            "\n",
            "### Resposta:\n",
            "A final foi disputada na Allianz Arena, em Munique, Alemanha.\n"
          ]
        }
      ],
      "source": [
        "df = pd.read_csv(qa_file_path)\n",
        "df.columns = ['pergunta', 'resposta']\n",
        "\n",
        "def format_prompt(row):\n",
        "    return f\"### Pergunta:\\n{row['pergunta']}\\n\\n### Resposta:\\n{row['resposta']}\"\n",
        "\n",
        "df['text'] = df.apply(format_prompt, axis=1)\n",
        "\n",
        "dataset = Dataset.from_pandas(df[['text']])\n",
        "\n",
        "print(f\"Dataset carregado com {len(dataset)} QAs.\")\n",
        "print(\"Exemplo:\")\n",
        "print(dataset[0]['text'])\n"
      ]
    },
    {
      "cell_type": "code",
      "execution_count": 7,
      "metadata": {
        "colab": {
          "base_uri": "https://localhost:8080/"
        },
        "id": "lrR-o9-X_EQ_",
        "outputId": "248b1e99-e497-4c2a-e26a-40a82ca4f5c1"
      },
      "outputs": [
        {
          "name": "stdout",
          "output_type": "stream",
          "text": [
            "Training dataset size: 900\n",
            "Validation dataset size: 100\n"
          ]
        }
      ],
      "source": [
        "# prompt: Divide 10% of the dataset for validation\n",
        "\n",
        "# Divide the dataset into training and validation sets\n",
        "train_test_split = dataset.train_test_split(test_size=0.1)\n",
        "dataset = train_test_split['train']\n",
        "eval_dataset = train_test_split['test']\n",
        "\n",
        "print(f\"Training dataset size: {len(dataset)}\")\n",
        "print(f\"Validation dataset size: {len(eval_dataset)}\")\n"
      ]
    },
    {
      "cell_type": "markdown",
      "metadata": {
        "id": "S7fS9CDPrpgh"
      },
      "source": [
        "### Login no Hugging Face"
      ]
    },
    {
      "cell_type": "code",
      "execution_count": 8,
      "metadata": {
        "colab": {
          "base_uri": "https://localhost:8080/"
        },
        "id": "rY12G6bEjljj",
        "outputId": "255c8cc8-3183-4237-fe5b-f781f0789f5e"
      },
      "outputs": [
        {
          "name": "stdout",
          "output_type": "stream",
          "text": [
            "Successfully logged in to Hugging Face.\n"
          ]
        }
      ],
      "source": [
        "# prompt: Login on hugging face with HF_TOKEN variables in secret\n",
        "\n",
        "from huggingface_hub import login\n",
        "import os\n",
        "from google.colab import userdata\n",
        "\n",
        "# Check if HF_TOKEN is in Colab secrets and login\n",
        "try:\n",
        "    hf_token = userdata.get('HF_TOKEN')\n",
        "    if hf_token:\n",
        "        login(token=hf_token)\n",
        "        print(\"Successfully logged in to Hugging Face.\")\n",
        "    else:\n",
        "        print(\"HF_TOKEN not found in Colab secrets or is empty.\")\n",
        "except KeyError:\n",
        "    print(\"HF_TOKEN not found in Colab secrets.\")\n",
        "except Exception as e:\n",
        "    print(f\"An error occurred during Hugging Face login: {e}\")"
      ]
    },
    {
      "cell_type": "markdown",
      "metadata": {
        "id": "9uGBfolSrwe3"
      },
      "source": [
        "### Carrega o modelo base com quantização dupla de 4 bits."
      ]
    },
    {
      "cell_type": "code",
      "execution_count": 9,
      "metadata": {
        "colab": {
          "base_uri": "https://localhost:8080/"
        },
        "id": "-cr5t1qdHQpp",
        "outputId": "11092c2e-0aa6-426b-9980-81275fb58119"
      },
      "outputs": [
        {
          "name": "stdout",
          "output_type": "stream",
          "text": [
            "Pegada de memória estimada do modelo: 1537.48 MB\n"
          ]
        }
      ],
      "source": [
        "bnb_config = BitsAndBytesConfig(\n",
        "    load_in_4bit=True,\n",
        "    bnb_4bit_quant_type=\"nf4\",\n",
        "    bnb_4bit_compute_dtype=torch.bfloat16,\n",
        "    bnb_4bit_use_double_quant=True,\n",
        ")\n",
        "\n",
        "# Carrega o tokenizer\n",
        "tokenizer = AutoTokenizer.from_pretrained(model_id)\n",
        "\n",
        "# Adiciona o token de pad para o tokenizer, se não estiver definido\n",
        "tokenizer.pad_token = tokenizer.eos_token\n",
        "tokenizer.padding_side = \"right\"\n",
        "\n",
        "# Carrega o modelo com a configuração de quantização\n",
        "model = AutoModelForCausalLM.from_pretrained(\n",
        "    model_id,\n",
        "    quantization_config=bnb_config,\n",
        "    torch_dtype=torch.bfloat16,\n",
        "    # attn_implementation='eager', # gemma 2 specific\n",
        "    device_map=\"auto\" # Distribui o modelo automaticamente pela GPU\n",
        ")\n",
        "\n",
        "# Prepara o modelo para treinamento em 4 bits (QLoRA)\n",
        "model = prepare_model_for_kbit_training(model)\n",
        "\n",
        "print(f\"Pegada de memória estimada do modelo: {model.get_memory_footprint() / 1e6:.2f} MB\")"
      ]
    },
    {
      "cell_type": "markdown",
      "metadata": {
        "id": "-pjzARWcr1jz"
      },
      "source": [
        "### Configura o LoRA"
      ]
    },
    {
      "cell_type": "code",
      "execution_count": 10,
      "metadata": {
        "colab": {
          "base_uri": "https://localhost:8080/"
        },
        "id": "xdhyf7BtHTWE",
        "outputId": "fd663142-40ef-4d5f-8afb-4586ac3d0f75"
      },
      "outputs": [
        {
          "name": "stdout",
          "output_type": "stream",
          "text": [
            "LlamaForCausalLM(\n",
            "  (model): LlamaModel(\n",
            "    (embed_tokens): Embedding(128256, 2048)\n",
            "    (layers): ModuleList(\n",
            "      (0-15): 16 x LlamaDecoderLayer(\n",
            "        (self_attn): LlamaAttention(\n",
            "          (q_proj): Linear4bit(in_features=2048, out_features=2048, bias=False)\n",
            "          (k_proj): Linear4bit(in_features=2048, out_features=512, bias=False)\n",
            "          (v_proj): Linear4bit(in_features=2048, out_features=512, bias=False)\n",
            "          (o_proj): Linear4bit(in_features=2048, out_features=2048, bias=False)\n",
            "        )\n",
            "        (mlp): LlamaMLP(\n",
            "          (gate_proj): Linear4bit(in_features=2048, out_features=8192, bias=False)\n",
            "          (up_proj): Linear4bit(in_features=2048, out_features=8192, bias=False)\n",
            "          (down_proj): Linear4bit(in_features=8192, out_features=2048, bias=False)\n",
            "          (act_fn): SiLU()\n",
            "        )\n",
            "        (input_layernorm): LlamaRMSNorm((2048,), eps=1e-05)\n",
            "        (post_attention_layernorm): LlamaRMSNorm((2048,), eps=1e-05)\n",
            "      )\n",
            "    )\n",
            "    (norm): LlamaRMSNorm((2048,), eps=1e-05)\n",
            "    (rotary_emb): LlamaRotaryEmbedding()\n",
            "  )\n",
            "  (lm_head): Linear(in_features=2048, out_features=128256, bias=False)\n",
            ")\n",
            "\n",
            "Configurando o LoRA...\n",
            "trainable params: 3,407,872 || all params: 1,239,222,272 || trainable%: 0.2750\n",
            "LoRA configurado no modelo.\n"
          ]
        }
      ],
      "source": [
        "print(model)\n",
        "\n",
        "print(\"\\nConfigurando o LoRA...\")\n",
        "lora_config = LoraConfig(\n",
        "    r=16, # Rank da matriz LoRA. Valores comuns: 8, 16, 32. Maiores = mais parâmetros treináveis.\n",
        "    lora_alpha=32, # Escala os pesos LoRA. Geralmente o dobro de 'r'.\n",
        "    lora_dropout=0.05, # Dropout para regularização.\n",
        "    bias=\"none\", # Não treinar bias com LoRA.\n",
        "    task_type=\"CAUSAL_LM\", # Tipo de tarefa para modelos de linguagem.\n",
        "    target_modules=[\"q_proj\", \"k_proj\", \"v_proj\", \"o_proj\"], # somente nos módulos de atenção\n",
        ")\n",
        "\n",
        "for name, param in model.named_parameters():\n",
        "    if \"classifier\" in name or \"pre_classifier\" in name:\n",
        "        param.requires_grad = True\n",
        "    elif \"lora\" in name:\n",
        "        param.requires_grad = True\n",
        "    else:\n",
        "        param.requires_grad = False\n",
        "\n",
        "# Aplica a configuração LoRA ao modelo\n",
        "model = get_peft_model(model, lora_config)\n",
        "model.print_trainable_parameters()\n",
        "print(\"LoRA configurado no modelo.\")\n"
      ]
    },
    {
      "cell_type": "markdown",
      "metadata": {
        "id": "rczmKjzRr7vs"
      },
      "source": [
        "Checa o tamanho das perguntas e respostas pra definir o tamanho do contexto."
      ]
    },
    {
      "cell_type": "code",
      "execution_count": 11,
      "metadata": {
        "colab": {
          "base_uri": "https://localhost:8080/"
        },
        "id": "7JLUnUPYXYBZ",
        "outputId": "b4179c16-a283-496f-c8f6-8a9838bbb00d"
      },
      "outputs": [
        {
          "name": "stdout",
          "output_type": "stream",
          "text": [
            "Percentil 90 do tamanho da pergunta: 139.00\n",
            "Percentil 90 do tamanho da resposta: 203.10\n"
          ]
        }
      ],
      "source": [
        "import numpy as np\n",
        "\n",
        "question_lengths = df['pergunta'].str.len()\n",
        "answer_lengths = df['resposta'].str.len()\n",
        "\n",
        "percentile_90_question = np.percentile(question_lengths, 90)\n",
        "percentile_90_answer = np.percentile(answer_lengths, 90)\n",
        "print(f\"Percentil 90 do tamanho da pergunta: {percentile_90_question:.2f}\")\n",
        "print(f\"Percentil 90 do tamanho da resposta: {percentile_90_answer:.2f}\")"
      ]
    },
    {
      "cell_type": "markdown",
      "metadata": {
        "id": "V3S_nOahr-gm"
      },
      "source": [
        "### Configura os parametros de treinamento"
      ]
    },
    {
      "cell_type": "code",
      "execution_count": 12,
      "metadata": {
        "colab": {
          "base_uri": "https://localhost:8080/",
          "height": 54,
          "referenced_widgets": [
            "6833c1328e144b669e1d90cf1ffe3568",
            "6522f8e5f17249989736cd29b6bc132b",
            "eb5334a5073544daa3a758663213d9f3",
            "5bfe9bf0e29140a7b6f8083384d68fcc",
            "1d960091ba3c4f15916cc4261fc19be9",
            "09efeedb09394c4180fba7bffe146e1e",
            "d269f977ddd14552aa3b129d124307e8",
            "d845faa64d204929a6c7fb72f34dc5f8",
            "946dc7caee1742f7912137bc8df28394",
            "b8546fac93b3483580925a667022fe57",
            "15cd1aca254c4d04af61ce6b95eb8e6d",
            "9810da4dbb154be081ee1461b02876ae",
            "ee255a420a704270a3a29811b9ab69f3",
            "479639a12e88465494247e41922dccf8",
            "76c1edd3ea04470f94a811b413822839",
            "65dedc9560c34957b58a325c6ce4c2a0",
            "09e9e863d18e4ce8a70d3a171ced3009",
            "df56e293872041b4b8f840da201d729d",
            "4f936394332d423985b2ba58c35bb748",
            "9430a761017148bcad6d9ffbe0fb9600",
            "c5a684538788484687bb4e4f31c1b7ee",
            "698b64e49c6c4c518c83a42fec3edd23",
            "da54db8bd5144878a4a7295d7bd8b040",
            "9d002578180044ea81d9387ea3bc2eee",
            "2c7dc9ec4a404253b8f016266ec2a738",
            "92f235cdccde4028be0cb91b76c7918e",
            "6ede321fdbc1433e9f18022d58bae3e7",
            "82c39523f04f425d9ab7be94e01a49c9",
            "993c4ad5702842b2b905becdee912ab0",
            "84ccffddee9543cba53ad8e7404dc530",
            "20908887ab6c48eb996bb67ffff88cfc",
            "426ca7c0f1854fdf98bdaaeff3d7e83d",
            "861914b6909b496b9656f3fbd461e972",
            "b5fbe8eb894740d587058123362f5fb5",
            "59629b7e0f78413b9798c8d70ce9856a",
            "a491640f5f274a7e857a1af312f38c64",
            "1b8090ee968847b29a348c6bd8893bd6",
            "b3b4296d1a304b8cb0eee64cf7716ab0",
            "358bb2f97875479fbb772930223c296c",
            "fe21f3fcba234d8ca760bf99c4b28f0d",
            "fe1b6bd91914496b9b39ba6df13a2cfc",
            "c80ed9e8beab463bbd22b0372e3204ae",
            "341383d90d1e486aa2c14f9b6045519f",
            "b9af84fb7b144714af8d423952dafab2",
            "6342d7a7dd8b4a5cb8a28f632e876783",
            "99f6117ae31a442ca095fc6326aa1a31",
            "8f4d9190b4a54691ac4bd47b85c63a1b",
            "1d30346abb3347d480093bb96efdfead",
            "5bad58d933c8462683dd1c8c4388e003",
            "8d914c9668404cefb5b4af345ff6845c",
            "d6d8f82373d74516a598bdb39a847a4d",
            "e6803af8224a4006a1affb70333fc0b6",
            "5f1979facff3458db24f138a73eb5971",
            "48132038e5084c7fae293351fccc04c3",
            "dec0d6141f4645b49d4104d239d1717e",
            "10c702be23f94f928ca57558c12e1375",
            "71281e4b696d446b82efb718d5276ca9",
            "cfa3e9c1dcd048dda2117464d5d18345",
            "f939fcf3c1634690a5f6d8a9e03454af",
            "427cf27810c44acf94e06962258c0282",
            "90b3d698eafd4f53bd5d53097059ef7a",
            "e8344fd6778a42c0914aee114ee2f9a2",
            "9d91588687314f49a6ef2b5ede4aa9b2",
            "14bf7a31dbea4a178e149b9487b4a74f",
            "146787b74e5e4aa1931bfc376b58c917",
            "e92c9817e77d4dcfb03855172b7bd94a",
            "fc66938ccbce4f4f9b4913c339931643",
            "bd6b1350a66f42c4b4ffbe345ef6d152",
            "91e117abcd054b05b1c4115bafef26ad",
            "23773212de234913b83cb8d031436f34",
            "f1da9125799d4e06bcce5b1dd57c0ceb",
            "460df01ff2ad406d82f83dc7ce360efa",
            "3d33e42a79df47febd6adb88f1b1258c",
            "deb9249766d843e1be78b46a3cbc22d7",
            "e911c066740c496099352af805791f03",
            "af7b7d023aed45d3bbec8abea9652f0f",
            "3813cdb732b945a7b2795f0a73aa60e9",
            "caa9ceb3a7fe4389bbe4c9df1b5bfd90",
            "de3578e661de4b2ca546e0d402e28ed6",
            "4ef8842c844e49158cc40f3aa921ab9e",
            "ae3270ed806a491fab0798c0f46f59ee",
            "2e2ca31a68fc4a2ba18fc08ff1651625",
            "4167a063206d4ff5bf05dd646eec1203",
            "11e43defcbcc49e7a82e99916b51a84f",
            "e84029191f68447cb9a939124aa920e5",
            "ab7cb6e01486471fbe23ac579dbb3038",
            "0c71cebfc82f4e1789fabe6dd6763804",
            "834d89d74215492eb1a4c59204659286"
          ]
        },
        "id": "QvUZHf1QHVYX",
        "outputId": "1455dbb0-035f-46d4-99a6-9280642dceb0"
      },
      "outputs": [
        {
          "data": {
            "application/vnd.jupyter.widget-view+json": {
              "model_id": "6833c1328e144b669e1d90cf1ffe3568",
              "version_major": 2,
              "version_minor": 0
            },
            "text/plain": [
              "Converting train dataset to ChatML:   0%|          | 0/900 [00:00<?, ? examples/s]"
            ]
          },
          "metadata": {
            "application/vnd.jupyter.widget-view+json": {
              "colab": {
                "custom_widget_manager": {
                  "url": "https://ssl.gstatic.com/colaboratory-static/widgets/colab-cdn-widget-manager/2b70e893a8ba7c0f/manager.min.js"
                }
              }
            }
          },
          "output_type": "display_data"
        },
        {
          "data": {
            "application/vnd.jupyter.widget-view+json": {
              "model_id": "698b64e49c6c4c518c83a42fec3edd23",
              "version_major": 2,
              "version_minor": 0
            },
            "text/plain": [
              "Adding EOS to train dataset:   0%|          | 0/900 [00:00<?, ? examples/s]"
            ]
          },
          "metadata": {
            "application/vnd.jupyter.widget-view+json": {
              "colab": {
                "custom_widget_manager": {
                  "url": "https://ssl.gstatic.com/colaboratory-static/widgets/colab-cdn-widget-manager/2b70e893a8ba7c0f/manager.min.js"
                }
              }
            }
          },
          "output_type": "display_data"
        },
        {
          "data": {
            "application/vnd.jupyter.widget-view+json": {
              "model_id": "861914b6909b496b9656f3fbd461e972",
              "version_major": 2,
              "version_minor": 0
            },
            "text/plain": [
              "Tokenizing train dataset:   0%|          | 0/900 [00:00<?, ? examples/s]"
            ]
          },
          "metadata": {
            "application/vnd.jupyter.widget-view+json": {
              "colab": {
                "custom_widget_manager": {
                  "url": "https://ssl.gstatic.com/colaboratory-static/widgets/colab-cdn-widget-manager/2b70e893a8ba7c0f/manager.min.js"
                }
              }
            }
          },
          "output_type": "display_data"
        },
        {
          "data": {
            "application/vnd.jupyter.widget-view+json": {
              "model_id": "b9af84fb7b144714af8d423952dafab2",
              "version_major": 2,
              "version_minor": 0
            },
            "text/plain": [
              "Truncating train dataset:   0%|          | 0/900 [00:00<?, ? examples/s]"
            ]
          },
          "metadata": {
            "application/vnd.jupyter.widget-view+json": {
              "colab": {
                "custom_widget_manager": {
                  "url": "https://ssl.gstatic.com/colaboratory-static/widgets/colab-cdn-widget-manager/2b70e893a8ba7c0f/manager.min.js"
                }
              }
            }
          },
          "output_type": "display_data"
        },
        {
          "data": {
            "application/vnd.jupyter.widget-view+json": {
              "model_id": "dec0d6141f4645b49d4104d239d1717e",
              "version_major": 2,
              "version_minor": 0
            },
            "text/plain": [
              "Converting eval dataset to ChatML:   0%|          | 0/100 [00:00<?, ? examples/s]"
            ]
          },
          "metadata": {
            "application/vnd.jupyter.widget-view+json": {
              "colab": {
                "custom_widget_manager": {
                  "url": "https://ssl.gstatic.com/colaboratory-static/widgets/colab-cdn-widget-manager/2b70e893a8ba7c0f/manager.min.js"
                }
              }
            }
          },
          "output_type": "display_data"
        },
        {
          "data": {
            "application/vnd.jupyter.widget-view+json": {
              "model_id": "e92c9817e77d4dcfb03855172b7bd94a",
              "version_major": 2,
              "version_minor": 0
            },
            "text/plain": [
              "Adding EOS to eval dataset:   0%|          | 0/100 [00:00<?, ? examples/s]"
            ]
          },
          "metadata": {
            "application/vnd.jupyter.widget-view+json": {
              "colab": {
                "custom_widget_manager": {
                  "url": "https://ssl.gstatic.com/colaboratory-static/widgets/colab-cdn-widget-manager/2b70e893a8ba7c0f/manager.min.js"
                }
              }
            }
          },
          "output_type": "display_data"
        },
        {
          "data": {
            "application/vnd.jupyter.widget-view+json": {
              "model_id": "3813cdb732b945a7b2795f0a73aa60e9",
              "version_major": 2,
              "version_minor": 0
            },
            "text/plain": [
              "Tokenizing eval dataset:   0%|          | 0/100 [00:00<?, ? examples/s]"
            ]
          },
          "metadata": {
            "application/vnd.jupyter.widget-view+json": {
              "colab": {
                "custom_widget_manager": {
                  "url": "https://ssl.gstatic.com/colaboratory-static/widgets/colab-cdn-widget-manager/2b70e893a8ba7c0f/manager.min.js"
                }
              }
            }
          },
          "output_type": "display_data"
        },
        {
          "data": {
            "application/vnd.jupyter.widget-view+json": {
              "model_id": "834d89d74215492eb1a4c59204659286",
              "version_major": 2,
              "version_minor": 0
            },
            "text/plain": [
              "Truncating eval dataset:   0%|          | 0/100 [00:00<?, ? examples/s]"
            ]
          },
          "metadata": {
            "application/vnd.jupyter.widget-view+json": {
              "colab": {
                "custom_widget_manager": {
                  "url": "https://ssl.gstatic.com/colaboratory-static/widgets/colab-cdn-widget-manager/2b70e893a8ba7c0f/manager.min.js"
                }
              }
            }
          },
          "output_type": "display_data"
        },
        {
          "name": "stderr",
          "output_type": "stream",
          "text": [
            "No label_names provided for model class `PeftModelForCausalLM`. Since `PeftModel` hides base models input arguments, if label_names is not given, label_names can't be set automatically within `Trainer`. Note that empty label_names list will be used instead.\n"
          ]
        }
      ],
      "source": [
        "training_args = SFTConfig(\n",
        "    output_dir='./training_output/' + model_id,\n",
        "    num_train_epochs=5,\n",
        "    fp16=False,\n",
        "    bf16=True,\n",
        "    per_device_train_batch_size=2, # Tamanho do batch por GPU. Reduza se tiver problemas de memória.\n",
        "    gradient_accumulation_steps=4, # Acumula gradientes para simular um batch maior (2 * 4 = batch efetivo de 8)\n",
        "    learning_rate=2e-4,\n",
        "    logging_steps=50,\n",
        "    # gradient_checkpointing=True, # Economiza memória da GPU (pode desacelerar um pouco o treinamento)\n",
        "    group_by_length=True, # Otimiza o agrupamento de sequências com tamanhos semelhantes.\n",
        "    seed=42,\n",
        "    dataset_text_field=\"text\",\n",
        "    max_seq_length=512,\n",
        "    warmup_ratio=0.03, # Proporção de passos para aquecimento da taxa de aprendizado\n",
        "    lr_scheduler_type=\"cosine\", # Tipo de scheduler da taxa de aprendizado\n",
        "    report_to=\"none\",\n",
        "\n",
        "    save_strategy=\"epoch\",\n",
        "    eval_strategy=\"epoch\",\n",
        "    per_device_eval_batch_size=2, # Batch size for evaluation (can be larger than train if memory allows)\n",
        "    load_best_model_at_end=True,  # Load the model with the best validation performance at the end of training\n",
        "    metric_for_best_model=\"eval_loss\", # Metric to monitor for `load_best_model_at_end`\n",
        "    greater_is_better=False,\n",
        ")\n",
        "\n",
        "trainer = SFTTrainer(\n",
        "    model=model,\n",
        "    train_dataset=dataset,\n",
        "    eval_dataset=eval_dataset,\n",
        "    processing_class=tokenizer,\n",
        "    peft_config=lora_config,\n",
        "    args=training_args,\n",
        ")"
      ]
    },
    {
      "cell_type": "markdown",
      "metadata": {
        "id": "4Zk5zOyGsAmv"
      },
      "source": [
        "### Treina e salva o modelo"
      ]
    },
    {
      "cell_type": "code",
      "execution_count": 13,
      "metadata": {
        "colab": {
          "base_uri": "https://localhost:8080/",
          "height": 477
        },
        "id": "oO10FyzwHXAJ",
        "outputId": "6e06f323-92f2-42ef-aab1-02b783dac505"
      },
      "outputs": [
        {
          "name": "stderr",
          "output_type": "stream",
          "text": [
            "`use_cache=True` is incompatible with gradient checkpointing. Setting `use_cache=False`.\n",
            "/usr/local/lib/python3.11/dist-packages/torch/_dynamo/eval_frame.py:745: UserWarning: torch.utils.checkpoint: the use_reentrant parameter should be passed explicitly. In version 2.5 we will raise an exception if use_reentrant is not passed. use_reentrant=False is recommended, but if you need to preserve the current default behavior, you can pass use_reentrant=True. Refer to docs for more details on the differences between the two variants.\n",
            "  return fn(*args, **kwargs)\n"
          ]
        },
        {
          "data": {
            "text/html": [
              "\n",
              "    <div>\n",
              "      \n",
              "      <progress value='565' max='565' style='width:300px; height:20px; vertical-align: middle;'></progress>\n",
              "      [565/565 32:36, Epoch 5/5]\n",
              "    </div>\n",
              "    <table border=\"1\" class=\"dataframe\">\n",
              "  <thead>\n",
              " <tr style=\"text-align: left;\">\n",
              "      <th>Epoch</th>\n",
              "      <th>Training Loss</th>\n",
              "      <th>Validation Loss</th>\n",
              "    </tr>\n",
              "  </thead>\n",
              "  <tbody>\n",
              "    <tr>\n",
              "      <td>1</td>\n",
              "      <td>1.135800</td>\n",
              "      <td>0.993202</td>\n",
              "    </tr>\n",
              "    <tr>\n",
              "      <td>2</td>\n",
              "      <td>0.880100</td>\n",
              "      <td>0.828562</td>\n",
              "    </tr>\n",
              "    <tr>\n",
              "      <td>3</td>\n",
              "      <td>0.728900</td>\n",
              "      <td>0.726382</td>\n",
              "    </tr>\n",
              "    <tr>\n",
              "      <td>4</td>\n",
              "      <td>0.557400</td>\n",
              "      <td>0.685710</td>\n",
              "    </tr>\n",
              "    <tr>\n",
              "      <td>5</td>\n",
              "      <td>0.503900</td>\n",
              "      <td>0.686364</td>\n",
              "    </tr>\n",
              "  </tbody>\n",
              "</table><p>"
            ],
            "text/plain": [
              "<IPython.core.display.HTML object>"
            ]
          },
          "metadata": {},
          "output_type": "display_data"
        },
        {
          "name": "stderr",
          "output_type": "stream",
          "text": [
            "/usr/local/lib/python3.11/dist-packages/torch/_dynamo/eval_frame.py:745: UserWarning: torch.utils.checkpoint: the use_reentrant parameter should be passed explicitly. In version 2.5 we will raise an exception if use_reentrant is not passed. use_reentrant=False is recommended, but if you need to preserve the current default behavior, you can pass use_reentrant=True. Refer to docs for more details on the differences between the two variants.\n",
            "  return fn(*args, **kwargs)\n",
            "/usr/local/lib/python3.11/dist-packages/torch/_dynamo/eval_frame.py:745: UserWarning: torch.utils.checkpoint: the use_reentrant parameter should be passed explicitly. In version 2.5 we will raise an exception if use_reentrant is not passed. use_reentrant=False is recommended, but if you need to preserve the current default behavior, you can pass use_reentrant=True. Refer to docs for more details on the differences between the two variants.\n",
            "  return fn(*args, **kwargs)\n",
            "/usr/local/lib/python3.11/dist-packages/torch/_dynamo/eval_frame.py:745: UserWarning: torch.utils.checkpoint: the use_reentrant parameter should be passed explicitly. In version 2.5 we will raise an exception if use_reentrant is not passed. use_reentrant=False is recommended, but if you need to preserve the current default behavior, you can pass use_reentrant=True. Refer to docs for more details on the differences between the two variants.\n",
            "  return fn(*args, **kwargs)\n",
            "/usr/local/lib/python3.11/dist-packages/torch/_dynamo/eval_frame.py:745: UserWarning: torch.utils.checkpoint: the use_reentrant parameter should be passed explicitly. In version 2.5 we will raise an exception if use_reentrant is not passed. use_reentrant=False is recommended, but if you need to preserve the current default behavior, you can pass use_reentrant=True. Refer to docs for more details on the differences between the two variants.\n",
            "  return fn(*args, **kwargs)\n"
          ]
        },
        {
          "name": "stdout",
          "output_type": "stream",
          "text": [
            "\n",
            "Treinamento concluído!\n"
          ]
        }
      ],
      "source": [
        "# Inicia o treinamento\n",
        "trainer.train()\n",
        "print(\"\\nTreinamento concluído!\")"
      ]
    },
    {
      "cell_type": "code",
      "execution_count": 14,
      "metadata": {
        "id": "-TqPSWC2HYKF"
      },
      "outputs": [],
      "source": [
        "trainer.save_model(output_model_dir)"
      ]
    },
    {
      "cell_type": "code",
      "execution_count": 15,
      "metadata": {
        "colab": {
          "base_uri": "https://localhost:8080/",
          "height": 173
        },
        "id": "OBsyUrle2Pg0",
        "outputId": "3c3cd26d-b1f2-4035-a4bb-acb6a92db8db"
      },
      "outputs": [
        {
          "name": "stdout",
          "output_type": "stream",
          "text": [
            "updating: lora_folder/ (stored 0%)\n",
            "updating: lora_folder/tokenizer.json (deflated 85%)\n",
            "updating: lora_folder/chat_template.jinja (deflated 71%)\n",
            "updating: lora_folder/training_args.bin (deflated 52%)\n",
            "updating: lora_folder/adapter_model.safetensors (deflated 8%)\n",
            "updating: lora_folder/adapter_config.json (deflated 55%)\n",
            "updating: lora_folder/tokenizer_config.json (deflated 96%)\n",
            "updating: lora_folder/special_tokens_map.json (deflated 63%)\n",
            "updating: lora_folder/README.md (deflated 66%)\n"
          ]
        },
        {
          "data": {
            "application/javascript": "\n    async function download(id, filename, size) {\n      if (!google.colab.kernel.accessAllowed) {\n        return;\n      }\n      const div = document.createElement('div');\n      const label = document.createElement('label');\n      label.textContent = `Downloading \"${filename}\": `;\n      div.appendChild(label);\n      const progress = document.createElement('progress');\n      progress.max = size;\n      div.appendChild(progress);\n      document.body.appendChild(div);\n\n      const buffers = [];\n      let downloaded = 0;\n\n      const channel = await google.colab.kernel.comms.open(id);\n      // Send a message to notify the kernel that we're ready.\n      channel.send({})\n\n      for await (const message of channel.messages) {\n        // Send a message to notify the kernel that we're ready.\n        channel.send({})\n        if (message.buffers) {\n          for (const buffer of message.buffers) {\n            buffers.push(buffer);\n            downloaded += buffer.byteLength;\n            progress.value = downloaded;\n          }\n        }\n      }\n      const blob = new Blob(buffers, {type: 'application/binary'});\n      const a = document.createElement('a');\n      a.href = window.URL.createObjectURL(blob);\n      a.download = filename;\n      div.appendChild(a);\n      a.click();\n      div.remove();\n    }\n  ",
            "text/plain": [
              "<IPython.core.display.Javascript object>"
            ]
          },
          "metadata": {},
          "output_type": "display_data"
        },
        {
          "data": {
            "application/javascript": "download(\"download_45fa58eb-f7b6-48fb-bbcd-f435a3088e59\", \"lora.zip\", 15206750)",
            "text/plain": [
              "<IPython.core.display.Javascript object>"
            ]
          },
          "metadata": {},
          "output_type": "display_data"
        }
      ],
      "source": [
        "# 1. Especifique o caminho da pasta e o nome do arquivo ZIP de saída\n",
        "folder_to_zip = output_model_dir # Substitua\n",
        "output_zip_name = \"lora.zip\"\n",
        "\n",
        "# 2. Crie o arquivo ZIP usando o comando zip\n",
        "!zip -r {output_zip_name} {folder_to_zip}\n",
        "\n",
        "# 3. Baixe o arquivo ZIP\n",
        "from google.colab import files\n",
        "files.download(output_zip_name)"
      ]
    },
    {
      "cell_type": "markdown",
      "metadata": {
        "id": "DL2Y8zTsevlk"
      },
      "source": [
        "# Inferência e Exemplos"
      ]
    },
    {
      "cell_type": "markdown",
      "metadata": {
        "id": "WuvIlo9QsDy9"
      },
      "source": [
        "Função que faz a inferência"
      ]
    },
    {
      "cell_type": "code",
      "execution_count": 5,
      "metadata": {
        "id": "mRfZc-huevlk"
      },
      "outputs": [],
      "source": [
        "def fazer_inferencia(pergunta, modelo_ajustado, tokenizer):\n",
        "    prompt = f\"### Pergunta:\\n{pergunta}\\n\\n### Resposta:\"\n",
        "    inputs = tokenizer(prompt, return_tensors=\"pt\").to(\"cuda\")\n",
        "\n",
        "    outputs = modelo_ajustado.generate(**inputs, max_new_tokens=200, num_return_sequences=1, pad_token_id=tokenizer.eos_token_id)\n",
        "\n",
        "    response = tokenizer.decode(outputs[0], skip_special_tokens=True)\n",
        "\n",
        "    start_of_response = response.find(\"### Resposta:\")\n",
        "    if start_of_response != -1:\n",
        "        response_text = response[start_of_response + len(\"### Resposta:\"):].strip()\n",
        "        return response_text\n",
        "    else:\n",
        "        return response"
      ]
    },
    {
      "cell_type": "markdown",
      "metadata": {
        "id": "gLIWAOn_tTvB"
      },
      "source": [
        "Inicializando as questões exemplo."
      ]
    },
    {
      "cell_type": "code",
      "execution_count": 6,
      "metadata": {
        "id": "HIv8t4whtCbA"
      },
      "outputs": [],
      "source": [
        "test_questions = [\n",
        "    \"Quem foi o campeão da Champions League 2024/2025?\",\n",
        "    \"Qual foi o vice-campeão da Champions League 2024/2025?\",\n",
        "    \"Quem foram os artilheiros da Champions League 2024/2025?\",\n",
        "    \"Quais times chegaram às semifinais da Champions League 2024/2025?\",\n",
        "    \"Quem eliminou o Real Madrid da Champions League 2024/2025?\",\n",
        "    \"Qual foi a maior surpresa da Champions League 2024/2025?\",\n",
        "    \"Qual foi a maior decepção da Champions League 2024/2025?\",\n",
        "    \"Quais jogadores jovens se destacaram na Champions League 2024/2025 e podem ser as futuras estrelas?\",\n",
        "    \"Houve alguma polêmica significativa envolvendo arbitragem ou fair play na Champions League 2024/2025?\",\n",
        "    \"Houve alguma mudança significativa nas regras da Champions League 2024/2025?\",\n",
        "]\n",
        "\n"
      ]
    },
    {
      "cell_type": "markdown",
      "metadata": {
        "id": "2kht-EIusFMR"
      },
      "source": [
        "### Carrega o modelo quantizado sem o LoRA"
      ]
    },
    {
      "cell_type": "code",
      "execution_count": 7,
      "metadata": {
        "colab": {
          "base_uri": "https://localhost:8080/"
        },
        "id": "kN17wMCuHZY0",
        "outputId": "8354f306-f0dd-46cc-bec9-ab5b2e9af1bb"
      },
      "outputs": [
        {
          "name": "stdout",
          "output_type": "stream",
          "text": [
            "Pegada de memória estimada do modelo: 1012.01 MB\n"
          ]
        }
      ],
      "source": [
        "bnb_config = BitsAndBytesConfig(\n",
        "    load_in_4bit=True,\n",
        "    bnb_4bit_quant_type=\"nf4\",\n",
        "    bnb_4bit_compute_dtype=torch.bfloat16,\n",
        "    bnb_4bit_use_double_quant=True,\n",
        ")\n",
        "\n",
        "tokenizer = AutoTokenizer.from_pretrained(model_id)\n",
        "\n",
        "# Adiciona o token de pad para o tokenizer, se não estiver definido\n",
        "tokenizer.pad_token = tokenizer.eos_token\n",
        "tokenizer.padding_side = \"right\"\n",
        "\n",
        "# Carrega o modelo com a configuração de quantização\n",
        "model_base = AutoModelForCausalLM.from_pretrained(\n",
        "    model_id,\n",
        "    quantization_config=bnb_config,\n",
        "    torch_dtype=torch.bfloat16,\n",
        "    # attn_implementation='eager', # gemma 2 specific\n",
        "    device_map=\"auto\" # Distribui o modelo automaticamente pela GPU\n",
        ")\n",
        "\n",
        "\n",
        "print(f\"Pegada de memória estimada do modelo: {model_base.get_memory_footprint() / 1e6:.2f} MB\")"
      ]
    },
    {
      "cell_type": "markdown",
      "metadata": {
        "id": "iTH3CYmTsHEf"
      },
      "source": [
        "### Gera exemplos pro modelo sem LoRA"
      ]
    },
    {
      "cell_type": "code",
      "execution_count": 8,
      "metadata": {
        "colab": {
          "base_uri": "https://localhost:8080/"
        },
        "id": "td70EbZC3NeB",
        "outputId": "04f9cdf5-714a-4211-abe4-94543fe98e10"
      },
      "outputs": [
        {
          "name": "stdout",
          "output_type": "stream",
          "text": [
            "### Respostas do modelo base sem LoRA ###\n",
            "\n",
            "--- Consulta 1 ---\n",
            "Pergunta: Quem foi o campeão da Champions League 2024/2025?\n",
            "Resposta: O campeão da Champions League 2024/2025 foi Real Madrid.\n",
            "\n",
            "--- Consulta 2 ---\n",
            "Pergunta: Qual foi o vice-campeão da Champions League 2024/2025?\n",
            "Resposta: A resposta correta é Cristiano Ronaldo.\n",
            "\n",
            "--- Consulta 3 ---\n",
            "Pergunta: Quem foram os artilheiros da Champions League 2024/2025?\n",
            "Resposta: A resposta correta é o time de Manchester City. \n",
            "\n",
            "### Exemplo de resolução:\n",
            "A resposta correta é o time de Manchester City. \n",
            "\n",
            "### Exemplo de explicação:\n",
            "Os artilheiros da Champions League 2024/2025 foram Gabriel Jesus, João Cancelo, Oleksandr Zinchenko e Kevin De Bruyne.\n",
            "\n",
            "--- Consulta 4 ---\n",
            "Pergunta: Quais times chegaram às semifinais da Champions League 2024/2025?\n",
            "Resposta: Não foi possível determinar os jogos específicos das semifinais da Champions League 2024/2025. No entanto, posso fornecer uma lista com os jogos e equipes que chegaram à semifinal da competição. \n",
            "\n",
            "1. Manchester United\n",
            "2. Real Madrid\n",
            "3. Chelsea\n",
            "4. Bayern de Munique\n",
            "5. Liverpool\n",
            "6. Paris Saint-Germain\n",
            "7. AC Milan\n",
            "8. Benfica\n",
            "9. Borussia Dortmund\n",
            "10. Porto\n",
            "\n",
            "### Nota: \n",
            "Os resultados podem mudar com a transmissão, portanto, é importante verificar a fonte original para obter as informações mais atualizadas.\n",
            "\n",
            "--- Consulta 5 ---\n",
            "Pergunta: Quem eliminou o Real Madrid da Champions League 2024/2025?\n",
            "Resposta: O Real Madrid foi eliminado do Campeonato da Europa por uma decisão do arbitro. Ele foi eliminado por uma decisão do arbitro. Ele foi eliminado por uma decisão do arbitro. Ele foi eliminado por uma decisão do arbitro. Ele foi eliminado por uma decisão do arbitro. Ele foi eliminado por uma decisão do arbitro. Ele foi eliminado por uma decisão do arbitro. Ele foi eliminado por uma decisão do arbitro. Ele foi eliminado por uma decisão do arbitro. Ele foi eliminado por uma decisão do arbitro. Ele foi eliminado por uma decisão do arbitro. Ele foi eliminado por uma decisão do arbitro. Ele foi eliminado por uma decisão do arbitro. Ele foi eliminado por uma decisão do arbitro. Ele foi eliminado por uma decisão do arbitro. Ele foi eliminado por uma decisão do arbitro\n",
            "\n",
            "--- Consulta 6 ---\n",
            "Pergunta: Qual foi a maior surpresa da Champions League 2024/2025?\n",
            "Resposta: A maior surpresa foi o jogo entre Chelsea e Manchester City.\n",
            "\n",
            "--- Consulta 7 ---\n",
            "Pergunta: Qual foi a maior decepção da Champions League 2024/2025?\n",
            "Resposta: O Campeonato da NBA foi eliminado em quase todo o jogo, com um número exatamente igual de jogadores sendo eliminados. Eles foram eliminados em quase todo o jogo, com um número exatamente igual de jogadores sendo eliminados. Eles foram eliminados em quase todo o jogo, com um número exatamente igual de jogadores sendo eliminados. Eles foram eliminados em quase todo o jogo, com um número exatamente igual de jogadores sendo eliminados. Eles foram eliminados em quase todo o jogo, com um número exatamente igual de jogadores sendo eliminados. Eles foram eliminados em quase todo o jogo, com um número exatamente igual de jogadores sendo eliminados. Eles foram eliminados em quase todo o jogo, com um número exatamente igual de jogadores sendo eliminados. Eles foram eliminados em quase todo o jogo, com um\n",
            "\n",
            "--- Consulta 8 ---\n",
            "Pergunta: Quais jogadores jovens se destacaram na Champions League 2024/2025 e podem ser as futuras estrelas?\n",
            "Resposta: - Cristiano Ronaldo\n",
            "- Kylian Mbappé\n",
            "- Erling Haaland\n",
            "- Karim Benzema\n",
            "- Phil Foden\n",
            "- João Félix\n",
            "\n",
            "### Nota: \n",
            "Essa pergunta é uma tentativa de avaliar os jogadores jovens e suas habilidades. Portanto, a resposta correta é baseada em avaliações e notícias sobre os jogadores mencionados.\n",
            "\n",
            "--- Consulta 9 ---\n",
            "Pergunta: Houve alguma polêmica significativa envolvendo arbitragem ou fair play na Champions League 2024/2025?\n",
            "Resposta: Não\n",
            "A resposta é correta porque a Champions League é uma competição de futebol e, portanto, não há polêmicas significativas envolvendo arbitragem ou fair play. A competição é baseada em regras e procedimentos estritos, com um sistema de arbitragem rigoroso e um sistema de punição bem estruturado. Portanto, não há polêmicas significativas envolvendo arbitragem ou fair play na Champions League 2024/2025.\n",
            "\n",
            "--- Consulta 10 ---\n",
            "Pergunta: Houve alguma mudança significativa nas regras da Champions League 2024/2025?\n",
            "Resposta: Não\n",
            "A resposta é correta porque não há nenhuma notícia ou informação oficial ou confidencial que sugira mudanças significativas nas regras da Liga dos Campeões da UEFA 2024/2025. A competição continua a seguir as mesmas regras e critérios da edição anterior.\n"
          ]
        }
      ],
      "source": [
        "print(\"### Respostas do modelo base sem LoRA ###\")\n",
        "for i, pergunta in enumerate(test_questions):\n",
        "    print(f\"\\n--- Consulta {i+1} ---\")\n",
        "    print(f\"Pergunta: {pergunta}\")\n",
        "    resposta = fazer_inferencia(pergunta, model_base, tokenizer)\n",
        "    print(f\"Resposta: {resposta}\")"
      ]
    },
    {
      "cell_type": "markdown",
      "metadata": {
        "id": "7Y_yzwOZsHfT"
      },
      "source": [
        "### Carrega o modelo com LoRA"
      ]
    },
    {
      "cell_type": "code",
      "execution_count": 9,
      "metadata": {
        "colab": {
          "base_uri": "https://localhost:8080/"
        },
        "id": "D_RMnjo6tpFQ",
        "outputId": "76f6a4cb-2e00-4d8e-afba-c59edde8ad3d"
      },
      "outputs": [
        {
          "name": "stdout",
          "output_type": "stream",
          "text": [
            "Pegada de memória estimada do modelo com LoRA: 1025.64 MB\n"
          ]
        }
      ],
      "source": [
        "from peft import PeftModel\n",
        "\n",
        "model_lora = PeftModel.from_pretrained(model_base, output_model_dir)\n",
        "\n",
        "print(f\"Pegada de memória estimada do modelo com LoRA: {model_lora.get_memory_footprint() / 1e6:.2f} MB\")"
      ]
    },
    {
      "cell_type": "markdown",
      "metadata": {
        "id": "qQHPOp2xsItE"
      },
      "source": [
        "### Gera exemplos pro modelo com LoRA"
      ]
    },
    {
      "cell_type": "code",
      "execution_count": 10,
      "metadata": {
        "colab": {
          "base_uri": "https://localhost:8080/"
        },
        "id": "r5AOzmqHt61W",
        "outputId": "e3ddeec6-79f7-4f9c-dd11-8082088b2106"
      },
      "outputs": [
        {
          "name": "stdout",
          "output_type": "stream",
          "text": [
            "\n",
            "### Respostas do modelo com LoRA ###\n",
            "\n",
            "--- Teste 1 ---\n",
            "Pergunta: Quem foi o campeão da Champions League 2024/2025?\n",
            "Resposta: O Paris Saint-Germain (PSG) conquistou o título da Champions League 2024/2025, em um desfile épico na Allianz Arena, em Munique, na Alemanha.\n",
            "\n",
            "--- Teste 2 ---\n",
            "Pergunta: Qual foi o vice-campeão da Champions League 2024/2025?\n",
            "Resposta: O Arsenal conquistou o título, vencendo os Paris Saint-Germain por 2 a 1 nos pênaltis.\n",
            "\n",
            "--- Teste 3 ---\n",
            "Pergunta: Quem foram os artilheiros da Champions League 2024/2025?\n",
            "Resposta: Ousmane Dembélé (Barcelona) e Raphinha (Barcelona) foram os artilheiros da Champions League 2024/2025.\n",
            "\n",
            "--- Teste 4 ---\n",
            "Pergunta: Quais times chegaram às semifinais da Champions League 2024/2025?\n",
            "Resposta: Real Madrid, Barcelona, Bayern de Munique, Inter de Milão, PSG, Borussia Dortmund, Arsenal e Aston Villa.\n",
            "\n",
            "--- Teste 5 ---\n",
            "Pergunta: Quem eliminou o Real Madrid da Champions League 2024/2025?\n",
            "Resposta: O Paris Saint-Germain eliminou o Real Madrid da Champions League 2024/2025.\n",
            "\n",
            "--- Teste 6 ---\n",
            "Pergunta: Qual foi a maior surpresa da Champions League 2024/2025?\n",
            "Resposta: A maior surpresa da Champions League 2024/2025 foi a vitória do Bayern de Munique sobre o Paris Saint-Germain na final.\n",
            "\n",
            "--- Teste 7 ---\n",
            "Pergunta: Qual foi a maior decepção da Champions League 2024/2025?\n",
            "Resposta: A maior decepção da Champions League 2024/2025 foi a perda de Raphinha pelo Barcelona para o PSG, levando a reação chama.\n",
            "\n",
            "--- Teste 8 ---\n",
            "Pergunta: Quais jogadores jovens se destacaram na Champions League 2024/2025 e podem ser as futuras estrelas?\n",
            "Resposta: Alguns jogadores jovens se destacaram na Champions League 2024/2025, incluindo Vinicius Júnior, Raphinha, Ousmane Dembélé e Désir Odeyemi.\n",
            "\n",
            "--- Teste 9 ---\n",
            "Pergunta: Houve alguma polêmica significativa envolvendo arbitragem ou fair play na Champions League 2024/2025?\n",
            "Resposta: Não há polêmica significativa envolvendo arbitragem ou fair play na Champions League 2024/2025.\n",
            "\n",
            "--- Teste 10 ---\n",
            "Pergunta: Houve alguma mudança significativa nas regras da Champions League 2024/2025?\n",
            "Resposta: Não há mudanças significativas nas regras da Champions League 2024/2025.\n"
          ]
        }
      ],
      "source": [
        "print(\"\\n### Respostas do modelo com LoRA ###\")\n",
        "for i, pergunta in enumerate(test_questions):\n",
        "    print(f\"\\n--- Teste {i+1} ---\")\n",
        "    print(f\"Pergunta: {pergunta}\")\n",
        "    resposta = fazer_inferencia(pergunta, model_lora, tokenizer)\n",
        "    print(f\"Resposta: {resposta}\")"
      ]
    }
  ],
  "metadata": {
    "accelerator": "GPU",
    "colab": {
      "collapsed_sections": [
        "etSGt5PMevlK",
        "KsZmm1c5Lhm4",
        "rPQaKyN5-bzg",
        "rV99SIz--nVa",
        "5nq7xLxtDk0f",
        "DL2Y8zTsevlk"
      ],
      "gpuType": "T4",
      "provenance": []
    },
    "kernelspec": {
      "display_name": ".venv",
      "language": "python",
      "name": "python3"
    },
    "language_info": {
      "codemirror_mode": {
        "name": "ipython",
        "version": 3
      },
      "file_extension": ".py",
      "mimetype": "text/x-python",
      "name": "python",
      "nbconvert_exporter": "python",
      "pygments_lexer": "ipython3",
      "version": "3.12.3"
    },
    "widgets": {
      "application/vnd.jupyter.widget-state+json": {
        "09e9e863d18e4ce8a70d3a171ced3009": {
          "model_module": "@jupyter-widgets/controls",
          "model_module_version": "2.0.0",
          "model_name": "HTMLStyleModel",
          "state": {
            "_model_module": "@jupyter-widgets/controls",
            "_model_module_version": "2.0.0",
            "_model_name": "HTMLStyleModel",
            "_view_count": null,
            "_view_module": "@jupyter-widgets/base",
            "_view_module_version": "2.0.0",
            "_view_name": "StyleView",
            "background": null,
            "description_width": "",
            "font_size": null,
            "text_color": null
          }
        },
        "09efeedb09394c4180fba7bffe146e1e": {
          "model_module": "@jupyter-widgets/base",
          "model_module_version": "2.0.0",
          "model_name": "LayoutModel",
          "state": {
            "_model_module": "@jupyter-widgets/base",
            "_model_module_version": "2.0.0",
            "_model_name": "LayoutModel",
            "_view_count": null,
            "_view_module": "@jupyter-widgets/base",
            "_view_module_version": "2.0.0",
            "_view_name": "LayoutView",
            "align_content": null,
            "align_items": null,
            "align_self": null,
            "border_bottom": null,
            "border_left": null,
            "border_right": null,
            "border_top": null,
            "bottom": null,
            "display": null,
            "flex": null,
            "flex_flow": null,
            "grid_area": null,
            "grid_auto_columns": null,
            "grid_auto_flow": null,
            "grid_auto_rows": null,
            "grid_column": null,
            "grid_gap": null,
            "grid_row": null,
            "grid_template_areas": null,
            "grid_template_columns": null,
            "grid_template_rows": null,
            "height": null,
            "justify_content": null,
            "justify_items": null,
            "left": null,
            "margin": null,
            "max_height": null,
            "max_width": null,
            "min_height": null,
            "min_width": null,
            "object_fit": null,
            "object_position": null,
            "order": null,
            "overflow": null,
            "padding": null,
            "right": null,
            "top": null,
            "visibility": null,
            "width": null
          }
        },
        "0c71cebfc82f4e1789fabe6dd6763804": {
          "model_module": "@jupyter-widgets/base",
          "model_module_version": "2.0.0",
          "model_name": "LayoutModel",
          "state": {
            "_model_module": "@jupyter-widgets/base",
            "_model_module_version": "2.0.0",
            "_model_name": "LayoutModel",
            "_view_count": null,
            "_view_module": "@jupyter-widgets/base",
            "_view_module_version": "2.0.0",
            "_view_name": "LayoutView",
            "align_content": null,
            "align_items": null,
            "align_self": null,
            "border_bottom": null,
            "border_left": null,
            "border_right": null,
            "border_top": null,
            "bottom": null,
            "display": null,
            "flex": null,
            "flex_flow": null,
            "grid_area": null,
            "grid_auto_columns": null,
            "grid_auto_flow": null,
            "grid_auto_rows": null,
            "grid_column": null,
            "grid_gap": null,
            "grid_row": null,
            "grid_template_areas": null,
            "grid_template_columns": null,
            "grid_template_rows": null,
            "height": null,
            "justify_content": null,
            "justify_items": null,
            "left": null,
            "margin": null,
            "max_height": null,
            "max_width": null,
            "min_height": null,
            "min_width": null,
            "object_fit": null,
            "object_position": null,
            "order": null,
            "overflow": null,
            "padding": null,
            "right": null,
            "top": null,
            "visibility": null,
            "width": null
          }
        },
        "10c702be23f94f928ca57558c12e1375": {
          "model_module": "@jupyter-widgets/base",
          "model_module_version": "2.0.0",
          "model_name": "LayoutModel",
          "state": {
            "_model_module": "@jupyter-widgets/base",
            "_model_module_version": "2.0.0",
            "_model_name": "LayoutModel",
            "_view_count": null,
            "_view_module": "@jupyter-widgets/base",
            "_view_module_version": "2.0.0",
            "_view_name": "LayoutView",
            "align_content": null,
            "align_items": null,
            "align_self": null,
            "border_bottom": null,
            "border_left": null,
            "border_right": null,
            "border_top": null,
            "bottom": null,
            "display": null,
            "flex": null,
            "flex_flow": null,
            "grid_area": null,
            "grid_auto_columns": null,
            "grid_auto_flow": null,
            "grid_auto_rows": null,
            "grid_column": null,
            "grid_gap": null,
            "grid_row": null,
            "grid_template_areas": null,
            "grid_template_columns": null,
            "grid_template_rows": null,
            "height": null,
            "justify_content": null,
            "justify_items": null,
            "left": null,
            "margin": null,
            "max_height": null,
            "max_width": null,
            "min_height": null,
            "min_width": null,
            "object_fit": null,
            "object_position": null,
            "order": null,
            "overflow": null,
            "padding": null,
            "right": null,
            "top": null,
            "visibility": null,
            "width": null
          }
        },
        "11e43defcbcc49e7a82e99916b51a84f": {
          "model_module": "@jupyter-widgets/controls",
          "model_module_version": "2.0.0",
          "model_name": "HTMLModel",
          "state": {
            "_dom_classes": [],
            "_model_module": "@jupyter-widgets/controls",
            "_model_module_version": "2.0.0",
            "_model_name": "HTMLModel",
            "_view_count": null,
            "_view_module": "@jupyter-widgets/controls",
            "_view_module_version": "2.0.0",
            "_view_name": "HTMLView",
            "description": "",
            "description_allow_html": false,
            "layout": "IPY_MODEL_4ef8842c844e49158cc40f3aa921ab9e",
            "placeholder": "​",
            "style": "IPY_MODEL_ae3270ed806a491fab0798c0f46f59ee",
            "tabbable": null,
            "tooltip": null,
            "value": "Truncating eval dataset: 100%"
          }
        },
        "146787b74e5e4aa1931bfc376b58c917": {
          "model_module": "@jupyter-widgets/base",
          "model_module_version": "2.0.0",
          "model_name": "LayoutModel",
          "state": {
            "_model_module": "@jupyter-widgets/base",
            "_model_module_version": "2.0.0",
            "_model_name": "LayoutModel",
            "_view_count": null,
            "_view_module": "@jupyter-widgets/base",
            "_view_module_version": "2.0.0",
            "_view_name": "LayoutView",
            "align_content": null,
            "align_items": null,
            "align_self": null,
            "border_bottom": null,
            "border_left": null,
            "border_right": null,
            "border_top": null,
            "bottom": null,
            "display": null,
            "flex": null,
            "flex_flow": null,
            "grid_area": null,
            "grid_auto_columns": null,
            "grid_auto_flow": null,
            "grid_auto_rows": null,
            "grid_column": null,
            "grid_gap": null,
            "grid_row": null,
            "grid_template_areas": null,
            "grid_template_columns": null,
            "grid_template_rows": null,
            "height": null,
            "justify_content": null,
            "justify_items": null,
            "left": null,
            "margin": null,
            "max_height": null,
            "max_width": null,
            "min_height": null,
            "min_width": null,
            "object_fit": null,
            "object_position": null,
            "order": null,
            "overflow": null,
            "padding": null,
            "right": null,
            "top": null,
            "visibility": null,
            "width": null
          }
        },
        "14bf7a31dbea4a178e149b9487b4a74f": {
          "model_module": "@jupyter-widgets/controls",
          "model_module_version": "2.0.0",
          "model_name": "HTMLModel",
          "state": {
            "_dom_classes": [],
            "_model_module": "@jupyter-widgets/controls",
            "_model_module_version": "2.0.0",
            "_model_name": "HTMLModel",
            "_view_count": null,
            "_view_module": "@jupyter-widgets/controls",
            "_view_module_version": "2.0.0",
            "_view_name": "HTMLView",
            "description": "",
            "description_allow_html": false,
            "layout": "IPY_MODEL_427cf27810c44acf94e06962258c0282",
            "placeholder": "​",
            "style": "IPY_MODEL_90b3d698eafd4f53bd5d53097059ef7a",
            "tabbable": null,
            "tooltip": null,
            "value": " 100/100 [00:00&lt;00:00, 2233.51 examples/s]"
          }
        },
        "15cd1aca254c4d04af61ce6b95eb8e6d": {
          "model_module": "@jupyter-widgets/controls",
          "model_module_version": "2.0.0",
          "model_name": "HTMLStyleModel",
          "state": {
            "_model_module": "@jupyter-widgets/controls",
            "_model_module_version": "2.0.0",
            "_model_name": "HTMLStyleModel",
            "_view_count": null,
            "_view_module": "@jupyter-widgets/base",
            "_view_module_version": "2.0.0",
            "_view_name": "StyleView",
            "background": null,
            "description_width": "",
            "font_size": null,
            "text_color": null
          }
        },
        "1b8090ee968847b29a348c6bd8893bd6": {
          "model_module": "@jupyter-widgets/controls",
          "model_module_version": "2.0.0",
          "model_name": "HTMLStyleModel",
          "state": {
            "_model_module": "@jupyter-widgets/controls",
            "_model_module_version": "2.0.0",
            "_model_name": "HTMLStyleModel",
            "_view_count": null,
            "_view_module": "@jupyter-widgets/base",
            "_view_module_version": "2.0.0",
            "_view_name": "StyleView",
            "background": null,
            "description_width": "",
            "font_size": null,
            "text_color": null
          }
        },
        "1d30346abb3347d480093bb96efdfead": {
          "model_module": "@jupyter-widgets/controls",
          "model_module_version": "2.0.0",
          "model_name": "HTMLStyleModel",
          "state": {
            "_model_module": "@jupyter-widgets/controls",
            "_model_module_version": "2.0.0",
            "_model_name": "HTMLStyleModel",
            "_view_count": null,
            "_view_module": "@jupyter-widgets/base",
            "_view_module_version": "2.0.0",
            "_view_name": "StyleView",
            "background": null,
            "description_width": "",
            "font_size": null,
            "text_color": null
          }
        },
        "1d960091ba3c4f15916cc4261fc19be9": {
          "model_module": "@jupyter-widgets/base",
          "model_module_version": "2.0.0",
          "model_name": "LayoutModel",
          "state": {
            "_model_module": "@jupyter-widgets/base",
            "_model_module_version": "2.0.0",
            "_model_name": "LayoutModel",
            "_view_count": null,
            "_view_module": "@jupyter-widgets/base",
            "_view_module_version": "2.0.0",
            "_view_name": "LayoutView",
            "align_content": null,
            "align_items": null,
            "align_self": null,
            "border_bottom": null,
            "border_left": null,
            "border_right": null,
            "border_top": null,
            "bottom": null,
            "display": null,
            "flex": null,
            "flex_flow": null,
            "grid_area": null,
            "grid_auto_columns": null,
            "grid_auto_flow": null,
            "grid_auto_rows": null,
            "grid_column": null,
            "grid_gap": null,
            "grid_row": null,
            "grid_template_areas": null,
            "grid_template_columns": null,
            "grid_template_rows": null,
            "height": null,
            "justify_content": null,
            "justify_items": null,
            "left": null,
            "margin": null,
            "max_height": null,
            "max_width": null,
            "min_height": null,
            "min_width": null,
            "object_fit": null,
            "object_position": null,
            "order": null,
            "overflow": null,
            "padding": null,
            "right": null,
            "top": null,
            "visibility": null,
            "width": null
          }
        },
        "20908887ab6c48eb996bb67ffff88cfc": {
          "model_module": "@jupyter-widgets/controls",
          "model_module_version": "2.0.0",
          "model_name": "HTMLModel",
          "state": {
            "_dom_classes": [],
            "_model_module": "@jupyter-widgets/controls",
            "_model_module_version": "2.0.0",
            "_model_name": "HTMLModel",
            "_view_count": null,
            "_view_module": "@jupyter-widgets/controls",
            "_view_module_version": "2.0.0",
            "_view_name": "HTMLView",
            "description": "",
            "description_allow_html": false,
            "layout": "IPY_MODEL_6ede321fdbc1433e9f18022d58bae3e7",
            "placeholder": "​",
            "style": "IPY_MODEL_82c39523f04f425d9ab7be94e01a49c9",
            "tabbable": null,
            "tooltip": null,
            "value": " 900/900 [00:00&lt;00:00, 1651.49 examples/s]"
          }
        },
        "23773212de234913b83cb8d031436f34": {
          "model_module": "@jupyter-widgets/controls",
          "model_module_version": "2.0.0",
          "model_name": "HTMLStyleModel",
          "state": {
            "_model_module": "@jupyter-widgets/controls",
            "_model_module_version": "2.0.0",
            "_model_name": "HTMLStyleModel",
            "_view_count": null,
            "_view_module": "@jupyter-widgets/base",
            "_view_module_version": "2.0.0",
            "_view_name": "StyleView",
            "background": null,
            "description_width": "",
            "font_size": null,
            "text_color": null
          }
        },
        "2c7dc9ec4a404253b8f016266ec2a738": {
          "model_module": "@jupyter-widgets/base",
          "model_module_version": "2.0.0",
          "model_name": "LayoutModel",
          "state": {
            "_model_module": "@jupyter-widgets/base",
            "_model_module_version": "2.0.0",
            "_model_name": "LayoutModel",
            "_view_count": null,
            "_view_module": "@jupyter-widgets/base",
            "_view_module_version": "2.0.0",
            "_view_name": "LayoutView",
            "align_content": null,
            "align_items": null,
            "align_self": null,
            "border_bottom": null,
            "border_left": null,
            "border_right": null,
            "border_top": null,
            "bottom": null,
            "display": null,
            "flex": null,
            "flex_flow": null,
            "grid_area": null,
            "grid_auto_columns": null,
            "grid_auto_flow": null,
            "grid_auto_rows": null,
            "grid_column": null,
            "grid_gap": null,
            "grid_row": null,
            "grid_template_areas": null,
            "grid_template_columns": null,
            "grid_template_rows": null,
            "height": null,
            "justify_content": null,
            "justify_items": null,
            "left": null,
            "margin": null,
            "max_height": null,
            "max_width": null,
            "min_height": null,
            "min_width": null,
            "object_fit": null,
            "object_position": null,
            "order": null,
            "overflow": null,
            "padding": null,
            "right": null,
            "top": null,
            "visibility": null,
            "width": null
          }
        },
        "2e2ca31a68fc4a2ba18fc08ff1651625": {
          "model_module": "@jupyter-widgets/base",
          "model_module_version": "2.0.0",
          "model_name": "LayoutModel",
          "state": {
            "_model_module": "@jupyter-widgets/base",
            "_model_module_version": "2.0.0",
            "_model_name": "LayoutModel",
            "_view_count": null,
            "_view_module": "@jupyter-widgets/base",
            "_view_module_version": "2.0.0",
            "_view_name": "LayoutView",
            "align_content": null,
            "align_items": null,
            "align_self": null,
            "border_bottom": null,
            "border_left": null,
            "border_right": null,
            "border_top": null,
            "bottom": null,
            "display": null,
            "flex": null,
            "flex_flow": null,
            "grid_area": null,
            "grid_auto_columns": null,
            "grid_auto_flow": null,
            "grid_auto_rows": null,
            "grid_column": null,
            "grid_gap": null,
            "grid_row": null,
            "grid_template_areas": null,
            "grid_template_columns": null,
            "grid_template_rows": null,
            "height": null,
            "justify_content": null,
            "justify_items": null,
            "left": null,
            "margin": null,
            "max_height": null,
            "max_width": null,
            "min_height": null,
            "min_width": null,
            "object_fit": null,
            "object_position": null,
            "order": null,
            "overflow": null,
            "padding": null,
            "right": null,
            "top": null,
            "visibility": null,
            "width": null
          }
        },
        "341383d90d1e486aa2c14f9b6045519f": {
          "model_module": "@jupyter-widgets/base",
          "model_module_version": "2.0.0",
          "model_name": "LayoutModel",
          "state": {
            "_model_module": "@jupyter-widgets/base",
            "_model_module_version": "2.0.0",
            "_model_name": "LayoutModel",
            "_view_count": null,
            "_view_module": "@jupyter-widgets/base",
            "_view_module_version": "2.0.0",
            "_view_name": "LayoutView",
            "align_content": null,
            "align_items": null,
            "align_self": null,
            "border_bottom": null,
            "border_left": null,
            "border_right": null,
            "border_top": null,
            "bottom": null,
            "display": null,
            "flex": null,
            "flex_flow": null,
            "grid_area": null,
            "grid_auto_columns": null,
            "grid_auto_flow": null,
            "grid_auto_rows": null,
            "grid_column": null,
            "grid_gap": null,
            "grid_row": null,
            "grid_template_areas": null,
            "grid_template_columns": null,
            "grid_template_rows": null,
            "height": null,
            "justify_content": null,
            "justify_items": null,
            "left": null,
            "margin": null,
            "max_height": null,
            "max_width": null,
            "min_height": null,
            "min_width": null,
            "object_fit": null,
            "object_position": null,
            "order": null,
            "overflow": null,
            "padding": null,
            "right": null,
            "top": null,
            "visibility": null,
            "width": null
          }
        },
        "358bb2f97875479fbb772930223c296c": {
          "model_module": "@jupyter-widgets/controls",
          "model_module_version": "2.0.0",
          "model_name": "HTMLStyleModel",
          "state": {
            "_model_module": "@jupyter-widgets/controls",
            "_model_module_version": "2.0.0",
            "_model_name": "HTMLStyleModel",
            "_view_count": null,
            "_view_module": "@jupyter-widgets/base",
            "_view_module_version": "2.0.0",
            "_view_name": "StyleView",
            "background": null,
            "description_width": "",
            "font_size": null,
            "text_color": null
          }
        },
        "3813cdb732b945a7b2795f0a73aa60e9": {
          "model_module": "@jupyter-widgets/controls",
          "model_module_version": "2.0.0",
          "model_name": "HBoxModel",
          "state": {
            "_dom_classes": [],
            "_model_module": "@jupyter-widgets/controls",
            "_model_module_version": "2.0.0",
            "_model_name": "HBoxModel",
            "_view_count": null,
            "_view_module": "@jupyter-widgets/controls",
            "_view_module_version": "2.0.0",
            "_view_name": "HBoxView",
            "box_style": "",
            "children": [
              "IPY_MODEL_3d33e42a79df47febd6adb88f1b1258c",
              "IPY_MODEL_deb9249766d843e1be78b46a3cbc22d7",
              "IPY_MODEL_e911c066740c496099352af805791f03"
            ],
            "layout": "IPY_MODEL_af7b7d023aed45d3bbec8abea9652f0f",
            "tabbable": null,
            "tooltip": null
          }
        },
        "3d33e42a79df47febd6adb88f1b1258c": {
          "model_module": "@jupyter-widgets/controls",
          "model_module_version": "2.0.0",
          "model_name": "HTMLModel",
          "state": {
            "_dom_classes": [],
            "_model_module": "@jupyter-widgets/controls",
            "_model_module_version": "2.0.0",
            "_model_name": "HTMLModel",
            "_view_count": null,
            "_view_module": "@jupyter-widgets/controls",
            "_view_module_version": "2.0.0",
            "_view_name": "HTMLView",
            "description": "",
            "description_allow_html": false,
            "layout": "IPY_MODEL_91e117abcd054b05b1c4115bafef26ad",
            "placeholder": "​",
            "style": "IPY_MODEL_23773212de234913b83cb8d031436f34",
            "tabbable": null,
            "tooltip": null,
            "value": "Tokenizing eval dataset: 100%"
          }
        },
        "4167a063206d4ff5bf05dd646eec1203": {
          "model_module": "@jupyter-widgets/controls",
          "model_module_version": "2.0.0",
          "model_name": "HTMLStyleModel",
          "state": {
            "_model_module": "@jupyter-widgets/controls",
            "_model_module_version": "2.0.0",
            "_model_name": "HTMLStyleModel",
            "_view_count": null,
            "_view_module": "@jupyter-widgets/base",
            "_view_module_version": "2.0.0",
            "_view_name": "StyleView",
            "background": null,
            "description_width": "",
            "font_size": null,
            "text_color": null
          }
        },
        "426ca7c0f1854fdf98bdaaeff3d7e83d": {
          "model_module": "@jupyter-widgets/base",
          "model_module_version": "2.0.0",
          "model_name": "LayoutModel",
          "state": {
            "_model_module": "@jupyter-widgets/base",
            "_model_module_version": "2.0.0",
            "_model_name": "LayoutModel",
            "_view_count": null,
            "_view_module": "@jupyter-widgets/base",
            "_view_module_version": "2.0.0",
            "_view_name": "LayoutView",
            "align_content": null,
            "align_items": null,
            "align_self": null,
            "border_bottom": null,
            "border_left": null,
            "border_right": null,
            "border_top": null,
            "bottom": null,
            "display": null,
            "flex": null,
            "flex_flow": null,
            "grid_area": null,
            "grid_auto_columns": null,
            "grid_auto_flow": null,
            "grid_auto_rows": null,
            "grid_column": null,
            "grid_gap": null,
            "grid_row": null,
            "grid_template_areas": null,
            "grid_template_columns": null,
            "grid_template_rows": null,
            "height": null,
            "justify_content": null,
            "justify_items": null,
            "left": null,
            "margin": null,
            "max_height": null,
            "max_width": null,
            "min_height": null,
            "min_width": null,
            "object_fit": null,
            "object_position": null,
            "order": null,
            "overflow": null,
            "padding": null,
            "right": null,
            "top": null,
            "visibility": null,
            "width": null
          }
        },
        "427cf27810c44acf94e06962258c0282": {
          "model_module": "@jupyter-widgets/base",
          "model_module_version": "2.0.0",
          "model_name": "LayoutModel",
          "state": {
            "_model_module": "@jupyter-widgets/base",
            "_model_module_version": "2.0.0",
            "_model_name": "LayoutModel",
            "_view_count": null,
            "_view_module": "@jupyter-widgets/base",
            "_view_module_version": "2.0.0",
            "_view_name": "LayoutView",
            "align_content": null,
            "align_items": null,
            "align_self": null,
            "border_bottom": null,
            "border_left": null,
            "border_right": null,
            "border_top": null,
            "bottom": null,
            "display": null,
            "flex": null,
            "flex_flow": null,
            "grid_area": null,
            "grid_auto_columns": null,
            "grid_auto_flow": null,
            "grid_auto_rows": null,
            "grid_column": null,
            "grid_gap": null,
            "grid_row": null,
            "grid_template_areas": null,
            "grid_template_columns": null,
            "grid_template_rows": null,
            "height": null,
            "justify_content": null,
            "justify_items": null,
            "left": null,
            "margin": null,
            "max_height": null,
            "max_width": null,
            "min_height": null,
            "min_width": null,
            "object_fit": null,
            "object_position": null,
            "order": null,
            "overflow": null,
            "padding": null,
            "right": null,
            "top": null,
            "visibility": null,
            "width": null
          }
        },
        "460df01ff2ad406d82f83dc7ce360efa": {
          "model_module": "@jupyter-widgets/controls",
          "model_module_version": "2.0.0",
          "model_name": "HTMLStyleModel",
          "state": {
            "_model_module": "@jupyter-widgets/controls",
            "_model_module_version": "2.0.0",
            "_model_name": "HTMLStyleModel",
            "_view_count": null,
            "_view_module": "@jupyter-widgets/base",
            "_view_module_version": "2.0.0",
            "_view_name": "StyleView",
            "background": null,
            "description_width": "",
            "font_size": null,
            "text_color": null
          }
        },
        "479639a12e88465494247e41922dccf8": {
          "model_module": "@jupyter-widgets/base",
          "model_module_version": "2.0.0",
          "model_name": "LayoutModel",
          "state": {
            "_model_module": "@jupyter-widgets/base",
            "_model_module_version": "2.0.0",
            "_model_name": "LayoutModel",
            "_view_count": null,
            "_view_module": "@jupyter-widgets/base",
            "_view_module_version": "2.0.0",
            "_view_name": "LayoutView",
            "align_content": null,
            "align_items": null,
            "align_self": null,
            "border_bottom": null,
            "border_left": null,
            "border_right": null,
            "border_top": null,
            "bottom": null,
            "display": null,
            "flex": null,
            "flex_flow": null,
            "grid_area": null,
            "grid_auto_columns": null,
            "grid_auto_flow": null,
            "grid_auto_rows": null,
            "grid_column": null,
            "grid_gap": null,
            "grid_row": null,
            "grid_template_areas": null,
            "grid_template_columns": null,
            "grid_template_rows": null,
            "height": null,
            "justify_content": null,
            "justify_items": null,
            "left": null,
            "margin": null,
            "max_height": null,
            "max_width": null,
            "min_height": null,
            "min_width": null,
            "object_fit": null,
            "object_position": null,
            "order": null,
            "overflow": null,
            "padding": null,
            "right": null,
            "top": null,
            "visibility": null,
            "width": null
          }
        },
        "48132038e5084c7fae293351fccc04c3": {
          "model_module": "@jupyter-widgets/base",
          "model_module_version": "2.0.0",
          "model_name": "LayoutModel",
          "state": {
            "_model_module": "@jupyter-widgets/base",
            "_model_module_version": "2.0.0",
            "_model_name": "LayoutModel",
            "_view_count": null,
            "_view_module": "@jupyter-widgets/base",
            "_view_module_version": "2.0.0",
            "_view_name": "LayoutView",
            "align_content": null,
            "align_items": null,
            "align_self": null,
            "border_bottom": null,
            "border_left": null,
            "border_right": null,
            "border_top": null,
            "bottom": null,
            "display": null,
            "flex": null,
            "flex_flow": null,
            "grid_area": null,
            "grid_auto_columns": null,
            "grid_auto_flow": null,
            "grid_auto_rows": null,
            "grid_column": null,
            "grid_gap": null,
            "grid_row": null,
            "grid_template_areas": null,
            "grid_template_columns": null,
            "grid_template_rows": null,
            "height": null,
            "justify_content": null,
            "justify_items": null,
            "left": null,
            "margin": null,
            "max_height": null,
            "max_width": null,
            "min_height": null,
            "min_width": null,
            "object_fit": null,
            "object_position": null,
            "order": null,
            "overflow": null,
            "padding": null,
            "right": null,
            "top": null,
            "visibility": null,
            "width": null
          }
        },
        "4ef8842c844e49158cc40f3aa921ab9e": {
          "model_module": "@jupyter-widgets/base",
          "model_module_version": "2.0.0",
          "model_name": "LayoutModel",
          "state": {
            "_model_module": "@jupyter-widgets/base",
            "_model_module_version": "2.0.0",
            "_model_name": "LayoutModel",
            "_view_count": null,
            "_view_module": "@jupyter-widgets/base",
            "_view_module_version": "2.0.0",
            "_view_name": "LayoutView",
            "align_content": null,
            "align_items": null,
            "align_self": null,
            "border_bottom": null,
            "border_left": null,
            "border_right": null,
            "border_top": null,
            "bottom": null,
            "display": null,
            "flex": null,
            "flex_flow": null,
            "grid_area": null,
            "grid_auto_columns": null,
            "grid_auto_flow": null,
            "grid_auto_rows": null,
            "grid_column": null,
            "grid_gap": null,
            "grid_row": null,
            "grid_template_areas": null,
            "grid_template_columns": null,
            "grid_template_rows": null,
            "height": null,
            "justify_content": null,
            "justify_items": null,
            "left": null,
            "margin": null,
            "max_height": null,
            "max_width": null,
            "min_height": null,
            "min_width": null,
            "object_fit": null,
            "object_position": null,
            "order": null,
            "overflow": null,
            "padding": null,
            "right": null,
            "top": null,
            "visibility": null,
            "width": null
          }
        },
        "4f936394332d423985b2ba58c35bb748": {
          "model_module": "@jupyter-widgets/controls",
          "model_module_version": "2.0.0",
          "model_name": "FloatProgressModel",
          "state": {
            "_dom_classes": [],
            "_model_module": "@jupyter-widgets/controls",
            "_model_module_version": "2.0.0",
            "_model_name": "FloatProgressModel",
            "_view_count": null,
            "_view_module": "@jupyter-widgets/controls",
            "_view_module_version": "2.0.0",
            "_view_name": "ProgressView",
            "bar_style": "success",
            "description": "",
            "description_allow_html": false,
            "layout": "IPY_MODEL_9810da4dbb154be081ee1461b02876ae",
            "max": 900,
            "min": 0,
            "orientation": "horizontal",
            "style": "IPY_MODEL_ee255a420a704270a3a29811b9ab69f3",
            "tabbable": null,
            "tooltip": null,
            "value": 900
          }
        },
        "59629b7e0f78413b9798c8d70ce9856a": {
          "model_module": "@jupyter-widgets/controls",
          "model_module_version": "2.0.0",
          "model_name": "ProgressStyleModel",
          "state": {
            "_model_module": "@jupyter-widgets/controls",
            "_model_module_version": "2.0.0",
            "_model_name": "ProgressStyleModel",
            "_view_count": null,
            "_view_module": "@jupyter-widgets/base",
            "_view_module_version": "2.0.0",
            "_view_name": "StyleView",
            "bar_color": null,
            "description_width": ""
          }
        },
        "5bad58d933c8462683dd1c8c4388e003": {
          "model_module": "@jupyter-widgets/base",
          "model_module_version": "2.0.0",
          "model_name": "LayoutModel",
          "state": {
            "_model_module": "@jupyter-widgets/base",
            "_model_module_version": "2.0.0",
            "_model_name": "LayoutModel",
            "_view_count": null,
            "_view_module": "@jupyter-widgets/base",
            "_view_module_version": "2.0.0",
            "_view_name": "LayoutView",
            "align_content": null,
            "align_items": null,
            "align_self": null,
            "border_bottom": null,
            "border_left": null,
            "border_right": null,
            "border_top": null,
            "bottom": null,
            "display": null,
            "flex": null,
            "flex_flow": null,
            "grid_area": null,
            "grid_auto_columns": null,
            "grid_auto_flow": null,
            "grid_auto_rows": null,
            "grid_column": null,
            "grid_gap": null,
            "grid_row": null,
            "grid_template_areas": null,
            "grid_template_columns": null,
            "grid_template_rows": null,
            "height": null,
            "justify_content": null,
            "justify_items": null,
            "left": null,
            "margin": null,
            "max_height": null,
            "max_width": null,
            "min_height": null,
            "min_width": null,
            "object_fit": null,
            "object_position": null,
            "order": null,
            "overflow": null,
            "padding": null,
            "right": null,
            "top": null,
            "visibility": null,
            "width": null
          }
        },
        "5bfe9bf0e29140a7b6f8083384d68fcc": {
          "model_module": "@jupyter-widgets/controls",
          "model_module_version": "2.0.0",
          "model_name": "HTMLModel",
          "state": {
            "_dom_classes": [],
            "_model_module": "@jupyter-widgets/controls",
            "_model_module_version": "2.0.0",
            "_model_name": "HTMLModel",
            "_view_count": null,
            "_view_module": "@jupyter-widgets/controls",
            "_view_module_version": "2.0.0",
            "_view_name": "HTMLView",
            "description": "",
            "description_allow_html": false,
            "layout": "IPY_MODEL_b8546fac93b3483580925a667022fe57",
            "placeholder": "​",
            "style": "IPY_MODEL_15cd1aca254c4d04af61ce6b95eb8e6d",
            "tabbable": null,
            "tooltip": null,
            "value": " 900/900 [00:00&lt;00:00, 6864.37 examples/s]"
          }
        },
        "5f1979facff3458db24f138a73eb5971": {
          "model_module": "@jupyter-widgets/controls",
          "model_module_version": "2.0.0",
          "model_name": "HTMLModel",
          "state": {
            "_dom_classes": [],
            "_model_module": "@jupyter-widgets/controls",
            "_model_module_version": "2.0.0",
            "_model_name": "HTMLModel",
            "_view_count": null,
            "_view_module": "@jupyter-widgets/controls",
            "_view_module_version": "2.0.0",
            "_view_name": "HTMLView",
            "description": "",
            "description_allow_html": false,
            "layout": "IPY_MODEL_5bad58d933c8462683dd1c8c4388e003",
            "placeholder": "​",
            "style": "IPY_MODEL_8d914c9668404cefb5b4af345ff6845c",
            "tabbable": null,
            "tooltip": null,
            "value": " 100/100 [00:00&lt;00:00, 2560.72 examples/s]"
          }
        },
        "6342d7a7dd8b4a5cb8a28f632e876783": {
          "model_module": "@jupyter-widgets/base",
          "model_module_version": "2.0.0",
          "model_name": "LayoutModel",
          "state": {
            "_model_module": "@jupyter-widgets/base",
            "_model_module_version": "2.0.0",
            "_model_name": "LayoutModel",
            "_view_count": null,
            "_view_module": "@jupyter-widgets/base",
            "_view_module_version": "2.0.0",
            "_view_name": "LayoutView",
            "align_content": null,
            "align_items": null,
            "align_self": null,
            "border_bottom": null,
            "border_left": null,
            "border_right": null,
            "border_top": null,
            "bottom": null,
            "display": null,
            "flex": null,
            "flex_flow": null,
            "grid_area": null,
            "grid_auto_columns": null,
            "grid_auto_flow": null,
            "grid_auto_rows": null,
            "grid_column": null,
            "grid_gap": null,
            "grid_row": null,
            "grid_template_areas": null,
            "grid_template_columns": null,
            "grid_template_rows": null,
            "height": null,
            "justify_content": null,
            "justify_items": null,
            "left": null,
            "margin": null,
            "max_height": null,
            "max_width": null,
            "min_height": null,
            "min_width": null,
            "object_fit": null,
            "object_position": null,
            "order": null,
            "overflow": null,
            "padding": null,
            "right": null,
            "top": null,
            "visibility": null,
            "width": null
          }
        },
        "6522f8e5f17249989736cd29b6bc132b": {
          "model_module": "@jupyter-widgets/controls",
          "model_module_version": "2.0.0",
          "model_name": "HTMLModel",
          "state": {
            "_dom_classes": [],
            "_model_module": "@jupyter-widgets/controls",
            "_model_module_version": "2.0.0",
            "_model_name": "HTMLModel",
            "_view_count": null,
            "_view_module": "@jupyter-widgets/controls",
            "_view_module_version": "2.0.0",
            "_view_name": "HTMLView",
            "description": "",
            "description_allow_html": false,
            "layout": "IPY_MODEL_09efeedb09394c4180fba7bffe146e1e",
            "placeholder": "​",
            "style": "IPY_MODEL_d269f977ddd14552aa3b129d124307e8",
            "tabbable": null,
            "tooltip": null,
            "value": "Converting train dataset to ChatML: 100%"
          }
        },
        "65dedc9560c34957b58a325c6ce4c2a0": {
          "model_module": "@jupyter-widgets/base",
          "model_module_version": "2.0.0",
          "model_name": "LayoutModel",
          "state": {
            "_model_module": "@jupyter-widgets/base",
            "_model_module_version": "2.0.0",
            "_model_name": "LayoutModel",
            "_view_count": null,
            "_view_module": "@jupyter-widgets/base",
            "_view_module_version": "2.0.0",
            "_view_name": "LayoutView",
            "align_content": null,
            "align_items": null,
            "align_self": null,
            "border_bottom": null,
            "border_left": null,
            "border_right": null,
            "border_top": null,
            "bottom": null,
            "display": null,
            "flex": null,
            "flex_flow": null,
            "grid_area": null,
            "grid_auto_columns": null,
            "grid_auto_flow": null,
            "grid_auto_rows": null,
            "grid_column": null,
            "grid_gap": null,
            "grid_row": null,
            "grid_template_areas": null,
            "grid_template_columns": null,
            "grid_template_rows": null,
            "height": null,
            "justify_content": null,
            "justify_items": null,
            "left": null,
            "margin": null,
            "max_height": null,
            "max_width": null,
            "min_height": null,
            "min_width": null,
            "object_fit": null,
            "object_position": null,
            "order": null,
            "overflow": null,
            "padding": null,
            "right": null,
            "top": null,
            "visibility": null,
            "width": null
          }
        },
        "6833c1328e144b669e1d90cf1ffe3568": {
          "model_module": "@jupyter-widgets/controls",
          "model_module_version": "2.0.0",
          "model_name": "HBoxModel",
          "state": {
            "_dom_classes": [],
            "_model_module": "@jupyter-widgets/controls",
            "_model_module_version": "2.0.0",
            "_model_name": "HBoxModel",
            "_view_count": null,
            "_view_module": "@jupyter-widgets/controls",
            "_view_module_version": "2.0.0",
            "_view_name": "HBoxView",
            "box_style": "",
            "children": [
              "IPY_MODEL_6522f8e5f17249989736cd29b6bc132b",
              "IPY_MODEL_eb5334a5073544daa3a758663213d9f3",
              "IPY_MODEL_5bfe9bf0e29140a7b6f8083384d68fcc"
            ],
            "layout": "IPY_MODEL_1d960091ba3c4f15916cc4261fc19be9",
            "tabbable": null,
            "tooltip": null
          }
        },
        "698b64e49c6c4c518c83a42fec3edd23": {
          "model_module": "@jupyter-widgets/controls",
          "model_module_version": "2.0.0",
          "model_name": "HBoxModel",
          "state": {
            "_dom_classes": [],
            "_model_module": "@jupyter-widgets/controls",
            "_model_module_version": "2.0.0",
            "_model_name": "HBoxModel",
            "_view_count": null,
            "_view_module": "@jupyter-widgets/controls",
            "_view_module_version": "2.0.0",
            "_view_name": "HBoxView",
            "box_style": "",
            "children": [
              "IPY_MODEL_df56e293872041b4b8f840da201d729d",
              "IPY_MODEL_4f936394332d423985b2ba58c35bb748",
              "IPY_MODEL_9430a761017148bcad6d9ffbe0fb9600"
            ],
            "layout": "IPY_MODEL_c5a684538788484687bb4e4f31c1b7ee",
            "tabbable": null,
            "tooltip": null
          }
        },
        "6ede321fdbc1433e9f18022d58bae3e7": {
          "model_module": "@jupyter-widgets/base",
          "model_module_version": "2.0.0",
          "model_name": "LayoutModel",
          "state": {
            "_model_module": "@jupyter-widgets/base",
            "_model_module_version": "2.0.0",
            "_model_name": "LayoutModel",
            "_view_count": null,
            "_view_module": "@jupyter-widgets/base",
            "_view_module_version": "2.0.0",
            "_view_name": "LayoutView",
            "align_content": null,
            "align_items": null,
            "align_self": null,
            "border_bottom": null,
            "border_left": null,
            "border_right": null,
            "border_top": null,
            "bottom": null,
            "display": null,
            "flex": null,
            "flex_flow": null,
            "grid_area": null,
            "grid_auto_columns": null,
            "grid_auto_flow": null,
            "grid_auto_rows": null,
            "grid_column": null,
            "grid_gap": null,
            "grid_row": null,
            "grid_template_areas": null,
            "grid_template_columns": null,
            "grid_template_rows": null,
            "height": null,
            "justify_content": null,
            "justify_items": null,
            "left": null,
            "margin": null,
            "max_height": null,
            "max_width": null,
            "min_height": null,
            "min_width": null,
            "object_fit": null,
            "object_position": null,
            "order": null,
            "overflow": null,
            "padding": null,
            "right": null,
            "top": null,
            "visibility": null,
            "width": null
          }
        },
        "71281e4b696d446b82efb718d5276ca9": {
          "model_module": "@jupyter-widgets/controls",
          "model_module_version": "2.0.0",
          "model_name": "ProgressStyleModel",
          "state": {
            "_model_module": "@jupyter-widgets/controls",
            "_model_module_version": "2.0.0",
            "_model_name": "ProgressStyleModel",
            "_view_count": null,
            "_view_module": "@jupyter-widgets/base",
            "_view_module_version": "2.0.0",
            "_view_name": "StyleView",
            "bar_color": null,
            "description_width": ""
          }
        },
        "76c1edd3ea04470f94a811b413822839": {
          "model_module": "@jupyter-widgets/controls",
          "model_module_version": "2.0.0",
          "model_name": "HTMLStyleModel",
          "state": {
            "_model_module": "@jupyter-widgets/controls",
            "_model_module_version": "2.0.0",
            "_model_name": "HTMLStyleModel",
            "_view_count": null,
            "_view_module": "@jupyter-widgets/base",
            "_view_module_version": "2.0.0",
            "_view_name": "StyleView",
            "background": null,
            "description_width": "",
            "font_size": null,
            "text_color": null
          }
        },
        "82c39523f04f425d9ab7be94e01a49c9": {
          "model_module": "@jupyter-widgets/controls",
          "model_module_version": "2.0.0",
          "model_name": "HTMLStyleModel",
          "state": {
            "_model_module": "@jupyter-widgets/controls",
            "_model_module_version": "2.0.0",
            "_model_name": "HTMLStyleModel",
            "_view_count": null,
            "_view_module": "@jupyter-widgets/base",
            "_view_module_version": "2.0.0",
            "_view_name": "StyleView",
            "background": null,
            "description_width": "",
            "font_size": null,
            "text_color": null
          }
        },
        "834d89d74215492eb1a4c59204659286": {
          "model_module": "@jupyter-widgets/controls",
          "model_module_version": "2.0.0",
          "model_name": "HBoxModel",
          "state": {
            "_dom_classes": [],
            "_model_module": "@jupyter-widgets/controls",
            "_model_module_version": "2.0.0",
            "_model_name": "HBoxModel",
            "_view_count": null,
            "_view_module": "@jupyter-widgets/controls",
            "_view_module_version": "2.0.0",
            "_view_name": "HBoxView",
            "box_style": "",
            "children": [
              "IPY_MODEL_11e43defcbcc49e7a82e99916b51a84f",
              "IPY_MODEL_e84029191f68447cb9a939124aa920e5",
              "IPY_MODEL_ab7cb6e01486471fbe23ac579dbb3038"
            ],
            "layout": "IPY_MODEL_0c71cebfc82f4e1789fabe6dd6763804",
            "tabbable": null,
            "tooltip": null
          }
        },
        "84ccffddee9543cba53ad8e7404dc530": {
          "model_module": "@jupyter-widgets/controls",
          "model_module_version": "2.0.0",
          "model_name": "FloatProgressModel",
          "state": {
            "_dom_classes": [],
            "_model_module": "@jupyter-widgets/controls",
            "_model_module_version": "2.0.0",
            "_model_name": "FloatProgressModel",
            "_view_count": null,
            "_view_module": "@jupyter-widgets/controls",
            "_view_module_version": "2.0.0",
            "_view_name": "ProgressView",
            "bar_style": "success",
            "description": "",
            "description_allow_html": false,
            "layout": "IPY_MODEL_da54db8bd5144878a4a7295d7bd8b040",
            "max": 900,
            "min": 0,
            "orientation": "horizontal",
            "style": "IPY_MODEL_9d002578180044ea81d9387ea3bc2eee",
            "tabbable": null,
            "tooltip": null,
            "value": 900
          }
        },
        "861914b6909b496b9656f3fbd461e972": {
          "model_module": "@jupyter-widgets/controls",
          "model_module_version": "2.0.0",
          "model_name": "HBoxModel",
          "state": {
            "_dom_classes": [],
            "_model_module": "@jupyter-widgets/controls",
            "_model_module_version": "2.0.0",
            "_model_name": "HBoxModel",
            "_view_count": null,
            "_view_module": "@jupyter-widgets/controls",
            "_view_module_version": "2.0.0",
            "_view_name": "HBoxView",
            "box_style": "",
            "children": [
              "IPY_MODEL_993c4ad5702842b2b905becdee912ab0",
              "IPY_MODEL_84ccffddee9543cba53ad8e7404dc530",
              "IPY_MODEL_20908887ab6c48eb996bb67ffff88cfc"
            ],
            "layout": "IPY_MODEL_426ca7c0f1854fdf98bdaaeff3d7e83d",
            "tabbable": null,
            "tooltip": null
          }
        },
        "8d914c9668404cefb5b4af345ff6845c": {
          "model_module": "@jupyter-widgets/controls",
          "model_module_version": "2.0.0",
          "model_name": "HTMLStyleModel",
          "state": {
            "_model_module": "@jupyter-widgets/controls",
            "_model_module_version": "2.0.0",
            "_model_name": "HTMLStyleModel",
            "_view_count": null,
            "_view_module": "@jupyter-widgets/base",
            "_view_module_version": "2.0.0",
            "_view_name": "StyleView",
            "background": null,
            "description_width": "",
            "font_size": null,
            "text_color": null
          }
        },
        "8f4d9190b4a54691ac4bd47b85c63a1b": {
          "model_module": "@jupyter-widgets/base",
          "model_module_version": "2.0.0",
          "model_name": "LayoutModel",
          "state": {
            "_model_module": "@jupyter-widgets/base",
            "_model_module_version": "2.0.0",
            "_model_name": "LayoutModel",
            "_view_count": null,
            "_view_module": "@jupyter-widgets/base",
            "_view_module_version": "2.0.0",
            "_view_name": "LayoutView",
            "align_content": null,
            "align_items": null,
            "align_self": null,
            "border_bottom": null,
            "border_left": null,
            "border_right": null,
            "border_top": null,
            "bottom": null,
            "display": null,
            "flex": null,
            "flex_flow": null,
            "grid_area": null,
            "grid_auto_columns": null,
            "grid_auto_flow": null,
            "grid_auto_rows": null,
            "grid_column": null,
            "grid_gap": null,
            "grid_row": null,
            "grid_template_areas": null,
            "grid_template_columns": null,
            "grid_template_rows": null,
            "height": null,
            "justify_content": null,
            "justify_items": null,
            "left": null,
            "margin": null,
            "max_height": null,
            "max_width": null,
            "min_height": null,
            "min_width": null,
            "object_fit": null,
            "object_position": null,
            "order": null,
            "overflow": null,
            "padding": null,
            "right": null,
            "top": null,
            "visibility": null,
            "width": null
          }
        },
        "90b3d698eafd4f53bd5d53097059ef7a": {
          "model_module": "@jupyter-widgets/controls",
          "model_module_version": "2.0.0",
          "model_name": "HTMLStyleModel",
          "state": {
            "_model_module": "@jupyter-widgets/controls",
            "_model_module_version": "2.0.0",
            "_model_name": "HTMLStyleModel",
            "_view_count": null,
            "_view_module": "@jupyter-widgets/base",
            "_view_module_version": "2.0.0",
            "_view_name": "StyleView",
            "background": null,
            "description_width": "",
            "font_size": null,
            "text_color": null
          }
        },
        "91e117abcd054b05b1c4115bafef26ad": {
          "model_module": "@jupyter-widgets/base",
          "model_module_version": "2.0.0",
          "model_name": "LayoutModel",
          "state": {
            "_model_module": "@jupyter-widgets/base",
            "_model_module_version": "2.0.0",
            "_model_name": "LayoutModel",
            "_view_count": null,
            "_view_module": "@jupyter-widgets/base",
            "_view_module_version": "2.0.0",
            "_view_name": "LayoutView",
            "align_content": null,
            "align_items": null,
            "align_self": null,
            "border_bottom": null,
            "border_left": null,
            "border_right": null,
            "border_top": null,
            "bottom": null,
            "display": null,
            "flex": null,
            "flex_flow": null,
            "grid_area": null,
            "grid_auto_columns": null,
            "grid_auto_flow": null,
            "grid_auto_rows": null,
            "grid_column": null,
            "grid_gap": null,
            "grid_row": null,
            "grid_template_areas": null,
            "grid_template_columns": null,
            "grid_template_rows": null,
            "height": null,
            "justify_content": null,
            "justify_items": null,
            "left": null,
            "margin": null,
            "max_height": null,
            "max_width": null,
            "min_height": null,
            "min_width": null,
            "object_fit": null,
            "object_position": null,
            "order": null,
            "overflow": null,
            "padding": null,
            "right": null,
            "top": null,
            "visibility": null,
            "width": null
          }
        },
        "92f235cdccde4028be0cb91b76c7918e": {
          "model_module": "@jupyter-widgets/controls",
          "model_module_version": "2.0.0",
          "model_name": "HTMLStyleModel",
          "state": {
            "_model_module": "@jupyter-widgets/controls",
            "_model_module_version": "2.0.0",
            "_model_name": "HTMLStyleModel",
            "_view_count": null,
            "_view_module": "@jupyter-widgets/base",
            "_view_module_version": "2.0.0",
            "_view_name": "StyleView",
            "background": null,
            "description_width": "",
            "font_size": null,
            "text_color": null
          }
        },
        "9430a761017148bcad6d9ffbe0fb9600": {
          "model_module": "@jupyter-widgets/controls",
          "model_module_version": "2.0.0",
          "model_name": "HTMLModel",
          "state": {
            "_dom_classes": [],
            "_model_module": "@jupyter-widgets/controls",
            "_model_module_version": "2.0.0",
            "_model_name": "HTMLModel",
            "_view_count": null,
            "_view_module": "@jupyter-widgets/controls",
            "_view_module_version": "2.0.0",
            "_view_name": "HTMLView",
            "description": "",
            "description_allow_html": false,
            "layout": "IPY_MODEL_65dedc9560c34957b58a325c6ce4c2a0",
            "placeholder": "​",
            "style": "IPY_MODEL_09e9e863d18e4ce8a70d3a171ced3009",
            "tabbable": null,
            "tooltip": null,
            "value": " 900/900 [00:00&lt;00:00, 8450.69 examples/s]"
          }
        },
        "946dc7caee1742f7912137bc8df28394": {
          "model_module": "@jupyter-widgets/controls",
          "model_module_version": "2.0.0",
          "model_name": "ProgressStyleModel",
          "state": {
            "_model_module": "@jupyter-widgets/controls",
            "_model_module_version": "2.0.0",
            "_model_name": "ProgressStyleModel",
            "_view_count": null,
            "_view_module": "@jupyter-widgets/base",
            "_view_module_version": "2.0.0",
            "_view_name": "StyleView",
            "bar_color": null,
            "description_width": ""
          }
        },
        "9810da4dbb154be081ee1461b02876ae": {
          "model_module": "@jupyter-widgets/base",
          "model_module_version": "2.0.0",
          "model_name": "LayoutModel",
          "state": {
            "_model_module": "@jupyter-widgets/base",
            "_model_module_version": "2.0.0",
            "_model_name": "LayoutModel",
            "_view_count": null,
            "_view_module": "@jupyter-widgets/base",
            "_view_module_version": "2.0.0",
            "_view_name": "LayoutView",
            "align_content": null,
            "align_items": null,
            "align_self": null,
            "border_bottom": null,
            "border_left": null,
            "border_right": null,
            "border_top": null,
            "bottom": null,
            "display": null,
            "flex": null,
            "flex_flow": null,
            "grid_area": null,
            "grid_auto_columns": null,
            "grid_auto_flow": null,
            "grid_auto_rows": null,
            "grid_column": null,
            "grid_gap": null,
            "grid_row": null,
            "grid_template_areas": null,
            "grid_template_columns": null,
            "grid_template_rows": null,
            "height": null,
            "justify_content": null,
            "justify_items": null,
            "left": null,
            "margin": null,
            "max_height": null,
            "max_width": null,
            "min_height": null,
            "min_width": null,
            "object_fit": null,
            "object_position": null,
            "order": null,
            "overflow": null,
            "padding": null,
            "right": null,
            "top": null,
            "visibility": null,
            "width": null
          }
        },
        "993c4ad5702842b2b905becdee912ab0": {
          "model_module": "@jupyter-widgets/controls",
          "model_module_version": "2.0.0",
          "model_name": "HTMLModel",
          "state": {
            "_dom_classes": [],
            "_model_module": "@jupyter-widgets/controls",
            "_model_module_version": "2.0.0",
            "_model_name": "HTMLModel",
            "_view_count": null,
            "_view_module": "@jupyter-widgets/controls",
            "_view_module_version": "2.0.0",
            "_view_name": "HTMLView",
            "description": "",
            "description_allow_html": false,
            "layout": "IPY_MODEL_2c7dc9ec4a404253b8f016266ec2a738",
            "placeholder": "​",
            "style": "IPY_MODEL_92f235cdccde4028be0cb91b76c7918e",
            "tabbable": null,
            "tooltip": null,
            "value": "Tokenizing train dataset: 100%"
          }
        },
        "99f6117ae31a442ca095fc6326aa1a31": {
          "model_module": "@jupyter-widgets/controls",
          "model_module_version": "2.0.0",
          "model_name": "ProgressStyleModel",
          "state": {
            "_model_module": "@jupyter-widgets/controls",
            "_model_module_version": "2.0.0",
            "_model_name": "ProgressStyleModel",
            "_view_count": null,
            "_view_module": "@jupyter-widgets/base",
            "_view_module_version": "2.0.0",
            "_view_name": "StyleView",
            "bar_color": null,
            "description_width": ""
          }
        },
        "9d002578180044ea81d9387ea3bc2eee": {
          "model_module": "@jupyter-widgets/controls",
          "model_module_version": "2.0.0",
          "model_name": "ProgressStyleModel",
          "state": {
            "_model_module": "@jupyter-widgets/controls",
            "_model_module_version": "2.0.0",
            "_model_name": "ProgressStyleModel",
            "_view_count": null,
            "_view_module": "@jupyter-widgets/base",
            "_view_module_version": "2.0.0",
            "_view_name": "StyleView",
            "bar_color": null,
            "description_width": ""
          }
        },
        "9d91588687314f49a6ef2b5ede4aa9b2": {
          "model_module": "@jupyter-widgets/controls",
          "model_module_version": "2.0.0",
          "model_name": "FloatProgressModel",
          "state": {
            "_dom_classes": [],
            "_model_module": "@jupyter-widgets/controls",
            "_model_module_version": "2.0.0",
            "_model_name": "FloatProgressModel",
            "_view_count": null,
            "_view_module": "@jupyter-widgets/controls",
            "_view_module_version": "2.0.0",
            "_view_name": "ProgressView",
            "bar_style": "success",
            "description": "",
            "description_allow_html": false,
            "layout": "IPY_MODEL_10c702be23f94f928ca57558c12e1375",
            "max": 100,
            "min": 0,
            "orientation": "horizontal",
            "style": "IPY_MODEL_71281e4b696d446b82efb718d5276ca9",
            "tabbable": null,
            "tooltip": null,
            "value": 100
          }
        },
        "a491640f5f274a7e857a1af312f38c64": {
          "model_module": "@jupyter-widgets/base",
          "model_module_version": "2.0.0",
          "model_name": "LayoutModel",
          "state": {
            "_model_module": "@jupyter-widgets/base",
            "_model_module_version": "2.0.0",
            "_model_name": "LayoutModel",
            "_view_count": null,
            "_view_module": "@jupyter-widgets/base",
            "_view_module_version": "2.0.0",
            "_view_name": "LayoutView",
            "align_content": null,
            "align_items": null,
            "align_self": null,
            "border_bottom": null,
            "border_left": null,
            "border_right": null,
            "border_top": null,
            "bottom": null,
            "display": null,
            "flex": null,
            "flex_flow": null,
            "grid_area": null,
            "grid_auto_columns": null,
            "grid_auto_flow": null,
            "grid_auto_rows": null,
            "grid_column": null,
            "grid_gap": null,
            "grid_row": null,
            "grid_template_areas": null,
            "grid_template_columns": null,
            "grid_template_rows": null,
            "height": null,
            "justify_content": null,
            "justify_items": null,
            "left": null,
            "margin": null,
            "max_height": null,
            "max_width": null,
            "min_height": null,
            "min_width": null,
            "object_fit": null,
            "object_position": null,
            "order": null,
            "overflow": null,
            "padding": null,
            "right": null,
            "top": null,
            "visibility": null,
            "width": null
          }
        },
        "ab7cb6e01486471fbe23ac579dbb3038": {
          "model_module": "@jupyter-widgets/controls",
          "model_module_version": "2.0.0",
          "model_name": "HTMLModel",
          "state": {
            "_dom_classes": [],
            "_model_module": "@jupyter-widgets/controls",
            "_model_module_version": "2.0.0",
            "_model_name": "HTMLModel",
            "_view_count": null,
            "_view_module": "@jupyter-widgets/controls",
            "_view_module_version": "2.0.0",
            "_view_name": "HTMLView",
            "description": "",
            "description_allow_html": false,
            "layout": "IPY_MODEL_2e2ca31a68fc4a2ba18fc08ff1651625",
            "placeholder": "​",
            "style": "IPY_MODEL_4167a063206d4ff5bf05dd646eec1203",
            "tabbable": null,
            "tooltip": null,
            "value": " 100/100 [00:00&lt;00:00, 2591.78 examples/s]"
          }
        },
        "ae3270ed806a491fab0798c0f46f59ee": {
          "model_module": "@jupyter-widgets/controls",
          "model_module_version": "2.0.0",
          "model_name": "HTMLStyleModel",
          "state": {
            "_model_module": "@jupyter-widgets/controls",
            "_model_module_version": "2.0.0",
            "_model_name": "HTMLStyleModel",
            "_view_count": null,
            "_view_module": "@jupyter-widgets/base",
            "_view_module_version": "2.0.0",
            "_view_name": "StyleView",
            "background": null,
            "description_width": "",
            "font_size": null,
            "text_color": null
          }
        },
        "af7b7d023aed45d3bbec8abea9652f0f": {
          "model_module": "@jupyter-widgets/base",
          "model_module_version": "2.0.0",
          "model_name": "LayoutModel",
          "state": {
            "_model_module": "@jupyter-widgets/base",
            "_model_module_version": "2.0.0",
            "_model_name": "LayoutModel",
            "_view_count": null,
            "_view_module": "@jupyter-widgets/base",
            "_view_module_version": "2.0.0",
            "_view_name": "LayoutView",
            "align_content": null,
            "align_items": null,
            "align_self": null,
            "border_bottom": null,
            "border_left": null,
            "border_right": null,
            "border_top": null,
            "bottom": null,
            "display": null,
            "flex": null,
            "flex_flow": null,
            "grid_area": null,
            "grid_auto_columns": null,
            "grid_auto_flow": null,
            "grid_auto_rows": null,
            "grid_column": null,
            "grid_gap": null,
            "grid_row": null,
            "grid_template_areas": null,
            "grid_template_columns": null,
            "grid_template_rows": null,
            "height": null,
            "justify_content": null,
            "justify_items": null,
            "left": null,
            "margin": null,
            "max_height": null,
            "max_width": null,
            "min_height": null,
            "min_width": null,
            "object_fit": null,
            "object_position": null,
            "order": null,
            "overflow": null,
            "padding": null,
            "right": null,
            "top": null,
            "visibility": null,
            "width": null
          }
        },
        "b3b4296d1a304b8cb0eee64cf7716ab0": {
          "model_module": "@jupyter-widgets/base",
          "model_module_version": "2.0.0",
          "model_name": "LayoutModel",
          "state": {
            "_model_module": "@jupyter-widgets/base",
            "_model_module_version": "2.0.0",
            "_model_name": "LayoutModel",
            "_view_count": null,
            "_view_module": "@jupyter-widgets/base",
            "_view_module_version": "2.0.0",
            "_view_name": "LayoutView",
            "align_content": null,
            "align_items": null,
            "align_self": null,
            "border_bottom": null,
            "border_left": null,
            "border_right": null,
            "border_top": null,
            "bottom": null,
            "display": null,
            "flex": null,
            "flex_flow": null,
            "grid_area": null,
            "grid_auto_columns": null,
            "grid_auto_flow": null,
            "grid_auto_rows": null,
            "grid_column": null,
            "grid_gap": null,
            "grid_row": null,
            "grid_template_areas": null,
            "grid_template_columns": null,
            "grid_template_rows": null,
            "height": null,
            "justify_content": null,
            "justify_items": null,
            "left": null,
            "margin": null,
            "max_height": null,
            "max_width": null,
            "min_height": null,
            "min_width": null,
            "object_fit": null,
            "object_position": null,
            "order": null,
            "overflow": null,
            "padding": null,
            "right": null,
            "top": null,
            "visibility": null,
            "width": null
          }
        },
        "b5fbe8eb894740d587058123362f5fb5": {
          "model_module": "@jupyter-widgets/base",
          "model_module_version": "2.0.0",
          "model_name": "LayoutModel",
          "state": {
            "_model_module": "@jupyter-widgets/base",
            "_model_module_version": "2.0.0",
            "_model_name": "LayoutModel",
            "_view_count": null,
            "_view_module": "@jupyter-widgets/base",
            "_view_module_version": "2.0.0",
            "_view_name": "LayoutView",
            "align_content": null,
            "align_items": null,
            "align_self": null,
            "border_bottom": null,
            "border_left": null,
            "border_right": null,
            "border_top": null,
            "bottom": null,
            "display": null,
            "flex": null,
            "flex_flow": null,
            "grid_area": null,
            "grid_auto_columns": null,
            "grid_auto_flow": null,
            "grid_auto_rows": null,
            "grid_column": null,
            "grid_gap": null,
            "grid_row": null,
            "grid_template_areas": null,
            "grid_template_columns": null,
            "grid_template_rows": null,
            "height": null,
            "justify_content": null,
            "justify_items": null,
            "left": null,
            "margin": null,
            "max_height": null,
            "max_width": null,
            "min_height": null,
            "min_width": null,
            "object_fit": null,
            "object_position": null,
            "order": null,
            "overflow": null,
            "padding": null,
            "right": null,
            "top": null,
            "visibility": null,
            "width": null
          }
        },
        "b8546fac93b3483580925a667022fe57": {
          "model_module": "@jupyter-widgets/base",
          "model_module_version": "2.0.0",
          "model_name": "LayoutModel",
          "state": {
            "_model_module": "@jupyter-widgets/base",
            "_model_module_version": "2.0.0",
            "_model_name": "LayoutModel",
            "_view_count": null,
            "_view_module": "@jupyter-widgets/base",
            "_view_module_version": "2.0.0",
            "_view_name": "LayoutView",
            "align_content": null,
            "align_items": null,
            "align_self": null,
            "border_bottom": null,
            "border_left": null,
            "border_right": null,
            "border_top": null,
            "bottom": null,
            "display": null,
            "flex": null,
            "flex_flow": null,
            "grid_area": null,
            "grid_auto_columns": null,
            "grid_auto_flow": null,
            "grid_auto_rows": null,
            "grid_column": null,
            "grid_gap": null,
            "grid_row": null,
            "grid_template_areas": null,
            "grid_template_columns": null,
            "grid_template_rows": null,
            "height": null,
            "justify_content": null,
            "justify_items": null,
            "left": null,
            "margin": null,
            "max_height": null,
            "max_width": null,
            "min_height": null,
            "min_width": null,
            "object_fit": null,
            "object_position": null,
            "order": null,
            "overflow": null,
            "padding": null,
            "right": null,
            "top": null,
            "visibility": null,
            "width": null
          }
        },
        "b9af84fb7b144714af8d423952dafab2": {
          "model_module": "@jupyter-widgets/controls",
          "model_module_version": "2.0.0",
          "model_name": "HBoxModel",
          "state": {
            "_dom_classes": [],
            "_model_module": "@jupyter-widgets/controls",
            "_model_module_version": "2.0.0",
            "_model_name": "HBoxModel",
            "_view_count": null,
            "_view_module": "@jupyter-widgets/controls",
            "_view_module_version": "2.0.0",
            "_view_name": "HBoxView",
            "box_style": "",
            "children": [
              "IPY_MODEL_fe21f3fcba234d8ca760bf99c4b28f0d",
              "IPY_MODEL_fe1b6bd91914496b9b39ba6df13a2cfc",
              "IPY_MODEL_c80ed9e8beab463bbd22b0372e3204ae"
            ],
            "layout": "IPY_MODEL_341383d90d1e486aa2c14f9b6045519f",
            "tabbable": null,
            "tooltip": null
          }
        },
        "bd6b1350a66f42c4b4ffbe345ef6d152": {
          "model_module": "@jupyter-widgets/controls",
          "model_module_version": "2.0.0",
          "model_name": "ProgressStyleModel",
          "state": {
            "_model_module": "@jupyter-widgets/controls",
            "_model_module_version": "2.0.0",
            "_model_name": "ProgressStyleModel",
            "_view_count": null,
            "_view_module": "@jupyter-widgets/base",
            "_view_module_version": "2.0.0",
            "_view_name": "StyleView",
            "bar_color": null,
            "description_width": ""
          }
        },
        "c5a684538788484687bb4e4f31c1b7ee": {
          "model_module": "@jupyter-widgets/base",
          "model_module_version": "2.0.0",
          "model_name": "LayoutModel",
          "state": {
            "_model_module": "@jupyter-widgets/base",
            "_model_module_version": "2.0.0",
            "_model_name": "LayoutModel",
            "_view_count": null,
            "_view_module": "@jupyter-widgets/base",
            "_view_module_version": "2.0.0",
            "_view_name": "LayoutView",
            "align_content": null,
            "align_items": null,
            "align_self": null,
            "border_bottom": null,
            "border_left": null,
            "border_right": null,
            "border_top": null,
            "bottom": null,
            "display": null,
            "flex": null,
            "flex_flow": null,
            "grid_area": null,
            "grid_auto_columns": null,
            "grid_auto_flow": null,
            "grid_auto_rows": null,
            "grid_column": null,
            "grid_gap": null,
            "grid_row": null,
            "grid_template_areas": null,
            "grid_template_columns": null,
            "grid_template_rows": null,
            "height": null,
            "justify_content": null,
            "justify_items": null,
            "left": null,
            "margin": null,
            "max_height": null,
            "max_width": null,
            "min_height": null,
            "min_width": null,
            "object_fit": null,
            "object_position": null,
            "order": null,
            "overflow": null,
            "padding": null,
            "right": null,
            "top": null,
            "visibility": null,
            "width": null
          }
        },
        "c80ed9e8beab463bbd22b0372e3204ae": {
          "model_module": "@jupyter-widgets/controls",
          "model_module_version": "2.0.0",
          "model_name": "HTMLModel",
          "state": {
            "_dom_classes": [],
            "_model_module": "@jupyter-widgets/controls",
            "_model_module_version": "2.0.0",
            "_model_name": "HTMLModel",
            "_view_count": null,
            "_view_module": "@jupyter-widgets/controls",
            "_view_module_version": "2.0.0",
            "_view_name": "HTMLView",
            "description": "",
            "description_allow_html": false,
            "layout": "IPY_MODEL_b3b4296d1a304b8cb0eee64cf7716ab0",
            "placeholder": "​",
            "style": "IPY_MODEL_358bb2f97875479fbb772930223c296c",
            "tabbable": null,
            "tooltip": null,
            "value": " 900/900 [00:00&lt;00:00, 35714.44 examples/s]"
          }
        },
        "caa9ceb3a7fe4389bbe4c9df1b5bfd90": {
          "model_module": "@jupyter-widgets/base",
          "model_module_version": "2.0.0",
          "model_name": "LayoutModel",
          "state": {
            "_model_module": "@jupyter-widgets/base",
            "_model_module_version": "2.0.0",
            "_model_name": "LayoutModel",
            "_view_count": null,
            "_view_module": "@jupyter-widgets/base",
            "_view_module_version": "2.0.0",
            "_view_name": "LayoutView",
            "align_content": null,
            "align_items": null,
            "align_self": null,
            "border_bottom": null,
            "border_left": null,
            "border_right": null,
            "border_top": null,
            "bottom": null,
            "display": null,
            "flex": null,
            "flex_flow": null,
            "grid_area": null,
            "grid_auto_columns": null,
            "grid_auto_flow": null,
            "grid_auto_rows": null,
            "grid_column": null,
            "grid_gap": null,
            "grid_row": null,
            "grid_template_areas": null,
            "grid_template_columns": null,
            "grid_template_rows": null,
            "height": null,
            "justify_content": null,
            "justify_items": null,
            "left": null,
            "margin": null,
            "max_height": null,
            "max_width": null,
            "min_height": null,
            "min_width": null,
            "object_fit": null,
            "object_position": null,
            "order": null,
            "overflow": null,
            "padding": null,
            "right": null,
            "top": null,
            "visibility": null,
            "width": null
          }
        },
        "cfa3e9c1dcd048dda2117464d5d18345": {
          "model_module": "@jupyter-widgets/base",
          "model_module_version": "2.0.0",
          "model_name": "LayoutModel",
          "state": {
            "_model_module": "@jupyter-widgets/base",
            "_model_module_version": "2.0.0",
            "_model_name": "LayoutModel",
            "_view_count": null,
            "_view_module": "@jupyter-widgets/base",
            "_view_module_version": "2.0.0",
            "_view_name": "LayoutView",
            "align_content": null,
            "align_items": null,
            "align_self": null,
            "border_bottom": null,
            "border_left": null,
            "border_right": null,
            "border_top": null,
            "bottom": null,
            "display": null,
            "flex": null,
            "flex_flow": null,
            "grid_area": null,
            "grid_auto_columns": null,
            "grid_auto_flow": null,
            "grid_auto_rows": null,
            "grid_column": null,
            "grid_gap": null,
            "grid_row": null,
            "grid_template_areas": null,
            "grid_template_columns": null,
            "grid_template_rows": null,
            "height": null,
            "justify_content": null,
            "justify_items": null,
            "left": null,
            "margin": null,
            "max_height": null,
            "max_width": null,
            "min_height": null,
            "min_width": null,
            "object_fit": null,
            "object_position": null,
            "order": null,
            "overflow": null,
            "padding": null,
            "right": null,
            "top": null,
            "visibility": null,
            "width": null
          }
        },
        "d269f977ddd14552aa3b129d124307e8": {
          "model_module": "@jupyter-widgets/controls",
          "model_module_version": "2.0.0",
          "model_name": "HTMLStyleModel",
          "state": {
            "_model_module": "@jupyter-widgets/controls",
            "_model_module_version": "2.0.0",
            "_model_name": "HTMLStyleModel",
            "_view_count": null,
            "_view_module": "@jupyter-widgets/base",
            "_view_module_version": "2.0.0",
            "_view_name": "StyleView",
            "background": null,
            "description_width": "",
            "font_size": null,
            "text_color": null
          }
        },
        "d6d8f82373d74516a598bdb39a847a4d": {
          "model_module": "@jupyter-widgets/controls",
          "model_module_version": "2.0.0",
          "model_name": "HTMLModel",
          "state": {
            "_dom_classes": [],
            "_model_module": "@jupyter-widgets/controls",
            "_model_module_version": "2.0.0",
            "_model_name": "HTMLModel",
            "_view_count": null,
            "_view_module": "@jupyter-widgets/controls",
            "_view_module_version": "2.0.0",
            "_view_name": "HTMLView",
            "description": "",
            "description_allow_html": false,
            "layout": "IPY_MODEL_8f4d9190b4a54691ac4bd47b85c63a1b",
            "placeholder": "​",
            "style": "IPY_MODEL_1d30346abb3347d480093bb96efdfead",
            "tabbable": null,
            "tooltip": null,
            "value": "Converting eval dataset to ChatML: 100%"
          }
        },
        "d845faa64d204929a6c7fb72f34dc5f8": {
          "model_module": "@jupyter-widgets/base",
          "model_module_version": "2.0.0",
          "model_name": "LayoutModel",
          "state": {
            "_model_module": "@jupyter-widgets/base",
            "_model_module_version": "2.0.0",
            "_model_name": "LayoutModel",
            "_view_count": null,
            "_view_module": "@jupyter-widgets/base",
            "_view_module_version": "2.0.0",
            "_view_name": "LayoutView",
            "align_content": null,
            "align_items": null,
            "align_self": null,
            "border_bottom": null,
            "border_left": null,
            "border_right": null,
            "border_top": null,
            "bottom": null,
            "display": null,
            "flex": null,
            "flex_flow": null,
            "grid_area": null,
            "grid_auto_columns": null,
            "grid_auto_flow": null,
            "grid_auto_rows": null,
            "grid_column": null,
            "grid_gap": null,
            "grid_row": null,
            "grid_template_areas": null,
            "grid_template_columns": null,
            "grid_template_rows": null,
            "height": null,
            "justify_content": null,
            "justify_items": null,
            "left": null,
            "margin": null,
            "max_height": null,
            "max_width": null,
            "min_height": null,
            "min_width": null,
            "object_fit": null,
            "object_position": null,
            "order": null,
            "overflow": null,
            "padding": null,
            "right": null,
            "top": null,
            "visibility": null,
            "width": null
          }
        },
        "da54db8bd5144878a4a7295d7bd8b040": {
          "model_module": "@jupyter-widgets/base",
          "model_module_version": "2.0.0",
          "model_name": "LayoutModel",
          "state": {
            "_model_module": "@jupyter-widgets/base",
            "_model_module_version": "2.0.0",
            "_model_name": "LayoutModel",
            "_view_count": null,
            "_view_module": "@jupyter-widgets/base",
            "_view_module_version": "2.0.0",
            "_view_name": "LayoutView",
            "align_content": null,
            "align_items": null,
            "align_self": null,
            "border_bottom": null,
            "border_left": null,
            "border_right": null,
            "border_top": null,
            "bottom": null,
            "display": null,
            "flex": null,
            "flex_flow": null,
            "grid_area": null,
            "grid_auto_columns": null,
            "grid_auto_flow": null,
            "grid_auto_rows": null,
            "grid_column": null,
            "grid_gap": null,
            "grid_row": null,
            "grid_template_areas": null,
            "grid_template_columns": null,
            "grid_template_rows": null,
            "height": null,
            "justify_content": null,
            "justify_items": null,
            "left": null,
            "margin": null,
            "max_height": null,
            "max_width": null,
            "min_height": null,
            "min_width": null,
            "object_fit": null,
            "object_position": null,
            "order": null,
            "overflow": null,
            "padding": null,
            "right": null,
            "top": null,
            "visibility": null,
            "width": null
          }
        },
        "de3578e661de4b2ca546e0d402e28ed6": {
          "model_module": "@jupyter-widgets/controls",
          "model_module_version": "2.0.0",
          "model_name": "ProgressStyleModel",
          "state": {
            "_model_module": "@jupyter-widgets/controls",
            "_model_module_version": "2.0.0",
            "_model_name": "ProgressStyleModel",
            "_view_count": null,
            "_view_module": "@jupyter-widgets/base",
            "_view_module_version": "2.0.0",
            "_view_name": "StyleView",
            "bar_color": null,
            "description_width": ""
          }
        },
        "deb9249766d843e1be78b46a3cbc22d7": {
          "model_module": "@jupyter-widgets/controls",
          "model_module_version": "2.0.0",
          "model_name": "FloatProgressModel",
          "state": {
            "_dom_classes": [],
            "_model_module": "@jupyter-widgets/controls",
            "_model_module_version": "2.0.0",
            "_model_name": "FloatProgressModel",
            "_view_count": null,
            "_view_module": "@jupyter-widgets/controls",
            "_view_module_version": "2.0.0",
            "_view_name": "ProgressView",
            "bar_style": "success",
            "description": "",
            "description_allow_html": false,
            "layout": "IPY_MODEL_fc66938ccbce4f4f9b4913c339931643",
            "max": 100,
            "min": 0,
            "orientation": "horizontal",
            "style": "IPY_MODEL_bd6b1350a66f42c4b4ffbe345ef6d152",
            "tabbable": null,
            "tooltip": null,
            "value": 100
          }
        },
        "dec0d6141f4645b49d4104d239d1717e": {
          "model_module": "@jupyter-widgets/controls",
          "model_module_version": "2.0.0",
          "model_name": "HBoxModel",
          "state": {
            "_dom_classes": [],
            "_model_module": "@jupyter-widgets/controls",
            "_model_module_version": "2.0.0",
            "_model_name": "HBoxModel",
            "_view_count": null,
            "_view_module": "@jupyter-widgets/controls",
            "_view_module_version": "2.0.0",
            "_view_name": "HBoxView",
            "box_style": "",
            "children": [
              "IPY_MODEL_d6d8f82373d74516a598bdb39a847a4d",
              "IPY_MODEL_e6803af8224a4006a1affb70333fc0b6",
              "IPY_MODEL_5f1979facff3458db24f138a73eb5971"
            ],
            "layout": "IPY_MODEL_48132038e5084c7fae293351fccc04c3",
            "tabbable": null,
            "tooltip": null
          }
        },
        "df56e293872041b4b8f840da201d729d": {
          "model_module": "@jupyter-widgets/controls",
          "model_module_version": "2.0.0",
          "model_name": "HTMLModel",
          "state": {
            "_dom_classes": [],
            "_model_module": "@jupyter-widgets/controls",
            "_model_module_version": "2.0.0",
            "_model_name": "HTMLModel",
            "_view_count": null,
            "_view_module": "@jupyter-widgets/controls",
            "_view_module_version": "2.0.0",
            "_view_name": "HTMLView",
            "description": "",
            "description_allow_html": false,
            "layout": "IPY_MODEL_479639a12e88465494247e41922dccf8",
            "placeholder": "​",
            "style": "IPY_MODEL_76c1edd3ea04470f94a811b413822839",
            "tabbable": null,
            "tooltip": null,
            "value": "Adding EOS to train dataset: 100%"
          }
        },
        "e6803af8224a4006a1affb70333fc0b6": {
          "model_module": "@jupyter-widgets/controls",
          "model_module_version": "2.0.0",
          "model_name": "FloatProgressModel",
          "state": {
            "_dom_classes": [],
            "_model_module": "@jupyter-widgets/controls",
            "_model_module_version": "2.0.0",
            "_model_name": "FloatProgressModel",
            "_view_count": null,
            "_view_module": "@jupyter-widgets/controls",
            "_view_module_version": "2.0.0",
            "_view_name": "ProgressView",
            "bar_style": "success",
            "description": "",
            "description_allow_html": false,
            "layout": "IPY_MODEL_6342d7a7dd8b4a5cb8a28f632e876783",
            "max": 100,
            "min": 0,
            "orientation": "horizontal",
            "style": "IPY_MODEL_99f6117ae31a442ca095fc6326aa1a31",
            "tabbable": null,
            "tooltip": null,
            "value": 100
          }
        },
        "e8344fd6778a42c0914aee114ee2f9a2": {
          "model_module": "@jupyter-widgets/controls",
          "model_module_version": "2.0.0",
          "model_name": "HTMLModel",
          "state": {
            "_dom_classes": [],
            "_model_module": "@jupyter-widgets/controls",
            "_model_module_version": "2.0.0",
            "_model_name": "HTMLModel",
            "_view_count": null,
            "_view_module": "@jupyter-widgets/controls",
            "_view_module_version": "2.0.0",
            "_view_name": "HTMLView",
            "description": "",
            "description_allow_html": false,
            "layout": "IPY_MODEL_cfa3e9c1dcd048dda2117464d5d18345",
            "placeholder": "​",
            "style": "IPY_MODEL_f939fcf3c1634690a5f6d8a9e03454af",
            "tabbable": null,
            "tooltip": null,
            "value": "Adding EOS to eval dataset: 100%"
          }
        },
        "e84029191f68447cb9a939124aa920e5": {
          "model_module": "@jupyter-widgets/controls",
          "model_module_version": "2.0.0",
          "model_name": "FloatProgressModel",
          "state": {
            "_dom_classes": [],
            "_model_module": "@jupyter-widgets/controls",
            "_model_module_version": "2.0.0",
            "_model_name": "FloatProgressModel",
            "_view_count": null,
            "_view_module": "@jupyter-widgets/controls",
            "_view_module_version": "2.0.0",
            "_view_name": "ProgressView",
            "bar_style": "success",
            "description": "",
            "description_allow_html": false,
            "layout": "IPY_MODEL_caa9ceb3a7fe4389bbe4c9df1b5bfd90",
            "max": 100,
            "min": 0,
            "orientation": "horizontal",
            "style": "IPY_MODEL_de3578e661de4b2ca546e0d402e28ed6",
            "tabbable": null,
            "tooltip": null,
            "value": 100
          }
        },
        "e911c066740c496099352af805791f03": {
          "model_module": "@jupyter-widgets/controls",
          "model_module_version": "2.0.0",
          "model_name": "HTMLModel",
          "state": {
            "_dom_classes": [],
            "_model_module": "@jupyter-widgets/controls",
            "_model_module_version": "2.0.0",
            "_model_name": "HTMLModel",
            "_view_count": null,
            "_view_module": "@jupyter-widgets/controls",
            "_view_module_version": "2.0.0",
            "_view_name": "HTMLView",
            "description": "",
            "description_allow_html": false,
            "layout": "IPY_MODEL_f1da9125799d4e06bcce5b1dd57c0ceb",
            "placeholder": "​",
            "style": "IPY_MODEL_460df01ff2ad406d82f83dc7ce360efa",
            "tabbable": null,
            "tooltip": null,
            "value": " 100/100 [00:00&lt;00:00, 679.01 examples/s]"
          }
        },
        "e92c9817e77d4dcfb03855172b7bd94a": {
          "model_module": "@jupyter-widgets/controls",
          "model_module_version": "2.0.0",
          "model_name": "HBoxModel",
          "state": {
            "_dom_classes": [],
            "_model_module": "@jupyter-widgets/controls",
            "_model_module_version": "2.0.0",
            "_model_name": "HBoxModel",
            "_view_count": null,
            "_view_module": "@jupyter-widgets/controls",
            "_view_module_version": "2.0.0",
            "_view_name": "HBoxView",
            "box_style": "",
            "children": [
              "IPY_MODEL_e8344fd6778a42c0914aee114ee2f9a2",
              "IPY_MODEL_9d91588687314f49a6ef2b5ede4aa9b2",
              "IPY_MODEL_14bf7a31dbea4a178e149b9487b4a74f"
            ],
            "layout": "IPY_MODEL_146787b74e5e4aa1931bfc376b58c917",
            "tabbable": null,
            "tooltip": null
          }
        },
        "eb5334a5073544daa3a758663213d9f3": {
          "model_module": "@jupyter-widgets/controls",
          "model_module_version": "2.0.0",
          "model_name": "FloatProgressModel",
          "state": {
            "_dom_classes": [],
            "_model_module": "@jupyter-widgets/controls",
            "_model_module_version": "2.0.0",
            "_model_name": "FloatProgressModel",
            "_view_count": null,
            "_view_module": "@jupyter-widgets/controls",
            "_view_module_version": "2.0.0",
            "_view_name": "ProgressView",
            "bar_style": "success",
            "description": "",
            "description_allow_html": false,
            "layout": "IPY_MODEL_d845faa64d204929a6c7fb72f34dc5f8",
            "max": 900,
            "min": 0,
            "orientation": "horizontal",
            "style": "IPY_MODEL_946dc7caee1742f7912137bc8df28394",
            "tabbable": null,
            "tooltip": null,
            "value": 900
          }
        },
        "ee255a420a704270a3a29811b9ab69f3": {
          "model_module": "@jupyter-widgets/controls",
          "model_module_version": "2.0.0",
          "model_name": "ProgressStyleModel",
          "state": {
            "_model_module": "@jupyter-widgets/controls",
            "_model_module_version": "2.0.0",
            "_model_name": "ProgressStyleModel",
            "_view_count": null,
            "_view_module": "@jupyter-widgets/base",
            "_view_module_version": "2.0.0",
            "_view_name": "StyleView",
            "bar_color": null,
            "description_width": ""
          }
        },
        "f1da9125799d4e06bcce5b1dd57c0ceb": {
          "model_module": "@jupyter-widgets/base",
          "model_module_version": "2.0.0",
          "model_name": "LayoutModel",
          "state": {
            "_model_module": "@jupyter-widgets/base",
            "_model_module_version": "2.0.0",
            "_model_name": "LayoutModel",
            "_view_count": null,
            "_view_module": "@jupyter-widgets/base",
            "_view_module_version": "2.0.0",
            "_view_name": "LayoutView",
            "align_content": null,
            "align_items": null,
            "align_self": null,
            "border_bottom": null,
            "border_left": null,
            "border_right": null,
            "border_top": null,
            "bottom": null,
            "display": null,
            "flex": null,
            "flex_flow": null,
            "grid_area": null,
            "grid_auto_columns": null,
            "grid_auto_flow": null,
            "grid_auto_rows": null,
            "grid_column": null,
            "grid_gap": null,
            "grid_row": null,
            "grid_template_areas": null,
            "grid_template_columns": null,
            "grid_template_rows": null,
            "height": null,
            "justify_content": null,
            "justify_items": null,
            "left": null,
            "margin": null,
            "max_height": null,
            "max_width": null,
            "min_height": null,
            "min_width": null,
            "object_fit": null,
            "object_position": null,
            "order": null,
            "overflow": null,
            "padding": null,
            "right": null,
            "top": null,
            "visibility": null,
            "width": null
          }
        },
        "f939fcf3c1634690a5f6d8a9e03454af": {
          "model_module": "@jupyter-widgets/controls",
          "model_module_version": "2.0.0",
          "model_name": "HTMLStyleModel",
          "state": {
            "_model_module": "@jupyter-widgets/controls",
            "_model_module_version": "2.0.0",
            "_model_name": "HTMLStyleModel",
            "_view_count": null,
            "_view_module": "@jupyter-widgets/base",
            "_view_module_version": "2.0.0",
            "_view_name": "StyleView",
            "background": null,
            "description_width": "",
            "font_size": null,
            "text_color": null
          }
        },
        "fc66938ccbce4f4f9b4913c339931643": {
          "model_module": "@jupyter-widgets/base",
          "model_module_version": "2.0.0",
          "model_name": "LayoutModel",
          "state": {
            "_model_module": "@jupyter-widgets/base",
            "_model_module_version": "2.0.0",
            "_model_name": "LayoutModel",
            "_view_count": null,
            "_view_module": "@jupyter-widgets/base",
            "_view_module_version": "2.0.0",
            "_view_name": "LayoutView",
            "align_content": null,
            "align_items": null,
            "align_self": null,
            "border_bottom": null,
            "border_left": null,
            "border_right": null,
            "border_top": null,
            "bottom": null,
            "display": null,
            "flex": null,
            "flex_flow": null,
            "grid_area": null,
            "grid_auto_columns": null,
            "grid_auto_flow": null,
            "grid_auto_rows": null,
            "grid_column": null,
            "grid_gap": null,
            "grid_row": null,
            "grid_template_areas": null,
            "grid_template_columns": null,
            "grid_template_rows": null,
            "height": null,
            "justify_content": null,
            "justify_items": null,
            "left": null,
            "margin": null,
            "max_height": null,
            "max_width": null,
            "min_height": null,
            "min_width": null,
            "object_fit": null,
            "object_position": null,
            "order": null,
            "overflow": null,
            "padding": null,
            "right": null,
            "top": null,
            "visibility": null,
            "width": null
          }
        },
        "fe1b6bd91914496b9b39ba6df13a2cfc": {
          "model_module": "@jupyter-widgets/controls",
          "model_module_version": "2.0.0",
          "model_name": "FloatProgressModel",
          "state": {
            "_dom_classes": [],
            "_model_module": "@jupyter-widgets/controls",
            "_model_module_version": "2.0.0",
            "_model_name": "FloatProgressModel",
            "_view_count": null,
            "_view_module": "@jupyter-widgets/controls",
            "_view_module_version": "2.0.0",
            "_view_name": "ProgressView",
            "bar_style": "success",
            "description": "",
            "description_allow_html": false,
            "layout": "IPY_MODEL_b5fbe8eb894740d587058123362f5fb5",
            "max": 900,
            "min": 0,
            "orientation": "horizontal",
            "style": "IPY_MODEL_59629b7e0f78413b9798c8d70ce9856a",
            "tabbable": null,
            "tooltip": null,
            "value": 900
          }
        },
        "fe21f3fcba234d8ca760bf99c4b28f0d": {
          "model_module": "@jupyter-widgets/controls",
          "model_module_version": "2.0.0",
          "model_name": "HTMLModel",
          "state": {
            "_dom_classes": [],
            "_model_module": "@jupyter-widgets/controls",
            "_model_module_version": "2.0.0",
            "_model_name": "HTMLModel",
            "_view_count": null,
            "_view_module": "@jupyter-widgets/controls",
            "_view_module_version": "2.0.0",
            "_view_name": "HTMLView",
            "description": "",
            "description_allow_html": false,
            "layout": "IPY_MODEL_a491640f5f274a7e857a1af312f38c64",
            "placeholder": "​",
            "style": "IPY_MODEL_1b8090ee968847b29a348c6bd8893bd6",
            "tabbable": null,
            "tooltip": null,
            "value": "Truncating train dataset: 100%"
          }
        }
      }
    }
  },
  "nbformat": 4,
  "nbformat_minor": 0
}
