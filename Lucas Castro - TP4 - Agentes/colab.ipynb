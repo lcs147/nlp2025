{
  "cells": [
    {
      "cell_type": "markdown",
      "source": [
        "# Setup do Ambiente"
      ],
      "metadata": {
        "id": "UVFSMf14ku7o"
      },
      "id": "UVFSMf14ku7o"
    },
    {
      "cell_type": "code",
      "execution_count": 1,
      "id": "95b20970",
      "metadata": {
        "colab": {
          "base_uri": "https://localhost:8080/"
        },
        "collapsed": true,
        "id": "95b20970",
        "outputId": "699aa715-9b50-43a9-c8e8-571b1b48cf44"
      },
      "outputs": [
        {
          "output_type": "stream",
          "name": "stdout",
          "text": [
            "Collecting crewai\n",
            "  Downloading crewai-0.150.0-py3-none-any.whl.metadata (35 kB)\n",
            "Collecting crewai_tools\n",
            "  Downloading crewai_tools-0.58.0-py3-none-any.whl.metadata (10 kB)\n",
            "Collecting appdirs>=1.4.4 (from crewai)\n",
            "  Downloading appdirs-1.4.4-py2.py3-none-any.whl.metadata (9.0 kB)\n",
            "Requirement already satisfied: blinker>=1.9.0 in /usr/local/lib/python3.11/dist-packages (from crewai) (1.9.0)\n",
            "Collecting chromadb>=0.5.23 (from crewai)\n",
            "  Downloading chromadb-1.0.15-cp39-abi3-manylinux_2_17_x86_64.manylinux2014_x86_64.whl.metadata (7.0 kB)\n",
            "Requirement already satisfied: click>=8.1.7 in /usr/local/lib/python3.11/dist-packages (from crewai) (8.2.1)\n",
            "Collecting instructor>=1.3.3 (from crewai)\n",
            "  Downloading instructor-1.10.0-py3-none-any.whl.metadata (11 kB)\n",
            "Collecting json-repair==0.25.2 (from crewai)\n",
            "  Downloading json_repair-0.25.2-py3-none-any.whl.metadata (7.9 kB)\n",
            "Collecting json5>=0.10.0 (from crewai)\n",
            "  Downloading json5-0.12.0-py3-none-any.whl.metadata (36 kB)\n",
            "Collecting jsonref>=1.1.0 (from crewai)\n",
            "  Downloading jsonref-1.1.0-py3-none-any.whl.metadata (2.7 kB)\n",
            "Collecting litellm==1.74.3 (from crewai)\n",
            "  Downloading litellm-1.74.3-py3-none-any.whl.metadata (40 kB)\n",
            "\u001b[2K     \u001b[90m━━━━━━━━━━━━━━━━━━━━━━━━━━━━━━━━━━━━━━━━\u001b[0m \u001b[32m40.3/40.3 kB\u001b[0m \u001b[31m1.8 MB/s\u001b[0m eta \u001b[36m0:00:00\u001b[0m\n",
            "\u001b[?25hCollecting onnxruntime==1.22.0 (from crewai)\n",
            "  Downloading onnxruntime-1.22.0-cp311-cp311-manylinux_2_27_x86_64.manylinux_2_28_x86_64.whl.metadata (4.5 kB)\n",
            "Requirement already satisfied: openai>=1.13.3 in /usr/local/lib/python3.11/dist-packages (from crewai) (1.97.1)\n",
            "Requirement already satisfied: openpyxl>=3.1.5 in /usr/local/lib/python3.11/dist-packages (from crewai) (3.1.5)\n",
            "Collecting opentelemetry-api>=1.30.0 (from crewai)\n",
            "  Downloading opentelemetry_api-1.35.0-py3-none-any.whl.metadata (1.5 kB)\n",
            "Collecting opentelemetry-exporter-otlp-proto-http>=1.30.0 (from crewai)\n",
            "  Downloading opentelemetry_exporter_otlp_proto_http-1.35.0-py3-none-any.whl.metadata (2.3 kB)\n",
            "Collecting opentelemetry-sdk>=1.30.0 (from crewai)\n",
            "  Downloading opentelemetry_sdk-1.35.0-py3-none-any.whl.metadata (1.5 kB)\n",
            "Collecting pdfplumber>=0.11.4 (from crewai)\n",
            "  Downloading pdfplumber-0.11.7-py3-none-any.whl.metadata (42 kB)\n",
            "\u001b[2K     \u001b[90m━━━━━━━━━━━━━━━━━━━━━━━━━━━━━━━━━━━━━━━━\u001b[0m \u001b[32m42.8/42.8 kB\u001b[0m \u001b[31m2.4 MB/s\u001b[0m eta \u001b[36m0:00:00\u001b[0m\n",
            "\u001b[?25hCollecting portalocker==2.7.0 (from crewai)\n",
            "  Downloading portalocker-2.7.0-py2.py3-none-any.whl.metadata (6.8 kB)\n",
            "Requirement already satisfied: pydantic>=2.4.2 in /usr/local/lib/python3.11/dist-packages (from crewai) (2.11.7)\n",
            "Requirement already satisfied: pyjwt>=2.9.0 in /usr/local/lib/python3.11/dist-packages (from crewai) (2.10.1)\n",
            "Collecting python-dotenv>=1.0.0 (from crewai)\n",
            "  Downloading python_dotenv-1.1.1-py3-none-any.whl.metadata (24 kB)\n",
            "Collecting pyvis>=0.3.2 (from crewai)\n",
            "  Downloading pyvis-0.3.2-py3-none-any.whl.metadata (1.7 kB)\n",
            "Requirement already satisfied: regex>=2024.9.11 in /usr/local/lib/python3.11/dist-packages (from crewai) (2024.11.6)\n",
            "Requirement already satisfied: tokenizers>=0.20.3 in /usr/local/lib/python3.11/dist-packages (from crewai) (0.21.2)\n",
            "Collecting tomli-w>=1.1.0 (from crewai)\n",
            "  Downloading tomli_w-1.2.0-py3-none-any.whl.metadata (5.7 kB)\n",
            "Collecting tomli>=2.0.2 (from crewai)\n",
            "  Downloading tomli-2.2.1-cp311-cp311-manylinux_2_17_x86_64.manylinux2014_x86_64.whl.metadata (11 kB)\n",
            "Collecting uv>=0.4.25 (from crewai)\n",
            "  Downloading uv-0.8.3-py3-none-manylinux_2_17_x86_64.manylinux2014_x86_64.whl.metadata (11 kB)\n",
            "Requirement already satisfied: aiohttp>=3.10 in /usr/local/lib/python3.11/dist-packages (from litellm==1.74.3->crewai) (3.12.14)\n",
            "Requirement already satisfied: httpx>=0.23.0 in /usr/local/lib/python3.11/dist-packages (from litellm==1.74.3->crewai) (0.28.1)\n",
            "Requirement already satisfied: importlib-metadata>=6.8.0 in /usr/local/lib/python3.11/dist-packages (from litellm==1.74.3->crewai) (8.7.0)\n",
            "Requirement already satisfied: jinja2<4.0.0,>=3.1.2 in /usr/local/lib/python3.11/dist-packages (from litellm==1.74.3->crewai) (3.1.6)\n",
            "Requirement already satisfied: jsonschema<5.0.0,>=4.22.0 in /usr/local/lib/python3.11/dist-packages (from litellm==1.74.3->crewai) (4.25.0)\n",
            "Requirement already satisfied: tiktoken>=0.7.0 in /usr/local/lib/python3.11/dist-packages (from litellm==1.74.3->crewai) (0.9.0)\n",
            "Collecting coloredlogs (from onnxruntime==1.22.0->crewai)\n",
            "  Downloading coloredlogs-15.0.1-py2.py3-none-any.whl.metadata (12 kB)\n",
            "Requirement already satisfied: flatbuffers in /usr/local/lib/python3.11/dist-packages (from onnxruntime==1.22.0->crewai) (25.2.10)\n",
            "Requirement already satisfied: numpy>=1.21.6 in /usr/local/lib/python3.11/dist-packages (from onnxruntime==1.22.0->crewai) (2.0.2)\n",
            "Requirement already satisfied: packaging in /usr/local/lib/python3.11/dist-packages (from onnxruntime==1.22.0->crewai) (25.0)\n",
            "Requirement already satisfied: protobuf in /usr/local/lib/python3.11/dist-packages (from onnxruntime==1.22.0->crewai) (5.29.5)\n",
            "Requirement already satisfied: sympy in /usr/local/lib/python3.11/dist-packages (from onnxruntime==1.22.0->crewai) (1.13.1)\n",
            "Collecting chromadb>=0.5.23 (from crewai)\n",
            "  Downloading chromadb-0.5.23-py3-none-any.whl.metadata (6.8 kB)\n",
            "Collecting docker>=7.1.0 (from crewai_tools)\n",
            "  Downloading docker-7.1.0-py3-none-any.whl.metadata (3.8 kB)\n",
            "Collecting embedchain>=0.1.114 (from crewai_tools)\n",
            "  Downloading embedchain-0.1.128-py3-none-any.whl.metadata (9.2 kB)\n",
            "Collecting lancedb>=0.5.4 (from crewai_tools)\n",
            "  Downloading lancedb-0.24.2-cp39-abi3-manylinux_2_28_x86_64.whl.metadata (4.4 kB)\n",
            "Collecting pyright>=1.1.350 (from crewai_tools)\n",
            "  Downloading pyright-1.1.403-py3-none-any.whl.metadata (6.6 kB)\n",
            "Collecting pytube>=15.0.0 (from crewai_tools)\n",
            "  Downloading pytube-15.0.0-py3-none-any.whl.metadata (5.0 kB)\n",
            "Requirement already satisfied: requests>=2.31.0 in /usr/local/lib/python3.11/dist-packages (from crewai_tools) (2.32.3)\n",
            "Collecting stagehand>=0.4.1 (from crewai_tools)\n",
            "  Downloading stagehand-0.4.1-py3-none-any.whl.metadata (9.1 kB)\n",
            "Requirement already satisfied: build>=1.0.3 in /usr/local/lib/python3.11/dist-packages (from chromadb>=0.5.23->crewai) (1.2.2.post1)\n",
            "Collecting chroma-hnswlib==0.7.6 (from chromadb>=0.5.23->crewai)\n",
            "  Downloading chroma_hnswlib-0.7.6-cp311-cp311-manylinux_2_17_x86_64.manylinux2014_x86_64.whl.metadata (252 bytes)\n",
            "Requirement already satisfied: fastapi>=0.95.2 in /usr/local/lib/python3.11/dist-packages (from chromadb>=0.5.23->crewai) (0.116.1)\n",
            "Requirement already satisfied: uvicorn>=0.18.3 in /usr/local/lib/python3.11/dist-packages (from uvicorn[standard]>=0.18.3->chromadb>=0.5.23->crewai) (0.35.0)\n",
            "Collecting posthog>=2.4.0 (from chromadb>=0.5.23->crewai)\n",
            "  Downloading posthog-6.3.1-py3-none-any.whl.metadata (6.0 kB)\n",
            "Requirement already satisfied: typing_extensions>=4.5.0 in /usr/local/lib/python3.11/dist-packages (from chromadb>=0.5.23->crewai) (4.14.1)\n",
            "Collecting opentelemetry-exporter-otlp-proto-grpc>=1.2.0 (from chromadb>=0.5.23->crewai)\n",
            "  Downloading opentelemetry_exporter_otlp_proto_grpc-1.35.0-py3-none-any.whl.metadata (2.4 kB)\n",
            "Collecting opentelemetry-instrumentation-fastapi>=0.41b0 (from chromadb>=0.5.23->crewai)\n",
            "  Downloading opentelemetry_instrumentation_fastapi-0.56b0-py3-none-any.whl.metadata (2.2 kB)\n",
            "Collecting tokenizers>=0.20.3 (from crewai)\n",
            "  Downloading tokenizers-0.20.3-cp311-cp311-manylinux_2_17_x86_64.manylinux2014_x86_64.whl.metadata (6.7 kB)\n",
            "Collecting pypika>=0.48.9 (from chromadb>=0.5.23->crewai)\n",
            "  Downloading PyPika-0.48.9.tar.gz (67 kB)\n",
            "\u001b[2K     \u001b[90m━━━━━━━━━━━━━━━━━━━━━━━━━━━━━━━━━━━━━━━━\u001b[0m \u001b[32m67.3/67.3 kB\u001b[0m \u001b[31m5.0 MB/s\u001b[0m eta \u001b[36m0:00:00\u001b[0m\n",
            "\u001b[?25h  Installing build dependencies ... \u001b[?25l\u001b[?25hdone\n",
            "  Getting requirements to build wheel ... \u001b[?25l\u001b[?25hdone\n",
            "  Preparing metadata (pyproject.toml) ... \u001b[?25l\u001b[?25hdone\n",
            "Requirement already satisfied: tqdm>=4.65.0 in /usr/local/lib/python3.11/dist-packages (from chromadb>=0.5.23->crewai) (4.67.1)\n",
            "Collecting overrides>=7.3.1 (from chromadb>=0.5.23->crewai)\n",
            "  Downloading overrides-7.7.0-py3-none-any.whl.metadata (5.8 kB)\n",
            "Requirement already satisfied: importlib-resources in /usr/local/lib/python3.11/dist-packages (from chromadb>=0.5.23->crewai) (6.5.2)\n",
            "Requirement already satisfied: grpcio>=1.58.0 in /usr/local/lib/python3.11/dist-packages (from chromadb>=0.5.23->crewai) (1.74.0)\n",
            "Collecting bcrypt>=4.0.1 (from chromadb>=0.5.23->crewai)\n",
            "  Downloading bcrypt-4.3.0-cp39-abi3-manylinux_2_34_x86_64.whl.metadata (10 kB)\n",
            "Requirement already satisfied: typer>=0.9.0 in /usr/local/lib/python3.11/dist-packages (from chromadb>=0.5.23->crewai) (0.16.0)\n",
            "Collecting kubernetes>=28.1.0 (from chromadb>=0.5.23->crewai)\n",
            "  Downloading kubernetes-33.1.0-py2.py3-none-any.whl.metadata (1.7 kB)\n",
            "Requirement already satisfied: tenacity>=8.2.3 in /usr/local/lib/python3.11/dist-packages (from chromadb>=0.5.23->crewai) (8.5.0)\n",
            "Requirement already satisfied: PyYAML>=6.0.0 in /usr/local/lib/python3.11/dist-packages (from chromadb>=0.5.23->crewai) (6.0.2)\n",
            "Collecting mmh3>=4.0.1 (from chromadb>=0.5.23->crewai)\n",
            "  Downloading mmh3-5.1.0-cp311-cp311-manylinux_2_5_x86_64.manylinux1_x86_64.manylinux_2_17_x86_64.manylinux2014_x86_64.whl.metadata (16 kB)\n",
            "Requirement already satisfied: orjson>=3.9.12 in /usr/local/lib/python3.11/dist-packages (from chromadb>=0.5.23->crewai) (3.11.0)\n",
            "Requirement already satisfied: rich>=10.11.0 in /usr/local/lib/python3.11/dist-packages (from chromadb>=0.5.23->crewai) (13.9.4)\n",
            "Requirement already satisfied: urllib3>=1.26.0 in /usr/local/lib/python3.11/dist-packages (from docker>=7.1.0->crewai_tools) (2.5.0)\n",
            "Collecting alembic<2.0.0,>=1.13.1 (from embedchain>=0.1.114->crewai_tools)\n",
            "  Downloading alembic-1.16.4-py3-none-any.whl.metadata (7.3 kB)\n",
            "Requirement already satisfied: beautifulsoup4<5.0.0,>=4.12.2 in /usr/local/lib/python3.11/dist-packages (from embedchain>=0.1.114->crewai_tools) (4.13.4)\n",
            "Collecting gptcache<0.2.0,>=0.1.43 (from embedchain>=0.1.114->crewai_tools)\n",
            "  Downloading gptcache-0.1.44-py3-none-any.whl.metadata (24 kB)\n",
            "Requirement already satisfied: langchain<0.4.0,>=0.3.1 in /usr/local/lib/python3.11/dist-packages (from embedchain>=0.1.114->crewai_tools) (0.3.27)\n",
            "Collecting langchain-cohere<0.4.0,>=0.3.0 (from embedchain>=0.1.114->crewai_tools)\n",
            "  Downloading langchain_cohere-0.3.5-py3-none-any.whl.metadata (6.7 kB)\n",
            "Collecting langchain-community<0.4.0,>=0.3.1 (from embedchain>=0.1.114->crewai_tools)\n",
            "  Downloading langchain_community-0.3.27-py3-none-any.whl.metadata (2.9 kB)\n",
            "Collecting langchain-openai<0.3.0,>=0.2.1 (from embedchain>=0.1.114->crewai_tools)\n",
            "  Downloading langchain_openai-0.2.14-py3-none-any.whl.metadata (2.7 kB)\n",
            "Collecting langsmith<0.4.0,>=0.3.18 (from embedchain>=0.1.114->crewai_tools)\n",
            "  Downloading langsmith-0.3.45-py3-none-any.whl.metadata (15 kB)\n",
            "Collecting mem0ai<0.2.0,>=0.1.54 (from embedchain>=0.1.114->crewai_tools)\n",
            "  Downloading mem0ai-0.1.115-py3-none-any.whl.metadata (8.9 kB)\n",
            "Collecting posthog>=2.4.0 (from chromadb>=0.5.23->crewai)\n",
            "  Downloading posthog-3.25.0-py2.py3-none-any.whl.metadata (3.0 kB)\n",
            "Collecting pypdf<6.0.0,>=5.0.0 (from embedchain>=0.1.114->crewai_tools)\n",
            "  Downloading pypdf-5.9.0-py3-none-any.whl.metadata (7.1 kB)\n",
            "Collecting pysbd<0.4.0,>=0.3.4 (from embedchain>=0.1.114->crewai_tools)\n",
            "  Downloading pysbd-0.3.4-py3-none-any.whl.metadata (6.1 kB)\n",
            "Collecting schema<0.8.0,>=0.7.5 (from embedchain>=0.1.114->crewai_tools)\n",
            "  Downloading schema-0.7.7-py2.py3-none-any.whl.metadata (34 kB)\n",
            "Requirement already satisfied: sqlalchemy<3.0.0,>=2.0.27 in /usr/local/lib/python3.11/dist-packages (from embedchain>=0.1.114->crewai_tools) (2.0.41)\n",
            "Collecting diskcache>=5.6.3 (from instructor>=1.3.3->crewai)\n",
            "  Downloading diskcache-5.6.3-py3-none-any.whl.metadata (20 kB)\n",
            "Requirement already satisfied: docstring-parser<1.0,>=0.16 in /usr/local/lib/python3.11/dist-packages (from instructor>=1.3.3->crewai) (0.17.0)\n",
            "Requirement already satisfied: jiter<0.11,>=0.6.1 in /usr/local/lib/python3.11/dist-packages (from instructor>=1.3.3->crewai) (0.10.0)\n",
            "Requirement already satisfied: pydantic-core<3.0.0,>=2.18.0 in /usr/local/lib/python3.11/dist-packages (from instructor>=1.3.3->crewai) (2.33.2)\n",
            "Collecting deprecation (from lancedb>=0.5.4->crewai_tools)\n",
            "  Downloading deprecation-2.1.0-py2.py3-none-any.whl.metadata (4.6 kB)\n",
            "Requirement already satisfied: pyarrow>=16 in /usr/local/lib/python3.11/dist-packages (from lancedb>=0.5.4->crewai_tools) (18.1.0)\n",
            "Requirement already satisfied: anyio<5,>=3.5.0 in /usr/local/lib/python3.11/dist-packages (from openai>=1.13.3->crewai) (4.9.0)\n",
            "Requirement already satisfied: distro<2,>=1.7.0 in /usr/local/lib/python3.11/dist-packages (from openai>=1.13.3->crewai) (1.9.0)\n",
            "Requirement already satisfied: sniffio in /usr/local/lib/python3.11/dist-packages (from openai>=1.13.3->crewai) (1.3.1)\n",
            "Requirement already satisfied: et-xmlfile in /usr/local/lib/python3.11/dist-packages (from openpyxl>=3.1.5->crewai) (2.0.0)\n",
            "Requirement already satisfied: googleapis-common-protos~=1.52 in /usr/local/lib/python3.11/dist-packages (from opentelemetry-exporter-otlp-proto-http>=1.30.0->crewai) (1.70.0)\n",
            "Collecting opentelemetry-exporter-otlp-proto-common==1.35.0 (from opentelemetry-exporter-otlp-proto-http>=1.30.0->crewai)\n",
            "  Downloading opentelemetry_exporter_otlp_proto_common-1.35.0-py3-none-any.whl.metadata (1.8 kB)\n",
            "Collecting opentelemetry-proto==1.35.0 (from opentelemetry-exporter-otlp-proto-http>=1.30.0->crewai)\n",
            "  Downloading opentelemetry_proto-1.35.0-py3-none-any.whl.metadata (2.3 kB)\n",
            "Collecting opentelemetry-semantic-conventions==0.56b0 (from opentelemetry-sdk>=1.30.0->crewai)\n",
            "  Downloading opentelemetry_semantic_conventions-0.56b0-py3-none-any.whl.metadata (2.4 kB)\n",
            "Collecting pdfminer.six==20250506 (from pdfplumber>=0.11.4->crewai)\n",
            "  Downloading pdfminer_six-20250506-py3-none-any.whl.metadata (4.2 kB)\n",
            "Requirement already satisfied: Pillow>=9.1 in /usr/local/lib/python3.11/dist-packages (from pdfplumber>=0.11.4->crewai) (11.3.0)\n",
            "Collecting pypdfium2>=4.18.0 (from pdfplumber>=0.11.4->crewai)\n",
            "  Downloading pypdfium2-4.30.0-py3-none-manylinux_2_17_x86_64.manylinux2014_x86_64.whl.metadata (48 kB)\n",
            "\u001b[2K     \u001b[90m━━━━━━━━━━━━━━━━━━━━━━━━━━━━━━━━━━━━━━━━\u001b[0m \u001b[32m48.5/48.5 kB\u001b[0m \u001b[31m2.4 MB/s\u001b[0m eta \u001b[36m0:00:00\u001b[0m\n",
            "\u001b[?25hRequirement already satisfied: charset-normalizer>=2.0.0 in /usr/local/lib/python3.11/dist-packages (from pdfminer.six==20250506->pdfplumber>=0.11.4->crewai) (3.4.2)\n",
            "Requirement already satisfied: cryptography>=36.0.0 in /usr/local/lib/python3.11/dist-packages (from pdfminer.six==20250506->pdfplumber>=0.11.4->crewai) (43.0.3)\n",
            "Requirement already satisfied: annotated-types>=0.6.0 in /usr/local/lib/python3.11/dist-packages (from pydantic>=2.4.2->crewai) (0.7.0)\n",
            "Requirement already satisfied: typing-inspection>=0.4.0 in /usr/local/lib/python3.11/dist-packages (from pydantic>=2.4.2->crewai) (0.4.1)\n",
            "Collecting nodeenv>=1.6.0 (from pyright>=1.1.350->crewai_tools)\n",
            "  Downloading nodeenv-1.9.1-py2.py3-none-any.whl.metadata (21 kB)\n",
            "Requirement already satisfied: ipython>=5.3.0 in /usr/local/lib/python3.11/dist-packages (from pyvis>=0.3.2->crewai) (7.34.0)\n",
            "Requirement already satisfied: jsonpickle>=1.4.1 in /usr/local/lib/python3.11/dist-packages (from pyvis>=0.3.2->crewai) (4.1.1)\n",
            "Requirement already satisfied: networkx>=1.11 in /usr/local/lib/python3.11/dist-packages (from pyvis>=0.3.2->crewai) (3.5)\n",
            "Requirement already satisfied: idna<4,>=2.5 in /usr/local/lib/python3.11/dist-packages (from requests>=2.31.0->crewai_tools) (3.10)\n",
            "Requirement already satisfied: certifi>=2017.4.17 in /usr/local/lib/python3.11/dist-packages (from requests>=2.31.0->crewai_tools) (2025.7.14)\n",
            "Collecting playwright>=1.42.1 (from stagehand>=0.4.1->crewai_tools)\n",
            "  Downloading playwright-1.54.0-py3-none-manylinux1_x86_64.whl.metadata (3.5 kB)\n",
            "Collecting browserbase>=1.4.0 (from stagehand>=0.4.1->crewai_tools)\n",
            "  Downloading browserbase-1.4.0-py3-none-any.whl.metadata (15 kB)\n",
            "Collecting anthropic>=0.51.0 (from stagehand>=0.4.1->crewai_tools)\n",
            "  Downloading anthropic-0.60.0-py3-none-any.whl.metadata (27 kB)\n",
            "Requirement already satisfied: huggingface-hub<1.0,>=0.16.4 in /usr/local/lib/python3.11/dist-packages (from tokenizers>=0.20.3->crewai) (0.33.5)\n",
            "Requirement already satisfied: aiohappyeyeballs>=2.5.0 in /usr/local/lib/python3.11/dist-packages (from aiohttp>=3.10->litellm==1.74.3->crewai) (2.6.1)\n",
            "Requirement already satisfied: aiosignal>=1.4.0 in /usr/local/lib/python3.11/dist-packages (from aiohttp>=3.10->litellm==1.74.3->crewai) (1.4.0)\n",
            "Requirement already satisfied: attrs>=17.3.0 in /usr/local/lib/python3.11/dist-packages (from aiohttp>=3.10->litellm==1.74.3->crewai) (25.3.0)\n",
            "Requirement already satisfied: frozenlist>=1.1.1 in /usr/local/lib/python3.11/dist-packages (from aiohttp>=3.10->litellm==1.74.3->crewai) (1.7.0)\n",
            "Requirement already satisfied: multidict<7.0,>=4.5 in /usr/local/lib/python3.11/dist-packages (from aiohttp>=3.10->litellm==1.74.3->crewai) (6.6.3)\n",
            "Requirement already satisfied: propcache>=0.2.0 in /usr/local/lib/python3.11/dist-packages (from aiohttp>=3.10->litellm==1.74.3->crewai) (0.3.2)\n",
            "Requirement already satisfied: yarl<2.0,>=1.17.0 in /usr/local/lib/python3.11/dist-packages (from aiohttp>=3.10->litellm==1.74.3->crewai) (1.20.1)\n",
            "Requirement already satisfied: Mako in /usr/lib/python3/dist-packages (from alembic<2.0.0,>=1.13.1->embedchain>=0.1.114->crewai_tools) (1.1.3)\n",
            "Requirement already satisfied: soupsieve>1.2 in /usr/local/lib/python3.11/dist-packages (from beautifulsoup4<5.0.0,>=4.12.2->embedchain>=0.1.114->crewai_tools) (2.7)\n",
            "Requirement already satisfied: pyproject_hooks in /usr/local/lib/python3.11/dist-packages (from build>=1.0.3->chromadb>=0.5.23->crewai) (1.2.0)\n",
            "Requirement already satisfied: starlette<0.48.0,>=0.40.0 in /usr/local/lib/python3.11/dist-packages (from fastapi>=0.95.2->chromadb>=0.5.23->crewai) (0.47.2)\n",
            "Requirement already satisfied: cachetools in /usr/local/lib/python3.11/dist-packages (from gptcache<0.2.0,>=0.1.43->embedchain>=0.1.114->crewai_tools) (5.5.2)\n",
            "Requirement already satisfied: httpcore==1.* in /usr/local/lib/python3.11/dist-packages (from httpx>=0.23.0->litellm==1.74.3->crewai) (1.0.9)\n",
            "Requirement already satisfied: h11>=0.16 in /usr/local/lib/python3.11/dist-packages (from httpcore==1.*->httpx>=0.23.0->litellm==1.74.3->crewai) (0.16.0)\n",
            "Requirement already satisfied: filelock in /usr/local/lib/python3.11/dist-packages (from huggingface-hub<1.0,>=0.16.4->tokenizers>=0.20.3->crewai) (3.18.0)\n",
            "Requirement already satisfied: fsspec>=2023.5.0 in /usr/local/lib/python3.11/dist-packages (from huggingface-hub<1.0,>=0.16.4->tokenizers>=0.20.3->crewai) (2025.3.0)\n",
            "Requirement already satisfied: hf-xet<2.0.0,>=1.1.2 in /usr/local/lib/python3.11/dist-packages (from huggingface-hub<1.0,>=0.16.4->tokenizers>=0.20.3->crewai) (1.1.5)\n",
            "Requirement already satisfied: zipp>=3.20 in /usr/local/lib/python3.11/dist-packages (from importlib-metadata>=6.8.0->litellm==1.74.3->crewai) (3.23.0)\n",
            "Requirement already satisfied: setuptools>=18.5 in /usr/local/lib/python3.11/dist-packages (from ipython>=5.3.0->pyvis>=0.3.2->crewai) (75.2.0)\n",
            "Collecting jedi>=0.16 (from ipython>=5.3.0->pyvis>=0.3.2->crewai)\n",
            "  Downloading jedi-0.19.2-py2.py3-none-any.whl.metadata (22 kB)\n",
            "Requirement already satisfied: decorator in /usr/local/lib/python3.11/dist-packages (from ipython>=5.3.0->pyvis>=0.3.2->crewai) (4.4.2)\n",
            "Requirement already satisfied: pickleshare in /usr/local/lib/python3.11/dist-packages (from ipython>=5.3.0->pyvis>=0.3.2->crewai) (0.7.5)\n",
            "Requirement already satisfied: traitlets>=4.2 in /usr/local/lib/python3.11/dist-packages (from ipython>=5.3.0->pyvis>=0.3.2->crewai) (5.7.1)\n",
            "Requirement already satisfied: prompt-toolkit!=3.0.0,!=3.0.1,<3.1.0,>=2.0.0 in /usr/local/lib/python3.11/dist-packages (from ipython>=5.3.0->pyvis>=0.3.2->crewai) (3.0.51)\n",
            "Requirement already satisfied: pygments in /usr/local/lib/python3.11/dist-packages (from ipython>=5.3.0->pyvis>=0.3.2->crewai) (2.19.2)\n",
            "Requirement already satisfied: backcall in /usr/local/lib/python3.11/dist-packages (from ipython>=5.3.0->pyvis>=0.3.2->crewai) (0.2.0)\n",
            "Requirement already satisfied: matplotlib-inline in /usr/local/lib/python3.11/dist-packages (from ipython>=5.3.0->pyvis>=0.3.2->crewai) (0.1.7)\n",
            "Requirement already satisfied: pexpect>4.3 in /usr/local/lib/python3.11/dist-packages (from ipython>=5.3.0->pyvis>=0.3.2->crewai) (4.9.0)\n",
            "Requirement already satisfied: MarkupSafe>=2.0 in /usr/local/lib/python3.11/dist-packages (from jinja2<4.0.0,>=3.1.2->litellm==1.74.3->crewai) (3.0.2)\n",
            "Requirement already satisfied: jsonschema-specifications>=2023.03.6 in /usr/local/lib/python3.11/dist-packages (from jsonschema<5.0.0,>=4.22.0->litellm==1.74.3->crewai) (2025.4.1)\n",
            "Requirement already satisfied: referencing>=0.28.4 in /usr/local/lib/python3.11/dist-packages (from jsonschema<5.0.0,>=4.22.0->litellm==1.74.3->crewai) (0.36.2)\n",
            "Requirement already satisfied: rpds-py>=0.7.1 in /usr/local/lib/python3.11/dist-packages (from jsonschema<5.0.0,>=4.22.0->litellm==1.74.3->crewai) (0.26.0)\n",
            "Requirement already satisfied: six>=1.9.0 in /usr/local/lib/python3.11/dist-packages (from kubernetes>=28.1.0->chromadb>=0.5.23->crewai) (1.17.0)\n",
            "Requirement already satisfied: python-dateutil>=2.5.3 in /usr/local/lib/python3.11/dist-packages (from kubernetes>=28.1.0->chromadb>=0.5.23->crewai) (2.9.0.post0)\n",
            "Requirement already satisfied: google-auth>=1.0.1 in /usr/local/lib/python3.11/dist-packages (from kubernetes>=28.1.0->chromadb>=0.5.23->crewai) (2.38.0)\n",
            "Requirement already satisfied: websocket-client!=0.40.0,!=0.41.*,!=0.42.*,>=0.32.0 in /usr/local/lib/python3.11/dist-packages (from kubernetes>=28.1.0->chromadb>=0.5.23->crewai) (1.8.0)\n",
            "Requirement already satisfied: requests-oauthlib in /usr/local/lib/python3.11/dist-packages (from kubernetes>=28.1.0->chromadb>=0.5.23->crewai) (2.0.0)\n",
            "Requirement already satisfied: oauthlib>=3.2.2 in /usr/local/lib/python3.11/dist-packages (from kubernetes>=28.1.0->chromadb>=0.5.23->crewai) (3.3.1)\n",
            "Collecting durationpy>=0.7 (from kubernetes>=28.1.0->chromadb>=0.5.23->crewai)\n",
            "  Downloading durationpy-0.10-py3-none-any.whl.metadata (340 bytes)\n",
            "Requirement already satisfied: langchain-core<1.0.0,>=0.3.72 in /usr/local/lib/python3.11/dist-packages (from langchain<0.4.0,>=0.3.1->embedchain>=0.1.114->crewai_tools) (0.3.72)\n",
            "Requirement already satisfied: langchain-text-splitters<1.0.0,>=0.3.9 in /usr/local/lib/python3.11/dist-packages (from langchain<0.4.0,>=0.3.1->embedchain>=0.1.114->crewai_tools) (0.3.9)\n",
            "Collecting cohere<6.0,>=5.5.6 (from langchain-cohere<0.4.0,>=0.3.0->embedchain>=0.1.114->crewai_tools)\n",
            "  Downloading cohere-5.16.1-py3-none-any.whl.metadata (3.4 kB)\n",
            "Collecting langchain-experimental<0.4.0,>=0.3.0 (from langchain-cohere<0.4.0,>=0.3.0->embedchain>=0.1.114->crewai_tools)\n",
            "  Downloading langchain_experimental-0.3.4-py3-none-any.whl.metadata (1.7 kB)\n",
            "Requirement already satisfied: pandas>=1.4.3 in /usr/local/lib/python3.11/dist-packages (from langchain-cohere<0.4.0,>=0.3.0->embedchain>=0.1.114->crewai_tools) (2.2.2)\n",
            "Requirement already satisfied: tabulate<0.10.0,>=0.9.0 in /usr/local/lib/python3.11/dist-packages (from langchain-cohere<0.4.0,>=0.3.0->embedchain>=0.1.114->crewai_tools) (0.9.0)\n",
            "Collecting dataclasses-json<0.7,>=0.5.7 (from langchain-community<0.4.0,>=0.3.1->embedchain>=0.1.114->crewai_tools)\n",
            "  Downloading dataclasses_json-0.6.7-py3-none-any.whl.metadata (25 kB)\n",
            "Collecting pydantic-settings<3.0.0,>=2.4.0 (from langchain-community<0.4.0,>=0.3.1->embedchain>=0.1.114->crewai_tools)\n",
            "  Downloading pydantic_settings-2.10.1-py3-none-any.whl.metadata (3.4 kB)\n",
            "Collecting httpx-sse<1.0.0,>=0.4.0 (from langchain-community<0.4.0,>=0.3.1->embedchain>=0.1.114->crewai_tools)\n",
            "  Downloading httpx_sse-0.4.1-py3-none-any.whl.metadata (9.4 kB)\n",
            "Requirement already satisfied: requests-toolbelt<2.0.0,>=1.0.0 in /usr/local/lib/python3.11/dist-packages (from langsmith<0.4.0,>=0.3.18->embedchain>=0.1.114->crewai_tools) (1.0.0)\n",
            "Requirement already satisfied: zstandard<0.24.0,>=0.23.0 in /usr/local/lib/python3.11/dist-packages (from langsmith<0.4.0,>=0.3.18->embedchain>=0.1.114->crewai_tools) (0.23.0)\n",
            "Requirement already satisfied: pytz>=2024.1 in /usr/local/lib/python3.11/dist-packages (from mem0ai<0.2.0,>=0.1.54->embedchain>=0.1.114->crewai_tools) (2025.2)\n",
            "Collecting qdrant-client>=1.9.1 (from mem0ai<0.2.0,>=0.1.54->embedchain>=0.1.114->crewai_tools)\n",
            "  Downloading qdrant_client-1.15.0-py3-none-any.whl.metadata (11 kB)\n",
            "Collecting opentelemetry-instrumentation-asgi==0.56b0 (from opentelemetry-instrumentation-fastapi>=0.41b0->chromadb>=0.5.23->crewai)\n",
            "  Downloading opentelemetry_instrumentation_asgi-0.56b0-py3-none-any.whl.metadata (2.0 kB)\n",
            "Collecting opentelemetry-instrumentation==0.56b0 (from opentelemetry-instrumentation-fastapi>=0.41b0->chromadb>=0.5.23->crewai)\n",
            "  Downloading opentelemetry_instrumentation-0.56b0-py3-none-any.whl.metadata (6.7 kB)\n",
            "Collecting opentelemetry-util-http==0.56b0 (from opentelemetry-instrumentation-fastapi>=0.41b0->chromadb>=0.5.23->crewai)\n",
            "  Downloading opentelemetry_util_http-0.56b0-py3-none-any.whl.metadata (2.6 kB)\n",
            "Requirement already satisfied: wrapt<2.0.0,>=1.0.0 in /usr/local/lib/python3.11/dist-packages (from opentelemetry-instrumentation==0.56b0->opentelemetry-instrumentation-fastapi>=0.41b0->chromadb>=0.5.23->crewai) (1.17.2)\n",
            "Collecting asgiref~=3.0 (from opentelemetry-instrumentation-asgi==0.56b0->opentelemetry-instrumentation-fastapi>=0.41b0->chromadb>=0.5.23->crewai)\n",
            "  Downloading asgiref-3.9.1-py3-none-any.whl.metadata (9.3 kB)\n",
            "Collecting pyee<14,>=13 (from playwright>=1.42.1->stagehand>=0.4.1->crewai_tools)\n",
            "  Downloading pyee-13.0.0-py3-none-any.whl.metadata (2.9 kB)\n",
            "Requirement already satisfied: greenlet<4.0.0,>=3.1.1 in /usr/local/lib/python3.11/dist-packages (from playwright>=1.42.1->stagehand>=0.4.1->crewai_tools) (3.2.3)\n",
            "Collecting monotonic>=1.5 (from posthog>=2.4.0->chromadb>=0.5.23->crewai)\n",
            "  Downloading monotonic-1.6-py2.py3-none-any.whl.metadata (1.5 kB)\n",
            "Collecting backoff>=1.10.0 (from posthog>=2.4.0->chromadb>=0.5.23->crewai)\n",
            "  Downloading backoff-2.2.1-py3-none-any.whl.metadata (14 kB)\n",
            "Requirement already satisfied: markdown-it-py>=2.2.0 in /usr/local/lib/python3.11/dist-packages (from rich>=10.11.0->chromadb>=0.5.23->crewai) (3.0.0)\n",
            "Requirement already satisfied: shellingham>=1.3.0 in /usr/local/lib/python3.11/dist-packages (from typer>=0.9.0->chromadb>=0.5.23->crewai) (1.5.4)\n",
            "Collecting httptools>=0.6.3 (from uvicorn[standard]>=0.18.3->chromadb>=0.5.23->crewai)\n",
            "  Downloading httptools-0.6.4-cp311-cp311-manylinux_2_5_x86_64.manylinux1_x86_64.manylinux_2_17_x86_64.manylinux2014_x86_64.whl.metadata (3.6 kB)\n",
            "Collecting uvloop>=0.15.1 (from uvicorn[standard]>=0.18.3->chromadb>=0.5.23->crewai)\n",
            "  Downloading uvloop-0.21.0-cp311-cp311-manylinux_2_17_x86_64.manylinux2014_x86_64.whl.metadata (4.9 kB)\n",
            "Collecting watchfiles>=0.13 (from uvicorn[standard]>=0.18.3->chromadb>=0.5.23->crewai)\n",
            "  Downloading watchfiles-1.1.0-cp311-cp311-manylinux_2_17_x86_64.manylinux2014_x86_64.whl.metadata (4.9 kB)\n",
            "Requirement already satisfied: websockets>=10.4 in /usr/local/lib/python3.11/dist-packages (from uvicorn[standard]>=0.18.3->chromadb>=0.5.23->crewai) (15.0.1)\n",
            "Collecting humanfriendly>=9.1 (from coloredlogs->onnxruntime==1.22.0->crewai)\n",
            "  Downloading humanfriendly-10.0-py2.py3-none-any.whl.metadata (9.2 kB)\n",
            "Requirement already satisfied: mpmath<1.4,>=1.1.0 in /usr/local/lib/python3.11/dist-packages (from sympy->onnxruntime==1.22.0->crewai) (1.3.0)\n",
            "Collecting fastavro<2.0.0,>=1.9.4 (from cohere<6.0,>=5.5.6->langchain-cohere<0.4.0,>=0.3.0->embedchain>=0.1.114->crewai_tools)\n",
            "  Downloading fastavro-1.11.1-cp311-cp311-manylinux_2_17_x86_64.manylinux2014_x86_64.whl.metadata (5.7 kB)\n",
            "Collecting httpx-sse<1.0.0,>=0.4.0 (from langchain-community<0.4.0,>=0.3.1->embedchain>=0.1.114->crewai_tools)\n",
            "  Downloading httpx_sse-0.4.0-py3-none-any.whl.metadata (9.0 kB)\n",
            "Collecting types-requests<3.0.0,>=2.0.0 (from cohere<6.0,>=5.5.6->langchain-cohere<0.4.0,>=0.3.0->embedchain>=0.1.114->crewai_tools)\n",
            "  Downloading types_requests-2.32.4.20250611-py3-none-any.whl.metadata (2.1 kB)\n",
            "Requirement already satisfied: cffi>=1.12 in /usr/local/lib/python3.11/dist-packages (from cryptography>=36.0.0->pdfminer.six==20250506->pdfplumber>=0.11.4->crewai) (1.17.1)\n",
            "Collecting marshmallow<4.0.0,>=3.18.0 (from dataclasses-json<0.7,>=0.5.7->langchain-community<0.4.0,>=0.3.1->embedchain>=0.1.114->crewai_tools)\n",
            "  Downloading marshmallow-3.26.1-py3-none-any.whl.metadata (7.3 kB)\n",
            "Collecting typing-inspect<1,>=0.4.0 (from dataclasses-json<0.7,>=0.5.7->langchain-community<0.4.0,>=0.3.1->embedchain>=0.1.114->crewai_tools)\n",
            "  Downloading typing_inspect-0.9.0-py3-none-any.whl.metadata (1.5 kB)\n",
            "Requirement already satisfied: pyasn1-modules>=0.2.1 in /usr/local/lib/python3.11/dist-packages (from google-auth>=1.0.1->kubernetes>=28.1.0->chromadb>=0.5.23->crewai) (0.4.2)\n",
            "Requirement already satisfied: rsa<5,>=3.1.4 in /usr/local/lib/python3.11/dist-packages (from google-auth>=1.0.1->kubernetes>=28.1.0->chromadb>=0.5.23->crewai) (4.9.1)\n",
            "Requirement already satisfied: parso<0.9.0,>=0.8.4 in /usr/local/lib/python3.11/dist-packages (from jedi>=0.16->ipython>=5.3.0->pyvis>=0.3.2->crewai) (0.8.4)\n",
            "Requirement already satisfied: jsonpatch<2.0,>=1.33 in /usr/local/lib/python3.11/dist-packages (from langchain-core<1.0.0,>=0.3.72->langchain<0.4.0,>=0.3.1->embedchain>=0.1.114->crewai_tools) (1.33)\n",
            "Requirement already satisfied: mdurl~=0.1 in /usr/local/lib/python3.11/dist-packages (from markdown-it-py>=2.2.0->rich>=10.11.0->chromadb>=0.5.23->crewai) (0.1.2)\n",
            "Requirement already satisfied: tzdata>=2022.7 in /usr/local/lib/python3.11/dist-packages (from pandas>=1.4.3->langchain-cohere<0.4.0,>=0.3.0->embedchain>=0.1.114->crewai_tools) (2025.2)\n",
            "Requirement already satisfied: ptyprocess>=0.5 in /usr/local/lib/python3.11/dist-packages (from pexpect>4.3->ipython>=5.3.0->pyvis>=0.3.2->crewai) (0.7.0)\n",
            "Requirement already satisfied: wcwidth in /usr/local/lib/python3.11/dist-packages (from prompt-toolkit!=3.0.0,!=3.0.1,<3.1.0,>=2.0.0->ipython>=5.3.0->pyvis>=0.3.2->crewai) (0.2.13)\n",
            "Requirement already satisfied: pycparser in /usr/local/lib/python3.11/dist-packages (from cffi>=1.12->cryptography>=36.0.0->pdfminer.six==20250506->pdfplumber>=0.11.4->crewai) (2.22)\n",
            "Requirement already satisfied: h2<5,>=3 in /usr/local/lib/python3.11/dist-packages (from httpx[http2]>=0.20.0->qdrant-client>=1.9.1->mem0ai<0.2.0,>=0.1.54->embedchain>=0.1.114->crewai_tools) (4.2.0)\n",
            "Requirement already satisfied: jsonpointer>=1.9 in /usr/local/lib/python3.11/dist-packages (from jsonpatch<2.0,>=1.33->langchain-core<1.0.0,>=0.3.72->langchain<0.4.0,>=0.3.1->embedchain>=0.1.114->crewai_tools) (3.0.0)\n",
            "Requirement already satisfied: pyasn1<0.7.0,>=0.6.1 in /usr/local/lib/python3.11/dist-packages (from pyasn1-modules>=0.2.1->google-auth>=1.0.1->kubernetes>=28.1.0->chromadb>=0.5.23->crewai) (0.6.1)\n",
            "Collecting mypy-extensions>=0.3.0 (from typing-inspect<1,>=0.4.0->dataclasses-json<0.7,>=0.5.7->langchain-community<0.4.0,>=0.3.1->embedchain>=0.1.114->crewai_tools)\n",
            "  Downloading mypy_extensions-1.1.0-py3-none-any.whl.metadata (1.1 kB)\n",
            "Requirement already satisfied: hyperframe<7,>=6.1 in /usr/local/lib/python3.11/dist-packages (from h2<5,>=3->httpx[http2]>=0.20.0->qdrant-client>=1.9.1->mem0ai<0.2.0,>=0.1.54->embedchain>=0.1.114->crewai_tools) (6.1.0)\n",
            "Requirement already satisfied: hpack<5,>=4.1 in /usr/local/lib/python3.11/dist-packages (from h2<5,>=3->httpx[http2]>=0.20.0->qdrant-client>=1.9.1->mem0ai<0.2.0,>=0.1.54->embedchain>=0.1.114->crewai_tools) (4.1.0)\n",
            "Downloading crewai-0.150.0-py3-none-any.whl (366 kB)\n",
            "\u001b[2K   \u001b[90m━━━━━━━━━━━━━━━━━━━━━━━━━━━━━━━━━━━━━━━━\u001b[0m \u001b[32m366.3/366.3 kB\u001b[0m \u001b[31m10.9 MB/s\u001b[0m eta \u001b[36m0:00:00\u001b[0m\n",
            "\u001b[?25hDownloading json_repair-0.25.2-py3-none-any.whl (12 kB)\n",
            "Downloading litellm-1.74.3-py3-none-any.whl (8.6 MB)\n",
            "\u001b[2K   \u001b[90m━━━━━━━━━━━━━━━━━━━━━━━━━━━━━━━━━━━━━━━━\u001b[0m \u001b[32m8.6/8.6 MB\u001b[0m \u001b[31m75.7 MB/s\u001b[0m eta \u001b[36m0:00:00\u001b[0m\n",
            "\u001b[?25hDownloading onnxruntime-1.22.0-cp311-cp311-manylinux_2_27_x86_64.manylinux_2_28_x86_64.whl (16.4 MB)\n",
            "\u001b[2K   \u001b[90m━━━━━━━━━━━━━━━━━━━━━━━━━━━━━━━━━━━━━━━━\u001b[0m \u001b[32m16.4/16.4 MB\u001b[0m \u001b[31m71.6 MB/s\u001b[0m eta \u001b[36m0:00:00\u001b[0m\n",
            "\u001b[?25hDownloading portalocker-2.7.0-py2.py3-none-any.whl (15 kB)\n",
            "Downloading crewai_tools-0.58.0-py3-none-any.whl (650 kB)\n",
            "\u001b[2K   \u001b[90m━━━━━━━━━━━━━━━━━━━━━━━━━━━━━━━━━━━━━━━━\u001b[0m \u001b[32m650.1/650.1 kB\u001b[0m \u001b[31m31.9 MB/s\u001b[0m eta \u001b[36m0:00:00\u001b[0m\n",
            "\u001b[?25hDownloading chromadb-0.5.23-py3-none-any.whl (628 kB)\n",
            "\u001b[2K   \u001b[90m━━━━━━━━━━━━━━━━━━━━━━━━━━━━━━━━━━━━━━━━\u001b[0m \u001b[32m628.3/628.3 kB\u001b[0m \u001b[31m33.0 MB/s\u001b[0m eta \u001b[36m0:00:00\u001b[0m\n",
            "\u001b[?25hDownloading chroma_hnswlib-0.7.6-cp311-cp311-manylinux_2_17_x86_64.manylinux2014_x86_64.whl (2.4 MB)\n",
            "\u001b[2K   \u001b[90m━━━━━━━━━━━━━━━━━━━━━━━━━━━━━━━━━━━━━━━━\u001b[0m \u001b[32m2.4/2.4 MB\u001b[0m \u001b[31m49.0 MB/s\u001b[0m eta \u001b[36m0:00:00\u001b[0m\n",
            "\u001b[?25hDownloading appdirs-1.4.4-py2.py3-none-any.whl (9.6 kB)\n",
            "Downloading docker-7.1.0-py3-none-any.whl (147 kB)\n",
            "\u001b[2K   \u001b[90m━━━━━━━━━━━━━━━━━━━━━━━━━━━━━━━━━━━━━━━━\u001b[0m \u001b[32m147.8/147.8 kB\u001b[0m \u001b[31m9.9 MB/s\u001b[0m eta \u001b[36m0:00:00\u001b[0m\n",
            "\u001b[?25hDownloading embedchain-0.1.128-py3-none-any.whl (211 kB)\n",
            "\u001b[2K   \u001b[90m━━━━━━━━━━━━━━━━━━━━━━━━━━━━━━━━━━━━━━━━\u001b[0m \u001b[32m211.3/211.3 kB\u001b[0m \u001b[31m13.0 MB/s\u001b[0m eta \u001b[36m0:00:00\u001b[0m\n",
            "\u001b[?25hDownloading instructor-1.10.0-py3-none-any.whl (119 kB)\n",
            "\u001b[2K   \u001b[90m━━━━━━━━━━━━━━━━━━━━━━━━━━━━━━━━━━━━━━━━\u001b[0m \u001b[32m119.5/119.5 kB\u001b[0m \u001b[31m8.4 MB/s\u001b[0m eta \u001b[36m0:00:00\u001b[0m\n",
            "\u001b[?25hDownloading json5-0.12.0-py3-none-any.whl (36 kB)\n",
            "Downloading jsonref-1.1.0-py3-none-any.whl (9.4 kB)\n",
            "Downloading lancedb-0.24.2-cp39-abi3-manylinux_2_28_x86_64.whl (34.8 MB)\n",
            "\u001b[2K   \u001b[90m━━━━━━━━━━━━━━━━━━━━━━━━━━━━━━━━━━━━━━━━\u001b[0m \u001b[32m34.8/34.8 MB\u001b[0m \u001b[31m23.6 MB/s\u001b[0m eta \u001b[36m0:00:00\u001b[0m\n",
            "\u001b[?25hDownloading opentelemetry_api-1.35.0-py3-none-any.whl (65 kB)\n",
            "\u001b[2K   \u001b[90m━━━━━━━━━━━━━━━━━━━━━━━━━━━━━━━━━━━━━━━━\u001b[0m \u001b[32m65.6/65.6 kB\u001b[0m \u001b[31m3.5 MB/s\u001b[0m eta \u001b[36m0:00:00\u001b[0m\n",
            "\u001b[?25hDownloading opentelemetry_exporter_otlp_proto_http-1.35.0-py3-none-any.whl (18 kB)\n",
            "Downloading opentelemetry_exporter_otlp_proto_common-1.35.0-py3-none-any.whl (18 kB)\n",
            "Downloading opentelemetry_proto-1.35.0-py3-none-any.whl (72 kB)\n",
            "\u001b[2K   \u001b[90m━━━━━━━━━━━━━━━━━━━━━━━━━━━━━━━━━━━━━━━━\u001b[0m \u001b[32m72.5/72.5 kB\u001b[0m \u001b[31m4.4 MB/s\u001b[0m eta \u001b[36m0:00:00\u001b[0m\n",
            "\u001b[?25hDownloading opentelemetry_sdk-1.35.0-py3-none-any.whl (119 kB)\n",
            "\u001b[2K   \u001b[90m━━━━━━━━━━━━━━━━━━━━━━━━━━━━━━━━━━━━━━━━\u001b[0m \u001b[32m119.4/119.4 kB\u001b[0m \u001b[31m7.6 MB/s\u001b[0m eta \u001b[36m0:00:00\u001b[0m\n",
            "\u001b[?25hDownloading opentelemetry_semantic_conventions-0.56b0-py3-none-any.whl (201 kB)\n",
            "\u001b[2K   \u001b[90m━━━━━━━━━━━━━━━━━━━━━━━━━━━━━━━━━━━━━━━━\u001b[0m \u001b[32m201.6/201.6 kB\u001b[0m \u001b[31m11.6 MB/s\u001b[0m eta \u001b[36m0:00:00\u001b[0m\n",
            "\u001b[?25hDownloading pdfplumber-0.11.7-py3-none-any.whl (60 kB)\n",
            "\u001b[2K   \u001b[90m━━━━━━━━━━━━━━━━━━━━━━━━━━━━━━━━━━━━━━━━\u001b[0m \u001b[32m60.0/60.0 kB\u001b[0m \u001b[31m3.7 MB/s\u001b[0m eta \u001b[36m0:00:00\u001b[0m\n",
            "\u001b[?25hDownloading pdfminer_six-20250506-py3-none-any.whl (5.6 MB)\n",
            "\u001b[2K   \u001b[90m━━━━━━━━━━━━━━━━━━━━━━━━━━━━━━━━━━━━━━━━\u001b[0m \u001b[32m5.6/5.6 MB\u001b[0m \u001b[31m91.9 MB/s\u001b[0m eta \u001b[36m0:00:00\u001b[0m\n",
            "\u001b[?25hDownloading pyright-1.1.403-py3-none-any.whl (5.7 MB)\n",
            "\u001b[2K   \u001b[90m━━━━━━━━━━━━━━━━━━━━━━━━━━━━━━━━━━━━━━━━\u001b[0m \u001b[32m5.7/5.7 MB\u001b[0m \u001b[31m87.0 MB/s\u001b[0m eta \u001b[36m0:00:00\u001b[0m\n",
            "\u001b[?25hDownloading python_dotenv-1.1.1-py3-none-any.whl (20 kB)\n",
            "Downloading pytube-15.0.0-py3-none-any.whl (57 kB)\n",
            "\u001b[2K   \u001b[90m━━━━━━━━━━━━━━━━━━━━━━━━━━━━━━━━━━━━━━━━\u001b[0m \u001b[32m57.6/57.6 kB\u001b[0m \u001b[31m3.6 MB/s\u001b[0m eta \u001b[36m0:00:00\u001b[0m\n",
            "\u001b[?25hDownloading pyvis-0.3.2-py3-none-any.whl (756 kB)\n",
            "\u001b[2K   \u001b[90m━━━━━━━━━━━━━━━━━━━━━━━━━━━━━━━━━━━━━━━━\u001b[0m \u001b[32m756.0/756.0 kB\u001b[0m \u001b[31m36.2 MB/s\u001b[0m eta \u001b[36m0:00:00\u001b[0m\n",
            "\u001b[?25hDownloading stagehand-0.4.1-py3-none-any.whl (100 kB)\n",
            "\u001b[2K   \u001b[90m━━━━━━━━━━━━━━━━━━━━━━━━━━━━━━━━━━━━━━━━\u001b[0m \u001b[32m100.9/100.9 kB\u001b[0m \u001b[31m5.9 MB/s\u001b[0m eta \u001b[36m0:00:00\u001b[0m\n",
            "\u001b[?25hDownloading tokenizers-0.20.3-cp311-cp311-manylinux_2_17_x86_64.manylinux2014_x86_64.whl (3.0 MB)\n",
            "\u001b[2K   \u001b[90m━━━━━━━━━━━━━━━━━━━━━━━━━━━━━━━━━━━━━━━━\u001b[0m \u001b[32m3.0/3.0 MB\u001b[0m \u001b[31m73.5 MB/s\u001b[0m eta \u001b[36m0:00:00\u001b[0m\n",
            "\u001b[?25hDownloading tomli-2.2.1-cp311-cp311-manylinux_2_17_x86_64.manylinux2014_x86_64.whl (236 kB)\n",
            "\u001b[2K   \u001b[90m━━━━━━━━━━━━━━━━━━━━━━━━━━━━━━━━━━━━━━━━\u001b[0m \u001b[32m236.0/236.0 kB\u001b[0m \u001b[31m13.6 MB/s\u001b[0m eta \u001b[36m0:00:00\u001b[0m\n",
            "\u001b[?25hDownloading tomli_w-1.2.0-py3-none-any.whl (6.7 kB)\n",
            "Downloading uv-0.8.3-py3-none-manylinux_2_17_x86_64.manylinux2014_x86_64.whl (18.7 MB)\n",
            "\u001b[2K   \u001b[90m━━━━━━━━━━━━━━━━━━━━━━━━━━━━━━━━━━━━━━━━\u001b[0m \u001b[32m18.7/18.7 MB\u001b[0m \u001b[31m43.8 MB/s\u001b[0m eta \u001b[36m0:00:00\u001b[0m\n",
            "\u001b[?25hDownloading alembic-1.16.4-py3-none-any.whl (247 kB)\n",
            "\u001b[2K   \u001b[90m━━━━━━━━━━━━━━━━━━━━━━━━━━━━━━━━━━━━━━━━\u001b[0m \u001b[32m247.0/247.0 kB\u001b[0m \u001b[31m15.8 MB/s\u001b[0m eta \u001b[36m0:00:00\u001b[0m\n",
            "\u001b[?25hDownloading anthropic-0.60.0-py3-none-any.whl (293 kB)\n",
            "\u001b[2K   \u001b[90m━━━━━━━━━━━━━━━━━━━━━━━━━━━━━━━━━━━━━━━━\u001b[0m \u001b[32m293.1/293.1 kB\u001b[0m \u001b[31m12.7 MB/s\u001b[0m eta \u001b[36m0:00:00\u001b[0m\n",
            "\u001b[?25hDownloading bcrypt-4.3.0-cp39-abi3-manylinux_2_34_x86_64.whl (284 kB)\n",
            "\u001b[2K   \u001b[90m━━━━━━━━━━━━━━━━━━━━━━━━━━━━━━━━━━━━━━━━\u001b[0m \u001b[32m284.2/284.2 kB\u001b[0m \u001b[31m11.6 MB/s\u001b[0m eta \u001b[36m0:00:00\u001b[0m\n",
            "\u001b[?25hDownloading browserbase-1.4.0-py3-none-any.whl (98 kB)\n",
            "\u001b[2K   \u001b[90m━━━━━━━━━━━━━━━━━━━━━━━━━━━━━━━━━━━━━━━━\u001b[0m \u001b[32m98.0/98.0 kB\u001b[0m \u001b[31m6.8 MB/s\u001b[0m eta \u001b[36m0:00:00\u001b[0m\n",
            "\u001b[?25hDownloading diskcache-5.6.3-py3-none-any.whl (45 kB)\n",
            "\u001b[2K   \u001b[90m━━━━━━━━━━━━━━━━━━━━━━━━━━━━━━━━━━━━━━━━\u001b[0m \u001b[32m45.5/45.5 kB\u001b[0m \u001b[31m2.8 MB/s\u001b[0m eta \u001b[36m0:00:00\u001b[0m\n",
            "\u001b[?25hDownloading gptcache-0.1.44-py3-none-any.whl (131 kB)\n",
            "\u001b[2K   \u001b[90m━━━━━━━━━━━━━━━━━━━━━━━━━━━━━━━━━━━━━━━━\u001b[0m \u001b[32m131.6/131.6 kB\u001b[0m \u001b[31m9.2 MB/s\u001b[0m eta \u001b[36m0:00:00\u001b[0m\n",
            "\u001b[?25hDownloading kubernetes-33.1.0-py2.py3-none-any.whl (1.9 MB)\n",
            "\u001b[2K   \u001b[90m━━━━━━━━━━━━━━━━━━━━━━━━━━━━━━━━━━━━━━━━\u001b[0m \u001b[32m1.9/1.9 MB\u001b[0m \u001b[31m46.8 MB/s\u001b[0m eta \u001b[36m0:00:00\u001b[0m\n",
            "\u001b[?25hDownloading langchain_cohere-0.3.5-py3-none-any.whl (45 kB)\n",
            "\u001b[2K   \u001b[90m━━━━━━━━━━━━━━━━━━━━━━━━━━━━━━━━━━━━━━━━\u001b[0m \u001b[32m45.1/45.1 kB\u001b[0m \u001b[31m2.9 MB/s\u001b[0m eta \u001b[36m0:00:00\u001b[0m\n",
            "\u001b[?25hDownloading langchain_community-0.3.27-py3-none-any.whl (2.5 MB)\n",
            "\u001b[2K   \u001b[90m━━━━━━━━━━━━━━━━━━━━━━━━━━━━━━━━━━━━━━━━\u001b[0m \u001b[32m2.5/2.5 MB\u001b[0m \u001b[31m50.2 MB/s\u001b[0m eta \u001b[36m0:00:00\u001b[0m\n",
            "\u001b[?25hDownloading langchain_openai-0.2.14-py3-none-any.whl (50 kB)\n",
            "\u001b[2K   \u001b[90m━━━━━━━━━━━━━━━━━━━━━━━━━━━━━━━━━━━━━━━━\u001b[0m \u001b[32m50.9/50.9 kB\u001b[0m \u001b[31m3.5 MB/s\u001b[0m eta \u001b[36m0:00:00\u001b[0m\n",
            "\u001b[?25hDownloading langsmith-0.3.45-py3-none-any.whl (363 kB)\n",
            "\u001b[2K   \u001b[90m━━━━━━━━━━━━━━━━━━━━━━━━━━━━━━━━━━━━━━━━\u001b[0m \u001b[32m363.0/363.0 kB\u001b[0m \u001b[31m20.8 MB/s\u001b[0m eta \u001b[36m0:00:00\u001b[0m\n",
            "\u001b[?25hDownloading mem0ai-0.1.115-py3-none-any.whl (178 kB)\n",
            "\u001b[2K   \u001b[90m━━━━━━━━━━━━━━━━━━━━━━━━━━━━━━━━━━━━━━━━\u001b[0m \u001b[32m178.1/178.1 kB\u001b[0m \u001b[31m11.6 MB/s\u001b[0m eta \u001b[36m0:00:00\u001b[0m\n",
            "\u001b[?25hDownloading mmh3-5.1.0-cp311-cp311-manylinux_2_5_x86_64.manylinux1_x86_64.manylinux_2_17_x86_64.manylinux2014_x86_64.whl (101 kB)\n",
            "\u001b[2K   \u001b[90m━━━━━━━━━━━━━━━━━━━━━━━━━━━━━━━━━━━━━━━━\u001b[0m \u001b[32m101.6/101.6 kB\u001b[0m \u001b[31m7.1 MB/s\u001b[0m eta \u001b[36m0:00:00\u001b[0m\n",
            "\u001b[?25hDownloading nodeenv-1.9.1-py2.py3-none-any.whl (22 kB)\n",
            "Downloading opentelemetry_exporter_otlp_proto_grpc-1.35.0-py3-none-any.whl (18 kB)\n",
            "Downloading opentelemetry_instrumentation_fastapi-0.56b0-py3-none-any.whl (12 kB)\n",
            "Downloading opentelemetry_instrumentation-0.56b0-py3-none-any.whl (31 kB)\n",
            "Downloading opentelemetry_instrumentation_asgi-0.56b0-py3-none-any.whl (16 kB)\n",
            "Downloading opentelemetry_util_http-0.56b0-py3-none-any.whl (7.6 kB)\n",
            "Downloading overrides-7.7.0-py3-none-any.whl (17 kB)\n",
            "Downloading playwright-1.54.0-py3-none-manylinux1_x86_64.whl (45.9 MB)\n",
            "\u001b[2K   \u001b[90m━━━━━━━━━━━━━━━━━━━━━━━━━━━━━━━━━━━━━━━━\u001b[0m \u001b[32m45.9/45.9 MB\u001b[0m \u001b[31m10.8 MB/s\u001b[0m eta \u001b[36m0:00:00\u001b[0m\n",
            "\u001b[?25hDownloading posthog-3.25.0-py2.py3-none-any.whl (89 kB)\n",
            "\u001b[2K   \u001b[90m━━━━━━━━━━━━━━━━━━━━━━━━━━━━━━━━━━━━━━━━\u001b[0m \u001b[32m89.1/89.1 kB\u001b[0m \u001b[31m4.8 MB/s\u001b[0m eta \u001b[36m0:00:00\u001b[0m\n",
            "\u001b[?25hDownloading pypdf-5.9.0-py3-none-any.whl (313 kB)\n",
            "\u001b[2K   \u001b[90m━━━━━━━━━━━━━━━━━━━━━━━━━━━━━━━━━━━━━━━━\u001b[0m \u001b[32m313.2/313.2 kB\u001b[0m \u001b[31m15.3 MB/s\u001b[0m eta \u001b[36m0:00:00\u001b[0m\n",
            "\u001b[?25hDownloading pypdfium2-4.30.0-py3-none-manylinux_2_17_x86_64.manylinux2014_x86_64.whl (2.8 MB)\n",
            "\u001b[2K   \u001b[90m━━━━━━━━━━━━━━━━━━━━━━━━━━━━━━━━━━━━━━━━\u001b[0m \u001b[32m2.8/2.8 MB\u001b[0m \u001b[31m66.1 MB/s\u001b[0m eta \u001b[36m0:00:00\u001b[0m\n",
            "\u001b[?25hDownloading pysbd-0.3.4-py3-none-any.whl (71 kB)\n",
            "\u001b[2K   \u001b[90m━━━━━━━━━━━━━━━━━━━━━━━━━━━━━━━━━━━━━━━━\u001b[0m \u001b[32m71.1/71.1 kB\u001b[0m \u001b[31m4.6 MB/s\u001b[0m eta \u001b[36m0:00:00\u001b[0m\n",
            "\u001b[?25hDownloading schema-0.7.7-py2.py3-none-any.whl (18 kB)\n",
            "Downloading coloredlogs-15.0.1-py2.py3-none-any.whl (46 kB)\n",
            "\u001b[2K   \u001b[90m━━━━━━━━━━━━━━━━━━━━━━━━━━━━━━━━━━━━━━━━\u001b[0m \u001b[32m46.0/46.0 kB\u001b[0m \u001b[31m2.5 MB/s\u001b[0m eta \u001b[36m0:00:00\u001b[0m\n",
            "\u001b[?25hDownloading deprecation-2.1.0-py2.py3-none-any.whl (11 kB)\n",
            "Downloading backoff-2.2.1-py3-none-any.whl (15 kB)\n",
            "Downloading cohere-5.16.1-py3-none-any.whl (291 kB)\n",
            "\u001b[2K   \u001b[90m━━━━━━━━━━━━━━━━━━━━━━━━━━━━━━━━━━━━━━━━\u001b[0m \u001b[32m291.9/291.9 kB\u001b[0m \u001b[31m17.0 MB/s\u001b[0m eta \u001b[36m0:00:00\u001b[0m\n",
            "\u001b[?25hDownloading httpx_sse-0.4.0-py3-none-any.whl (7.8 kB)\n",
            "Downloading dataclasses_json-0.6.7-py3-none-any.whl (28 kB)\n",
            "Downloading durationpy-0.10-py3-none-any.whl (3.9 kB)\n",
            "Downloading httptools-0.6.4-cp311-cp311-manylinux_2_5_x86_64.manylinux1_x86_64.manylinux_2_17_x86_64.manylinux2014_x86_64.whl (459 kB)\n",
            "\u001b[2K   \u001b[90m━━━━━━━━━━━━━━━━━━━━━━━━━━━━━━━━━━━━━━━━\u001b[0m \u001b[32m459.8/459.8 kB\u001b[0m \u001b[31m24.8 MB/s\u001b[0m eta \u001b[36m0:00:00\u001b[0m\n",
            "\u001b[?25hDownloading humanfriendly-10.0-py2.py3-none-any.whl (86 kB)\n",
            "\u001b[2K   \u001b[90m━━━━━━━━━━━━━━━━━━━━━━━━━━━━━━━━━━━━━━━━\u001b[0m \u001b[32m86.8/86.8 kB\u001b[0m \u001b[31m5.9 MB/s\u001b[0m eta \u001b[36m0:00:00\u001b[0m\n",
            "\u001b[?25hDownloading jedi-0.19.2-py2.py3-none-any.whl (1.6 MB)\n",
            "\u001b[2K   \u001b[90m━━━━━━━━━━━━━━━━━━━━━━━━━━━━━━━━━━━━━━━━\u001b[0m \u001b[32m1.6/1.6 MB\u001b[0m \u001b[31m56.5 MB/s\u001b[0m eta \u001b[36m0:00:00\u001b[0m\n",
            "\u001b[?25hDownloading langchain_experimental-0.3.4-py3-none-any.whl (209 kB)\n",
            "\u001b[2K   \u001b[90m━━━━━━━━━━━━━━━━━━━━━━━━━━━━━━━━━━━━━━━━\u001b[0m \u001b[32m209.2/209.2 kB\u001b[0m \u001b[31m12.5 MB/s\u001b[0m eta \u001b[36m0:00:00\u001b[0m\n",
            "\u001b[?25hDownloading monotonic-1.6-py2.py3-none-any.whl (8.2 kB)\n",
            "Downloading pydantic_settings-2.10.1-py3-none-any.whl (45 kB)\n",
            "\u001b[2K   \u001b[90m━━━━━━━━━━━━━━━━━━━━━━━━━━━━━━━━━━━━━━━━\u001b[0m \u001b[32m45.2/45.2 kB\u001b[0m \u001b[31m3.0 MB/s\u001b[0m eta \u001b[36m0:00:00\u001b[0m\n",
            "\u001b[?25hDownloading pyee-13.0.0-py3-none-any.whl (15 kB)\n",
            "Downloading qdrant_client-1.15.0-py3-none-any.whl (337 kB)\n",
            "\u001b[2K   \u001b[90m━━━━━━━━━━━━━━━━━━━━━━━━━━━━━━━━━━━━━━━━\u001b[0m \u001b[32m337.3/337.3 kB\u001b[0m \u001b[31m21.7 MB/s\u001b[0m eta \u001b[36m0:00:00\u001b[0m\n",
            "\u001b[?25hDownloading uvloop-0.21.0-cp311-cp311-manylinux_2_17_x86_64.manylinux2014_x86_64.whl (4.0 MB)\n",
            "\u001b[2K   \u001b[90m━━━━━━━━━━━━━━━━━━━━━━━━━━━━━━━━━━━━━━━━\u001b[0m \u001b[32m4.0/4.0 MB\u001b[0m \u001b[31m93.7 MB/s\u001b[0m eta \u001b[36m0:00:00\u001b[0m\n",
            "\u001b[?25hDownloading watchfiles-1.1.0-cp311-cp311-manylinux_2_17_x86_64.manylinux2014_x86_64.whl (453 kB)\n",
            "\u001b[2K   \u001b[90m━━━━━━━━━━━━━━━━━━━━━━━━━━━━━━━━━━━━━━━━\u001b[0m \u001b[32m453.1/453.1 kB\u001b[0m \u001b[31m25.7 MB/s\u001b[0m eta \u001b[36m0:00:00\u001b[0m\n",
            "\u001b[?25hDownloading asgiref-3.9.1-py3-none-any.whl (23 kB)\n",
            "Downloading fastavro-1.11.1-cp311-cp311-manylinux_2_17_x86_64.manylinux2014_x86_64.whl (3.3 MB)\n",
            "\u001b[2K   \u001b[90m━━━━━━━━━━━━━━━━━━━━━━━━━━━━━━━━━━━━━━━━\u001b[0m \u001b[32m3.3/3.3 MB\u001b[0m \u001b[31m81.8 MB/s\u001b[0m eta \u001b[36m0:00:00\u001b[0m\n",
            "\u001b[?25hDownloading marshmallow-3.26.1-py3-none-any.whl (50 kB)\n",
            "\u001b[2K   \u001b[90m━━━━━━━━━━━━━━━━━━━━━━━━━━━━━━━━━━━━━━━━\u001b[0m \u001b[32m50.9/50.9 kB\u001b[0m \u001b[31m3.1 MB/s\u001b[0m eta \u001b[36m0:00:00\u001b[0m\n",
            "\u001b[?25hDownloading types_requests-2.32.4.20250611-py3-none-any.whl (20 kB)\n",
            "Downloading typing_inspect-0.9.0-py3-none-any.whl (8.8 kB)\n",
            "Downloading mypy_extensions-1.1.0-py3-none-any.whl (5.0 kB)\n",
            "Building wheels for collected packages: pypika\n",
            "  Building wheel for pypika (pyproject.toml) ... \u001b[?25l\u001b[?25hdone\n",
            "  Created wheel for pypika: filename=pypika-0.48.9-py2.py3-none-any.whl size=53803 sha256=56c782b41193a5404fa1a8030bf8c10232b4f150c806ccef2ecc77bd42af0abb\n",
            "  Stored in directory: /root/.cache/pip/wheels/a3/01/bd/4c40ceb9d5354160cb186dcc153360f4ab7eb23e2b24daf96d\n",
            "Successfully built pypika\n",
            "Installing collected packages: schema, pypika, monotonic, durationpy, appdirs, uvloop, uv, types-requests, tomli-w, tomli, pytube, python-dotenv, pysbd, pypdfium2, pypdf, pyee, portalocker, overrides, opentelemetry-util-http, opentelemetry-proto, nodeenv, mypy-extensions, mmh3, marshmallow, jsonref, json5, json-repair, jedi, humanfriendly, httpx-sse, httptools, fastavro, diskcache, deprecation, chroma-hnswlib, bcrypt, backoff, asgiref, watchfiles, typing-inspect, pyright, posthog, playwright, opentelemetry-exporter-otlp-proto-common, opentelemetry-api, gptcache, docker, coloredlogs, alembic, tokenizers, pyvis, pydantic-settings, pdfminer.six, opentelemetry-semantic-conventions, onnxruntime, langsmith, lancedb, kubernetes, dataclasses-json, browserbase, anthropic, qdrant-client, pdfplumber, opentelemetry-sdk, opentelemetry-instrumentation, litellm, instructor, cohere, stagehand, opentelemetry-instrumentation-asgi, opentelemetry-exporter-otlp-proto-http, opentelemetry-exporter-otlp-proto-grpc, mem0ai, langchain-openai, opentelemetry-instrumentation-fastapi, langchain-community, chromadb, langchain-experimental, crewai, langchain-cohere, embedchain, crewai_tools\n",
            "  Attempting uninstall: tokenizers\n",
            "    Found existing installation: tokenizers 0.21.2\n",
            "    Uninstalling tokenizers-0.21.2:\n",
            "      Successfully uninstalled tokenizers-0.21.2\n",
            "  Attempting uninstall: langsmith\n",
            "    Found existing installation: langsmith 0.4.8\n",
            "    Uninstalling langsmith-0.4.8:\n",
            "      Successfully uninstalled langsmith-0.4.8\n",
            "\u001b[31mERROR: pip's dependency resolver does not currently take into account all the packages that are installed. This behaviour is the source of the following dependency conflicts.\n",
            "transformers 4.53.3 requires tokenizers<0.22,>=0.21, but you have tokenizers 0.20.3 which is incompatible.\u001b[0m\u001b[31m\n",
            "\u001b[0mSuccessfully installed alembic-1.16.4 anthropic-0.60.0 appdirs-1.4.4 asgiref-3.9.1 backoff-2.2.1 bcrypt-4.3.0 browserbase-1.4.0 chroma-hnswlib-0.7.6 chromadb-0.5.23 cohere-5.16.1 coloredlogs-15.0.1 crewai-0.150.0 crewai_tools-0.58.0 dataclasses-json-0.6.7 deprecation-2.1.0 diskcache-5.6.3 docker-7.1.0 durationpy-0.10 embedchain-0.1.128 fastavro-1.11.1 gptcache-0.1.44 httptools-0.6.4 httpx-sse-0.4.0 humanfriendly-10.0 instructor-1.10.0 jedi-0.19.2 json-repair-0.25.2 json5-0.12.0 jsonref-1.1.0 kubernetes-33.1.0 lancedb-0.24.2 langchain-cohere-0.3.5 langchain-community-0.3.27 langchain-experimental-0.3.4 langchain-openai-0.2.14 langsmith-0.3.45 litellm-1.74.3 marshmallow-3.26.1 mem0ai-0.1.115 mmh3-5.1.0 monotonic-1.6 mypy-extensions-1.1.0 nodeenv-1.9.1 onnxruntime-1.22.0 opentelemetry-api-1.35.0 opentelemetry-exporter-otlp-proto-common-1.35.0 opentelemetry-exporter-otlp-proto-grpc-1.35.0 opentelemetry-exporter-otlp-proto-http-1.35.0 opentelemetry-instrumentation-0.56b0 opentelemetry-instrumentation-asgi-0.56b0 opentelemetry-instrumentation-fastapi-0.56b0 opentelemetry-proto-1.35.0 opentelemetry-sdk-1.35.0 opentelemetry-semantic-conventions-0.56b0 opentelemetry-util-http-0.56b0 overrides-7.7.0 pdfminer.six-20250506 pdfplumber-0.11.7 playwright-1.54.0 portalocker-2.7.0 posthog-3.25.0 pydantic-settings-2.10.1 pyee-13.0.0 pypdf-5.9.0 pypdfium2-4.30.0 pypika-0.48.9 pyright-1.1.403 pysbd-0.3.4 python-dotenv-1.1.1 pytube-15.0.0 pyvis-0.3.2 qdrant-client-1.15.0 schema-0.7.7 stagehand-0.4.1 tokenizers-0.20.3 tomli-2.2.1 tomli-w-1.2.0 types-requests-2.32.4.20250611 typing-inspect-0.9.0 uv-0.8.3 uvloop-0.21.0 watchfiles-1.1.0\n"
          ]
        }
      ],
      "source": [
        "!pip install crewai crewai_tools"
      ]
    },
    {
      "cell_type": "code",
      "source": [
        "!pip install gdown -q\n",
        "import gdown\n",
        "import os\n",
        "\n",
        "# Google Drive file ID from the sharing link\n",
        "file_id = '1hRkULzZxIvk4JyjyByFsN17CsMzp3iiq'\n",
        "output_path = 'knowledge.txt'\n",
        "\n",
        "# Download the file using gdown\n",
        "gdown.download(f'https://drive.google.com/uc?id={file_id}', output_path, quiet=False)\n",
        "\n",
        "print(f\"Downloaded file saved as: {output_path}\")\n",
        "\n",
        "# Verify the file exists\n",
        "if os.path.exists(output_path):\n",
        "    print(f\"{output_path} exists.\")\n",
        "else:\n",
        "    print(f\"{output_path} does not exist.\")"
      ],
      "metadata": {
        "colab": {
          "base_uri": "https://localhost:8080/"
        },
        "id": "OoweNLhKkfT_",
        "outputId": "b18287d5-44d3-409c-d9e9-a0a118e4f77b"
      },
      "id": "OoweNLhKkfT_",
      "execution_count": 2,
      "outputs": [
        {
          "output_type": "stream",
          "name": "stderr",
          "text": [
            "Downloading...\n",
            "From: https://drive.google.com/uc?id=1hRkULzZxIvk4JyjyByFsN17CsMzp3iiq\n",
            "To: /content/knowledge.txt\n",
            "100%|██████████| 848k/848k [00:00<00:00, 89.9MB/s]"
          ]
        },
        {
          "output_type": "stream",
          "name": "stdout",
          "text": [
            "Downloaded file saved as: knowledge.txt\n",
            "knowledge.txt exists.\n"
          ]
        },
        {
          "output_type": "stream",
          "name": "stderr",
          "text": [
            "\n"
          ]
        }
      ]
    },
    {
      "cell_type": "markdown",
      "source": [
        "# Main"
      ],
      "metadata": {
        "id": "RNaDEHWUk9ux"
      },
      "id": "RNaDEHWUk9ux"
    },
    {
      "cell_type": "markdown",
      "source": [
        "## Setup da sessão"
      ],
      "metadata": {
        "id": "0bvf08emlkYi"
      },
      "id": "0bvf08emlkYi"
    },
    {
      "cell_type": "code",
      "execution_count": 1,
      "id": "UCHGCuVzYn-T",
      "metadata": {
        "colab": {
          "base_uri": "https://localhost:8080/"
        },
        "id": "UCHGCuVzYn-T",
        "outputId": "cfc245e3-444b-4a94-8151-da01d93f7a80"
      },
      "outputs": [
        {
          "output_type": "stream",
          "name": "stderr",
          "text": [
            "/usr/local/lib/python3.11/dist-packages/pydantic/fields.py:1093: PydanticDeprecatedSince20: Using extra keyword arguments on `Field` is deprecated and will be removed. Use `json_schema_extra` instead. (Extra keys: 'required'). Deprecated in Pydantic V2.0 to be removed in V3.0. See Pydantic V2 Migration Guide at https://errors.pydantic.dev/2.11/migration/\n",
            "  warn(\n"
          ]
        }
      ],
      "source": [
        "from crewai import Crew, Agent, Task, LLM, Process\n",
        "from crewai_tools import DirectorySearchTool, SerperDevTool, TXTSearchTool"
      ]
    },
    {
      "cell_type": "code",
      "execution_count": 2,
      "id": "SjfYu2eBecVN",
      "metadata": {
        "id": "SjfYu2eBecVN"
      },
      "outputs": [],
      "source": [
        "import os\n",
        "from google.colab import userdata\n",
        "\n",
        "os.environ['GOOGLE_API_KEY'] = userdata.get('GOOGLE_API_KEY')\n",
        "os.environ[\"SERPER_API_KEY\"] = userdata.get('SERPER_API_KEY')"
      ]
    },
    {
      "cell_type": "code",
      "execution_count": 3,
      "id": "83CTv9Xil7rL",
      "metadata": {
        "colab": {
          "base_uri": "https://localhost:8080/"
        },
        "id": "83CTv9Xil7rL",
        "outputId": "1cc73db5-52fa-41c2-91ae-105b8ded8e1c"
      },
      "outputs": [
        {
          "output_type": "stream",
          "name": "stdout",
          "text": [
            "Google API Key is likely working.\n"
          ]
        }
      ],
      "source": [
        "# prompt: check if google api key is working\n",
        "\n",
        "try:\n",
        "    from google.api_core.exceptions import GoogleAPIError\n",
        "    from google.cloud import storage\n",
        "\n",
        "    # Attempt a simple operation that requires authentication\n",
        "    # This doesn't require creating a bucket, just checking if the service is accessible\n",
        "    storage.Client()\n",
        "    print(\"Google API Key is likely working.\")\n",
        "except GoogleAPIError as e:\n",
        "    print(f\"Google API Error: {e}\")\n",
        "    print(\"Google API Key might not be working or is not authorized for Google Cloud Storage.\")\n",
        "except Exception as e:\n",
        "    print(f\"An unexpected error occurred: {e}\")\n",
        "    print(\"Could not verify Google API Key status.\")"
      ]
    },
    {
      "cell_type": "code",
      "execution_count": 4,
      "id": "94Y8IBMRZJ2h",
      "metadata": {
        "id": "94Y8IBMRZJ2h"
      },
      "outputs": [],
      "source": [
        "model_name = \"gemini/gemini-2.5-flash-lite\""
      ]
    },
    {
      "cell_type": "code",
      "execution_count": 5,
      "id": "1aPdur8ViTKJ",
      "metadata": {
        "id": "1aPdur8ViTKJ"
      },
      "outputs": [],
      "source": [
        "llm = LLM(model=model_name, api_key=os.environ['GOOGLE_API_KEY'])"
      ]
    },
    {
      "cell_type": "markdown",
      "source": [
        "## Definindo as Ferramentas"
      ],
      "metadata": {
        "id": "X38sr-MClyBh"
      },
      "id": "X38sr-MClyBh"
    },
    {
      "cell_type": "markdown",
      "source": [
        "RAG Tool para fazer pesquisa no texto knowledge.txt. Esse texto possui o Código de Defesa do Consumidor, o Código Civil e o LGPD."
      ],
      "metadata": {
        "id": "ShD4SB_PflSs"
      },
      "id": "ShD4SB_PflSs"
    },
    {
      "cell_type": "code",
      "execution_count": 6,
      "id": "b2jCFIoQQntG",
      "metadata": {
        "colab": {
          "base_uri": "https://localhost:8080/"
        },
        "collapsed": true,
        "id": "b2jCFIoQQntG",
        "outputId": "eadc7d79-c1b6-4e33-c12e-cc822bfdb2ab"
      },
      "outputs": [
        {
          "output_type": "stream",
          "name": "stderr",
          "text": [
            "/usr/local/lib/python3.11/dist-packages/google/colab/html/_background_server.py:103: DeprecationWarning: make_current is deprecated; start the event loop first\n",
            "  ioloop.make_current()\n",
            "/usr/local/lib/python3.11/dist-packages/alembic/config.py:592: DeprecationWarning: No path_separator found in configuration; falling back to legacy splitting on spaces, commas, and colons for prepend_sys_path.  Consider adding path_separator=os to Alembic config.\n",
            "  util.warn_deprecated(\n",
            "WARNING:root:min_chunk_size 100 should be greater than chunk_overlap 200, otherwise it is redundant.\n"
          ]
        }
      ],
      "source": [
        "rag_tool = TXTSearchTool(\n",
        "    txt='knowledge.txt',\n",
        "    config=dict(\n",
        "        llm=dict(\n",
        "            provider=\"google\",\n",
        "            config=dict(\n",
        "                model=model_name,\n",
        "            ),\n",
        "        ),\n",
        "        embedder=dict(\n",
        "            provider=\"google\",\n",
        "            config=dict(\n",
        "                model=\"models/embedding-001\",\n",
        "                task_type=\"retrieval_document\",\n",
        "            ),\n",
        "        ),\n",
        "        chunker=dict(\n",
        "            chunk_size=600,\n",
        "            chunk_overlap=200,\n",
        "            length_function=\"len\",\n",
        "            min_chunk_size=100\n",
        "        ),\n",
        "    )\n",
        ")"
      ]
    },
    {
      "cell_type": "markdown",
      "source": [
        "Ferramenta para pesquisa na web."
      ],
      "metadata": {
        "id": "MvTeYKPkfsXL"
      },
      "id": "MvTeYKPkfsXL"
    },
    {
      "cell_type": "code",
      "execution_count": 7,
      "id": "oz6xTDW8QFkr",
      "metadata": {
        "id": "oz6xTDW8QFkr"
      },
      "outputs": [],
      "source": [
        "search_tool = SerperDevTool(country = \"br\")"
      ]
    },
    {
      "cell_type": "markdown",
      "source": [
        "## Definindo os Agentes"
      ],
      "metadata": {
        "id": "lbFXnAhglrIJ"
      },
      "id": "lbFXnAhglrIJ"
    },
    {
      "cell_type": "code",
      "execution_count": 8,
      "id": "m_Qg0CPaQ4c4",
      "metadata": {
        "id": "m_Qg0CPaQ4c4"
      },
      "outputs": [],
      "source": [
        "pesquisador_rag = Agent(\n",
        "    role='Pesquisador Jurídico (RAG Only)',\n",
        "    goal=f'Para qualquer pergunta do usuário, usar SOMENTE a ferramenta RAG para encontrar artigos de lei relevantes e informações dentro da base de conhecimento fornecida. Não ser redundante. Não dar opniões.',\n",
        "    backstory='Você é um especialista em análise de documentos legais internos. Sua expertise é encontrar e citar artigos de lei e outras informações relevantes exclusivamente dentro da sua base de conhecimento interna.',\n",
        "    verbose=False,\n",
        "    llm=llm,\n",
        "    tools=[rag_tool],\n",
        "    allow_delegation=False\n",
        ")\n",
        "\n",
        "pesquisador_web = Agent(\n",
        "    role='Analista de Contexto e Casos Práticos (Web Only)',\n",
        "    goal=f'Para qualquer pergunta do usuário, usar SOMENTE a busca na web para encontrar notícias, artigos de blog e decisões judiciais que forneçam contexto do mundo real sobre como as leis são aplicadas. Não ser redundante. Não dar opniões.',\n",
        "    backstory='Você é um jornalista investigativo especializado no judiciário. Você sabe como encontrar exemplos que ilustram a aplicação prática das leis, ajudando a entender além do texto legal. Sua especialidade é encontrar informações relevantes usando apenas a web.',\n",
        "    verbose=False,\n",
        "    llm=llm,\n",
        "    tools=[search_tool],\n",
        "    allow_delegation=False\n",
        ")\n",
        "\n",
        "analista_senior = Agent(\n",
        "    role='Analista Sênior de Informações',\n",
        "    goal='Analisar a pesquisa legal (RAG) e os exemplos práticos (Web) para elaborar uma análise detalhada e uma proposta de resposta para a pergunta do usuário.',\n",
        "    backstory='''Você é um analista experiente, mestre em cruzar dados de legislação com casos práticos do mundo real.\n",
        "                Sua função é examinar as informações brutas dos pesquisadores e construir um argumento coeso e bem fundamentado.\n",
        "                Sua análise aprofundada servirá como uma das várias perspectivas que serão usadas para construir a resposta final.''',\n",
        "    verbose=False,\n",
        "    llm=llm,\n",
        "    allow_delegation=False\n",
        ")\n",
        "\n",
        "sintetizador_final = Agent(\n",
        "    role='Especialista em Síntese e Comunicação',\n",
        "    goal='Consolidar as múltiplas análises recebidas para formular uma resposta única, coesa e fácil de entender para a pergunta do usuário, garantindo que todos os pontos importantes sejam abordados.',\n",
        "    backstory='''Você é um comunicador mestre, com a rara habilidade de transformar informações densas e complexas de várias fontes em uma resposta clara e direta.\n",
        "                 Seu trabalho não é julgar, mas sim esclarecer. Você revisa os diferentes pontos de vista dos analistas para construir a resposta mais completa e útil possível para o usuário final, respondendo diretamente à sua pergunta.''',\n",
        "    verbose=False,\n",
        "    llm=llm,\n",
        "    allow_delegation=False\n",
        ")"
      ]
    },
    {
      "cell_type": "markdown",
      "source": [
        "## Definindo o Fluxo"
      ],
      "metadata": {
        "id": "uMLVMWTll4Ab"
      },
      "id": "uMLVMWTll4Ab"
    },
    {
      "cell_type": "code",
      "source": [
        "import asyncio\n",
        "from typing import List\n",
        "from pydantic import BaseModel\n",
        "from crewai import Agent\n",
        "from crewai.flow.flow import Flow, start, listen, and_"
      ],
      "metadata": {
        "id": "dwBfV4358MyV"
      },
      "id": "dwBfV4358MyV",
      "execution_count": 9,
      "outputs": []
    },
    {
      "cell_type": "code",
      "execution_count": 10,
      "id": "l0WhP2SIS0Bk",
      "metadata": {
        "id": "l0WhP2SIS0Bk"
      },
      "outputs": [],
      "source": [
        "class AnaliseJuridicaState(BaseModel):\n",
        "    pergunta: str | None = None\n",
        "    pesquisa_rag: str | None = None\n",
        "    pesquisa_web: str | None = None\n",
        "    analises_intermediarias: List[str] = []\n",
        "    resposta_final: str | None = None\n",
        "\n",
        "class FluxoDeAnaliseJuridica(Flow[AnaliseJuridicaState]):\n",
        "    \"\"\"\n",
        "    Um fluxo que orquestra uma análise jurídica, executando pesquisas,\n",
        "    gerando múltiplas perspectivas de análise em paralelo e, em seguida,\n",
        "    sintetizando uma resposta final coesa.\n",
        "    \"\"\"\n",
        "    def __init__(self):\n",
        "        super().__init__()\n",
        "        # Agentes CrewAI inicializados\n",
        "        self.pesquisador_rag = pesquisador_rag\n",
        "        self.pesquisador_web = pesquisador_web\n",
        "        self.analista_senior = analista_senior\n",
        "        self.sintetizador_final = sintetizador_final\n",
        "        self.state.analises_intermediarias = []\n",
        "\n",
        "    @start()\n",
        "    async def pesquisar_com_rag(self):\n",
        "        \"\"\"Inicia a pesquisa em uma base de conhecimento jurídico (RAG).\"\"\"\n",
        "        descricao_tarefa = f\"Encontre e liste artigos de lei, doutrina e outros documentos relevantes para a pergunta: '{self.state.pergunta}'. Não faça análise, somente liste os trechos que são relevantes (somente os relevantes). Liste no máximo 10 trechos, no mínimo 1. Caso tenha mais que 10, escolha os 10 mais relevantes. Não repita o mesmo trecho mais de uma vez.\"\n",
        "        resultado = await self.pesquisador_rag.kickoff_async(descricao_tarefa)\n",
        "        self.state.pesquisa_rag = resultado.raw\n",
        "        return self.state.pesquisa_rag\n",
        "\n",
        "    @start()\n",
        "    async def pesquisar_na_web(self):\n",
        "        \"\"\"Inicia a pesquisa por jurisprudência e notícias na web.\"\"\"\n",
        "        descricao_tarefa = f\"Encontre notícias e jurisprudência recentes e relevantes sobre: '{self.state.pergunta}'. Não dê opiniões, simplesmente liste todas as informações que sejam relevantes.\"\n",
        "        resultado = await self.pesquisador_web.kickoff_async(descricao_tarefa)\n",
        "        self.state.pesquisa_web = resultado.raw\n",
        "        return self.state.pesquisa_web\n",
        "\n",
        "\n",
        "    def _criar_prompt_analise(self) -> str:\n",
        "        \"\"\"Cria o prompt padronizado para as análises independentes.\"\"\"\n",
        "        contexto = f\"Pesquisa Legal (RAG):\\n{self.state.pesquisa_rag}\\n\\nPesquisa Web:\\n{self.state.pesquisa_web}\"\n",
        "        return f\"Com base no contexto abrangente fornecido, prepare uma análise jurídica detalhada, clara, bem fundamentada e conclusiva para a pergunta: '{self.state.pergunta}'.\\nConsidere todos os ângulos relevantes (legal, doutrinário, jurisprudencial e prático) para formular sua resposta.\\n\\nContexto: {contexto}\"\n",
        "\n",
        "    @listen(and_(\"pesquisar_com_rag\", \"pesquisar_na_web\"))\n",
        "    async def gerar_analise_independente_1(self, *args):\n",
        "        \"\"\"Gera a primeira versão da análise jurídica.\"\"\"\n",
        "        descricao_tarefa = self._criar_prompt_analise()\n",
        "        resultado = await self.analista_senior.kickoff_async(descricao_tarefa)\n",
        "        self.state.analises_intermediarias.append(resultado.raw)\n",
        "        return resultado.raw\n",
        "\n",
        "    @listen(and_(\"pesquisar_com_rag\", \"pesquisar_na_web\"))\n",
        "    async def gerar_analise_independente_2(self, *args):\n",
        "        \"\"\"Gera a segunda versão da análise jurídica.\"\"\"\n",
        "        descricao_tarefa = self._criar_prompt_analise()\n",
        "        resultado = await self.analista_senior.kickoff_async(descricao_tarefa)\n",
        "        self.state.analises_intermediarias.append(resultado.raw)\n",
        "        return resultado.raw\n",
        "\n",
        "    @listen(and_(\"pesquisar_com_rag\", \"pesquisar_na_web\"))\n",
        "    async def gerar_analise_independente_3(self, *args):\n",
        "        \"\"\"Gera a terceira versão da análise jurídica.\"\"\"\n",
        "        descricao_tarefa = self._criar_prompt_analise()\n",
        "        resultado = await self.analista_senior.kickoff_async(descricao_tarefa)\n",
        "        self.state.analises_intermediarias.append(resultado.raw)\n",
        "        return resultado.raw\n",
        "\n",
        "\n",
        "    @listen(and_(\"gerar_analise_independente_1\", \"gerar_analise_independente_2\", \"gerar_analise_independente_3\"))\n",
        "    async def sintetizar_resposta_final(self, *args):\n",
        "        \"\"\"Consolida as três análises independentes em uma resposta final superior.\"\"\"\n",
        "\n",
        "        contexto_final = \"\\n\\n---\\n[Fim da Análise]\\n---\\n\\n\".join(self.state.analises_intermediarias)\n",
        "\n",
        "        descricao_tarefa = (\n",
        "            f\"Você recebeu três análises jurídicas independentes, elaboradas por especialistas sobre a mesma pergunta: '{self.state.pergunta}'. \"\n",
        "            \"Sua tarefa é agir como um revisor final e consolidador. Analise as três versões, identifique os pontos em comum, os argumentos mais fortes e as nuances de cada uma. \"\n",
        "            \"Em seguida, sintetize tudo isso em uma única resposta final, que deve ser mais robusta, completa e bem polida do que qualquer uma das versões individuais. Responda em português. Seja sucinto e claro.\\n\\n\"\n",
        "            f\"As três análises a serem consolidadas são:\\n{contexto_final}\"\n",
        "        )\n",
        "        resultado = await self.sintetizador_final.kickoff_async(descricao_tarefa)\n",
        "        self.state.resposta_final = resultado.raw\n",
        "        return self.state.resposta_final"
      ]
    },
    {
      "cell_type": "code",
      "source": [
        "flow = FluxoDeAnaliseJuridica()\n",
        "async def responde(pergunta):\n",
        "    return await flow.kickoff_async(inputs={\"pergunta\": pergunta})"
      ],
      "metadata": {
        "colab": {
          "base_uri": "https://localhost:8080/",
          "height": 161
        },
        "id": "GzBv6Z5J3zET",
        "outputId": "a7deb2ee-c53c-4a6c-dbd9-f317fe8b7285"
      },
      "id": "GzBv6Z5J3zET",
      "execution_count": 11,
      "outputs": [
        {
          "output_type": "display_data",
          "data": {
            "text/plain": [
              "\u001b[34m╭─\u001b[0m\u001b[34m───────────────────────────────────────────────\u001b[0m\u001b[34m Flow Execution \u001b[0m\u001b[34m────────────────────────────────────────────────\u001b[0m\u001b[34m─╮\u001b[0m\n",
              "\u001b[34m│\u001b[0m                                                                                                                 \u001b[34m│\u001b[0m\n",
              "\u001b[34m│\u001b[0m  \u001b[1;34mStarting Flow Execution\u001b[0m                                                                                        \u001b[34m│\u001b[0m\n",
              "\u001b[34m│\u001b[0m  \u001b[37mName: \u001b[0m\u001b[34mFluxoDeAnaliseJuridica\u001b[0m                                                                                   \u001b[34m│\u001b[0m\n",
              "\u001b[34m│\u001b[0m  \u001b[37mID: \u001b[0m\u001b[34m30428d66-bb5b-4973-b979-633d2b80b925\u001b[0m                                                                       \u001b[34m│\u001b[0m\n",
              "\u001b[34m│\u001b[0m  \u001b[37mTool Args: \u001b[0m                                                                                                    \u001b[34m│\u001b[0m\n",
              "\u001b[34m│\u001b[0m                                                                                                                 \u001b[34m│\u001b[0m\n",
              "\u001b[34m│\u001b[0m                                                                                                                 \u001b[34m│\u001b[0m\n",
              "\u001b[34m╰─────────────────────────────────────────────────────────────────────────────────────────────────────────────────╯\u001b[0m\n"
            ],
            "text/html": [
              "<pre style=\"white-space:pre;overflow-x:auto;line-height:normal;font-family:Menlo,'DejaVu Sans Mono',consolas,'Courier New',monospace\"><span style=\"color: #000080; text-decoration-color: #000080\">╭──────────────────────────────────────────────── Flow Execution ─────────────────────────────────────────────────╮</span>\n",
              "<span style=\"color: #000080; text-decoration-color: #000080\">│</span>                                                                                                                 <span style=\"color: #000080; text-decoration-color: #000080\">│</span>\n",
              "<span style=\"color: #000080; text-decoration-color: #000080\">│</span>  <span style=\"color: #000080; text-decoration-color: #000080; font-weight: bold\">Starting Flow Execution</span>                                                                                        <span style=\"color: #000080; text-decoration-color: #000080\">│</span>\n",
              "<span style=\"color: #000080; text-decoration-color: #000080\">│</span>  <span style=\"color: #c0c0c0; text-decoration-color: #c0c0c0\">Name: </span><span style=\"color: #000080; text-decoration-color: #000080\">FluxoDeAnaliseJuridica</span>                                                                                   <span style=\"color: #000080; text-decoration-color: #000080\">│</span>\n",
              "<span style=\"color: #000080; text-decoration-color: #000080\">│</span>  <span style=\"color: #c0c0c0; text-decoration-color: #c0c0c0\">ID: </span><span style=\"color: #000080; text-decoration-color: #000080\">30428d66-bb5b-4973-b979-633d2b80b925</span>                                                                       <span style=\"color: #000080; text-decoration-color: #000080\">│</span>\n",
              "<span style=\"color: #000080; text-decoration-color: #000080\">│</span>  <span style=\"color: #c0c0c0; text-decoration-color: #c0c0c0\">Tool Args: </span>                                                                                                    <span style=\"color: #000080; text-decoration-color: #000080\">│</span>\n",
              "<span style=\"color: #000080; text-decoration-color: #000080\">│</span>                                                                                                                 <span style=\"color: #000080; text-decoration-color: #000080\">│</span>\n",
              "<span style=\"color: #000080; text-decoration-color: #000080\">│</span>                                                                                                                 <span style=\"color: #000080; text-decoration-color: #000080\">│</span>\n",
              "<span style=\"color: #000080; text-decoration-color: #000080\">╰─────────────────────────────────────────────────────────────────────────────────────────────────────────────────╯</span>\n",
              "</pre>\n"
            ]
          },
          "metadata": {}
        },
        {
          "output_type": "display_data",
          "data": {
            "text/plain": [
              "\n"
            ],
            "text/html": [
              "<pre style=\"white-space:pre;overflow-x:auto;line-height:normal;font-family:Menlo,'DejaVu Sans Mono',consolas,'Courier New',monospace\">\n",
              "</pre>\n"
            ]
          },
          "metadata": {}
        }
      ]
    },
    {
      "cell_type": "markdown",
      "source": [
        "## Fluxo Gerado"
      ],
      "metadata": {
        "id": "Ls1i6mCVbEo0"
      },
      "id": "Ls1i6mCVbEo0"
    },
    {
      "cell_type": "code",
      "source": [
        "flow.plot('diagrama')"
      ],
      "metadata": {
        "colab": {
          "base_uri": "https://localhost:8080/"
        },
        "id": "yc3gIZSnbGz_",
        "outputId": "cb23ec96-fe11-4455-cb87-49b9671178ea"
      },
      "id": "yc3gIZSnbGz_",
      "execution_count": 12,
      "outputs": [
        {
          "output_type": "stream",
          "name": "stdout",
          "text": [
            "Plot saved as diagrama.html\n"
          ]
        }
      ]
    },
    {
      "cell_type": "code",
      "source": [
        "import html\n",
        "from IPython.display import display, HTML\n",
        "\n",
        "# Read the content of the HTML file\n",
        "with open(\"diagrama.html\", \"r\") as f:\n",
        "    html_content = f.read()\n",
        "\n",
        "# Escape the HTML content for embedding in srcdoc\n",
        "escaped_html_content = html.escape(html_content, quote=True)\n",
        "\n",
        "# Embed the escaped HTML content within an iframe with fixed dimensions\n",
        "# You can adjust the width and height as needed\n",
        "iframe_html = f'<iframe srcdoc=\"{escaped_html_content}\" width=\"800\" height=\"600\" style=\"border:none;\"></iframe>'\n",
        "\n",
        "# Display the iframe\n",
        "display(HTML(data=iframe_html))"
      ],
      "metadata": {
        "colab": {
          "base_uri": "https://localhost:8080/",
          "height": 656
        },
        "id": "RJitUpzgbzJT",
        "outputId": "9c1c4e29-2b2e-45eb-9ea5-cab01f66f321"
      },
      "id": "RJitUpzgbzJT",
      "execution_count": 13,
      "outputs": [
        {
          "output_type": "stream",
          "name": "stderr",
          "text": [
            "/usr/local/lib/python3.11/dist-packages/IPython/core/display.py:724: UserWarning: Consider using IPython.display.IFrame instead\n",
            "  warnings.warn(\"Consider using IPython.display.IFrame instead\")\n"
          ]
        },
        {
          "output_type": "display_data",
          "data": {
            "text/plain": [
              "<IPython.core.display.HTML object>"
            ],
            "text/html": [
              "<iframe srcdoc=\"&lt;!DOCTYPE html&gt;\n",
              "&lt;html&gt;\n",
              "  &lt;head&gt;\n",
              "    &lt;meta charset=&quot;utf-8&quot; /&gt;\n",
              "    &lt;title&gt;Flow Plot&lt;/title&gt;\n",
              "    &lt;script\n",
              "      src=&quot;https://cdnjs.cloudflare.com/ajax/libs/vis-network/9.1.2/dist/vis-network.min.js&quot;\n",
              "      integrity=&quot;sha512-LnvoEWDFrqGHlHmDD2101OrLcbsfkrzoSpvtSQtxK3RMnRV0eOkhhBN2dXHKRrUU8p2DGRTk35n4O8nWSVe1mQ==&quot;\n",
              "      crossorigin=&quot;anonymous&quot;\n",
              "      referrerpolicy=&quot;no-referrer&quot;\n",
              "    &gt;&lt;/script&gt;\n",
              "    &lt;link\n",
              "      rel=&quot;stylesheet&quot;\n",
              "      href=&quot;https://cdnjs.cloudflare.com/ajax/libs/vis-network/9.1.2/dist/dist/vis-network.min.css&quot;\n",
              "      integrity=&quot;sha512-WgxfT5LWjfszlPHXRmBWHkV2eceiWTOBvrKCNbdgDYTHrT2AeLCGbF4sZlZw3UMN3WtL0tGUoIAKsu8mllg/XA==&quot;\n",
              "      crossorigin=&quot;anonymous&quot;\n",
              "      referrerpolicy=&quot;no-referrer&quot;\n",
              "    /&gt;\n",
              "    &lt;style type=&quot;text/css&quot;&gt;\n",
              "      body {\n",
              "        font-family: verdana;\n",
              "        margin: 0;\n",
              "        padding: 0;\n",
              "      }\n",
              "      .container {\n",
              "        display: flex;\n",
              "        flex-direction: column;\n",
              "        height: 100vh;\n",
              "      }\n",
              "      #mynetwork {\n",
              "        flex-grow: 1;\n",
              "        width: 100%;\n",
              "        height: 750px;\n",
              "        background-color: #ffffff;\n",
              "      }\n",
              "      .card {\n",
              "        border: none;\n",
              "      }\n",
              "      .legend-container {\n",
              "        display: flex;\n",
              "        align-items: center;\n",
              "        justify-content: center;\n",
              "        padding: 10px;\n",
              "        background-color: #f8f9fa;\n",
              "        position: fixed; /* Make the legend fixed */\n",
              "        bottom: 0; /* Position it at the bottom */\n",
              "        width: 100%; /* Make it span the full width */\n",
              "      }\n",
              "      .legend-item {\n",
              "        display: flex;\n",
              "        align-items: center;\n",
              "        margin-right: 20px;\n",
              "      }\n",
              "      .legend-color-box {\n",
              "        width: 20px;\n",
              "        height: 20px;\n",
              "        margin-right: 5px;\n",
              "      }\n",
              "      .logo {\n",
              "        height: 50px;\n",
              "        margin-right: 20px;\n",
              "      }\n",
              "      .legend-dashed {\n",
              "        border-bottom: 2px dashed #666666;\n",
              "        width: 20px;\n",
              "        height: 0;\n",
              "        margin-right: 5px;\n",
              "      }\n",
              "      .legend-solid {\n",
              "        border-bottom: 2px solid #666666;\n",
              "        width: 20px;\n",
              "        height: 0;\n",
              "        margin-right: 5px;\n",
              "      }\n",
              "    &lt;/style&gt;\n",
              "  &lt;/head&gt;\n",
              "  &lt;body&gt;\n",
              "    &lt;div class=&quot;container&quot;&gt;\n",
              "      &lt;div class=&quot;card&quot; style=&quot;width: 100%&quot;&gt;\n",
              "        &lt;div id=&quot;mynetwork&quot; class=&quot;card-body&quot;&gt;&lt;/div&gt;\n",
              "      &lt;/div&gt;\n",
              "      &lt;div class=&quot;legend-container&quot;&gt;\n",
              "        &lt;img\n",
              "          src=&quot;data:image/svg+xml;base64,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&quot;\n",
              "          alt=&quot;CrewAI logo&quot;\n",
              "          class=&quot;logo&quot;\n",
              "        /&gt;\n",
              "        \n",
              "            &lt;div class=&quot;legend-item&quot;&gt;\n",
              "            &lt;div class=&quot;legend-color-box&quot; style=&quot;background-color: #FF5A50; border-radius: 5px;&quot;&gt;&lt;/div&gt;\n",
              "            &lt;div&gt;Start Method&lt;/div&gt;\n",
              "            &lt;/div&gt;\n",
              "            \n",
              "            &lt;div class=&quot;legend-item&quot;&gt;\n",
              "            &lt;div class=&quot;legend-color-box&quot; style=&quot;background-color: #333333; border-radius: 5px;&quot;&gt;&lt;/div&gt;\n",
              "            &lt;div&gt;Method&lt;/div&gt;\n",
              "            &lt;/div&gt;\n",
              "            \n",
              "            &lt;div class=&quot;legend-item&quot;&gt;\n",
              "            &lt;div class=&quot;legend-color-box&quot; style=&quot;background-color: #FFFFFF; border: 2px solid #FF5A50; border-radius: 5px;&quot;&gt;&lt;/div&gt;\n",
              "            &lt;div&gt;Crew Method&lt;/div&gt;\n",
              "            &lt;/div&gt;\n",
              "            \n",
              "            &lt;div class=&quot;legend-item&quot;&gt;\n",
              "            &lt;div class=&quot;legend-color-box&quot; style=&quot;background-color: #333333; border: 2px dashed #FF5A50; border-radius: 5px;&quot;&gt;&lt;/div&gt;\n",
              "            &lt;div&gt;Router&lt;/div&gt;\n",
              "            &lt;/div&gt;\n",
              "            \n",
              "            &lt;div class=&quot;legend-item&quot;&gt;\n",
              "            &lt;div class=&quot;legend-solid&quot; style=&quot;border-bottom: 2px solid #666666; border-radius: 5px;&quot;&gt;&lt;/div&gt;\n",
              "            &lt;div&gt;Trigger&lt;/div&gt;\n",
              "            &lt;/div&gt;\n",
              "            \n",
              "            &lt;div class=&quot;legend-item&quot;&gt;\n",
              "            &lt;div class=&quot;legend-dashed&quot; style=&quot;border-bottom: 2px dashed #666666; border-radius: 5px;&quot;&gt;&lt;/div&gt;\n",
              "            &lt;div&gt;AND Trigger&lt;/div&gt;\n",
              "            &lt;/div&gt;\n",
              "            \n",
              "            &lt;div class=&quot;legend-item&quot;&gt;\n",
              "            &lt;div class=&quot;legend-dashed&quot; style=&quot;border-bottom: 2px dashed #FF5A50; border-radius: 5px;&quot;&gt;&lt;/div&gt;\n",
              "            &lt;div&gt;Router Trigger&lt;/div&gt;\n",
              "            &lt;/div&gt;\n",
              "            \n",
              "      &lt;/div&gt;\n",
              "    &lt;/div&gt;\n",
              "    \n",
              "        &lt;div class=&quot;card&quot; style=&quot;width: 100%&quot;&gt;\n",
              "            \n",
              "            \n",
              "            &lt;div id=&quot;mynetwork&quot; class=&quot;card-body&quot;&gt;&lt;/div&gt;\n",
              "        &lt;/div&gt;\n",
              "\n",
              "        \n",
              "        \n",
              "\n",
              "        &lt;script type=&quot;text/javascript&quot;&gt;\n",
              "\n",
              "              // initialize global variables.\n",
              "              var edges;\n",
              "              var nodes;\n",
              "              var allNodes;\n",
              "              var allEdges;\n",
              "              var nodeColors;\n",
              "              var originalNodes;\n",
              "              var network;\n",
              "              var container;\n",
              "              var options, data;\n",
              "              var filter = {\n",
              "                  item : &#x27;&#x27;,\n",
              "                  property : &#x27;&#x27;,\n",
              "                  value : []\n",
              "              };\n",
              "\n",
              "              \n",
              "\n",
              "              \n",
              "\n",
              "              // This method is responsible for drawing the graph, returns the drawn network\n",
              "              function drawGraph() {\n",
              "                  var container = document.getElementById(&#x27;mynetwork&#x27;);\n",
              "\n",
              "                  \n",
              "\n",
              "                  // parsing and collecting nodes and edges from the python\n",
              "                  nodes = new vis.DataSet([{&quot;color&quot;: &quot;#FF5A50&quot;, &quot;fixed&quot;: true, &quot;font&quot;: {&quot;color&quot;: &quot;#FFFFFF&quot;, &quot;multi&quot;: &quot;html&quot;}, &quot;id&quot;: &quot;pesquisar_com_rag&quot;, &quot;label&quot;: &quot;Pesquisar Com Rag&quot;, &quot;margin&quot;: {&quot;bottom&quot;: 8, &quot;left&quot;: 10, &quot;right&quot;: 10, &quot;top&quot;: 10}, &quot;physics&quot;: false, &quot;shape&quot;: &quot;box&quot;, &quot;x&quot;: -150.0, &quot;y&quot;: 0}, {&quot;color&quot;: &quot;#FF5A50&quot;, &quot;fixed&quot;: true, &quot;font&quot;: {&quot;color&quot;: &quot;#FFFFFF&quot;, &quot;multi&quot;: &quot;html&quot;}, &quot;id&quot;: &quot;pesquisar_na_web&quot;, &quot;label&quot;: &quot;Pesquisar Na Web&quot;, &quot;margin&quot;: {&quot;bottom&quot;: 8, &quot;left&quot;: 10, &quot;right&quot;: 10, &quot;top&quot;: 10}, &quot;physics&quot;: false, &quot;shape&quot;: &quot;box&quot;, &quot;x&quot;: 150.0, &quot;y&quot;: 0}, {&quot;color&quot;: &quot;#333333&quot;, &quot;fixed&quot;: true, &quot;font&quot;: {&quot;color&quot;: &quot;#FFFFFF&quot;, &quot;multi&quot;: &quot;html&quot;}, &quot;id&quot;: &quot;gerar_analise_independente_1&quot;, &quot;label&quot;: &quot;Gerar Analise Independente 1&quot;, &quot;margin&quot;: {&quot;bottom&quot;: 8, &quot;left&quot;: 10, &quot;right&quot;: 10, &quot;top&quot;: 10}, &quot;physics&quot;: false, &quot;shape&quot;: &quot;box&quot;, &quot;x&quot;: -300.0, &quot;y&quot;: 150}, {&quot;color&quot;: &quot;#333333&quot;, &quot;fixed&quot;: true, &quot;font&quot;: {&quot;color&quot;: &quot;#FFFFFF&quot;, &quot;multi&quot;: &quot;html&quot;}, &quot;id&quot;: &quot;gerar_analise_independente_2&quot;, &quot;label&quot;: &quot;Gerar Analise Independente 2&quot;, &quot;margin&quot;: {&quot;bottom&quot;: 8, &quot;left&quot;: 10, &quot;right&quot;: 10, &quot;top&quot;: 10}, &quot;physics&quot;: false, &quot;shape&quot;: &quot;box&quot;, &quot;x&quot;: 0.0, &quot;y&quot;: 150}, {&quot;color&quot;: &quot;#333333&quot;, &quot;fixed&quot;: true, &quot;font&quot;: {&quot;color&quot;: &quot;#FFFFFF&quot;, &quot;multi&quot;: &quot;html&quot;}, &quot;id&quot;: &quot;gerar_analise_independente_3&quot;, &quot;label&quot;: &quot;Gerar Analise Independente 3&quot;, &quot;margin&quot;: {&quot;bottom&quot;: 8, &quot;left&quot;: 10, &quot;right&quot;: 10, &quot;top&quot;: 10}, &quot;physics&quot;: false, &quot;shape&quot;: &quot;box&quot;, &quot;x&quot;: 300.0, &quot;y&quot;: 150}, {&quot;color&quot;: &quot;#333333&quot;, &quot;fixed&quot;: true, &quot;font&quot;: {&quot;color&quot;: &quot;#FFFFFF&quot;, &quot;multi&quot;: &quot;html&quot;}, &quot;id&quot;: &quot;sintetizar_resposta_final&quot;, &quot;label&quot;: &quot;Sintetizar Resposta Final&quot;, &quot;margin&quot;: {&quot;bottom&quot;: 8, &quot;left&quot;: 10, &quot;right&quot;: 10, &quot;top&quot;: 10}, &quot;physics&quot;: false, &quot;shape&quot;: &quot;box&quot;, &quot;x&quot;: 0.0, &quot;y&quot;: 300}]);\n",
              "                  edges = new vis.DataSet([{&quot;arrows&quot;: &quot;to&quot;, &quot;color&quot;: &quot;#666666&quot;, &quot;dashes&quot;: true, &quot;from&quot;: &quot;pesquisar_com_rag&quot;, &quot;smooth&quot;: {&quot;roundness&quot;: 0.2, &quot;type&quot;: &quot;curvedCCW&quot;}, &quot;to&quot;: &quot;gerar_analise_independente_1&quot;, &quot;width&quot;: 2}, {&quot;arrows&quot;: &quot;to&quot;, &quot;color&quot;: &quot;#666666&quot;, &quot;dashes&quot;: true, &quot;from&quot;: &quot;pesquisar_na_web&quot;, &quot;smooth&quot;: {&quot;roundness&quot;: 0.2, &quot;type&quot;: &quot;curvedCCW&quot;}, &quot;to&quot;: &quot;gerar_analise_independente_1&quot;, &quot;width&quot;: 2}, {&quot;arrows&quot;: &quot;to&quot;, &quot;color&quot;: &quot;#666666&quot;, &quot;dashes&quot;: true, &quot;from&quot;: &quot;pesquisar_com_rag&quot;, &quot;smooth&quot;: {&quot;roundness&quot;: 0.30000000000000004, &quot;type&quot;: &quot;curvedCW&quot;}, &quot;to&quot;: &quot;gerar_analise_independente_2&quot;, &quot;width&quot;: 2}, {&quot;arrows&quot;: &quot;to&quot;, &quot;color&quot;: &quot;#666666&quot;, &quot;dashes&quot;: true, &quot;from&quot;: &quot;pesquisar_na_web&quot;, &quot;smooth&quot;: {&quot;roundness&quot;: 0.30000000000000004, &quot;type&quot;: &quot;curvedCCW&quot;}, &quot;to&quot;: &quot;gerar_analise_independente_2&quot;, &quot;width&quot;: 2}, {&quot;arrows&quot;: &quot;to&quot;, &quot;color&quot;: &quot;#666666&quot;, &quot;dashes&quot;: true, &quot;from&quot;: &quot;pesquisar_com_rag&quot;, &quot;smooth&quot;: {&quot;roundness&quot;: 0.4, &quot;type&quot;: &quot;curvedCW&quot;}, &quot;to&quot;: &quot;gerar_analise_independente_3&quot;, &quot;width&quot;: 2}, {&quot;arrows&quot;: &quot;to&quot;, &quot;color&quot;: &quot;#666666&quot;, &quot;dashes&quot;: true, &quot;from&quot;: &quot;pesquisar_na_web&quot;, &quot;smooth&quot;: {&quot;roundness&quot;: 0.4, &quot;type&quot;: &quot;continuous&quot;}, &quot;to&quot;: &quot;gerar_analise_independente_3&quot;, &quot;width&quot;: 2}, {&quot;arrows&quot;: &quot;to&quot;, &quot;color&quot;: &quot;#666666&quot;, &quot;dashes&quot;: true, &quot;from&quot;: &quot;gerar_analise_independente_1&quot;, &quot;smooth&quot;: {&quot;roundness&quot;: 0.4, &quot;type&quot;: &quot;continuous&quot;}, &quot;to&quot;: &quot;sintetizar_resposta_final&quot;, &quot;width&quot;: 2}, {&quot;arrows&quot;: &quot;to&quot;, &quot;color&quot;: &quot;#666666&quot;, &quot;dashes&quot;: true, &quot;from&quot;: &quot;gerar_analise_independente_2&quot;, &quot;smooth&quot;: {&quot;roundness&quot;: 0.4, &quot;type&quot;: &quot;continuous&quot;}, &quot;to&quot;: &quot;sintetizar_resposta_final&quot;, &quot;width&quot;: 2}, {&quot;arrows&quot;: &quot;to&quot;, &quot;color&quot;: &quot;#666666&quot;, &quot;dashes&quot;: true, &quot;from&quot;: &quot;gerar_analise_independente_3&quot;, &quot;smooth&quot;: {&quot;roundness&quot;: 0.4, &quot;type&quot;: &quot;continuous&quot;}, &quot;to&quot;: &quot;sintetizar_resposta_final&quot;, &quot;width&quot;: 2}]);\n",
              "\n",
              "                  nodeColors = {};\n",
              "                  allNodes = nodes.get({ returnType: &quot;Object&quot; });\n",
              "                  for (nodeId in allNodes) {\n",
              "                    nodeColors[nodeId] = allNodes[nodeId].color;\n",
              "                  }\n",
              "                  allEdges = edges.get({ returnType: &quot;Object&quot; });\n",
              "                  // adding nodes and edges to the graph\n",
              "                  data = {nodes: nodes, edges: edges};\n",
              "\n",
              "                  var options = {&quot;nodes&quot;: {&quot;font&quot;: {&quot;multi&quot;: &quot;html&quot;}}, &quot;physics&quot;: {&quot;enabled&quot;: false}};\n",
              "\n",
              "                  \n",
              "\n",
              "\n",
              "                  \n",
              "\n",
              "                  network = new vis.Network(container, data, options);\n",
              "\n",
              "                  \n",
              "\n",
              "                  \n",
              "\n",
              "                  \n",
              "\n",
              "\n",
              "                  \n",
              "\n",
              "                  return network;\n",
              "\n",
              "              }\n",
              "              drawGraph();\n",
              "        &lt;/script&gt;\n",
              "    \n",
              "  &lt;/body&gt;\n",
              "&lt;/html&gt;\n",
              "\" width=\"800\" height=\"600\" style=\"border:none;\"></iframe>"
            ]
          },
          "metadata": {}
        }
      ]
    },
    {
      "cell_type": "markdown",
      "source": [
        "## Testes"
      ],
      "metadata": {
        "id": "kIZp-O3Fl9cH"
      },
      "id": "kIZp-O3Fl9cH"
    },
    {
      "cell_type": "markdown",
      "source": [
        "### Pergunta sobre Código do Consumidor"
      ],
      "metadata": {
        "id": "44SK3SYpYKOn"
      },
      "id": "44SK3SYpYKOn"
    },
    {
      "cell_type": "code",
      "execution_count": 14,
      "id": "SEEdmV1Lnmre",
      "metadata": {
        "colab": {
          "base_uri": "https://localhost:8080/",
          "height": 1000,
          "referenced_widgets": [
            "b72e0f3e93214689989fe65679ae3cc3",
            "b959a7395cd146ffb52cdda68e95db94",
            "aac645421653413bb3f27591cd936c35",
            "a9093c248a994cdea14b97631bc87846",
            "5faa440310194a3dafb60e49f10f563a",
            "f77bda3cc905414aa1d5ba8bbccb3c89",
            "e7029888822645f4bb90cb54668c003c",
            "a2af14cca7fd4e0d9f647b2ed6c07d3f",
            "1c24008331ee437cacd39171919f0280",
            "a21efbe257a24748a8bdd039e078ed77",
            "662f6097fdea458199e760bcde5f8865",
            "88dba5147b9a4e75b071e7cd73b77971",
            "317321b47d9f40f881953404f877feb8",
            "c0240ec8069e4abfac99cb3ee63dedec",
            "6be8783e1ecc4b7394417f4f7b3cec4f",
            "32d07236c68949f7831146a1235392d3"
          ]
        },
        "id": "SEEdmV1Lnmre",
        "collapsed": true,
        "outputId": "dd8db3ab-4959-4ead-9f92-903a3af1d693"
      },
      "outputs": [
        {
          "output_type": "display_data",
          "data": {
            "text/plain": [
              "\u001b[1;35m Flow started with ID: 30428d66-bb5b-4973-b979-633d2b80b925\u001b[0m\n"
            ],
            "text/html": [
              "<pre style=\"white-space:pre;overflow-x:auto;line-height:normal;font-family:Menlo,'DejaVu Sans Mono',consolas,'Courier New',monospace\"><span style=\"color: #800080; text-decoration-color: #800080; font-weight: bold\"> Flow started with ID: 30428d66-bb5b-4973-b979-633d2b80b925</span>\n",
              "</pre>\n"
            ]
          },
          "metadata": {}
        },
        {
          "output_type": "display_data",
          "data": {
            "text/plain": [
              "Output()"
            ],
            "application/vnd.jupyter.widget-view+json": {
              "version_major": 2,
              "version_minor": 0,
              "model_id": "b72e0f3e93214689989fe65679ae3cc3"
            }
          },
          "metadata": {}
        },
        {
          "output_type": "display_data",
          "data": {
            "text/plain": [
              "/usr/local/lib/python3.11/dist-packages/ipywidgets/widgets/widget_output.py:111: DeprecationWarning: \n",
              "Kernel._parent_header is deprecated in ipykernel 6. Use .get_parent()\n",
              "  if ip and hasattr(ip, 'kernel') and hasattr(ip.kernel, '_parent_header'):\n"
            ],
            "text/html": [
              "<pre style=\"white-space:pre;overflow-x:auto;line-height:normal;font-family:Menlo,'DejaVu Sans Mono',consolas,'Courier New',monospace\">/usr/local/lib/python3.11/dist-packages/ipywidgets/widgets/widget_output.py:111: DeprecationWarning: \n",
              "Kernel._parent_header is deprecated in ipykernel 6. Use .get_parent()\n",
              "  if ip and hasattr(ip, 'kernel') and hasattr(ip.kernel, '_parent_header'):\n",
              "</pre>\n"
            ]
          },
          "metadata": {}
        },
        {
          "output_type": "display_data",
          "data": {
            "text/plain": [
              "/usr/local/lib/python3.11/dist-packages/ipywidgets/widgets/widget_output.py:112: DeprecationWarning: \n",
              "Kernel._parent_header is deprecated in ipykernel 6. Use .get_parent()\n",
              "  self.msg_id = ip.kernel._parent_header['header']['msg_id']\n"
            ],
            "text/html": [
              "<pre style=\"white-space:pre;overflow-x:auto;line-height:normal;font-family:Menlo,'DejaVu Sans Mono',consolas,'Courier New',monospace\">/usr/local/lib/python3.11/dist-packages/ipywidgets/widgets/widget_output.py:112: DeprecationWarning: \n",
              "Kernel._parent_header is deprecated in ipykernel 6. Use .get_parent()\n",
              "  self.msg_id = ip.kernel._parent_header['header']['msg_id']\n",
              "</pre>\n"
            ]
          },
          "metadata": {}
        },
        {
          "output_type": "display_data",
          "data": {
            "text/plain": [],
            "text/html": [
              "<pre style=\"white-space:pre;overflow-x:auto;line-height:normal;font-family:Menlo,'DejaVu Sans Mono',consolas,'Courier New',monospace\"></pre>\n"
            ]
          },
          "metadata": {}
        },
        {
          "output_type": "display_data",
          "data": {
            "text/plain": [],
            "text/html": [
              "<pre style=\"white-space:pre;overflow-x:auto;line-height:normal;font-family:Menlo,'DejaVu Sans Mono',consolas,'Courier New',monospace\"></pre>\n"
            ]
          },
          "metadata": {}
        },
        {
          "output_type": "display_data",
          "data": {
            "text/plain": [
              "\u001b[36m╭─\u001b[0m\u001b[36m──────────────────────────────────────────────\u001b[0m\u001b[36m LiteAgent Started \u001b[0m\u001b[36m──────────────────────────────────────────────\u001b[0m\u001b[36m─╮\u001b[0m\n",
              "\u001b[36m│\u001b[0m                                                                                                                 \u001b[36m│\u001b[0m\n",
              "\u001b[36m│\u001b[0m  \u001b[1;36mLiteAgent Session Started\u001b[0m                                                                                      \u001b[36m│\u001b[0m\n",
              "\u001b[36m│\u001b[0m  \u001b[37mName: \u001b[0m\u001b[36mAnalista de Contexto e Casos Práticos (Web Only)\u001b[0m                                                         \u001b[36m│\u001b[0m\n",
              "\u001b[36m│\u001b[0m  \u001b[37mid: \u001b[0m\u001b[36m902ed075-34cb-4a1d-b589-be0cd461e8cf\u001b[0m                                                                       \u001b[36m│\u001b[0m\n",
              "\u001b[36m│\u001b[0m  \u001b[37mrole: \u001b[0m\u001b[36mAnalista de Contexto e Casos Práticos (Web Only)\u001b[0m                                                         \u001b[36m│\u001b[0m\n",
              "\u001b[36m│\u001b[0m  \u001b[37mgoal: \u001b[0m\u001b[36mPara qualquer pergunta do usuário, usar SOMENTE a busca na web para encontrar notícias, artigos de blog\u001b[0m  \u001b[36m│\u001b[0m\n",
              "\u001b[36m│\u001b[0m  \u001b[36me decisões judiciais que forneçam contexto do mundo real sobre como as leis são aplicadas. Não ser \u001b[0m            \u001b[36m│\u001b[0m\n",
              "\u001b[36m│\u001b[0m  \u001b[36mredundante. Não dar opniões.\u001b[0m                                                                                   \u001b[36m│\u001b[0m\n",
              "\u001b[36m│\u001b[0m  \u001b[37mbackstory: \u001b[0m\u001b[36mVocê é um jornalista investigativo especializado no judiciário. Você sabe como encontrar exemplos \u001b[0m  \u001b[36m│\u001b[0m\n",
              "\u001b[36m│\u001b[0m  \u001b[36mque ilustram a aplicação prática das leis, ajudando a entender além do texto legal. Sua especialidade é \u001b[0m       \u001b[36m│\u001b[0m\n",
              "\u001b[36m│\u001b[0m  \u001b[36mencontrar informações relevantes usando apenas a web.\u001b[0m                                                          \u001b[36m│\u001b[0m\n",
              "\u001b[36m│\u001b[0m  \u001b[37mtools: \u001b[0m\u001b[36m[CrewStructuredTool(name='Search the internet with Serper', description='Tool Name: Search the \u001b[0m         \u001b[36m│\u001b[0m\n",
              "\u001b[36m│\u001b[0m  \u001b[36minternet with Serper\u001b[0m                                                                                           \u001b[36m│\u001b[0m\n",
              "\u001b[36m│\u001b[0m  \u001b[36mTool Arguments: {'search_query': {'description': 'Mandatory search query you want to use to search the \u001b[0m        \u001b[36m│\u001b[0m\n",
              "\u001b[36m│\u001b[0m  \u001b[36minternet', 'type': 'str'}}\u001b[0m                                                                                     \u001b[36m│\u001b[0m\n",
              "\u001b[36m│\u001b[0m  \u001b[36mTool Description: A tool that can be used to search the internet with a search_query. Supports different \u001b[0m      \u001b[36m│\u001b[0m\n",
              "\u001b[36m│\u001b[0m  \u001b[36msearch types: 'search' (default), 'news'')]\u001b[0m                                                                    \u001b[36m│\u001b[0m\n",
              "\u001b[36m│\u001b[0m  \u001b[37mverbose: \u001b[0m\u001b[36mFalse\u001b[0m                                                                                                 \u001b[36m│\u001b[0m\n",
              "\u001b[36m│\u001b[0m  \u001b[37mTool Args: \u001b[0m                                                                                                    \u001b[36m│\u001b[0m\n",
              "\u001b[36m│\u001b[0m                                                                                                                 \u001b[36m│\u001b[0m\n",
              "\u001b[36m│\u001b[0m                                                                                                                 \u001b[36m│\u001b[0m\n",
              "\u001b[36m╰─────────────────────────────────────────────────────────────────────────────────────────────────────────────────╯\u001b[0m\n"
            ],
            "text/html": [
              "<pre style=\"white-space:pre;overflow-x:auto;line-height:normal;font-family:Menlo,'DejaVu Sans Mono',consolas,'Courier New',monospace\"><span style=\"color: #008080; text-decoration-color: #008080\">╭─────────────────────────────────────────────── LiteAgent Started ───────────────────────────────────────────────╮</span>\n",
              "<span style=\"color: #008080; text-decoration-color: #008080\">│</span>                                                                                                                 <span style=\"color: #008080; text-decoration-color: #008080\">│</span>\n",
              "<span style=\"color: #008080; text-decoration-color: #008080\">│</span>  <span style=\"color: #008080; text-decoration-color: #008080; font-weight: bold\">LiteAgent Session Started</span>                                                                                      <span style=\"color: #008080; text-decoration-color: #008080\">│</span>\n",
              "<span style=\"color: #008080; text-decoration-color: #008080\">│</span>  <span style=\"color: #c0c0c0; text-decoration-color: #c0c0c0\">Name: </span><span style=\"color: #008080; text-decoration-color: #008080\">Analista de Contexto e Casos Práticos (Web Only)</span>                                                         <span style=\"color: #008080; text-decoration-color: #008080\">│</span>\n",
              "<span style=\"color: #008080; text-decoration-color: #008080\">│</span>  <span style=\"color: #c0c0c0; text-decoration-color: #c0c0c0\">id: </span><span style=\"color: #008080; text-decoration-color: #008080\">902ed075-34cb-4a1d-b589-be0cd461e8cf</span>                                                                       <span style=\"color: #008080; text-decoration-color: #008080\">│</span>\n",
              "<span style=\"color: #008080; text-decoration-color: #008080\">│</span>  <span style=\"color: #c0c0c0; text-decoration-color: #c0c0c0\">role: </span><span style=\"color: #008080; text-decoration-color: #008080\">Analista de Contexto e Casos Práticos (Web Only)</span>                                                         <span style=\"color: #008080; text-decoration-color: #008080\">│</span>\n",
              "<span style=\"color: #008080; text-decoration-color: #008080\">│</span>  <span style=\"color: #c0c0c0; text-decoration-color: #c0c0c0\">goal: </span><span style=\"color: #008080; text-decoration-color: #008080\">Para qualquer pergunta do usuário, usar SOMENTE a busca na web para encontrar notícias, artigos de blog</span>  <span style=\"color: #008080; text-decoration-color: #008080\">│</span>\n",
              "<span style=\"color: #008080; text-decoration-color: #008080\">│</span>  <span style=\"color: #008080; text-decoration-color: #008080\">e decisões judiciais que forneçam contexto do mundo real sobre como as leis são aplicadas. Não ser </span>            <span style=\"color: #008080; text-decoration-color: #008080\">│</span>\n",
              "<span style=\"color: #008080; text-decoration-color: #008080\">│</span>  <span style=\"color: #008080; text-decoration-color: #008080\">redundante. Não dar opniões.</span>                                                                                   <span style=\"color: #008080; text-decoration-color: #008080\">│</span>\n",
              "<span style=\"color: #008080; text-decoration-color: #008080\">│</span>  <span style=\"color: #c0c0c0; text-decoration-color: #c0c0c0\">backstory: </span><span style=\"color: #008080; text-decoration-color: #008080\">Você é um jornalista investigativo especializado no judiciário. Você sabe como encontrar exemplos </span>  <span style=\"color: #008080; text-decoration-color: #008080\">│</span>\n",
              "<span style=\"color: #008080; text-decoration-color: #008080\">│</span>  <span style=\"color: #008080; text-decoration-color: #008080\">que ilustram a aplicação prática das leis, ajudando a entender além do texto legal. Sua especialidade é </span>       <span style=\"color: #008080; text-decoration-color: #008080\">│</span>\n",
              "<span style=\"color: #008080; text-decoration-color: #008080\">│</span>  <span style=\"color: #008080; text-decoration-color: #008080\">encontrar informações relevantes usando apenas a web.</span>                                                          <span style=\"color: #008080; text-decoration-color: #008080\">│</span>\n",
              "<span style=\"color: #008080; text-decoration-color: #008080\">│</span>  <span style=\"color: #c0c0c0; text-decoration-color: #c0c0c0\">tools: </span><span style=\"color: #008080; text-decoration-color: #008080\">[CrewStructuredTool(name='Search the internet with Serper', description='Tool Name: Search the </span>         <span style=\"color: #008080; text-decoration-color: #008080\">│</span>\n",
              "<span style=\"color: #008080; text-decoration-color: #008080\">│</span>  <span style=\"color: #008080; text-decoration-color: #008080\">internet with Serper</span>                                                                                           <span style=\"color: #008080; text-decoration-color: #008080\">│</span>\n",
              "<span style=\"color: #008080; text-decoration-color: #008080\">│</span>  <span style=\"color: #008080; text-decoration-color: #008080\">Tool Arguments: {'search_query': {'description': 'Mandatory search query you want to use to search the </span>        <span style=\"color: #008080; text-decoration-color: #008080\">│</span>\n",
              "<span style=\"color: #008080; text-decoration-color: #008080\">│</span>  <span style=\"color: #008080; text-decoration-color: #008080\">internet', 'type': 'str'}}</span>                                                                                     <span style=\"color: #008080; text-decoration-color: #008080\">│</span>\n",
              "<span style=\"color: #008080; text-decoration-color: #008080\">│</span>  <span style=\"color: #008080; text-decoration-color: #008080\">Tool Description: A tool that can be used to search the internet with a search_query. Supports different </span>      <span style=\"color: #008080; text-decoration-color: #008080\">│</span>\n",
              "<span style=\"color: #008080; text-decoration-color: #008080\">│</span>  <span style=\"color: #008080; text-decoration-color: #008080\">search types: 'search' (default), 'news'')]</span>                                                                    <span style=\"color: #008080; text-decoration-color: #008080\">│</span>\n",
              "<span style=\"color: #008080; text-decoration-color: #008080\">│</span>  <span style=\"color: #c0c0c0; text-decoration-color: #c0c0c0\">verbose: </span><span style=\"color: #008080; text-decoration-color: #008080\">False</span>                                                                                                 <span style=\"color: #008080; text-decoration-color: #008080\">│</span>\n",
              "<span style=\"color: #008080; text-decoration-color: #008080\">│</span>  <span style=\"color: #c0c0c0; text-decoration-color: #c0c0c0\">Tool Args: </span>                                                                                                    <span style=\"color: #008080; text-decoration-color: #008080\">│</span>\n",
              "<span style=\"color: #008080; text-decoration-color: #008080\">│</span>                                                                                                                 <span style=\"color: #008080; text-decoration-color: #008080\">│</span>\n",
              "<span style=\"color: #008080; text-decoration-color: #008080\">│</span>                                                                                                                 <span style=\"color: #008080; text-decoration-color: #008080\">│</span>\n",
              "<span style=\"color: #008080; text-decoration-color: #008080\">╰─────────────────────────────────────────────────────────────────────────────────────────────────────────────────╯</span>\n",
              "</pre>\n"
            ]
          },
          "metadata": {}
        },
        {
          "output_type": "display_data",
          "data": {
            "text/plain": [
              "\n"
            ],
            "text/html": [
              "<pre style=\"white-space:pre;overflow-x:auto;line-height:normal;font-family:Menlo,'DejaVu Sans Mono',consolas,'Courier New',monospace\">\n",
              "</pre>\n"
            ]
          },
          "metadata": {}
        },
        {
          "output_type": "display_data",
          "data": {
            "text/plain": [
              "Output()"
            ],
            "application/vnd.jupyter.widget-view+json": {
              "version_major": 2,
              "version_minor": 0,
              "model_id": "aac645421653413bb3f27591cd936c35"
            }
          },
          "metadata": {}
        },
        {
          "output_type": "display_data",
          "data": {
            "text/plain": [],
            "text/html": [
              "<pre style=\"white-space:pre;overflow-x:auto;line-height:normal;font-family:Menlo,'DejaVu Sans Mono',consolas,'Courier New',monospace\"></pre>\n"
            ]
          },
          "metadata": {}
        },
        {
          "output_type": "display_data",
          "data": {
            "text/plain": [
              "\u001b[32m╭─\u001b[0m\u001b[32m────────────────────────────────────────────\u001b[0m\u001b[32m LiteAgent Completion \u001b[0m\u001b[32m─────────────────────────────────────────────\u001b[0m\u001b[32m─╮\u001b[0m\n",
              "\u001b[32m│\u001b[0m                                                                                                                 \u001b[32m│\u001b[0m\n",
              "\u001b[32m│\u001b[0m  \u001b[1;32mLiteAgent Completed\u001b[0m                                                                                            \u001b[32m│\u001b[0m\n",
              "\u001b[32m│\u001b[0m  \u001b[37mName: \u001b[0m\u001b[32mAnalista de Contexto e Casos Práticos (Web Only)\u001b[0m                                                         \u001b[32m│\u001b[0m\n",
              "\u001b[32m│\u001b[0m  \u001b[37mid: \u001b[0m\u001b[32m902ed075-34cb-4a1d-b589-be0cd461e8cf\u001b[0m                                                                       \u001b[32m│\u001b[0m\n",
              "\u001b[32m│\u001b[0m  \u001b[37mrole: \u001b[0m\u001b[32mAnalista de Contexto e Casos Práticos (Web Only)\u001b[0m                                                         \u001b[32m│\u001b[0m\n",
              "\u001b[32m│\u001b[0m  \u001b[37mgoal: \u001b[0m\u001b[32mPara qualquer pergunta do usuário, usar SOMENTE a busca na web para encontrar notícias, artigos de blog\u001b[0m  \u001b[32m│\u001b[0m\n",
              "\u001b[32m│\u001b[0m  \u001b[32me decisões judiciais que forneçam contexto do mundo real sobre como as leis são aplicadas. Não ser \u001b[0m            \u001b[32m│\u001b[0m\n",
              "\u001b[32m│\u001b[0m  \u001b[32mredundante. Não dar opniões.\u001b[0m                                                                                   \u001b[32m│\u001b[0m\n",
              "\u001b[32m│\u001b[0m  \u001b[37mbackstory: \u001b[0m\u001b[32mVocê é um jornalista investigativo especializado no judiciário. Você sabe como encontrar exemplos \u001b[0m  \u001b[32m│\u001b[0m\n",
              "\u001b[32m│\u001b[0m  \u001b[32mque ilustram a aplicação prática das leis, ajudando a entender além do texto legal. Sua especialidade é \u001b[0m       \u001b[32m│\u001b[0m\n",
              "\u001b[32m│\u001b[0m  \u001b[32mencontrar informações relevantes usando apenas a web.\u001b[0m                                                          \u001b[32m│\u001b[0m\n",
              "\u001b[32m│\u001b[0m  \u001b[37mtools: \u001b[0m\u001b[32m[CrewStructuredTool(name='Search the internet with Serper', description='Tool Name: Search the \u001b[0m         \u001b[32m│\u001b[0m\n",
              "\u001b[32m│\u001b[0m  \u001b[32minternet with Serper\u001b[0m                                                                                           \u001b[32m│\u001b[0m\n",
              "\u001b[32m│\u001b[0m  \u001b[32mTool Arguments: {'search_query': {'description': 'Mandatory search query you want to use to search the \u001b[0m        \u001b[32m│\u001b[0m\n",
              "\u001b[32m│\u001b[0m  \u001b[32minternet', 'type': 'str'}}\u001b[0m                                                                                     \u001b[32m│\u001b[0m\n",
              "\u001b[32m│\u001b[0m  \u001b[32mTool Description: A tool that can be used to search the internet with a search_query. Supports different \u001b[0m      \u001b[32m│\u001b[0m\n",
              "\u001b[32m│\u001b[0m  \u001b[32msearch types: 'search' (default), 'news'')]\u001b[0m                                                                    \u001b[32m│\u001b[0m\n",
              "\u001b[32m│\u001b[0m  \u001b[37mverbose: \u001b[0m\u001b[32mFalse\u001b[0m                                                                                                 \u001b[32m│\u001b[0m\n",
              "\u001b[32m│\u001b[0m  \u001b[37mTool Args: \u001b[0m                                                                                                    \u001b[32m│\u001b[0m\n",
              "\u001b[32m│\u001b[0m                                                                                                                 \u001b[32m│\u001b[0m\n",
              "\u001b[32m│\u001b[0m                                                                                                                 \u001b[32m│\u001b[0m\n",
              "\u001b[32m╰─────────────────────────────────────────────────────────────────────────────────────────────────────────────────╯\u001b[0m\n"
            ],
            "text/html": [
              "<pre style=\"white-space:pre;overflow-x:auto;line-height:normal;font-family:Menlo,'DejaVu Sans Mono',consolas,'Courier New',monospace\"><span style=\"color: #008000; text-decoration-color: #008000\">╭───────────────────────────────────────────── LiteAgent Completion ──────────────────────────────────────────────╮</span>\n",
              "<span style=\"color: #008000; text-decoration-color: #008000\">│</span>                                                                                                                 <span style=\"color: #008000; text-decoration-color: #008000\">│</span>\n",
              "<span style=\"color: #008000; text-decoration-color: #008000\">│</span>  <span style=\"color: #008000; text-decoration-color: #008000; font-weight: bold\">LiteAgent Completed</span>                                                                                            <span style=\"color: #008000; text-decoration-color: #008000\">│</span>\n",
              "<span style=\"color: #008000; text-decoration-color: #008000\">│</span>  <span style=\"color: #c0c0c0; text-decoration-color: #c0c0c0\">Name: </span><span style=\"color: #008000; text-decoration-color: #008000\">Analista de Contexto e Casos Práticos (Web Only)</span>                                                         <span style=\"color: #008000; text-decoration-color: #008000\">│</span>\n",
              "<span style=\"color: #008000; text-decoration-color: #008000\">│</span>  <span style=\"color: #c0c0c0; text-decoration-color: #c0c0c0\">id: </span><span style=\"color: #008000; text-decoration-color: #008000\">902ed075-34cb-4a1d-b589-be0cd461e8cf</span>                                                                       <span style=\"color: #008000; text-decoration-color: #008000\">│</span>\n",
              "<span style=\"color: #008000; text-decoration-color: #008000\">│</span>  <span style=\"color: #c0c0c0; text-decoration-color: #c0c0c0\">role: </span><span style=\"color: #008000; text-decoration-color: #008000\">Analista de Contexto e Casos Práticos (Web Only)</span>                                                         <span style=\"color: #008000; text-decoration-color: #008000\">│</span>\n",
              "<span style=\"color: #008000; text-decoration-color: #008000\">│</span>  <span style=\"color: #c0c0c0; text-decoration-color: #c0c0c0\">goal: </span><span style=\"color: #008000; text-decoration-color: #008000\">Para qualquer pergunta do usuário, usar SOMENTE a busca na web para encontrar notícias, artigos de blog</span>  <span style=\"color: #008000; text-decoration-color: #008000\">│</span>\n",
              "<span style=\"color: #008000; text-decoration-color: #008000\">│</span>  <span style=\"color: #008000; text-decoration-color: #008000\">e decisões judiciais que forneçam contexto do mundo real sobre como as leis são aplicadas. Não ser </span>            <span style=\"color: #008000; text-decoration-color: #008000\">│</span>\n",
              "<span style=\"color: #008000; text-decoration-color: #008000\">│</span>  <span style=\"color: #008000; text-decoration-color: #008000\">redundante. Não dar opniões.</span>                                                                                   <span style=\"color: #008000; text-decoration-color: #008000\">│</span>\n",
              "<span style=\"color: #008000; text-decoration-color: #008000\">│</span>  <span style=\"color: #c0c0c0; text-decoration-color: #c0c0c0\">backstory: </span><span style=\"color: #008000; text-decoration-color: #008000\">Você é um jornalista investigativo especializado no judiciário. Você sabe como encontrar exemplos </span>  <span style=\"color: #008000; text-decoration-color: #008000\">│</span>\n",
              "<span style=\"color: #008000; text-decoration-color: #008000\">│</span>  <span style=\"color: #008000; text-decoration-color: #008000\">que ilustram a aplicação prática das leis, ajudando a entender além do texto legal. Sua especialidade é </span>       <span style=\"color: #008000; text-decoration-color: #008000\">│</span>\n",
              "<span style=\"color: #008000; text-decoration-color: #008000\">│</span>  <span style=\"color: #008000; text-decoration-color: #008000\">encontrar informações relevantes usando apenas a web.</span>                                                          <span style=\"color: #008000; text-decoration-color: #008000\">│</span>\n",
              "<span style=\"color: #008000; text-decoration-color: #008000\">│</span>  <span style=\"color: #c0c0c0; text-decoration-color: #c0c0c0\">tools: </span><span style=\"color: #008000; text-decoration-color: #008000\">[CrewStructuredTool(name='Search the internet with Serper', description='Tool Name: Search the </span>         <span style=\"color: #008000; text-decoration-color: #008000\">│</span>\n",
              "<span style=\"color: #008000; text-decoration-color: #008000\">│</span>  <span style=\"color: #008000; text-decoration-color: #008000\">internet with Serper</span>                                                                                           <span style=\"color: #008000; text-decoration-color: #008000\">│</span>\n",
              "<span style=\"color: #008000; text-decoration-color: #008000\">│</span>  <span style=\"color: #008000; text-decoration-color: #008000\">Tool Arguments: {'search_query': {'description': 'Mandatory search query you want to use to search the </span>        <span style=\"color: #008000; text-decoration-color: #008000\">│</span>\n",
              "<span style=\"color: #008000; text-decoration-color: #008000\">│</span>  <span style=\"color: #008000; text-decoration-color: #008000\">internet', 'type': 'str'}}</span>                                                                                     <span style=\"color: #008000; text-decoration-color: #008000\">│</span>\n",
              "<span style=\"color: #008000; text-decoration-color: #008000\">│</span>  <span style=\"color: #008000; text-decoration-color: #008000\">Tool Description: A tool that can be used to search the internet with a search_query. Supports different </span>      <span style=\"color: #008000; text-decoration-color: #008000\">│</span>\n",
              "<span style=\"color: #008000; text-decoration-color: #008000\">│</span>  <span style=\"color: #008000; text-decoration-color: #008000\">search types: 'search' (default), 'news'')]</span>                                                                    <span style=\"color: #008000; text-decoration-color: #008000\">│</span>\n",
              "<span style=\"color: #008000; text-decoration-color: #008000\">│</span>  <span style=\"color: #c0c0c0; text-decoration-color: #c0c0c0\">verbose: </span><span style=\"color: #008000; text-decoration-color: #008000\">False</span>                                                                                                 <span style=\"color: #008000; text-decoration-color: #008000\">│</span>\n",
              "<span style=\"color: #008000; text-decoration-color: #008000\">│</span>  <span style=\"color: #c0c0c0; text-decoration-color: #c0c0c0\">Tool Args: </span>                                                                                                    <span style=\"color: #008000; text-decoration-color: #008000\">│</span>\n",
              "<span style=\"color: #008000; text-decoration-color: #008000\">│</span>                                                                                                                 <span style=\"color: #008000; text-decoration-color: #008000\">│</span>\n",
              "<span style=\"color: #008000; text-decoration-color: #008000\">│</span>                                                                                                                 <span style=\"color: #008000; text-decoration-color: #008000\">│</span>\n",
              "<span style=\"color: #008000; text-decoration-color: #008000\">╰─────────────────────────────────────────────────────────────────────────────────────────────────────────────────╯</span>\n",
              "</pre>\n"
            ]
          },
          "metadata": {}
        },
        {
          "output_type": "display_data",
          "data": {
            "text/plain": [
              "\n"
            ],
            "text/html": [
              "<pre style=\"white-space:pre;overflow-x:auto;line-height:normal;font-family:Menlo,'DejaVu Sans Mono',consolas,'Courier New',monospace\">\n",
              "</pre>\n"
            ]
          },
          "metadata": {}
        },
        {
          "output_type": "display_data",
          "data": {
            "text/plain": [
              "Output()"
            ],
            "application/vnd.jupyter.widget-view+json": {
              "version_major": 2,
              "version_minor": 0,
              "model_id": "5faa440310194a3dafb60e49f10f563a"
            }
          },
          "metadata": {}
        },
        {
          "output_type": "display_data",
          "data": {
            "text/plain": [],
            "text/html": [
              "<pre style=\"white-space:pre;overflow-x:auto;line-height:normal;font-family:Menlo,'DejaVu Sans Mono',consolas,'Courier New',monospace\"></pre>\n"
            ]
          },
          "metadata": {}
        },
        {
          "output_type": "display_data",
          "data": {
            "text/plain": [
              "\u001b[32m╭─\u001b[0m\u001b[32m────────────────────────────────────────────\u001b[0m\u001b[32m LiteAgent Completion \u001b[0m\u001b[32m─────────────────────────────────────────────\u001b[0m\u001b[32m─╮\u001b[0m\n",
              "\u001b[32m│\u001b[0m                                                                                                                 \u001b[32m│\u001b[0m\n",
              "\u001b[32m│\u001b[0m  \u001b[1;32mLiteAgent Completed\u001b[0m                                                                                            \u001b[32m│\u001b[0m\n",
              "\u001b[32m│\u001b[0m  \u001b[37mName: \u001b[0m\u001b[32mPesquisador Jurídico (RAG Only)\u001b[0m                                                                          \u001b[32m│\u001b[0m\n",
              "\u001b[32m│\u001b[0m  \u001b[37mid: \u001b[0m\u001b[32m6580b6ea-01af-4e2b-ae4e-6810803c2a81\u001b[0m                                                                       \u001b[32m│\u001b[0m\n",
              "\u001b[32m│\u001b[0m  \u001b[37mrole: \u001b[0m\u001b[32mPesquisador Jurídico (RAG Only)\u001b[0m                                                                          \u001b[32m│\u001b[0m\n",
              "\u001b[32m│\u001b[0m  \u001b[37mgoal: \u001b[0m\u001b[32mPara qualquer pergunta do usuário, usar SOMENTE a ferramenta RAG para encontrar artigos de lei \u001b[0m          \u001b[32m│\u001b[0m\n",
              "\u001b[32m│\u001b[0m  \u001b[32mrelevantes e informações dentro da base de conhecimento fornecida. Não ser redundante. Não dar opniões.\u001b[0m        \u001b[32m│\u001b[0m\n",
              "\u001b[32m│\u001b[0m  \u001b[37mbackstory: \u001b[0m\u001b[32mVocê é um especialista em análise de documentos legais internos. Sua expertise é encontrar e citar\u001b[0m  \u001b[32m│\u001b[0m\n",
              "\u001b[32m│\u001b[0m  \u001b[32martigos de lei e outras informações relevantes exclusivamente dentro da sua base de conhecimento interna.\u001b[0m      \u001b[32m│\u001b[0m\n",
              "\u001b[32m│\u001b[0m  \u001b[37mtools: \u001b[0m\u001b[32m[CrewStructuredTool(name='Search a txt's content', description='Tool Name: Search a txt's content\u001b[0m       \u001b[32m│\u001b[0m\n",
              "\u001b[32m│\u001b[0m  \u001b[32mTool Arguments: {'search_query': {'description': \"Mandatory search query you want to use to search the txt's \u001b[0m  \u001b[32m│\u001b[0m\n",
              "\u001b[32m│\u001b[0m  \u001b[32mcontent\", 'type': 'str'}}\u001b[0m                                                                                      \u001b[32m│\u001b[0m\n",
              "\u001b[32m│\u001b[0m  \u001b[32mTool Description: A tool that can be used to semantic search a query the knowledge.txt txt's content.')]\u001b[0m       \u001b[32m│\u001b[0m\n",
              "\u001b[32m│\u001b[0m  \u001b[37mverbose: \u001b[0m\u001b[32mFalse\u001b[0m                                                                                                 \u001b[32m│\u001b[0m\n",
              "\u001b[32m│\u001b[0m  \u001b[37mTool Args: \u001b[0m                                                                                                    \u001b[32m│\u001b[0m\n",
              "\u001b[32m│\u001b[0m                                                                                                                 \u001b[32m│\u001b[0m\n",
              "\u001b[32m│\u001b[0m                                                                                                                 \u001b[32m│\u001b[0m\n",
              "\u001b[32m╰─────────────────────────────────────────────────────────────────────────────────────────────────────────────────╯\u001b[0m\n"
            ],
            "text/html": [
              "<pre style=\"white-space:pre;overflow-x:auto;line-height:normal;font-family:Menlo,'DejaVu Sans Mono',consolas,'Courier New',monospace\"><span style=\"color: #008000; text-decoration-color: #008000\">╭───────────────────────────────────────────── LiteAgent Completion ──────────────────────────────────────────────╮</span>\n",
              "<span style=\"color: #008000; text-decoration-color: #008000\">│</span>                                                                                                                 <span style=\"color: #008000; text-decoration-color: #008000\">│</span>\n",
              "<span style=\"color: #008000; text-decoration-color: #008000\">│</span>  <span style=\"color: #008000; text-decoration-color: #008000; font-weight: bold\">LiteAgent Completed</span>                                                                                            <span style=\"color: #008000; text-decoration-color: #008000\">│</span>\n",
              "<span style=\"color: #008000; text-decoration-color: #008000\">│</span>  <span style=\"color: #c0c0c0; text-decoration-color: #c0c0c0\">Name: </span><span style=\"color: #008000; text-decoration-color: #008000\">Pesquisador Jurídico (RAG Only)</span>                                                                          <span style=\"color: #008000; text-decoration-color: #008000\">│</span>\n",
              "<span style=\"color: #008000; text-decoration-color: #008000\">│</span>  <span style=\"color: #c0c0c0; text-decoration-color: #c0c0c0\">id: </span><span style=\"color: #008000; text-decoration-color: #008000\">6580b6ea-01af-4e2b-ae4e-6810803c2a81</span>                                                                       <span style=\"color: #008000; text-decoration-color: #008000\">│</span>\n",
              "<span style=\"color: #008000; text-decoration-color: #008000\">│</span>  <span style=\"color: #c0c0c0; text-decoration-color: #c0c0c0\">role: </span><span style=\"color: #008000; text-decoration-color: #008000\">Pesquisador Jurídico (RAG Only)</span>                                                                          <span style=\"color: #008000; text-decoration-color: #008000\">│</span>\n",
              "<span style=\"color: #008000; text-decoration-color: #008000\">│</span>  <span style=\"color: #c0c0c0; text-decoration-color: #c0c0c0\">goal: </span><span style=\"color: #008000; text-decoration-color: #008000\">Para qualquer pergunta do usuário, usar SOMENTE a ferramenta RAG para encontrar artigos de lei </span>          <span style=\"color: #008000; text-decoration-color: #008000\">│</span>\n",
              "<span style=\"color: #008000; text-decoration-color: #008000\">│</span>  <span style=\"color: #008000; text-decoration-color: #008000\">relevantes e informações dentro da base de conhecimento fornecida. Não ser redundante. Não dar opniões.</span>        <span style=\"color: #008000; text-decoration-color: #008000\">│</span>\n",
              "<span style=\"color: #008000; text-decoration-color: #008000\">│</span>  <span style=\"color: #c0c0c0; text-decoration-color: #c0c0c0\">backstory: </span><span style=\"color: #008000; text-decoration-color: #008000\">Você é um especialista em análise de documentos legais internos. Sua expertise é encontrar e citar</span>  <span style=\"color: #008000; text-decoration-color: #008000\">│</span>\n",
              "<span style=\"color: #008000; text-decoration-color: #008000\">│</span>  <span style=\"color: #008000; text-decoration-color: #008000\">artigos de lei e outras informações relevantes exclusivamente dentro da sua base de conhecimento interna.</span>      <span style=\"color: #008000; text-decoration-color: #008000\">│</span>\n",
              "<span style=\"color: #008000; text-decoration-color: #008000\">│</span>  <span style=\"color: #c0c0c0; text-decoration-color: #c0c0c0\">tools: </span><span style=\"color: #008000; text-decoration-color: #008000\">[CrewStructuredTool(name='Search a txt's content', description='Tool Name: Search a txt's content</span>       <span style=\"color: #008000; text-decoration-color: #008000\">│</span>\n",
              "<span style=\"color: #008000; text-decoration-color: #008000\">│</span>  <span style=\"color: #008000; text-decoration-color: #008000\">Tool Arguments: {'search_query': {'description': \"Mandatory search query you want to use to search the txt's </span>  <span style=\"color: #008000; text-decoration-color: #008000\">│</span>\n",
              "<span style=\"color: #008000; text-decoration-color: #008000\">│</span>  <span style=\"color: #008000; text-decoration-color: #008000\">content\", 'type': 'str'}}</span>                                                                                      <span style=\"color: #008000; text-decoration-color: #008000\">│</span>\n",
              "<span style=\"color: #008000; text-decoration-color: #008000\">│</span>  <span style=\"color: #008000; text-decoration-color: #008000\">Tool Description: A tool that can be used to semantic search a query the knowledge.txt txt's content.')]</span>       <span style=\"color: #008000; text-decoration-color: #008000\">│</span>\n",
              "<span style=\"color: #008000; text-decoration-color: #008000\">│</span>  <span style=\"color: #c0c0c0; text-decoration-color: #c0c0c0\">verbose: </span><span style=\"color: #008000; text-decoration-color: #008000\">False</span>                                                                                                 <span style=\"color: #008000; text-decoration-color: #008000\">│</span>\n",
              "<span style=\"color: #008000; text-decoration-color: #008000\">│</span>  <span style=\"color: #c0c0c0; text-decoration-color: #c0c0c0\">Tool Args: </span>                                                                                                    <span style=\"color: #008000; text-decoration-color: #008000\">│</span>\n",
              "<span style=\"color: #008000; text-decoration-color: #008000\">│</span>                                                                                                                 <span style=\"color: #008000; text-decoration-color: #008000\">│</span>\n",
              "<span style=\"color: #008000; text-decoration-color: #008000\">│</span>                                                                                                                 <span style=\"color: #008000; text-decoration-color: #008000\">│</span>\n",
              "<span style=\"color: #008000; text-decoration-color: #008000\">╰─────────────────────────────────────────────────────────────────────────────────────────────────────────────────╯</span>\n",
              "</pre>\n"
            ]
          },
          "metadata": {}
        },
        {
          "output_type": "display_data",
          "data": {
            "text/plain": [
              "\n"
            ],
            "text/html": [
              "<pre style=\"white-space:pre;overflow-x:auto;line-height:normal;font-family:Menlo,'DejaVu Sans Mono',consolas,'Courier New',monospace\">\n",
              "</pre>\n"
            ]
          },
          "metadata": {}
        },
        {
          "output_type": "display_data",
          "data": {
            "text/plain": [
              "Output()"
            ],
            "application/vnd.jupyter.widget-view+json": {
              "version_major": 2,
              "version_minor": 0,
              "model_id": "e7029888822645f4bb90cb54668c003c"
            }
          },
          "metadata": {}
        },
        {
          "output_type": "display_data",
          "data": {
            "text/plain": [],
            "text/html": [
              "<pre style=\"white-space:pre;overflow-x:auto;line-height:normal;font-family:Menlo,'DejaVu Sans Mono',consolas,'Courier New',monospace\"></pre>\n"
            ]
          },
          "metadata": {}
        },
        {
          "output_type": "display_data",
          "data": {
            "text/plain": [
              "\u001b[36m╭─\u001b[0m\u001b[36m──────────────────────────────────────────────\u001b[0m\u001b[36m LiteAgent Started \u001b[0m\u001b[36m──────────────────────────────────────────────\u001b[0m\u001b[36m─╮\u001b[0m\n",
              "\u001b[36m│\u001b[0m                                                                                                                 \u001b[36m│\u001b[0m\n",
              "\u001b[36m│\u001b[0m  \u001b[1;36mLiteAgent Session Started\u001b[0m                                                                                      \u001b[36m│\u001b[0m\n",
              "\u001b[36m│\u001b[0m  \u001b[37mName: \u001b[0m\u001b[36mAnalista Sênior de Informações\u001b[0m                                                                           \u001b[36m│\u001b[0m\n",
              "\u001b[36m│\u001b[0m  \u001b[37mid: \u001b[0m\u001b[36m7cfd6b2b-786e-40a5-8e08-6652bf2ab541\u001b[0m                                                                       \u001b[36m│\u001b[0m\n",
              "\u001b[36m│\u001b[0m  \u001b[37mrole: \u001b[0m\u001b[36mAnalista Sênior de Informações\u001b[0m                                                                           \u001b[36m│\u001b[0m\n",
              "\u001b[36m│\u001b[0m  \u001b[37mgoal: \u001b[0m\u001b[36mAnalisar a pesquisa legal (RAG) e os exemplos práticos (Web) para elaborar uma análise detalhada e uma \u001b[0m  \u001b[36m│\u001b[0m\n",
              "\u001b[36m│\u001b[0m  \u001b[36mproposta de resposta para a pergunta do usuário.\u001b[0m                                                               \u001b[36m│\u001b[0m\n",
              "\u001b[36m│\u001b[0m  \u001b[37mbackstory: \u001b[0m\u001b[36mVocê é um analista experiente, mestre em cruzar dados de legislação com casos práticos do mundo \u001b[0m    \u001b[36m│\u001b[0m\n",
              "\u001b[36m│\u001b[0m  \u001b[36mreal.\u001b[0m                                                                                                          \u001b[36m│\u001b[0m\n",
              "\u001b[36m│\u001b[0m  \u001b[36m                Sua função é examinar as informações brutas dos pesquisadores e construir um argumento coeso \u001b[0m  \u001b[36m│\u001b[0m\n",
              "\u001b[36m│\u001b[0m  \u001b[36me bem fundamentado.\u001b[0m                                                                                            \u001b[36m│\u001b[0m\n",
              "\u001b[36m│\u001b[0m  \u001b[36m                Sua análise aprofundada servirá como uma das várias perspectivas que serão usadas para \u001b[0m        \u001b[36m│\u001b[0m\n",
              "\u001b[36m│\u001b[0m  \u001b[36mconstruir a resposta final.\u001b[0m                                                                                    \u001b[36m│\u001b[0m\n",
              "\u001b[36m│\u001b[0m  \u001b[37mtools: \u001b[0m\u001b[36m[]\u001b[0m                                                                                                      \u001b[36m│\u001b[0m\n",
              "\u001b[36m│\u001b[0m  \u001b[37mverbose: \u001b[0m\u001b[36mFalse\u001b[0m                                                                                                 \u001b[36m│\u001b[0m\n",
              "\u001b[36m│\u001b[0m  \u001b[37mTool Args: \u001b[0m                                                                                                    \u001b[36m│\u001b[0m\n",
              "\u001b[36m│\u001b[0m                                                                                                                 \u001b[36m│\u001b[0m\n",
              "\u001b[36m│\u001b[0m                                                                                                                 \u001b[36m│\u001b[0m\n",
              "\u001b[36m╰─────────────────────────────────────────────────────────────────────────────────────────────────────────────────╯\u001b[0m\n"
            ],
            "text/html": [
              "<pre style=\"white-space:pre;overflow-x:auto;line-height:normal;font-family:Menlo,'DejaVu Sans Mono',consolas,'Courier New',monospace\"><span style=\"color: #008080; text-decoration-color: #008080\">╭─────────────────────────────────────────────── LiteAgent Started ───────────────────────────────────────────────╮</span>\n",
              "<span style=\"color: #008080; text-decoration-color: #008080\">│</span>                                                                                                                 <span style=\"color: #008080; text-decoration-color: #008080\">│</span>\n",
              "<span style=\"color: #008080; text-decoration-color: #008080\">│</span>  <span style=\"color: #008080; text-decoration-color: #008080; font-weight: bold\">LiteAgent Session Started</span>                                                                                      <span style=\"color: #008080; text-decoration-color: #008080\">│</span>\n",
              "<span style=\"color: #008080; text-decoration-color: #008080\">│</span>  <span style=\"color: #c0c0c0; text-decoration-color: #c0c0c0\">Name: </span><span style=\"color: #008080; text-decoration-color: #008080\">Analista Sênior de Informações</span>                                                                           <span style=\"color: #008080; text-decoration-color: #008080\">│</span>\n",
              "<span style=\"color: #008080; text-decoration-color: #008080\">│</span>  <span style=\"color: #c0c0c0; text-decoration-color: #c0c0c0\">id: </span><span style=\"color: #008080; text-decoration-color: #008080\">7cfd6b2b-786e-40a5-8e08-6652bf2ab541</span>                                                                       <span style=\"color: #008080; text-decoration-color: #008080\">│</span>\n",
              "<span style=\"color: #008080; text-decoration-color: #008080\">│</span>  <span style=\"color: #c0c0c0; text-decoration-color: #c0c0c0\">role: </span><span style=\"color: #008080; text-decoration-color: #008080\">Analista Sênior de Informações</span>                                                                           <span style=\"color: #008080; text-decoration-color: #008080\">│</span>\n",
              "<span style=\"color: #008080; text-decoration-color: #008080\">│</span>  <span style=\"color: #c0c0c0; text-decoration-color: #c0c0c0\">goal: </span><span style=\"color: #008080; text-decoration-color: #008080\">Analisar a pesquisa legal (RAG) e os exemplos práticos (Web) para elaborar uma análise detalhada e uma </span>  <span style=\"color: #008080; text-decoration-color: #008080\">│</span>\n",
              "<span style=\"color: #008080; text-decoration-color: #008080\">│</span>  <span style=\"color: #008080; text-decoration-color: #008080\">proposta de resposta para a pergunta do usuário.</span>                                                               <span style=\"color: #008080; text-decoration-color: #008080\">│</span>\n",
              "<span style=\"color: #008080; text-decoration-color: #008080\">│</span>  <span style=\"color: #c0c0c0; text-decoration-color: #c0c0c0\">backstory: </span><span style=\"color: #008080; text-decoration-color: #008080\">Você é um analista experiente, mestre em cruzar dados de legislação com casos práticos do mundo </span>    <span style=\"color: #008080; text-decoration-color: #008080\">│</span>\n",
              "<span style=\"color: #008080; text-decoration-color: #008080\">│</span>  <span style=\"color: #008080; text-decoration-color: #008080\">real.</span>                                                                                                          <span style=\"color: #008080; text-decoration-color: #008080\">│</span>\n",
              "<span style=\"color: #008080; text-decoration-color: #008080\">│</span>  <span style=\"color: #008080; text-decoration-color: #008080\">                Sua função é examinar as informações brutas dos pesquisadores e construir um argumento coeso </span>  <span style=\"color: #008080; text-decoration-color: #008080\">│</span>\n",
              "<span style=\"color: #008080; text-decoration-color: #008080\">│</span>  <span style=\"color: #008080; text-decoration-color: #008080\">e bem fundamentado.</span>                                                                                            <span style=\"color: #008080; text-decoration-color: #008080\">│</span>\n",
              "<span style=\"color: #008080; text-decoration-color: #008080\">│</span>  <span style=\"color: #008080; text-decoration-color: #008080\">                Sua análise aprofundada servirá como uma das várias perspectivas que serão usadas para </span>        <span style=\"color: #008080; text-decoration-color: #008080\">│</span>\n",
              "<span style=\"color: #008080; text-decoration-color: #008080\">│</span>  <span style=\"color: #008080; text-decoration-color: #008080\">construir a resposta final.</span>                                                                                    <span style=\"color: #008080; text-decoration-color: #008080\">│</span>\n",
              "<span style=\"color: #008080; text-decoration-color: #008080\">│</span>  <span style=\"color: #c0c0c0; text-decoration-color: #c0c0c0\">tools: </span><span style=\"color: #008080; text-decoration-color: #008080\">[]</span>                                                                                                      <span style=\"color: #008080; text-decoration-color: #008080\">│</span>\n",
              "<span style=\"color: #008080; text-decoration-color: #008080\">│</span>  <span style=\"color: #c0c0c0; text-decoration-color: #c0c0c0\">verbose: </span><span style=\"color: #008080; text-decoration-color: #008080\">False</span>                                                                                                 <span style=\"color: #008080; text-decoration-color: #008080\">│</span>\n",
              "<span style=\"color: #008080; text-decoration-color: #008080\">│</span>  <span style=\"color: #c0c0c0; text-decoration-color: #c0c0c0\">Tool Args: </span>                                                                                                    <span style=\"color: #008080; text-decoration-color: #008080\">│</span>\n",
              "<span style=\"color: #008080; text-decoration-color: #008080\">│</span>                                                                                                                 <span style=\"color: #008080; text-decoration-color: #008080\">│</span>\n",
              "<span style=\"color: #008080; text-decoration-color: #008080\">│</span>                                                                                                                 <span style=\"color: #008080; text-decoration-color: #008080\">│</span>\n",
              "<span style=\"color: #008080; text-decoration-color: #008080\">╰─────────────────────────────────────────────────────────────────────────────────────────────────────────────────╯</span>\n",
              "</pre>\n"
            ]
          },
          "metadata": {}
        },
        {
          "output_type": "display_data",
          "data": {
            "text/plain": [
              "\n"
            ],
            "text/html": [
              "<pre style=\"white-space:pre;overflow-x:auto;line-height:normal;font-family:Menlo,'DejaVu Sans Mono',consolas,'Courier New',monospace\">\n",
              "</pre>\n"
            ]
          },
          "metadata": {}
        },
        {
          "output_type": "display_data",
          "data": {
            "text/plain": [],
            "text/html": [
              "<pre style=\"white-space:pre;overflow-x:auto;line-height:normal;font-family:Menlo,'DejaVu Sans Mono',consolas,'Courier New',monospace\"></pre>\n"
            ]
          },
          "metadata": {}
        },
        {
          "output_type": "display_data",
          "data": {
            "text/plain": [
              "\u001b[36m╭─\u001b[0m\u001b[36m──────────────────────────────────────────────\u001b[0m\u001b[36m LiteAgent Started \u001b[0m\u001b[36m──────────────────────────────────────────────\u001b[0m\u001b[36m─╮\u001b[0m\n",
              "\u001b[36m│\u001b[0m                                                                                                                 \u001b[36m│\u001b[0m\n",
              "\u001b[36m│\u001b[0m  \u001b[1;36mLiteAgent Session Started\u001b[0m                                                                                      \u001b[36m│\u001b[0m\n",
              "\u001b[36m│\u001b[0m  \u001b[37mName: \u001b[0m\u001b[36mAnalista Sênior de Informações\u001b[0m                                                                           \u001b[36m│\u001b[0m\n",
              "\u001b[36m│\u001b[0m  \u001b[37mid: \u001b[0m\u001b[36m541143ee-d500-4aee-99e8-0ba7b65debfd\u001b[0m                                                                       \u001b[36m│\u001b[0m\n",
              "\u001b[36m│\u001b[0m  \u001b[37mrole: \u001b[0m\u001b[36mAnalista Sênior de Informações\u001b[0m                                                                           \u001b[36m│\u001b[0m\n",
              "\u001b[36m│\u001b[0m  \u001b[37mgoal: \u001b[0m\u001b[36mAnalisar a pesquisa legal (RAG) e os exemplos práticos (Web) para elaborar uma análise detalhada e uma \u001b[0m  \u001b[36m│\u001b[0m\n",
              "\u001b[36m│\u001b[0m  \u001b[36mproposta de resposta para a pergunta do usuário.\u001b[0m                                                               \u001b[36m│\u001b[0m\n",
              "\u001b[36m│\u001b[0m  \u001b[37mbackstory: \u001b[0m\u001b[36mVocê é um analista experiente, mestre em cruzar dados de legislação com casos práticos do mundo \u001b[0m    \u001b[36m│\u001b[0m\n",
              "\u001b[36m│\u001b[0m  \u001b[36mreal.\u001b[0m                                                                                                          \u001b[36m│\u001b[0m\n",
              "\u001b[36m│\u001b[0m  \u001b[36m                Sua função é examinar as informações brutas dos pesquisadores e construir um argumento coeso \u001b[0m  \u001b[36m│\u001b[0m\n",
              "\u001b[36m│\u001b[0m  \u001b[36me bem fundamentado.\u001b[0m                                                                                            \u001b[36m│\u001b[0m\n",
              "\u001b[36m│\u001b[0m  \u001b[36m                Sua análise aprofundada servirá como uma das várias perspectivas que serão usadas para \u001b[0m        \u001b[36m│\u001b[0m\n",
              "\u001b[36m│\u001b[0m  \u001b[36mconstruir a resposta final.\u001b[0m                                                                                    \u001b[36m│\u001b[0m\n",
              "\u001b[36m│\u001b[0m  \u001b[37mtools: \u001b[0m\u001b[36m[]\u001b[0m                                                                                                      \u001b[36m│\u001b[0m\n",
              "\u001b[36m│\u001b[0m  \u001b[37mverbose: \u001b[0m\u001b[36mFalse\u001b[0m                                                                                                 \u001b[36m│\u001b[0m\n",
              "\u001b[36m│\u001b[0m  \u001b[37mTool Args: \u001b[0m                                                                                                    \u001b[36m│\u001b[0m\n",
              "\u001b[36m│\u001b[0m                                                                                                                 \u001b[36m│\u001b[0m\n",
              "\u001b[36m│\u001b[0m                                                                                                                 \u001b[36m│\u001b[0m\n",
              "\u001b[36m╰─────────────────────────────────────────────────────────────────────────────────────────────────────────────────╯\u001b[0m\n"
            ],
            "text/html": [
              "<pre style=\"white-space:pre;overflow-x:auto;line-height:normal;font-family:Menlo,'DejaVu Sans Mono',consolas,'Courier New',monospace\"><span style=\"color: #008080; text-decoration-color: #008080\">╭─────────────────────────────────────────────── LiteAgent Started ───────────────────────────────────────────────╮</span>\n",
              "<span style=\"color: #008080; text-decoration-color: #008080\">│</span>                                                                                                                 <span style=\"color: #008080; text-decoration-color: #008080\">│</span>\n",
              "<span style=\"color: #008080; text-decoration-color: #008080\">│</span>  <span style=\"color: #008080; text-decoration-color: #008080; font-weight: bold\">LiteAgent Session Started</span>                                                                                      <span style=\"color: #008080; text-decoration-color: #008080\">│</span>\n",
              "<span style=\"color: #008080; text-decoration-color: #008080\">│</span>  <span style=\"color: #c0c0c0; text-decoration-color: #c0c0c0\">Name: </span><span style=\"color: #008080; text-decoration-color: #008080\">Analista Sênior de Informações</span>                                                                           <span style=\"color: #008080; text-decoration-color: #008080\">│</span>\n",
              "<span style=\"color: #008080; text-decoration-color: #008080\">│</span>  <span style=\"color: #c0c0c0; text-decoration-color: #c0c0c0\">id: </span><span style=\"color: #008080; text-decoration-color: #008080\">541143ee-d500-4aee-99e8-0ba7b65debfd</span>                                                                       <span style=\"color: #008080; text-decoration-color: #008080\">│</span>\n",
              "<span style=\"color: #008080; text-decoration-color: #008080\">│</span>  <span style=\"color: #c0c0c0; text-decoration-color: #c0c0c0\">role: </span><span style=\"color: #008080; text-decoration-color: #008080\">Analista Sênior de Informações</span>                                                                           <span style=\"color: #008080; text-decoration-color: #008080\">│</span>\n",
              "<span style=\"color: #008080; text-decoration-color: #008080\">│</span>  <span style=\"color: #c0c0c0; text-decoration-color: #c0c0c0\">goal: </span><span style=\"color: #008080; text-decoration-color: #008080\">Analisar a pesquisa legal (RAG) e os exemplos práticos (Web) para elaborar uma análise detalhada e uma </span>  <span style=\"color: #008080; text-decoration-color: #008080\">│</span>\n",
              "<span style=\"color: #008080; text-decoration-color: #008080\">│</span>  <span style=\"color: #008080; text-decoration-color: #008080\">proposta de resposta para a pergunta do usuário.</span>                                                               <span style=\"color: #008080; text-decoration-color: #008080\">│</span>\n",
              "<span style=\"color: #008080; text-decoration-color: #008080\">│</span>  <span style=\"color: #c0c0c0; text-decoration-color: #c0c0c0\">backstory: </span><span style=\"color: #008080; text-decoration-color: #008080\">Você é um analista experiente, mestre em cruzar dados de legislação com casos práticos do mundo </span>    <span style=\"color: #008080; text-decoration-color: #008080\">│</span>\n",
              "<span style=\"color: #008080; text-decoration-color: #008080\">│</span>  <span style=\"color: #008080; text-decoration-color: #008080\">real.</span>                                                                                                          <span style=\"color: #008080; text-decoration-color: #008080\">│</span>\n",
              "<span style=\"color: #008080; text-decoration-color: #008080\">│</span>  <span style=\"color: #008080; text-decoration-color: #008080\">                Sua função é examinar as informações brutas dos pesquisadores e construir um argumento coeso </span>  <span style=\"color: #008080; text-decoration-color: #008080\">│</span>\n",
              "<span style=\"color: #008080; text-decoration-color: #008080\">│</span>  <span style=\"color: #008080; text-decoration-color: #008080\">e bem fundamentado.</span>                                                                                            <span style=\"color: #008080; text-decoration-color: #008080\">│</span>\n",
              "<span style=\"color: #008080; text-decoration-color: #008080\">│</span>  <span style=\"color: #008080; text-decoration-color: #008080\">                Sua análise aprofundada servirá como uma das várias perspectivas que serão usadas para </span>        <span style=\"color: #008080; text-decoration-color: #008080\">│</span>\n",
              "<span style=\"color: #008080; text-decoration-color: #008080\">│</span>  <span style=\"color: #008080; text-decoration-color: #008080\">construir a resposta final.</span>                                                                                    <span style=\"color: #008080; text-decoration-color: #008080\">│</span>\n",
              "<span style=\"color: #008080; text-decoration-color: #008080\">│</span>  <span style=\"color: #c0c0c0; text-decoration-color: #c0c0c0\">tools: </span><span style=\"color: #008080; text-decoration-color: #008080\">[]</span>                                                                                                      <span style=\"color: #008080; text-decoration-color: #008080\">│</span>\n",
              "<span style=\"color: #008080; text-decoration-color: #008080\">│</span>  <span style=\"color: #c0c0c0; text-decoration-color: #c0c0c0\">verbose: </span><span style=\"color: #008080; text-decoration-color: #008080\">False</span>                                                                                                 <span style=\"color: #008080; text-decoration-color: #008080\">│</span>\n",
              "<span style=\"color: #008080; text-decoration-color: #008080\">│</span>  <span style=\"color: #c0c0c0; text-decoration-color: #c0c0c0\">Tool Args: </span>                                                                                                    <span style=\"color: #008080; text-decoration-color: #008080\">│</span>\n",
              "<span style=\"color: #008080; text-decoration-color: #008080\">│</span>                                                                                                                 <span style=\"color: #008080; text-decoration-color: #008080\">│</span>\n",
              "<span style=\"color: #008080; text-decoration-color: #008080\">│</span>                                                                                                                 <span style=\"color: #008080; text-decoration-color: #008080\">│</span>\n",
              "<span style=\"color: #008080; text-decoration-color: #008080\">╰─────────────────────────────────────────────────────────────────────────────────────────────────────────────────╯</span>\n",
              "</pre>\n"
            ]
          },
          "metadata": {}
        },
        {
          "output_type": "display_data",
          "data": {
            "text/plain": [
              "\u001b[36m╭─\u001b[0m\u001b[36m──────────────────────────────────────────────\u001b[0m\u001b[36m LiteAgent Started \u001b[0m\u001b[36m──────────────────────────────────────────────\u001b[0m\u001b[36m─╮\u001b[0m\n",
              "\u001b[36m│\u001b[0m                                                                                                                 \u001b[36m│\u001b[0m\n",
              "\u001b[36m│\u001b[0m  \u001b[1;36mLiteAgent Session Started\u001b[0m                                                                                      \u001b[36m│\u001b[0m\n",
              "\u001b[36m│\u001b[0m  \u001b[37mName: \u001b[0m\u001b[36mAnalista Sênior de Informações\u001b[0m                                                                           \u001b[36m│\u001b[0m\n",
              "\u001b[36m│\u001b[0m  \u001b[37mid: \u001b[0m\u001b[36m6e2a1e66-d075-408d-8112-e897c87275ba\u001b[0m                                                                       \u001b[36m│\u001b[0m\n",
              "\u001b[36m│\u001b[0m  \u001b[37mrole: \u001b[0m\u001b[36mAnalista Sênior de Informações\u001b[0m                                                                           \u001b[36m│\u001b[0m\n",
              "\u001b[36m│\u001b[0m  \u001b[37mgoal: \u001b[0m\u001b[36mAnalisar a pesquisa legal (RAG) e os exemplos práticos (Web) para elaborar uma análise detalhada e uma \u001b[0m  \u001b[36m│\u001b[0m\n",
              "\u001b[36m│\u001b[0m  \u001b[36mproposta de resposta para a pergunta do usuário.\u001b[0m                                                               \u001b[36m│\u001b[0m\n",
              "\u001b[36m│\u001b[0m  \u001b[37mbackstory: \u001b[0m\u001b[36mVocê é um analista experiente, mestre em cruzar dados de legislação com casos práticos do mundo \u001b[0m    \u001b[36m│\u001b[0m\n",
              "\u001b[36m│\u001b[0m  \u001b[36mreal.\u001b[0m                                                                                                          \u001b[36m│\u001b[0m\n",
              "\u001b[36m│\u001b[0m  \u001b[36m                Sua função é examinar as informações brutas dos pesquisadores e construir um argumento coeso \u001b[0m  \u001b[36m│\u001b[0m\n",
              "\u001b[36m│\u001b[0m  \u001b[36me bem fundamentado.\u001b[0m                                                                                            \u001b[36m│\u001b[0m\n",
              "\u001b[36m│\u001b[0m  \u001b[36m                Sua análise aprofundada servirá como uma das várias perspectivas que serão usadas para \u001b[0m        \u001b[36m│\u001b[0m\n",
              "\u001b[36m│\u001b[0m  \u001b[36mconstruir a resposta final.\u001b[0m                                                                                    \u001b[36m│\u001b[0m\n",
              "\u001b[36m│\u001b[0m  \u001b[37mtools: \u001b[0m\u001b[36m[]\u001b[0m                                                                                                      \u001b[36m│\u001b[0m\n",
              "\u001b[36m│\u001b[0m  \u001b[37mverbose: \u001b[0m\u001b[36mFalse\u001b[0m                                                                                                 \u001b[36m│\u001b[0m\n",
              "\u001b[36m│\u001b[0m  \u001b[37mTool Args: \u001b[0m                                                                                                    \u001b[36m│\u001b[0m\n",
              "\u001b[36m│\u001b[0m                                                                                                                 \u001b[36m│\u001b[0m\n",
              "\u001b[36m│\u001b[0m                                                                                                                 \u001b[36m│\u001b[0m\n",
              "\u001b[36m╰─────────────────────────────────────────────────────────────────────────────────────────────────────────────────╯\u001b[0m\n"
            ],
            "text/html": [
              "<pre style=\"white-space:pre;overflow-x:auto;line-height:normal;font-family:Menlo,'DejaVu Sans Mono',consolas,'Courier New',monospace\"><span style=\"color: #008080; text-decoration-color: #008080\">╭─────────────────────────────────────────────── LiteAgent Started ───────────────────────────────────────────────╮</span>\n",
              "<span style=\"color: #008080; text-decoration-color: #008080\">│</span>                                                                                                                 <span style=\"color: #008080; text-decoration-color: #008080\">│</span>\n",
              "<span style=\"color: #008080; text-decoration-color: #008080\">│</span>  <span style=\"color: #008080; text-decoration-color: #008080; font-weight: bold\">LiteAgent Session Started</span>                                                                                      <span style=\"color: #008080; text-decoration-color: #008080\">│</span>\n",
              "<span style=\"color: #008080; text-decoration-color: #008080\">│</span>  <span style=\"color: #c0c0c0; text-decoration-color: #c0c0c0\">Name: </span><span style=\"color: #008080; text-decoration-color: #008080\">Analista Sênior de Informações</span>                                                                           <span style=\"color: #008080; text-decoration-color: #008080\">│</span>\n",
              "<span style=\"color: #008080; text-decoration-color: #008080\">│</span>  <span style=\"color: #c0c0c0; text-decoration-color: #c0c0c0\">id: </span><span style=\"color: #008080; text-decoration-color: #008080\">6e2a1e66-d075-408d-8112-e897c87275ba</span>                                                                       <span style=\"color: #008080; text-decoration-color: #008080\">│</span>\n",
              "<span style=\"color: #008080; text-decoration-color: #008080\">│</span>  <span style=\"color: #c0c0c0; text-decoration-color: #c0c0c0\">role: </span><span style=\"color: #008080; text-decoration-color: #008080\">Analista Sênior de Informações</span>                                                                           <span style=\"color: #008080; text-decoration-color: #008080\">│</span>\n",
              "<span style=\"color: #008080; text-decoration-color: #008080\">│</span>  <span style=\"color: #c0c0c0; text-decoration-color: #c0c0c0\">goal: </span><span style=\"color: #008080; text-decoration-color: #008080\">Analisar a pesquisa legal (RAG) e os exemplos práticos (Web) para elaborar uma análise detalhada e uma </span>  <span style=\"color: #008080; text-decoration-color: #008080\">│</span>\n",
              "<span style=\"color: #008080; text-decoration-color: #008080\">│</span>  <span style=\"color: #008080; text-decoration-color: #008080\">proposta de resposta para a pergunta do usuário.</span>                                                               <span style=\"color: #008080; text-decoration-color: #008080\">│</span>\n",
              "<span style=\"color: #008080; text-decoration-color: #008080\">│</span>  <span style=\"color: #c0c0c0; text-decoration-color: #c0c0c0\">backstory: </span><span style=\"color: #008080; text-decoration-color: #008080\">Você é um analista experiente, mestre em cruzar dados de legislação com casos práticos do mundo </span>    <span style=\"color: #008080; text-decoration-color: #008080\">│</span>\n",
              "<span style=\"color: #008080; text-decoration-color: #008080\">│</span>  <span style=\"color: #008080; text-decoration-color: #008080\">real.</span>                                                                                                          <span style=\"color: #008080; text-decoration-color: #008080\">│</span>\n",
              "<span style=\"color: #008080; text-decoration-color: #008080\">│</span>  <span style=\"color: #008080; text-decoration-color: #008080\">                Sua função é examinar as informações brutas dos pesquisadores e construir um argumento coeso </span>  <span style=\"color: #008080; text-decoration-color: #008080\">│</span>\n",
              "<span style=\"color: #008080; text-decoration-color: #008080\">│</span>  <span style=\"color: #008080; text-decoration-color: #008080\">e bem fundamentado.</span>                                                                                            <span style=\"color: #008080; text-decoration-color: #008080\">│</span>\n",
              "<span style=\"color: #008080; text-decoration-color: #008080\">│</span>  <span style=\"color: #008080; text-decoration-color: #008080\">                Sua análise aprofundada servirá como uma das várias perspectivas que serão usadas para </span>        <span style=\"color: #008080; text-decoration-color: #008080\">│</span>\n",
              "<span style=\"color: #008080; text-decoration-color: #008080\">│</span>  <span style=\"color: #008080; text-decoration-color: #008080\">construir a resposta final.</span>                                                                                    <span style=\"color: #008080; text-decoration-color: #008080\">│</span>\n",
              "<span style=\"color: #008080; text-decoration-color: #008080\">│</span>  <span style=\"color: #c0c0c0; text-decoration-color: #c0c0c0\">tools: </span><span style=\"color: #008080; text-decoration-color: #008080\">[]</span>                                                                                                      <span style=\"color: #008080; text-decoration-color: #008080\">│</span>\n",
              "<span style=\"color: #008080; text-decoration-color: #008080\">│</span>  <span style=\"color: #c0c0c0; text-decoration-color: #c0c0c0\">verbose: </span><span style=\"color: #008080; text-decoration-color: #008080\">False</span>                                                                                                 <span style=\"color: #008080; text-decoration-color: #008080\">│</span>\n",
              "<span style=\"color: #008080; text-decoration-color: #008080\">│</span>  <span style=\"color: #c0c0c0; text-decoration-color: #c0c0c0\">Tool Args: </span>                                                                                                    <span style=\"color: #008080; text-decoration-color: #008080\">│</span>\n",
              "<span style=\"color: #008080; text-decoration-color: #008080\">│</span>                                                                                                                 <span style=\"color: #008080; text-decoration-color: #008080\">│</span>\n",
              "<span style=\"color: #008080; text-decoration-color: #008080\">│</span>                                                                                                                 <span style=\"color: #008080; text-decoration-color: #008080\">│</span>\n",
              "<span style=\"color: #008080; text-decoration-color: #008080\">╰─────────────────────────────────────────────────────────────────────────────────────────────────────────────────╯</span>\n",
              "</pre>\n"
            ]
          },
          "metadata": {}
        },
        {
          "output_type": "display_data",
          "data": {
            "text/plain": [
              "\n"
            ],
            "text/html": [
              "<pre style=\"white-space:pre;overflow-x:auto;line-height:normal;font-family:Menlo,'DejaVu Sans Mono',consolas,'Courier New',monospace\">\n",
              "</pre>\n"
            ]
          },
          "metadata": {}
        },
        {
          "output_type": "display_data",
          "data": {
            "text/plain": [
              "\n"
            ],
            "text/html": [
              "<pre style=\"white-space:pre;overflow-x:auto;line-height:normal;font-family:Menlo,'DejaVu Sans Mono',consolas,'Courier New',monospace\">\n",
              "</pre>\n"
            ]
          },
          "metadata": {}
        },
        {
          "output_type": "display_data",
          "data": {
            "text/plain": [],
            "text/html": [
              "<pre style=\"white-space:pre;overflow-x:auto;line-height:normal;font-family:Menlo,'DejaVu Sans Mono',consolas,'Courier New',monospace\"></pre>\n"
            ]
          },
          "metadata": {}
        },
        {
          "output_type": "display_data",
          "data": {
            "text/plain": [
              "\u001b[32m╭─\u001b[0m\u001b[32m────────────────────────────────────────────\u001b[0m\u001b[32m LiteAgent Completion \u001b[0m\u001b[32m─────────────────────────────────────────────\u001b[0m\u001b[32m─╮\u001b[0m\n",
              "\u001b[32m│\u001b[0m                                                                                                                 \u001b[32m│\u001b[0m\n",
              "\u001b[32m│\u001b[0m  \u001b[1;32mLiteAgent Completed\u001b[0m                                                                                            \u001b[32m│\u001b[0m\n",
              "\u001b[32m│\u001b[0m  \u001b[37mName: \u001b[0m\u001b[32mAnalista Sênior de Informações\u001b[0m                                                                           \u001b[32m│\u001b[0m\n",
              "\u001b[32m│\u001b[0m  \u001b[37mid: \u001b[0m\u001b[32m7cfd6b2b-786e-40a5-8e08-6652bf2ab541\u001b[0m                                                                       \u001b[32m│\u001b[0m\n",
              "\u001b[32m│\u001b[0m  \u001b[37mrole: \u001b[0m\u001b[32mAnalista Sênior de Informações\u001b[0m                                                                           \u001b[32m│\u001b[0m\n",
              "\u001b[32m│\u001b[0m  \u001b[37mgoal: \u001b[0m\u001b[32mAnalisar a pesquisa legal (RAG) e os exemplos práticos (Web) para elaborar uma análise detalhada e uma \u001b[0m  \u001b[32m│\u001b[0m\n",
              "\u001b[32m│\u001b[0m  \u001b[32mproposta de resposta para a pergunta do usuário.\u001b[0m                                                               \u001b[32m│\u001b[0m\n",
              "\u001b[32m│\u001b[0m  \u001b[37mbackstory: \u001b[0m\u001b[32mVocê é um analista experiente, mestre em cruzar dados de legislação com casos práticos do mundo \u001b[0m    \u001b[32m│\u001b[0m\n",
              "\u001b[32m│\u001b[0m  \u001b[32mreal.\u001b[0m                                                                                                          \u001b[32m│\u001b[0m\n",
              "\u001b[32m│\u001b[0m  \u001b[32m                Sua função é examinar as informações brutas dos pesquisadores e construir um argumento coeso \u001b[0m  \u001b[32m│\u001b[0m\n",
              "\u001b[32m│\u001b[0m  \u001b[32me bem fundamentado.\u001b[0m                                                                                            \u001b[32m│\u001b[0m\n",
              "\u001b[32m│\u001b[0m  \u001b[32m                Sua análise aprofundada servirá como uma das várias perspectivas que serão usadas para \u001b[0m        \u001b[32m│\u001b[0m\n",
              "\u001b[32m│\u001b[0m  \u001b[32mconstruir a resposta final.\u001b[0m                                                                                    \u001b[32m│\u001b[0m\n",
              "\u001b[32m│\u001b[0m  \u001b[37mtools: \u001b[0m\u001b[32m[]\u001b[0m                                                                                                      \u001b[32m│\u001b[0m\n",
              "\u001b[32m│\u001b[0m  \u001b[37mverbose: \u001b[0m\u001b[32mFalse\u001b[0m                                                                                                 \u001b[32m│\u001b[0m\n",
              "\u001b[32m│\u001b[0m  \u001b[37mTool Args: \u001b[0m                                                                                                    \u001b[32m│\u001b[0m\n",
              "\u001b[32m│\u001b[0m                                                                                                                 \u001b[32m│\u001b[0m\n",
              "\u001b[32m│\u001b[0m                                                                                                                 \u001b[32m│\u001b[0m\n",
              "\u001b[32m╰─────────────────────────────────────────────────────────────────────────────────────────────────────────────────╯\u001b[0m\n"
            ],
            "text/html": [
              "<pre style=\"white-space:pre;overflow-x:auto;line-height:normal;font-family:Menlo,'DejaVu Sans Mono',consolas,'Courier New',monospace\"><span style=\"color: #008000; text-decoration-color: #008000\">╭───────────────────────────────────────────── LiteAgent Completion ──────────────────────────────────────────────╮</span>\n",
              "<span style=\"color: #008000; text-decoration-color: #008000\">│</span>                                                                                                                 <span style=\"color: #008000; text-decoration-color: #008000\">│</span>\n",
              "<span style=\"color: #008000; text-decoration-color: #008000\">│</span>  <span style=\"color: #008000; text-decoration-color: #008000; font-weight: bold\">LiteAgent Completed</span>                                                                                            <span style=\"color: #008000; text-decoration-color: #008000\">│</span>\n",
              "<span style=\"color: #008000; text-decoration-color: #008000\">│</span>  <span style=\"color: #c0c0c0; text-decoration-color: #c0c0c0\">Name: </span><span style=\"color: #008000; text-decoration-color: #008000\">Analista Sênior de Informações</span>                                                                           <span style=\"color: #008000; text-decoration-color: #008000\">│</span>\n",
              "<span style=\"color: #008000; text-decoration-color: #008000\">│</span>  <span style=\"color: #c0c0c0; text-decoration-color: #c0c0c0\">id: </span><span style=\"color: #008000; text-decoration-color: #008000\">7cfd6b2b-786e-40a5-8e08-6652bf2ab541</span>                                                                       <span style=\"color: #008000; text-decoration-color: #008000\">│</span>\n",
              "<span style=\"color: #008000; text-decoration-color: #008000\">│</span>  <span style=\"color: #c0c0c0; text-decoration-color: #c0c0c0\">role: </span><span style=\"color: #008000; text-decoration-color: #008000\">Analista Sênior de Informações</span>                                                                           <span style=\"color: #008000; text-decoration-color: #008000\">│</span>\n",
              "<span style=\"color: #008000; text-decoration-color: #008000\">│</span>  <span style=\"color: #c0c0c0; text-decoration-color: #c0c0c0\">goal: </span><span style=\"color: #008000; text-decoration-color: #008000\">Analisar a pesquisa legal (RAG) e os exemplos práticos (Web) para elaborar uma análise detalhada e uma </span>  <span style=\"color: #008000; text-decoration-color: #008000\">│</span>\n",
              "<span style=\"color: #008000; text-decoration-color: #008000\">│</span>  <span style=\"color: #008000; text-decoration-color: #008000\">proposta de resposta para a pergunta do usuário.</span>                                                               <span style=\"color: #008000; text-decoration-color: #008000\">│</span>\n",
              "<span style=\"color: #008000; text-decoration-color: #008000\">│</span>  <span style=\"color: #c0c0c0; text-decoration-color: #c0c0c0\">backstory: </span><span style=\"color: #008000; text-decoration-color: #008000\">Você é um analista experiente, mestre em cruzar dados de legislação com casos práticos do mundo </span>    <span style=\"color: #008000; text-decoration-color: #008000\">│</span>\n",
              "<span style=\"color: #008000; text-decoration-color: #008000\">│</span>  <span style=\"color: #008000; text-decoration-color: #008000\">real.</span>                                                                                                          <span style=\"color: #008000; text-decoration-color: #008000\">│</span>\n",
              "<span style=\"color: #008000; text-decoration-color: #008000\">│</span>  <span style=\"color: #008000; text-decoration-color: #008000\">                Sua função é examinar as informações brutas dos pesquisadores e construir um argumento coeso </span>  <span style=\"color: #008000; text-decoration-color: #008000\">│</span>\n",
              "<span style=\"color: #008000; text-decoration-color: #008000\">│</span>  <span style=\"color: #008000; text-decoration-color: #008000\">e bem fundamentado.</span>                                                                                            <span style=\"color: #008000; text-decoration-color: #008000\">│</span>\n",
              "<span style=\"color: #008000; text-decoration-color: #008000\">│</span>  <span style=\"color: #008000; text-decoration-color: #008000\">                Sua análise aprofundada servirá como uma das várias perspectivas que serão usadas para </span>        <span style=\"color: #008000; text-decoration-color: #008000\">│</span>\n",
              "<span style=\"color: #008000; text-decoration-color: #008000\">│</span>  <span style=\"color: #008000; text-decoration-color: #008000\">construir a resposta final.</span>                                                                                    <span style=\"color: #008000; text-decoration-color: #008000\">│</span>\n",
              "<span style=\"color: #008000; text-decoration-color: #008000\">│</span>  <span style=\"color: #c0c0c0; text-decoration-color: #c0c0c0\">tools: </span><span style=\"color: #008000; text-decoration-color: #008000\">[]</span>                                                                                                      <span style=\"color: #008000; text-decoration-color: #008000\">│</span>\n",
              "<span style=\"color: #008000; text-decoration-color: #008000\">│</span>  <span style=\"color: #c0c0c0; text-decoration-color: #c0c0c0\">verbose: </span><span style=\"color: #008000; text-decoration-color: #008000\">False</span>                                                                                                 <span style=\"color: #008000; text-decoration-color: #008000\">│</span>\n",
              "<span style=\"color: #008000; text-decoration-color: #008000\">│</span>  <span style=\"color: #c0c0c0; text-decoration-color: #c0c0c0\">Tool Args: </span>                                                                                                    <span style=\"color: #008000; text-decoration-color: #008000\">│</span>\n",
              "<span style=\"color: #008000; text-decoration-color: #008000\">│</span>                                                                                                                 <span style=\"color: #008000; text-decoration-color: #008000\">│</span>\n",
              "<span style=\"color: #008000; text-decoration-color: #008000\">│</span>                                                                                                                 <span style=\"color: #008000; text-decoration-color: #008000\">│</span>\n",
              "<span style=\"color: #008000; text-decoration-color: #008000\">╰─────────────────────────────────────────────────────────────────────────────────────────────────────────────────╯</span>\n",
              "</pre>\n"
            ]
          },
          "metadata": {}
        },
        {
          "output_type": "display_data",
          "data": {
            "text/plain": [
              "\n"
            ],
            "text/html": [
              "<pre style=\"white-space:pre;overflow-x:auto;line-height:normal;font-family:Menlo,'DejaVu Sans Mono',consolas,'Courier New',monospace\">\n",
              "</pre>\n"
            ]
          },
          "metadata": {}
        },
        {
          "output_type": "display_data",
          "data": {
            "text/plain": [
              "Output()"
            ],
            "application/vnd.jupyter.widget-view+json": {
              "version_major": 2,
              "version_minor": 0,
              "model_id": "1c24008331ee437cacd39171919f0280"
            }
          },
          "metadata": {}
        },
        {
          "output_type": "display_data",
          "data": {
            "text/plain": [],
            "text/html": [
              "<pre style=\"white-space:pre;overflow-x:auto;line-height:normal;font-family:Menlo,'DejaVu Sans Mono',consolas,'Courier New',monospace\"></pre>\n"
            ]
          },
          "metadata": {}
        },
        {
          "output_type": "display_data",
          "data": {
            "text/plain": [
              "\u001b[32m╭─\u001b[0m\u001b[32m────────────────────────────────────────────\u001b[0m\u001b[32m LiteAgent Completion \u001b[0m\u001b[32m─────────────────────────────────────────────\u001b[0m\u001b[32m─╮\u001b[0m\n",
              "\u001b[32m│\u001b[0m                                                                                                                 \u001b[32m│\u001b[0m\n",
              "\u001b[32m│\u001b[0m  \u001b[1;32mLiteAgent Completed\u001b[0m                                                                                            \u001b[32m│\u001b[0m\n",
              "\u001b[32m│\u001b[0m  \u001b[37mName: \u001b[0m\u001b[32mAnalista Sênior de Informações\u001b[0m                                                                           \u001b[32m│\u001b[0m\n",
              "\u001b[32m│\u001b[0m  \u001b[37mid: \u001b[0m\u001b[32m541143ee-d500-4aee-99e8-0ba7b65debfd\u001b[0m                                                                       \u001b[32m│\u001b[0m\n",
              "\u001b[32m│\u001b[0m  \u001b[37mrole: \u001b[0m\u001b[32mAnalista Sênior de Informações\u001b[0m                                                                           \u001b[32m│\u001b[0m\n",
              "\u001b[32m│\u001b[0m  \u001b[37mgoal: \u001b[0m\u001b[32mAnalisar a pesquisa legal (RAG) e os exemplos práticos (Web) para elaborar uma análise detalhada e uma \u001b[0m  \u001b[32m│\u001b[0m\n",
              "\u001b[32m│\u001b[0m  \u001b[32mproposta de resposta para a pergunta do usuário.\u001b[0m                                                               \u001b[32m│\u001b[0m\n",
              "\u001b[32m│\u001b[0m  \u001b[37mbackstory: \u001b[0m\u001b[32mVocê é um analista experiente, mestre em cruzar dados de legislação com casos práticos do mundo \u001b[0m    \u001b[32m│\u001b[0m\n",
              "\u001b[32m│\u001b[0m  \u001b[32mreal.\u001b[0m                                                                                                          \u001b[32m│\u001b[0m\n",
              "\u001b[32m│\u001b[0m  \u001b[32m                Sua função é examinar as informações brutas dos pesquisadores e construir um argumento coeso \u001b[0m  \u001b[32m│\u001b[0m\n",
              "\u001b[32m│\u001b[0m  \u001b[32me bem fundamentado.\u001b[0m                                                                                            \u001b[32m│\u001b[0m\n",
              "\u001b[32m│\u001b[0m  \u001b[32m                Sua análise aprofundada servirá como uma das várias perspectivas que serão usadas para \u001b[0m        \u001b[32m│\u001b[0m\n",
              "\u001b[32m│\u001b[0m  \u001b[32mconstruir a resposta final.\u001b[0m                                                                                    \u001b[32m│\u001b[0m\n",
              "\u001b[32m│\u001b[0m  \u001b[37mtools: \u001b[0m\u001b[32m[]\u001b[0m                                                                                                      \u001b[32m│\u001b[0m\n",
              "\u001b[32m│\u001b[0m  \u001b[37mverbose: \u001b[0m\u001b[32mFalse\u001b[0m                                                                                                 \u001b[32m│\u001b[0m\n",
              "\u001b[32m│\u001b[0m  \u001b[37mTool Args: \u001b[0m                                                                                                    \u001b[32m│\u001b[0m\n",
              "\u001b[32m│\u001b[0m                                                                                                                 \u001b[32m│\u001b[0m\n",
              "\u001b[32m│\u001b[0m                                                                                                                 \u001b[32m│\u001b[0m\n",
              "\u001b[32m╰─────────────────────────────────────────────────────────────────────────────────────────────────────────────────╯\u001b[0m\n"
            ],
            "text/html": [
              "<pre style=\"white-space:pre;overflow-x:auto;line-height:normal;font-family:Menlo,'DejaVu Sans Mono',consolas,'Courier New',monospace\"><span style=\"color: #008000; text-decoration-color: #008000\">╭───────────────────────────────────────────── LiteAgent Completion ──────────────────────────────────────────────╮</span>\n",
              "<span style=\"color: #008000; text-decoration-color: #008000\">│</span>                                                                                                                 <span style=\"color: #008000; text-decoration-color: #008000\">│</span>\n",
              "<span style=\"color: #008000; text-decoration-color: #008000\">│</span>  <span style=\"color: #008000; text-decoration-color: #008000; font-weight: bold\">LiteAgent Completed</span>                                                                                            <span style=\"color: #008000; text-decoration-color: #008000\">│</span>\n",
              "<span style=\"color: #008000; text-decoration-color: #008000\">│</span>  <span style=\"color: #c0c0c0; text-decoration-color: #c0c0c0\">Name: </span><span style=\"color: #008000; text-decoration-color: #008000\">Analista Sênior de Informações</span>                                                                           <span style=\"color: #008000; text-decoration-color: #008000\">│</span>\n",
              "<span style=\"color: #008000; text-decoration-color: #008000\">│</span>  <span style=\"color: #c0c0c0; text-decoration-color: #c0c0c0\">id: </span><span style=\"color: #008000; text-decoration-color: #008000\">541143ee-d500-4aee-99e8-0ba7b65debfd</span>                                                                       <span style=\"color: #008000; text-decoration-color: #008000\">│</span>\n",
              "<span style=\"color: #008000; text-decoration-color: #008000\">│</span>  <span style=\"color: #c0c0c0; text-decoration-color: #c0c0c0\">role: </span><span style=\"color: #008000; text-decoration-color: #008000\">Analista Sênior de Informações</span>                                                                           <span style=\"color: #008000; text-decoration-color: #008000\">│</span>\n",
              "<span style=\"color: #008000; text-decoration-color: #008000\">│</span>  <span style=\"color: #c0c0c0; text-decoration-color: #c0c0c0\">goal: </span><span style=\"color: #008000; text-decoration-color: #008000\">Analisar a pesquisa legal (RAG) e os exemplos práticos (Web) para elaborar uma análise detalhada e uma </span>  <span style=\"color: #008000; text-decoration-color: #008000\">│</span>\n",
              "<span style=\"color: #008000; text-decoration-color: #008000\">│</span>  <span style=\"color: #008000; text-decoration-color: #008000\">proposta de resposta para a pergunta do usuário.</span>                                                               <span style=\"color: #008000; text-decoration-color: #008000\">│</span>\n",
              "<span style=\"color: #008000; text-decoration-color: #008000\">│</span>  <span style=\"color: #c0c0c0; text-decoration-color: #c0c0c0\">backstory: </span><span style=\"color: #008000; text-decoration-color: #008000\">Você é um analista experiente, mestre em cruzar dados de legislação com casos práticos do mundo </span>    <span style=\"color: #008000; text-decoration-color: #008000\">│</span>\n",
              "<span style=\"color: #008000; text-decoration-color: #008000\">│</span>  <span style=\"color: #008000; text-decoration-color: #008000\">real.</span>                                                                                                          <span style=\"color: #008000; text-decoration-color: #008000\">│</span>\n",
              "<span style=\"color: #008000; text-decoration-color: #008000\">│</span>  <span style=\"color: #008000; text-decoration-color: #008000\">                Sua função é examinar as informações brutas dos pesquisadores e construir um argumento coeso </span>  <span style=\"color: #008000; text-decoration-color: #008000\">│</span>\n",
              "<span style=\"color: #008000; text-decoration-color: #008000\">│</span>  <span style=\"color: #008000; text-decoration-color: #008000\">e bem fundamentado.</span>                                                                                            <span style=\"color: #008000; text-decoration-color: #008000\">│</span>\n",
              "<span style=\"color: #008000; text-decoration-color: #008000\">│</span>  <span style=\"color: #008000; text-decoration-color: #008000\">                Sua análise aprofundada servirá como uma das várias perspectivas que serão usadas para </span>        <span style=\"color: #008000; text-decoration-color: #008000\">│</span>\n",
              "<span style=\"color: #008000; text-decoration-color: #008000\">│</span>  <span style=\"color: #008000; text-decoration-color: #008000\">construir a resposta final.</span>                                                                                    <span style=\"color: #008000; text-decoration-color: #008000\">│</span>\n",
              "<span style=\"color: #008000; text-decoration-color: #008000\">│</span>  <span style=\"color: #c0c0c0; text-decoration-color: #c0c0c0\">tools: </span><span style=\"color: #008000; text-decoration-color: #008000\">[]</span>                                                                                                      <span style=\"color: #008000; text-decoration-color: #008000\">│</span>\n",
              "<span style=\"color: #008000; text-decoration-color: #008000\">│</span>  <span style=\"color: #c0c0c0; text-decoration-color: #c0c0c0\">verbose: </span><span style=\"color: #008000; text-decoration-color: #008000\">False</span>                                                                                                 <span style=\"color: #008000; text-decoration-color: #008000\">│</span>\n",
              "<span style=\"color: #008000; text-decoration-color: #008000\">│</span>  <span style=\"color: #c0c0c0; text-decoration-color: #c0c0c0\">Tool Args: </span>                                                                                                    <span style=\"color: #008000; text-decoration-color: #008000\">│</span>\n",
              "<span style=\"color: #008000; text-decoration-color: #008000\">│</span>                                                                                                                 <span style=\"color: #008000; text-decoration-color: #008000\">│</span>\n",
              "<span style=\"color: #008000; text-decoration-color: #008000\">│</span>                                                                                                                 <span style=\"color: #008000; text-decoration-color: #008000\">│</span>\n",
              "<span style=\"color: #008000; text-decoration-color: #008000\">╰─────────────────────────────────────────────────────────────────────────────────────────────────────────────────╯</span>\n",
              "</pre>\n"
            ]
          },
          "metadata": {}
        },
        {
          "output_type": "display_data",
          "data": {
            "text/plain": [
              "\n"
            ],
            "text/html": [
              "<pre style=\"white-space:pre;overflow-x:auto;line-height:normal;font-family:Menlo,'DejaVu Sans Mono',consolas,'Courier New',monospace\">\n",
              "</pre>\n"
            ]
          },
          "metadata": {}
        },
        {
          "output_type": "display_data",
          "data": {
            "text/plain": [
              "Output()"
            ],
            "application/vnd.jupyter.widget-view+json": {
              "version_major": 2,
              "version_minor": 0,
              "model_id": "662f6097fdea458199e760bcde5f8865"
            }
          },
          "metadata": {}
        },
        {
          "output_type": "display_data",
          "data": {
            "text/plain": [],
            "text/html": [
              "<pre style=\"white-space:pre;overflow-x:auto;line-height:normal;font-family:Menlo,'DejaVu Sans Mono',consolas,'Courier New',monospace\"></pre>\n"
            ]
          },
          "metadata": {}
        },
        {
          "output_type": "display_data",
          "data": {
            "text/plain": [
              "\u001b[32m╭─\u001b[0m\u001b[32m────────────────────────────────────────────\u001b[0m\u001b[32m LiteAgent Completion \u001b[0m\u001b[32m─────────────────────────────────────────────\u001b[0m\u001b[32m─╮\u001b[0m\n",
              "\u001b[32m│\u001b[0m                                                                                                                 \u001b[32m│\u001b[0m\n",
              "\u001b[32m│\u001b[0m  \u001b[1;32mLiteAgent Completed\u001b[0m                                                                                            \u001b[32m│\u001b[0m\n",
              "\u001b[32m│\u001b[0m  \u001b[37mName: \u001b[0m\u001b[32mAnalista Sênior de Informações\u001b[0m                                                                           \u001b[32m│\u001b[0m\n",
              "\u001b[32m│\u001b[0m  \u001b[37mid: \u001b[0m\u001b[32m6e2a1e66-d075-408d-8112-e897c87275ba\u001b[0m                                                                       \u001b[32m│\u001b[0m\n",
              "\u001b[32m│\u001b[0m  \u001b[37mrole: \u001b[0m\u001b[32mAnalista Sênior de Informações\u001b[0m                                                                           \u001b[32m│\u001b[0m\n",
              "\u001b[32m│\u001b[0m  \u001b[37mgoal: \u001b[0m\u001b[32mAnalisar a pesquisa legal (RAG) e os exemplos práticos (Web) para elaborar uma análise detalhada e uma \u001b[0m  \u001b[32m│\u001b[0m\n",
              "\u001b[32m│\u001b[0m  \u001b[32mproposta de resposta para a pergunta do usuário.\u001b[0m                                                               \u001b[32m│\u001b[0m\n",
              "\u001b[32m│\u001b[0m  \u001b[37mbackstory: \u001b[0m\u001b[32mVocê é um analista experiente, mestre em cruzar dados de legislação com casos práticos do mundo \u001b[0m    \u001b[32m│\u001b[0m\n",
              "\u001b[32m│\u001b[0m  \u001b[32mreal.\u001b[0m                                                                                                          \u001b[32m│\u001b[0m\n",
              "\u001b[32m│\u001b[0m  \u001b[32m                Sua função é examinar as informações brutas dos pesquisadores e construir um argumento coeso \u001b[0m  \u001b[32m│\u001b[0m\n",
              "\u001b[32m│\u001b[0m  \u001b[32me bem fundamentado.\u001b[0m                                                                                            \u001b[32m│\u001b[0m\n",
              "\u001b[32m│\u001b[0m  \u001b[32m                Sua análise aprofundada servirá como uma das várias perspectivas que serão usadas para \u001b[0m        \u001b[32m│\u001b[0m\n",
              "\u001b[32m│\u001b[0m  \u001b[32mconstruir a resposta final.\u001b[0m                                                                                    \u001b[32m│\u001b[0m\n",
              "\u001b[32m│\u001b[0m  \u001b[37mtools: \u001b[0m\u001b[32m[]\u001b[0m                                                                                                      \u001b[32m│\u001b[0m\n",
              "\u001b[32m│\u001b[0m  \u001b[37mverbose: \u001b[0m\u001b[32mFalse\u001b[0m                                                                                                 \u001b[32m│\u001b[0m\n",
              "\u001b[32m│\u001b[0m  \u001b[37mTool Args: \u001b[0m                                                                                                    \u001b[32m│\u001b[0m\n",
              "\u001b[32m│\u001b[0m                                                                                                                 \u001b[32m│\u001b[0m\n",
              "\u001b[32m│\u001b[0m                                                                                                                 \u001b[32m│\u001b[0m\n",
              "\u001b[32m╰─────────────────────────────────────────────────────────────────────────────────────────────────────────────────╯\u001b[0m\n"
            ],
            "text/html": [
              "<pre style=\"white-space:pre;overflow-x:auto;line-height:normal;font-family:Menlo,'DejaVu Sans Mono',consolas,'Courier New',monospace\"><span style=\"color: #008000; text-decoration-color: #008000\">╭───────────────────────────────────────────── LiteAgent Completion ──────────────────────────────────────────────╮</span>\n",
              "<span style=\"color: #008000; text-decoration-color: #008000\">│</span>                                                                                                                 <span style=\"color: #008000; text-decoration-color: #008000\">│</span>\n",
              "<span style=\"color: #008000; text-decoration-color: #008000\">│</span>  <span style=\"color: #008000; text-decoration-color: #008000; font-weight: bold\">LiteAgent Completed</span>                                                                                            <span style=\"color: #008000; text-decoration-color: #008000\">│</span>\n",
              "<span style=\"color: #008000; text-decoration-color: #008000\">│</span>  <span style=\"color: #c0c0c0; text-decoration-color: #c0c0c0\">Name: </span><span style=\"color: #008000; text-decoration-color: #008000\">Analista Sênior de Informações</span>                                                                           <span style=\"color: #008000; text-decoration-color: #008000\">│</span>\n",
              "<span style=\"color: #008000; text-decoration-color: #008000\">│</span>  <span style=\"color: #c0c0c0; text-decoration-color: #c0c0c0\">id: </span><span style=\"color: #008000; text-decoration-color: #008000\">6e2a1e66-d075-408d-8112-e897c87275ba</span>                                                                       <span style=\"color: #008000; text-decoration-color: #008000\">│</span>\n",
              "<span style=\"color: #008000; text-decoration-color: #008000\">│</span>  <span style=\"color: #c0c0c0; text-decoration-color: #c0c0c0\">role: </span><span style=\"color: #008000; text-decoration-color: #008000\">Analista Sênior de Informações</span>                                                                           <span style=\"color: #008000; text-decoration-color: #008000\">│</span>\n",
              "<span style=\"color: #008000; text-decoration-color: #008000\">│</span>  <span style=\"color: #c0c0c0; text-decoration-color: #c0c0c0\">goal: </span><span style=\"color: #008000; text-decoration-color: #008000\">Analisar a pesquisa legal (RAG) e os exemplos práticos (Web) para elaborar uma análise detalhada e uma </span>  <span style=\"color: #008000; text-decoration-color: #008000\">│</span>\n",
              "<span style=\"color: #008000; text-decoration-color: #008000\">│</span>  <span style=\"color: #008000; text-decoration-color: #008000\">proposta de resposta para a pergunta do usuário.</span>                                                               <span style=\"color: #008000; text-decoration-color: #008000\">│</span>\n",
              "<span style=\"color: #008000; text-decoration-color: #008000\">│</span>  <span style=\"color: #c0c0c0; text-decoration-color: #c0c0c0\">backstory: </span><span style=\"color: #008000; text-decoration-color: #008000\">Você é um analista experiente, mestre em cruzar dados de legislação com casos práticos do mundo </span>    <span style=\"color: #008000; text-decoration-color: #008000\">│</span>\n",
              "<span style=\"color: #008000; text-decoration-color: #008000\">│</span>  <span style=\"color: #008000; text-decoration-color: #008000\">real.</span>                                                                                                          <span style=\"color: #008000; text-decoration-color: #008000\">│</span>\n",
              "<span style=\"color: #008000; text-decoration-color: #008000\">│</span>  <span style=\"color: #008000; text-decoration-color: #008000\">                Sua função é examinar as informações brutas dos pesquisadores e construir um argumento coeso </span>  <span style=\"color: #008000; text-decoration-color: #008000\">│</span>\n",
              "<span style=\"color: #008000; text-decoration-color: #008000\">│</span>  <span style=\"color: #008000; text-decoration-color: #008000\">e bem fundamentado.</span>                                                                                            <span style=\"color: #008000; text-decoration-color: #008000\">│</span>\n",
              "<span style=\"color: #008000; text-decoration-color: #008000\">│</span>  <span style=\"color: #008000; text-decoration-color: #008000\">                Sua análise aprofundada servirá como uma das várias perspectivas que serão usadas para </span>        <span style=\"color: #008000; text-decoration-color: #008000\">│</span>\n",
              "<span style=\"color: #008000; text-decoration-color: #008000\">│</span>  <span style=\"color: #008000; text-decoration-color: #008000\">construir a resposta final.</span>                                                                                    <span style=\"color: #008000; text-decoration-color: #008000\">│</span>\n",
              "<span style=\"color: #008000; text-decoration-color: #008000\">│</span>  <span style=\"color: #c0c0c0; text-decoration-color: #c0c0c0\">tools: </span><span style=\"color: #008000; text-decoration-color: #008000\">[]</span>                                                                                                      <span style=\"color: #008000; text-decoration-color: #008000\">│</span>\n",
              "<span style=\"color: #008000; text-decoration-color: #008000\">│</span>  <span style=\"color: #c0c0c0; text-decoration-color: #c0c0c0\">verbose: </span><span style=\"color: #008000; text-decoration-color: #008000\">False</span>                                                                                                 <span style=\"color: #008000; text-decoration-color: #008000\">│</span>\n",
              "<span style=\"color: #008000; text-decoration-color: #008000\">│</span>  <span style=\"color: #c0c0c0; text-decoration-color: #c0c0c0\">Tool Args: </span>                                                                                                    <span style=\"color: #008000; text-decoration-color: #008000\">│</span>\n",
              "<span style=\"color: #008000; text-decoration-color: #008000\">│</span>                                                                                                                 <span style=\"color: #008000; text-decoration-color: #008000\">│</span>\n",
              "<span style=\"color: #008000; text-decoration-color: #008000\">│</span>                                                                                                                 <span style=\"color: #008000; text-decoration-color: #008000\">│</span>\n",
              "<span style=\"color: #008000; text-decoration-color: #008000\">╰─────────────────────────────────────────────────────────────────────────────────────────────────────────────────╯</span>\n",
              "</pre>\n"
            ]
          },
          "metadata": {}
        },
        {
          "output_type": "display_data",
          "data": {
            "text/plain": [
              "\n"
            ],
            "text/html": [
              "<pre style=\"white-space:pre;overflow-x:auto;line-height:normal;font-family:Menlo,'DejaVu Sans Mono',consolas,'Courier New',monospace\">\n",
              "</pre>\n"
            ]
          },
          "metadata": {}
        },
        {
          "output_type": "display_data",
          "data": {
            "text/plain": [
              "Output()"
            ],
            "application/vnd.jupyter.widget-view+json": {
              "version_major": 2,
              "version_minor": 0,
              "model_id": "317321b47d9f40f881953404f877feb8"
            }
          },
          "metadata": {}
        },
        {
          "output_type": "display_data",
          "data": {
            "text/plain": [],
            "text/html": [
              "<pre style=\"white-space:pre;overflow-x:auto;line-height:normal;font-family:Menlo,'DejaVu Sans Mono',consolas,'Courier New',monospace\"></pre>\n"
            ]
          },
          "metadata": {}
        },
        {
          "output_type": "display_data",
          "data": {
            "text/plain": [
              "\u001b[36m╭─\u001b[0m\u001b[36m──────────────────────────────────────────────\u001b[0m\u001b[36m LiteAgent Started \u001b[0m\u001b[36m──────────────────────────────────────────────\u001b[0m\u001b[36m─╮\u001b[0m\n",
              "\u001b[36m│\u001b[0m                                                                                                                 \u001b[36m│\u001b[0m\n",
              "\u001b[36m│\u001b[0m  \u001b[1;36mLiteAgent Session Started\u001b[0m                                                                                      \u001b[36m│\u001b[0m\n",
              "\u001b[36m│\u001b[0m  \u001b[37mName: \u001b[0m\u001b[36mEspecialista em Síntese e Comunicação\u001b[0m                                                                    \u001b[36m│\u001b[0m\n",
              "\u001b[36m│\u001b[0m  \u001b[37mid: \u001b[0m\u001b[36m91552c42-de58-46a1-9a58-cbb6087b9944\u001b[0m                                                                       \u001b[36m│\u001b[0m\n",
              "\u001b[36m│\u001b[0m  \u001b[37mrole: \u001b[0m\u001b[36mEspecialista em Síntese e Comunicação\u001b[0m                                                                    \u001b[36m│\u001b[0m\n",
              "\u001b[36m│\u001b[0m  \u001b[37mgoal: \u001b[0m\u001b[36mConsolidar as múltiplas análises recebidas para formular uma resposta única, coesa e fácil de entender \u001b[0m  \u001b[36m│\u001b[0m\n",
              "\u001b[36m│\u001b[0m  \u001b[36mpara a pergunta do usuário, garantindo que todos os pontos importantes sejam abordados.\u001b[0m                        \u001b[36m│\u001b[0m\n",
              "\u001b[36m│\u001b[0m  \u001b[37mbackstory: \u001b[0m\u001b[36mVocê é um comunicador mestre, com a rara habilidade de transformar informações densas e complexas \u001b[0m  \u001b[36m│\u001b[0m\n",
              "\u001b[36m│\u001b[0m  \u001b[36mde várias fontes em uma resposta clara e direta.\u001b[0m                                                               \u001b[36m│\u001b[0m\n",
              "\u001b[36m│\u001b[0m  \u001b[36m                 Seu trabalho não é julgar, mas sim esclarecer. Você revisa os diferentes pontos de vista dos\u001b[0m  \u001b[36m│\u001b[0m\n",
              "\u001b[36m│\u001b[0m  \u001b[36manalistas para construir a resposta mais completa e útil possível para o usuário final, respondendo \u001b[0m           \u001b[36m│\u001b[0m\n",
              "\u001b[36m│\u001b[0m  \u001b[36mdiretamente à sua pergunta.\u001b[0m                                                                                    \u001b[36m│\u001b[0m\n",
              "\u001b[36m│\u001b[0m  \u001b[37mtools: \u001b[0m\u001b[36m[]\u001b[0m                                                                                                      \u001b[36m│\u001b[0m\n",
              "\u001b[36m│\u001b[0m  \u001b[37mverbose: \u001b[0m\u001b[36mFalse\u001b[0m                                                                                                 \u001b[36m│\u001b[0m\n",
              "\u001b[36m│\u001b[0m  \u001b[37mTool Args: \u001b[0m                                                                                                    \u001b[36m│\u001b[0m\n",
              "\u001b[36m│\u001b[0m                                                                                                                 \u001b[36m│\u001b[0m\n",
              "\u001b[36m│\u001b[0m                                                                                                                 \u001b[36m│\u001b[0m\n",
              "\u001b[36m╰─────────────────────────────────────────────────────────────────────────────────────────────────────────────────╯\u001b[0m\n"
            ],
            "text/html": [
              "<pre style=\"white-space:pre;overflow-x:auto;line-height:normal;font-family:Menlo,'DejaVu Sans Mono',consolas,'Courier New',monospace\"><span style=\"color: #008080; text-decoration-color: #008080\">╭─────────────────────────────────────────────── LiteAgent Started ───────────────────────────────────────────────╮</span>\n",
              "<span style=\"color: #008080; text-decoration-color: #008080\">│</span>                                                                                                                 <span style=\"color: #008080; text-decoration-color: #008080\">│</span>\n",
              "<span style=\"color: #008080; text-decoration-color: #008080\">│</span>  <span style=\"color: #008080; text-decoration-color: #008080; font-weight: bold\">LiteAgent Session Started</span>                                                                                      <span style=\"color: #008080; text-decoration-color: #008080\">│</span>\n",
              "<span style=\"color: #008080; text-decoration-color: #008080\">│</span>  <span style=\"color: #c0c0c0; text-decoration-color: #c0c0c0\">Name: </span><span style=\"color: #008080; text-decoration-color: #008080\">Especialista em Síntese e Comunicação</span>                                                                    <span style=\"color: #008080; text-decoration-color: #008080\">│</span>\n",
              "<span style=\"color: #008080; text-decoration-color: #008080\">│</span>  <span style=\"color: #c0c0c0; text-decoration-color: #c0c0c0\">id: </span><span style=\"color: #008080; text-decoration-color: #008080\">91552c42-de58-46a1-9a58-cbb6087b9944</span>                                                                       <span style=\"color: #008080; text-decoration-color: #008080\">│</span>\n",
              "<span style=\"color: #008080; text-decoration-color: #008080\">│</span>  <span style=\"color: #c0c0c0; text-decoration-color: #c0c0c0\">role: </span><span style=\"color: #008080; text-decoration-color: #008080\">Especialista em Síntese e Comunicação</span>                                                                    <span style=\"color: #008080; text-decoration-color: #008080\">│</span>\n",
              "<span style=\"color: #008080; text-decoration-color: #008080\">│</span>  <span style=\"color: #c0c0c0; text-decoration-color: #c0c0c0\">goal: </span><span style=\"color: #008080; text-decoration-color: #008080\">Consolidar as múltiplas análises recebidas para formular uma resposta única, coesa e fácil de entender </span>  <span style=\"color: #008080; text-decoration-color: #008080\">│</span>\n",
              "<span style=\"color: #008080; text-decoration-color: #008080\">│</span>  <span style=\"color: #008080; text-decoration-color: #008080\">para a pergunta do usuário, garantindo que todos os pontos importantes sejam abordados.</span>                        <span style=\"color: #008080; text-decoration-color: #008080\">│</span>\n",
              "<span style=\"color: #008080; text-decoration-color: #008080\">│</span>  <span style=\"color: #c0c0c0; text-decoration-color: #c0c0c0\">backstory: </span><span style=\"color: #008080; text-decoration-color: #008080\">Você é um comunicador mestre, com a rara habilidade de transformar informações densas e complexas </span>  <span style=\"color: #008080; text-decoration-color: #008080\">│</span>\n",
              "<span style=\"color: #008080; text-decoration-color: #008080\">│</span>  <span style=\"color: #008080; text-decoration-color: #008080\">de várias fontes em uma resposta clara e direta.</span>                                                               <span style=\"color: #008080; text-decoration-color: #008080\">│</span>\n",
              "<span style=\"color: #008080; text-decoration-color: #008080\">│</span>  <span style=\"color: #008080; text-decoration-color: #008080\">                 Seu trabalho não é julgar, mas sim esclarecer. Você revisa os diferentes pontos de vista dos</span>  <span style=\"color: #008080; text-decoration-color: #008080\">│</span>\n",
              "<span style=\"color: #008080; text-decoration-color: #008080\">│</span>  <span style=\"color: #008080; text-decoration-color: #008080\">analistas para construir a resposta mais completa e útil possível para o usuário final, respondendo </span>           <span style=\"color: #008080; text-decoration-color: #008080\">│</span>\n",
              "<span style=\"color: #008080; text-decoration-color: #008080\">│</span>  <span style=\"color: #008080; text-decoration-color: #008080\">diretamente à sua pergunta.</span>                                                                                    <span style=\"color: #008080; text-decoration-color: #008080\">│</span>\n",
              "<span style=\"color: #008080; text-decoration-color: #008080\">│</span>  <span style=\"color: #c0c0c0; text-decoration-color: #c0c0c0\">tools: </span><span style=\"color: #008080; text-decoration-color: #008080\">[]</span>                                                                                                      <span style=\"color: #008080; text-decoration-color: #008080\">│</span>\n",
              "<span style=\"color: #008080; text-decoration-color: #008080\">│</span>  <span style=\"color: #c0c0c0; text-decoration-color: #c0c0c0\">verbose: </span><span style=\"color: #008080; text-decoration-color: #008080\">False</span>                                                                                                 <span style=\"color: #008080; text-decoration-color: #008080\">│</span>\n",
              "<span style=\"color: #008080; text-decoration-color: #008080\">│</span>  <span style=\"color: #c0c0c0; text-decoration-color: #c0c0c0\">Tool Args: </span>                                                                                                    <span style=\"color: #008080; text-decoration-color: #008080\">│</span>\n",
              "<span style=\"color: #008080; text-decoration-color: #008080\">│</span>                                                                                                                 <span style=\"color: #008080; text-decoration-color: #008080\">│</span>\n",
              "<span style=\"color: #008080; text-decoration-color: #008080\">│</span>                                                                                                                 <span style=\"color: #008080; text-decoration-color: #008080\">│</span>\n",
              "<span style=\"color: #008080; text-decoration-color: #008080\">╰─────────────────────────────────────────────────────────────────────────────────────────────────────────────────╯</span>\n",
              "</pre>\n"
            ]
          },
          "metadata": {}
        },
        {
          "output_type": "display_data",
          "data": {
            "text/plain": [
              "\n"
            ],
            "text/html": [
              "<pre style=\"white-space:pre;overflow-x:auto;line-height:normal;font-family:Menlo,'DejaVu Sans Mono',consolas,'Courier New',monospace\">\n",
              "</pre>\n"
            ]
          },
          "metadata": {}
        },
        {
          "output_type": "display_data",
          "data": {
            "text/plain": [],
            "text/html": [
              "<pre style=\"white-space:pre;overflow-x:auto;line-height:normal;font-family:Menlo,'DejaVu Sans Mono',consolas,'Courier New',monospace\"></pre>\n"
            ]
          },
          "metadata": {}
        },
        {
          "output_type": "display_data",
          "data": {
            "text/plain": [
              "\u001b[32m╭─\u001b[0m\u001b[32m────────────────────────────────────────────\u001b[0m\u001b[32m LiteAgent Completion \u001b[0m\u001b[32m─────────────────────────────────────────────\u001b[0m\u001b[32m─╮\u001b[0m\n",
              "\u001b[32m│\u001b[0m                                                                                                                 \u001b[32m│\u001b[0m\n",
              "\u001b[32m│\u001b[0m  \u001b[1;32mLiteAgent Completed\u001b[0m                                                                                            \u001b[32m│\u001b[0m\n",
              "\u001b[32m│\u001b[0m  \u001b[37mName: \u001b[0m\u001b[32mEspecialista em Síntese e Comunicação\u001b[0m                                                                    \u001b[32m│\u001b[0m\n",
              "\u001b[32m│\u001b[0m  \u001b[37mid: \u001b[0m\u001b[32m91552c42-de58-46a1-9a58-cbb6087b9944\u001b[0m                                                                       \u001b[32m│\u001b[0m\n",
              "\u001b[32m│\u001b[0m  \u001b[37mrole: \u001b[0m\u001b[32mEspecialista em Síntese e Comunicação\u001b[0m                                                                    \u001b[32m│\u001b[0m\n",
              "\u001b[32m│\u001b[0m  \u001b[37mgoal: \u001b[0m\u001b[32mConsolidar as múltiplas análises recebidas para formular uma resposta única, coesa e fácil de entender \u001b[0m  \u001b[32m│\u001b[0m\n",
              "\u001b[32m│\u001b[0m  \u001b[32mpara a pergunta do usuário, garantindo que todos os pontos importantes sejam abordados.\u001b[0m                        \u001b[32m│\u001b[0m\n",
              "\u001b[32m│\u001b[0m  \u001b[37mbackstory: \u001b[0m\u001b[32mVocê é um comunicador mestre, com a rara habilidade de transformar informações densas e complexas \u001b[0m  \u001b[32m│\u001b[0m\n",
              "\u001b[32m│\u001b[0m  \u001b[32mde várias fontes em uma resposta clara e direta.\u001b[0m                                                               \u001b[32m│\u001b[0m\n",
              "\u001b[32m│\u001b[0m  \u001b[32m                 Seu trabalho não é julgar, mas sim esclarecer. Você revisa os diferentes pontos de vista dos\u001b[0m  \u001b[32m│\u001b[0m\n",
              "\u001b[32m│\u001b[0m  \u001b[32manalistas para construir a resposta mais completa e útil possível para o usuário final, respondendo \u001b[0m           \u001b[32m│\u001b[0m\n",
              "\u001b[32m│\u001b[0m  \u001b[32mdiretamente à sua pergunta.\u001b[0m                                                                                    \u001b[32m│\u001b[0m\n",
              "\u001b[32m│\u001b[0m  \u001b[37mtools: \u001b[0m\u001b[32m[]\u001b[0m                                                                                                      \u001b[32m│\u001b[0m\n",
              "\u001b[32m│\u001b[0m  \u001b[37mverbose: \u001b[0m\u001b[32mFalse\u001b[0m                                                                                                 \u001b[32m│\u001b[0m\n",
              "\u001b[32m│\u001b[0m  \u001b[37mTool Args: \u001b[0m                                                                                                    \u001b[32m│\u001b[0m\n",
              "\u001b[32m│\u001b[0m                                                                                                                 \u001b[32m│\u001b[0m\n",
              "\u001b[32m│\u001b[0m                                                                                                                 \u001b[32m│\u001b[0m\n",
              "\u001b[32m╰─────────────────────────────────────────────────────────────────────────────────────────────────────────────────╯\u001b[0m\n"
            ],
            "text/html": [
              "<pre style=\"white-space:pre;overflow-x:auto;line-height:normal;font-family:Menlo,'DejaVu Sans Mono',consolas,'Courier New',monospace\"><span style=\"color: #008000; text-decoration-color: #008000\">╭───────────────────────────────────────────── LiteAgent Completion ──────────────────────────────────────────────╮</span>\n",
              "<span style=\"color: #008000; text-decoration-color: #008000\">│</span>                                                                                                                 <span style=\"color: #008000; text-decoration-color: #008000\">│</span>\n",
              "<span style=\"color: #008000; text-decoration-color: #008000\">│</span>  <span style=\"color: #008000; text-decoration-color: #008000; font-weight: bold\">LiteAgent Completed</span>                                                                                            <span style=\"color: #008000; text-decoration-color: #008000\">│</span>\n",
              "<span style=\"color: #008000; text-decoration-color: #008000\">│</span>  <span style=\"color: #c0c0c0; text-decoration-color: #c0c0c0\">Name: </span><span style=\"color: #008000; text-decoration-color: #008000\">Especialista em Síntese e Comunicação</span>                                                                    <span style=\"color: #008000; text-decoration-color: #008000\">│</span>\n",
              "<span style=\"color: #008000; text-decoration-color: #008000\">│</span>  <span style=\"color: #c0c0c0; text-decoration-color: #c0c0c0\">id: </span><span style=\"color: #008000; text-decoration-color: #008000\">91552c42-de58-46a1-9a58-cbb6087b9944</span>                                                                       <span style=\"color: #008000; text-decoration-color: #008000\">│</span>\n",
              "<span style=\"color: #008000; text-decoration-color: #008000\">│</span>  <span style=\"color: #c0c0c0; text-decoration-color: #c0c0c0\">role: </span><span style=\"color: #008000; text-decoration-color: #008000\">Especialista em Síntese e Comunicação</span>                                                                    <span style=\"color: #008000; text-decoration-color: #008000\">│</span>\n",
              "<span style=\"color: #008000; text-decoration-color: #008000\">│</span>  <span style=\"color: #c0c0c0; text-decoration-color: #c0c0c0\">goal: </span><span style=\"color: #008000; text-decoration-color: #008000\">Consolidar as múltiplas análises recebidas para formular uma resposta única, coesa e fácil de entender </span>  <span style=\"color: #008000; text-decoration-color: #008000\">│</span>\n",
              "<span style=\"color: #008000; text-decoration-color: #008000\">│</span>  <span style=\"color: #008000; text-decoration-color: #008000\">para a pergunta do usuário, garantindo que todos os pontos importantes sejam abordados.</span>                        <span style=\"color: #008000; text-decoration-color: #008000\">│</span>\n",
              "<span style=\"color: #008000; text-decoration-color: #008000\">│</span>  <span style=\"color: #c0c0c0; text-decoration-color: #c0c0c0\">backstory: </span><span style=\"color: #008000; text-decoration-color: #008000\">Você é um comunicador mestre, com a rara habilidade de transformar informações densas e complexas </span>  <span style=\"color: #008000; text-decoration-color: #008000\">│</span>\n",
              "<span style=\"color: #008000; text-decoration-color: #008000\">│</span>  <span style=\"color: #008000; text-decoration-color: #008000\">de várias fontes em uma resposta clara e direta.</span>                                                               <span style=\"color: #008000; text-decoration-color: #008000\">│</span>\n",
              "<span style=\"color: #008000; text-decoration-color: #008000\">│</span>  <span style=\"color: #008000; text-decoration-color: #008000\">                 Seu trabalho não é julgar, mas sim esclarecer. Você revisa os diferentes pontos de vista dos</span>  <span style=\"color: #008000; text-decoration-color: #008000\">│</span>\n",
              "<span style=\"color: #008000; text-decoration-color: #008000\">│</span>  <span style=\"color: #008000; text-decoration-color: #008000\">analistas para construir a resposta mais completa e útil possível para o usuário final, respondendo </span>           <span style=\"color: #008000; text-decoration-color: #008000\">│</span>\n",
              "<span style=\"color: #008000; text-decoration-color: #008000\">│</span>  <span style=\"color: #008000; text-decoration-color: #008000\">diretamente à sua pergunta.</span>                                                                                    <span style=\"color: #008000; text-decoration-color: #008000\">│</span>\n",
              "<span style=\"color: #008000; text-decoration-color: #008000\">│</span>  <span style=\"color: #c0c0c0; text-decoration-color: #c0c0c0\">tools: </span><span style=\"color: #008000; text-decoration-color: #008000\">[]</span>                                                                                                      <span style=\"color: #008000; text-decoration-color: #008000\">│</span>\n",
              "<span style=\"color: #008000; text-decoration-color: #008000\">│</span>  <span style=\"color: #c0c0c0; text-decoration-color: #c0c0c0\">verbose: </span><span style=\"color: #008000; text-decoration-color: #008000\">False</span>                                                                                                 <span style=\"color: #008000; text-decoration-color: #008000\">│</span>\n",
              "<span style=\"color: #008000; text-decoration-color: #008000\">│</span>  <span style=\"color: #c0c0c0; text-decoration-color: #c0c0c0\">Tool Args: </span>                                                                                                    <span style=\"color: #008000; text-decoration-color: #008000\">│</span>\n",
              "<span style=\"color: #008000; text-decoration-color: #008000\">│</span>                                                                                                                 <span style=\"color: #008000; text-decoration-color: #008000\">│</span>\n",
              "<span style=\"color: #008000; text-decoration-color: #008000\">│</span>                                                                                                                 <span style=\"color: #008000; text-decoration-color: #008000\">│</span>\n",
              "<span style=\"color: #008000; text-decoration-color: #008000\">╰─────────────────────────────────────────────────────────────────────────────────────────────────────────────────╯</span>\n",
              "</pre>\n"
            ]
          },
          "metadata": {}
        },
        {
          "output_type": "display_data",
          "data": {
            "text/plain": [
              "\n"
            ],
            "text/html": [
              "<pre style=\"white-space:pre;overflow-x:auto;line-height:normal;font-family:Menlo,'DejaVu Sans Mono',consolas,'Courier New',monospace\">\n",
              "</pre>\n"
            ]
          },
          "metadata": {}
        },
        {
          "output_type": "display_data",
          "data": {
            "text/plain": [
              "Output()"
            ],
            "application/vnd.jupyter.widget-view+json": {
              "version_major": 2,
              "version_minor": 0,
              "model_id": "6be8783e1ecc4b7394417f4f7b3cec4f"
            }
          },
          "metadata": {}
        },
        {
          "output_type": "display_data",
          "data": {
            "text/plain": [],
            "text/html": [
              "<pre style=\"white-space:pre;overflow-x:auto;line-height:normal;font-family:Menlo,'DejaVu Sans Mono',consolas,'Courier New',monospace\"></pre>\n"
            ]
          },
          "metadata": {}
        },
        {
          "output_type": "display_data",
          "data": {
            "text/plain": [
              "\u001b[32m╭─\u001b[0m\u001b[32m───────────────────────────────────────────────\u001b[0m\u001b[32m Flow Completion \u001b[0m\u001b[32m───────────────────────────────────────────────\u001b[0m\u001b[32m─╮\u001b[0m\n",
              "\u001b[32m│\u001b[0m                                                                                                                 \u001b[32m│\u001b[0m\n",
              "\u001b[32m│\u001b[0m  \u001b[1;32mFlow Execution Completed\u001b[0m                                                                                       \u001b[32m│\u001b[0m\n",
              "\u001b[32m│\u001b[0m  \u001b[37mName: \u001b[0m\u001b[32mFluxoDeAnaliseJuridica\u001b[0m                                                                                   \u001b[32m│\u001b[0m\n",
              "\u001b[32m│\u001b[0m  \u001b[37mID: \u001b[0m\u001b[32m30428d66-bb5b-4973-b979-633d2b80b925\u001b[0m                                                                       \u001b[32m│\u001b[0m\n",
              "\u001b[32m│\u001b[0m  \u001b[37mTool Args: \u001b[0m                                                                                                    \u001b[32m│\u001b[0m\n",
              "\u001b[32m│\u001b[0m                                                                                                                 \u001b[32m│\u001b[0m\n",
              "\u001b[32m│\u001b[0m                                                                                                                 \u001b[32m│\u001b[0m\n",
              "\u001b[32m╰─────────────────────────────────────────────────────────────────────────────────────────────────────────────────╯\u001b[0m\n"
            ],
            "text/html": [
              "<pre style=\"white-space:pre;overflow-x:auto;line-height:normal;font-family:Menlo,'DejaVu Sans Mono',consolas,'Courier New',monospace\"><span style=\"color: #008000; text-decoration-color: #008000\">╭──────────────────────────────────────────────── Flow Completion ────────────────────────────────────────────────╮</span>\n",
              "<span style=\"color: #008000; text-decoration-color: #008000\">│</span>                                                                                                                 <span style=\"color: #008000; text-decoration-color: #008000\">│</span>\n",
              "<span style=\"color: #008000; text-decoration-color: #008000\">│</span>  <span style=\"color: #008000; text-decoration-color: #008000; font-weight: bold\">Flow Execution Completed</span>                                                                                       <span style=\"color: #008000; text-decoration-color: #008000\">│</span>\n",
              "<span style=\"color: #008000; text-decoration-color: #008000\">│</span>  <span style=\"color: #c0c0c0; text-decoration-color: #c0c0c0\">Name: </span><span style=\"color: #008000; text-decoration-color: #008000\">FluxoDeAnaliseJuridica</span>                                                                                   <span style=\"color: #008000; text-decoration-color: #008000\">│</span>\n",
              "<span style=\"color: #008000; text-decoration-color: #008000\">│</span>  <span style=\"color: #c0c0c0; text-decoration-color: #c0c0c0\">ID: </span><span style=\"color: #008000; text-decoration-color: #008000\">30428d66-bb5b-4973-b979-633d2b80b925</span>                                                                       <span style=\"color: #008000; text-decoration-color: #008000\">│</span>\n",
              "<span style=\"color: #008000; text-decoration-color: #008000\">│</span>  <span style=\"color: #c0c0c0; text-decoration-color: #c0c0c0\">Tool Args: </span>                                                                                                    <span style=\"color: #008000; text-decoration-color: #008000\">│</span>\n",
              "<span style=\"color: #008000; text-decoration-color: #008000\">│</span>                                                                                                                 <span style=\"color: #008000; text-decoration-color: #008000\">│</span>\n",
              "<span style=\"color: #008000; text-decoration-color: #008000\">│</span>                                                                                                                 <span style=\"color: #008000; text-decoration-color: #008000\">│</span>\n",
              "<span style=\"color: #008000; text-decoration-color: #008000\">╰─────────────────────────────────────────────────────────────────────────────────────────────────────────────────╯</span>\n",
              "</pre>\n"
            ]
          },
          "metadata": {}
        },
        {
          "output_type": "display_data",
          "data": {
            "text/plain": [
              "\n"
            ],
            "text/html": [
              "<pre style=\"white-space:pre;overflow-x:auto;line-height:normal;font-family:Menlo,'DejaVu Sans Mono',consolas,'Courier New',monospace\">\n",
              "</pre>\n"
            ]
          },
          "metadata": {}
        },
        {
          "output_type": "stream",
          "name": "stdout",
          "text": [
            "**\n",
            "\n",
            "Em regra, a loja **não é obrigada por lei** a trocar um produto sem defeito que o consumidor simplesmente não gostou ou se arrependeu por motivos pessoais (como cor, tamanho ou insatisfação geral), especialmente quando a compra foi realizada em um estabelecimento comercial físico. Essa possibilidade, quando oferecida, é uma liberalidade do fornecedor, ou seja, uma política comercial da própria loja e não um direito do consumidor garantido pelo Código de Defesa do Consumidor (CDC).\n",
            "\n",
            "Os fundamentos legais para esta posição são claros:\n",
            "\n",
            "1.  **Vícios do Produto vs. Insatisfação Pessoal:** O **Artigo 18 do CDC** obriga o fornecedor a sanar vícios (defeitos) de qualidade ou quantidade que tornem o produto impróprio ou inadequado ao consumo. Nesses casos de defeito comprovado, o consumidor tem direito a exigir a substituição, a restituição do valor pago ou o abatimento proporcional do preço. No entanto, a insatisfação do consumidor com um produto em perfeito estado de funcionamento e conservação não se enquadra na proteção legal contra vícios.\n",
            "\n",
            "2.  **Direito de Arrependimento (Artigo 49 do CDC):** A única hipótese legal que permite ao consumidor desistir de uma compra sem necessidade de apresentar defeito é o direito de arrependimento. Contudo, este direito é aplicável **exclusivamente às contratações realizadas fora do estabelecimento comercial** (como compras pela internet, telefone ou a domicílio). O consumidor tem um prazo de 7 dias, a contar do recebimento do produto, para exercer esse direito e devolver o produto, recebendo de volta os valores pagos. Este direito visa proteger o consumidor que não pôde examinar o produto antes da compra.\n",
            "\n",
            "3.  **Compras em Loja Física:** Na aquisição de um produto diretamente em uma loja física, presume-se que o consumidor teve a oportunidade de examinar, experimentar e verificar as características do bem antes de efetuar a compra. Assim, a lei não prevê a obrigação de troca por mera insatisfação pessoal nessas circunstâncias.\n",
            "\n",
            "4.  **Políticas de Troca das Lojas:** Muitas lojas oferecem políticas de troca flexíveis (por outro produto ou vale-troca) como estratégia de marketing e fidelização de clientes. Essas políticas são voluntárias e, quando estabelecidas, devem ser claras e cumpridas pela loja. O consumidor deve sempre verificar as condições de troca informadas pela loja no momento da compra.\n",
            "\n",
            "**Em resumo:**\n",
            "\n",
            "*   **Para produtos sem defeito comprados em loja física:** A troca é uma liberalidade da loja, não uma obrigação legal.\n",
            "*   **Para produtos comprados fora do estabelecimento comercial (internet, telefone, etc.):** O consumidor tem o direito de arrependimento garantido pelo Art. 49 do CDC, podendo desistir da compra em até 7 dias após o recebimento.\n",
            "*   **Para produtos com defeito (em qualquer modalidade de compra):** O consumidor tem os direitos previstos no Art. 18 do CDC.\n",
            "\n",
            "Portanto, a obrigação de troca por parte da loja surge legalmente apenas em casos de defeitos no produto ou quando o consumidor exerce seu direito de arrependimento em compras fora do estabelecimento físico.\n"
          ]
        }
      ],
      "source": [
        "pergunta_cdc = \"A loja é obrigada a trocar um produto sem defeito que o consumidor não gostou?\"\n",
        "resposta = await responde(pergunta_cdc)\n",
        "print(resposta)"
      ]
    },
    {
      "cell_type": "markdown",
      "source": [
        "### Pergunta sobre o LGPD"
      ],
      "metadata": {
        "id": "sNiIixQyYVKq"
      },
      "id": "sNiIixQyYVKq"
    },
    {
      "cell_type": "code",
      "metadata": {
        "colab": {
          "base_uri": "https://localhost:8080/",
          "height": 1000,
          "referenced_widgets": [
            "1d148a4c63ab47edb356dba7b40c614c",
            "34b7e053ab6a4a02a464c772507812b0",
            "e781d8e362e1474ea5b30c14e9c26e10",
            "6bd8ade9bf0942dea4f8a58dbc1e4643",
            "1ad99da77e8d4dc38227d584d629536e",
            "6a7a79a51ced44d1abd9a3e293155d9a",
            "762b02d9f3f24add82c44c0ac85bf6d8",
            "ba19808125684c8d9f384e5586afe530",
            "611cf8674ae547e797e6a4f557c606ba",
            "3f1fc63a7b584728a85376a889014bfe",
            "4db218e14ff14b2aaf70ff20850d407f",
            "dd9330b0a0764d43ad46c92f4ae15224",
            "dff1f6c69fd74442a81175d7bbdae6d4",
            "76e9952fd0ad4769994e849b2e1a0c6b",
            "fe55e6e2cf6e4e2fb61da538fb2dabf0",
            "64a3ea0fc5c149438a16afc07f9086a9"
          ]
        },
        "collapsed": true,
        "id": "Bu86G_D98R66",
        "outputId": "16d45bd0-2c00-43de-a494-75927a3406c0"
      },
      "source": [
        "pergunta_lgpd = \"Eu recebi um email de marketing sem ter me cadastrado, eles podem fazer isso?\"\n",
        "resposta_lgpd = await responde(pergunta_lgpd)\n",
        "print(resposta_lgpd)"
      ],
      "id": "Bu86G_D98R66",
      "execution_count": 15,
      "outputs": [
        {
          "output_type": "display_data",
          "data": {
            "text/plain": [
              "\u001b[1;35m Flow started with ID: 30428d66-bb5b-4973-b979-633d2b80b925\u001b[0m\n"
            ],
            "text/html": [
              "<pre style=\"white-space:pre;overflow-x:auto;line-height:normal;font-family:Menlo,'DejaVu Sans Mono',consolas,'Courier New',monospace\"><span style=\"color: #800080; text-decoration-color: #800080; font-weight: bold\"> Flow started with ID: 30428d66-bb5b-4973-b979-633d2b80b925</span>\n",
              "</pre>\n"
            ]
          },
          "metadata": {}
        },
        {
          "output_type": "display_data",
          "data": {
            "text/plain": [
              "Output()"
            ],
            "application/vnd.jupyter.widget-view+json": {
              "version_major": 2,
              "version_minor": 0,
              "model_id": "1d148a4c63ab47edb356dba7b40c614c"
            }
          },
          "metadata": {}
        },
        {
          "output_type": "display_data",
          "data": {
            "text/plain": [],
            "text/html": [
              "<pre style=\"white-space:pre;overflow-x:auto;line-height:normal;font-family:Menlo,'DejaVu Sans Mono',consolas,'Courier New',monospace\"></pre>\n"
            ]
          },
          "metadata": {}
        },
        {
          "output_type": "display_data",
          "data": {
            "text/plain": [
              "\u001b[36m╭─\u001b[0m\u001b[36m──────────────────────────────────────────────\u001b[0m\u001b[36m LiteAgent Started \u001b[0m\u001b[36m──────────────────────────────────────────────\u001b[0m\u001b[36m─╮\u001b[0m\n",
              "\u001b[36m│\u001b[0m                                                                                                                 \u001b[36m│\u001b[0m\n",
              "\u001b[36m│\u001b[0m  \u001b[1;36mLiteAgent Session Started\u001b[0m                                                                                      \u001b[36m│\u001b[0m\n",
              "\u001b[36m│\u001b[0m  \u001b[37mName: \u001b[0m\u001b[36mAnalista de Contexto e Casos Práticos (Web Only)\u001b[0m                                                         \u001b[36m│\u001b[0m\n",
              "\u001b[36m│\u001b[0m  \u001b[37mid: \u001b[0m\u001b[36me42fa323-f52f-40a9-9a6d-9eeffc98c225\u001b[0m                                                                       \u001b[36m│\u001b[0m\n",
              "\u001b[36m│\u001b[0m  \u001b[37mrole: \u001b[0m\u001b[36mAnalista de Contexto e Casos Práticos (Web Only)\u001b[0m                                                         \u001b[36m│\u001b[0m\n",
              "\u001b[36m│\u001b[0m  \u001b[37mgoal: \u001b[0m\u001b[36mPara qualquer pergunta do usuário, usar SOMENTE a busca na web para encontrar notícias, artigos de blog\u001b[0m  \u001b[36m│\u001b[0m\n",
              "\u001b[36m│\u001b[0m  \u001b[36me decisões judiciais que forneçam contexto do mundo real sobre como as leis são aplicadas. Não ser \u001b[0m            \u001b[36m│\u001b[0m\n",
              "\u001b[36m│\u001b[0m  \u001b[36mredundante. Não dar opniões.\u001b[0m                                                                                   \u001b[36m│\u001b[0m\n",
              "\u001b[36m│\u001b[0m  \u001b[37mbackstory: \u001b[0m\u001b[36mVocê é um jornalista investigativo especializado no judiciário. Você sabe como encontrar exemplos \u001b[0m  \u001b[36m│\u001b[0m\n",
              "\u001b[36m│\u001b[0m  \u001b[36mque ilustram a aplicação prática das leis, ajudando a entender além do texto legal. Sua especialidade é \u001b[0m       \u001b[36m│\u001b[0m\n",
              "\u001b[36m│\u001b[0m  \u001b[36mencontrar informações relevantes usando apenas a web.\u001b[0m                                                          \u001b[36m│\u001b[0m\n",
              "\u001b[36m│\u001b[0m  \u001b[37mtools: \u001b[0m\u001b[36m[CrewStructuredTool(name='Search the internet with Serper', description='Tool Name: Search the \u001b[0m         \u001b[36m│\u001b[0m\n",
              "\u001b[36m│\u001b[0m  \u001b[36minternet with Serper\u001b[0m                                                                                           \u001b[36m│\u001b[0m\n",
              "\u001b[36m│\u001b[0m  \u001b[36mTool Arguments: {'search_query': {'description': 'Mandatory search query you want to use to search the \u001b[0m        \u001b[36m│\u001b[0m\n",
              "\u001b[36m│\u001b[0m  \u001b[36minternet', 'type': 'str'}}\u001b[0m                                                                                     \u001b[36m│\u001b[0m\n",
              "\u001b[36m│\u001b[0m  \u001b[36mTool Description: A tool that can be used to search the internet with a search_query. Supports different \u001b[0m      \u001b[36m│\u001b[0m\n",
              "\u001b[36m│\u001b[0m  \u001b[36msearch types: 'search' (default), 'news'')]\u001b[0m                                                                    \u001b[36m│\u001b[0m\n",
              "\u001b[36m│\u001b[0m  \u001b[37mverbose: \u001b[0m\u001b[36mFalse\u001b[0m                                                                                                 \u001b[36m│\u001b[0m\n",
              "\u001b[36m│\u001b[0m  \u001b[37mTool Args: \u001b[0m                                                                                                    \u001b[36m│\u001b[0m\n",
              "\u001b[36m│\u001b[0m                                                                                                                 \u001b[36m│\u001b[0m\n",
              "\u001b[36m│\u001b[0m                                                                                                                 \u001b[36m│\u001b[0m\n",
              "\u001b[36m╰─────────────────────────────────────────────────────────────────────────────────────────────────────────────────╯\u001b[0m\n"
            ],
            "text/html": [
              "<pre style=\"white-space:pre;overflow-x:auto;line-height:normal;font-family:Menlo,'DejaVu Sans Mono',consolas,'Courier New',monospace\"><span style=\"color: #008080; text-decoration-color: #008080\">╭─────────────────────────────────────────────── LiteAgent Started ───────────────────────────────────────────────╮</span>\n",
              "<span style=\"color: #008080; text-decoration-color: #008080\">│</span>                                                                                                                 <span style=\"color: #008080; text-decoration-color: #008080\">│</span>\n",
              "<span style=\"color: #008080; text-decoration-color: #008080\">│</span>  <span style=\"color: #008080; text-decoration-color: #008080; font-weight: bold\">LiteAgent Session Started</span>                                                                                      <span style=\"color: #008080; text-decoration-color: #008080\">│</span>\n",
              "<span style=\"color: #008080; text-decoration-color: #008080\">│</span>  <span style=\"color: #c0c0c0; text-decoration-color: #c0c0c0\">Name: </span><span style=\"color: #008080; text-decoration-color: #008080\">Analista de Contexto e Casos Práticos (Web Only)</span>                                                         <span style=\"color: #008080; text-decoration-color: #008080\">│</span>\n",
              "<span style=\"color: #008080; text-decoration-color: #008080\">│</span>  <span style=\"color: #c0c0c0; text-decoration-color: #c0c0c0\">id: </span><span style=\"color: #008080; text-decoration-color: #008080\">e42fa323-f52f-40a9-9a6d-9eeffc98c225</span>                                                                       <span style=\"color: #008080; text-decoration-color: #008080\">│</span>\n",
              "<span style=\"color: #008080; text-decoration-color: #008080\">│</span>  <span style=\"color: #c0c0c0; text-decoration-color: #c0c0c0\">role: </span><span style=\"color: #008080; text-decoration-color: #008080\">Analista de Contexto e Casos Práticos (Web Only)</span>                                                         <span style=\"color: #008080; text-decoration-color: #008080\">│</span>\n",
              "<span style=\"color: #008080; text-decoration-color: #008080\">│</span>  <span style=\"color: #c0c0c0; text-decoration-color: #c0c0c0\">goal: </span><span style=\"color: #008080; text-decoration-color: #008080\">Para qualquer pergunta do usuário, usar SOMENTE a busca na web para encontrar notícias, artigos de blog</span>  <span style=\"color: #008080; text-decoration-color: #008080\">│</span>\n",
              "<span style=\"color: #008080; text-decoration-color: #008080\">│</span>  <span style=\"color: #008080; text-decoration-color: #008080\">e decisões judiciais que forneçam contexto do mundo real sobre como as leis são aplicadas. Não ser </span>            <span style=\"color: #008080; text-decoration-color: #008080\">│</span>\n",
              "<span style=\"color: #008080; text-decoration-color: #008080\">│</span>  <span style=\"color: #008080; text-decoration-color: #008080\">redundante. Não dar opniões.</span>                                                                                   <span style=\"color: #008080; text-decoration-color: #008080\">│</span>\n",
              "<span style=\"color: #008080; text-decoration-color: #008080\">│</span>  <span style=\"color: #c0c0c0; text-decoration-color: #c0c0c0\">backstory: </span><span style=\"color: #008080; text-decoration-color: #008080\">Você é um jornalista investigativo especializado no judiciário. Você sabe como encontrar exemplos </span>  <span style=\"color: #008080; text-decoration-color: #008080\">│</span>\n",
              "<span style=\"color: #008080; text-decoration-color: #008080\">│</span>  <span style=\"color: #008080; text-decoration-color: #008080\">que ilustram a aplicação prática das leis, ajudando a entender além do texto legal. Sua especialidade é </span>       <span style=\"color: #008080; text-decoration-color: #008080\">│</span>\n",
              "<span style=\"color: #008080; text-decoration-color: #008080\">│</span>  <span style=\"color: #008080; text-decoration-color: #008080\">encontrar informações relevantes usando apenas a web.</span>                                                          <span style=\"color: #008080; text-decoration-color: #008080\">│</span>\n",
              "<span style=\"color: #008080; text-decoration-color: #008080\">│</span>  <span style=\"color: #c0c0c0; text-decoration-color: #c0c0c0\">tools: </span><span style=\"color: #008080; text-decoration-color: #008080\">[CrewStructuredTool(name='Search the internet with Serper', description='Tool Name: Search the </span>         <span style=\"color: #008080; text-decoration-color: #008080\">│</span>\n",
              "<span style=\"color: #008080; text-decoration-color: #008080\">│</span>  <span style=\"color: #008080; text-decoration-color: #008080\">internet with Serper</span>                                                                                           <span style=\"color: #008080; text-decoration-color: #008080\">│</span>\n",
              "<span style=\"color: #008080; text-decoration-color: #008080\">│</span>  <span style=\"color: #008080; text-decoration-color: #008080\">Tool Arguments: {'search_query': {'description': 'Mandatory search query you want to use to search the </span>        <span style=\"color: #008080; text-decoration-color: #008080\">│</span>\n",
              "<span style=\"color: #008080; text-decoration-color: #008080\">│</span>  <span style=\"color: #008080; text-decoration-color: #008080\">internet', 'type': 'str'}}</span>                                                                                     <span style=\"color: #008080; text-decoration-color: #008080\">│</span>\n",
              "<span style=\"color: #008080; text-decoration-color: #008080\">│</span>  <span style=\"color: #008080; text-decoration-color: #008080\">Tool Description: A tool that can be used to search the internet with a search_query. Supports different </span>      <span style=\"color: #008080; text-decoration-color: #008080\">│</span>\n",
              "<span style=\"color: #008080; text-decoration-color: #008080\">│</span>  <span style=\"color: #008080; text-decoration-color: #008080\">search types: 'search' (default), 'news'')]</span>                                                                    <span style=\"color: #008080; text-decoration-color: #008080\">│</span>\n",
              "<span style=\"color: #008080; text-decoration-color: #008080\">│</span>  <span style=\"color: #c0c0c0; text-decoration-color: #c0c0c0\">verbose: </span><span style=\"color: #008080; text-decoration-color: #008080\">False</span>                                                                                                 <span style=\"color: #008080; text-decoration-color: #008080\">│</span>\n",
              "<span style=\"color: #008080; text-decoration-color: #008080\">│</span>  <span style=\"color: #c0c0c0; text-decoration-color: #c0c0c0\">Tool Args: </span>                                                                                                    <span style=\"color: #008080; text-decoration-color: #008080\">│</span>\n",
              "<span style=\"color: #008080; text-decoration-color: #008080\">│</span>                                                                                                                 <span style=\"color: #008080; text-decoration-color: #008080\">│</span>\n",
              "<span style=\"color: #008080; text-decoration-color: #008080\">│</span>                                                                                                                 <span style=\"color: #008080; text-decoration-color: #008080\">│</span>\n",
              "<span style=\"color: #008080; text-decoration-color: #008080\">╰─────────────────────────────────────────────────────────────────────────────────────────────────────────────────╯</span>\n",
              "</pre>\n"
            ]
          },
          "metadata": {}
        },
        {
          "output_type": "display_data",
          "data": {
            "text/plain": [
              "\n"
            ],
            "text/html": [
              "<pre style=\"white-space:pre;overflow-x:auto;line-height:normal;font-family:Menlo,'DejaVu Sans Mono',consolas,'Courier New',monospace\">\n",
              "</pre>\n"
            ]
          },
          "metadata": {}
        },
        {
          "output_type": "display_data",
          "data": {
            "text/plain": [
              "\u001b[36m╭─\u001b[0m\u001b[36m──────────────────────────────────────────────\u001b[0m\u001b[36m LiteAgent Started \u001b[0m\u001b[36m──────────────────────────────────────────────\u001b[0m\u001b[36m─╮\u001b[0m\n",
              "\u001b[36m│\u001b[0m                                                                                                                 \u001b[36m│\u001b[0m\n",
              "\u001b[36m│\u001b[0m  \u001b[1;36mLiteAgent Session Started\u001b[0m                                                                                      \u001b[36m│\u001b[0m\n",
              "\u001b[36m│\u001b[0m  \u001b[37mName: \u001b[0m\u001b[36mPesquisador Jurídico (RAG Only)\u001b[0m                                                                          \u001b[36m│\u001b[0m\n",
              "\u001b[36m│\u001b[0m  \u001b[37mid: \u001b[0m\u001b[36m08a185be-ea73-464c-a64c-7d96159b01c8\u001b[0m                                                                       \u001b[36m│\u001b[0m\n",
              "\u001b[36m│\u001b[0m  \u001b[37mrole: \u001b[0m\u001b[36mPesquisador Jurídico (RAG Only)\u001b[0m                                                                          \u001b[36m│\u001b[0m\n",
              "\u001b[36m│\u001b[0m  \u001b[37mgoal: \u001b[0m\u001b[36mPara qualquer pergunta do usuário, usar SOMENTE a ferramenta RAG para encontrar artigos de lei \u001b[0m          \u001b[36m│\u001b[0m\n",
              "\u001b[36m│\u001b[0m  \u001b[36mrelevantes e informações dentro da base de conhecimento fornecida. Não ser redundante. Não dar opniões.\u001b[0m        \u001b[36m│\u001b[0m\n",
              "\u001b[36m│\u001b[0m  \u001b[37mbackstory: \u001b[0m\u001b[36mVocê é um especialista em análise de documentos legais internos. Sua expertise é encontrar e citar\u001b[0m  \u001b[36m│\u001b[0m\n",
              "\u001b[36m│\u001b[0m  \u001b[36martigos de lei e outras informações relevantes exclusivamente dentro da sua base de conhecimento interna.\u001b[0m      \u001b[36m│\u001b[0m\n",
              "\u001b[36m│\u001b[0m  \u001b[37mtools: \u001b[0m\u001b[36m[CrewStructuredTool(name='Search a txt's content', description='Tool Name: Search a txt's content\u001b[0m       \u001b[36m│\u001b[0m\n",
              "\u001b[36m│\u001b[0m  \u001b[36mTool Arguments: {'search_query': {'description': \"Mandatory search query you want to use to search the txt's \u001b[0m  \u001b[36m│\u001b[0m\n",
              "\u001b[36m│\u001b[0m  \u001b[36mcontent\", 'type': 'str'}}\u001b[0m                                                                                      \u001b[36m│\u001b[0m\n",
              "\u001b[36m│\u001b[0m  \u001b[36mTool Description: A tool that can be used to semantic search a query the knowledge.txt txt's content.')]\u001b[0m       \u001b[36m│\u001b[0m\n",
              "\u001b[36m│\u001b[0m  \u001b[37mverbose: \u001b[0m\u001b[36mFalse\u001b[0m                                                                                                 \u001b[36m│\u001b[0m\n",
              "\u001b[36m│\u001b[0m  \u001b[37mTool Args: \u001b[0m                                                                                                    \u001b[36m│\u001b[0m\n",
              "\u001b[36m│\u001b[0m                                                                                                                 \u001b[36m│\u001b[0m\n",
              "\u001b[36m│\u001b[0m                                                                                                                 \u001b[36m│\u001b[0m\n",
              "\u001b[36m╰─────────────────────────────────────────────────────────────────────────────────────────────────────────────────╯\u001b[0m\n"
            ],
            "text/html": [
              "<pre style=\"white-space:pre;overflow-x:auto;line-height:normal;font-family:Menlo,'DejaVu Sans Mono',consolas,'Courier New',monospace\"><span style=\"color: #008080; text-decoration-color: #008080\">╭─────────────────────────────────────────────── LiteAgent Started ───────────────────────────────────────────────╮</span>\n",
              "<span style=\"color: #008080; text-decoration-color: #008080\">│</span>                                                                                                                 <span style=\"color: #008080; text-decoration-color: #008080\">│</span>\n",
              "<span style=\"color: #008080; text-decoration-color: #008080\">│</span>  <span style=\"color: #008080; text-decoration-color: #008080; font-weight: bold\">LiteAgent Session Started</span>                                                                                      <span style=\"color: #008080; text-decoration-color: #008080\">│</span>\n",
              "<span style=\"color: #008080; text-decoration-color: #008080\">│</span>  <span style=\"color: #c0c0c0; text-decoration-color: #c0c0c0\">Name: </span><span style=\"color: #008080; text-decoration-color: #008080\">Pesquisador Jurídico (RAG Only)</span>                                                                          <span style=\"color: #008080; text-decoration-color: #008080\">│</span>\n",
              "<span style=\"color: #008080; text-decoration-color: #008080\">│</span>  <span style=\"color: #c0c0c0; text-decoration-color: #c0c0c0\">id: </span><span style=\"color: #008080; text-decoration-color: #008080\">08a185be-ea73-464c-a64c-7d96159b01c8</span>                                                                       <span style=\"color: #008080; text-decoration-color: #008080\">│</span>\n",
              "<span style=\"color: #008080; text-decoration-color: #008080\">│</span>  <span style=\"color: #c0c0c0; text-decoration-color: #c0c0c0\">role: </span><span style=\"color: #008080; text-decoration-color: #008080\">Pesquisador Jurídico (RAG Only)</span>                                                                          <span style=\"color: #008080; text-decoration-color: #008080\">│</span>\n",
              "<span style=\"color: #008080; text-decoration-color: #008080\">│</span>  <span style=\"color: #c0c0c0; text-decoration-color: #c0c0c0\">goal: </span><span style=\"color: #008080; text-decoration-color: #008080\">Para qualquer pergunta do usuário, usar SOMENTE a ferramenta RAG para encontrar artigos de lei </span>          <span style=\"color: #008080; text-decoration-color: #008080\">│</span>\n",
              "<span style=\"color: #008080; text-decoration-color: #008080\">│</span>  <span style=\"color: #008080; text-decoration-color: #008080\">relevantes e informações dentro da base de conhecimento fornecida. Não ser redundante. Não dar opniões.</span>        <span style=\"color: #008080; text-decoration-color: #008080\">│</span>\n",
              "<span style=\"color: #008080; text-decoration-color: #008080\">│</span>  <span style=\"color: #c0c0c0; text-decoration-color: #c0c0c0\">backstory: </span><span style=\"color: #008080; text-decoration-color: #008080\">Você é um especialista em análise de documentos legais internos. Sua expertise é encontrar e citar</span>  <span style=\"color: #008080; text-decoration-color: #008080\">│</span>\n",
              "<span style=\"color: #008080; text-decoration-color: #008080\">│</span>  <span style=\"color: #008080; text-decoration-color: #008080\">artigos de lei e outras informações relevantes exclusivamente dentro da sua base de conhecimento interna.</span>      <span style=\"color: #008080; text-decoration-color: #008080\">│</span>\n",
              "<span style=\"color: #008080; text-decoration-color: #008080\">│</span>  <span style=\"color: #c0c0c0; text-decoration-color: #c0c0c0\">tools: </span><span style=\"color: #008080; text-decoration-color: #008080\">[CrewStructuredTool(name='Search a txt's content', description='Tool Name: Search a txt's content</span>       <span style=\"color: #008080; text-decoration-color: #008080\">│</span>\n",
              "<span style=\"color: #008080; text-decoration-color: #008080\">│</span>  <span style=\"color: #008080; text-decoration-color: #008080\">Tool Arguments: {'search_query': {'description': \"Mandatory search query you want to use to search the txt's </span>  <span style=\"color: #008080; text-decoration-color: #008080\">│</span>\n",
              "<span style=\"color: #008080; text-decoration-color: #008080\">│</span>  <span style=\"color: #008080; text-decoration-color: #008080\">content\", 'type': 'str'}}</span>                                                                                      <span style=\"color: #008080; text-decoration-color: #008080\">│</span>\n",
              "<span style=\"color: #008080; text-decoration-color: #008080\">│</span>  <span style=\"color: #008080; text-decoration-color: #008080\">Tool Description: A tool that can be used to semantic search a query the knowledge.txt txt's content.')]</span>       <span style=\"color: #008080; text-decoration-color: #008080\">│</span>\n",
              "<span style=\"color: #008080; text-decoration-color: #008080\">│</span>  <span style=\"color: #c0c0c0; text-decoration-color: #c0c0c0\">verbose: </span><span style=\"color: #008080; text-decoration-color: #008080\">False</span>                                                                                                 <span style=\"color: #008080; text-decoration-color: #008080\">│</span>\n",
              "<span style=\"color: #008080; text-decoration-color: #008080\">│</span>  <span style=\"color: #c0c0c0; text-decoration-color: #c0c0c0\">Tool Args: </span>                                                                                                    <span style=\"color: #008080; text-decoration-color: #008080\">│</span>\n",
              "<span style=\"color: #008080; text-decoration-color: #008080\">│</span>                                                                                                                 <span style=\"color: #008080; text-decoration-color: #008080\">│</span>\n",
              "<span style=\"color: #008080; text-decoration-color: #008080\">│</span>                                                                                                                 <span style=\"color: #008080; text-decoration-color: #008080\">│</span>\n",
              "<span style=\"color: #008080; text-decoration-color: #008080\">╰─────────────────────────────────────────────────────────────────────────────────────────────────────────────────╯</span>\n",
              "</pre>\n"
            ]
          },
          "metadata": {}
        },
        {
          "output_type": "display_data",
          "data": {
            "text/plain": [
              "\n"
            ],
            "text/html": [
              "<pre style=\"white-space:pre;overflow-x:auto;line-height:normal;font-family:Menlo,'DejaVu Sans Mono',consolas,'Courier New',monospace\">\n",
              "</pre>\n"
            ]
          },
          "metadata": {}
        },
        {
          "output_type": "display_data",
          "data": {
            "text/plain": [
              "Output()"
            ],
            "application/vnd.jupyter.widget-view+json": {
              "version_major": 2,
              "version_minor": 0,
              "model_id": "e781d8e362e1474ea5b30c14e9c26e10"
            }
          },
          "metadata": {}
        },
        {
          "output_type": "display_data",
          "data": {
            "text/plain": [],
            "text/html": [
              "<pre style=\"white-space:pre;overflow-x:auto;line-height:normal;font-family:Menlo,'DejaVu Sans Mono',consolas,'Courier New',monospace\"></pre>\n"
            ]
          },
          "metadata": {}
        },
        {
          "output_type": "display_data",
          "data": {
            "text/plain": [
              "\u001b[32m╭─\u001b[0m\u001b[32m────────────────────────────────────────────\u001b[0m\u001b[32m LiteAgent Completion \u001b[0m\u001b[32m─────────────────────────────────────────────\u001b[0m\u001b[32m─╮\u001b[0m\n",
              "\u001b[32m│\u001b[0m                                                                                                                 \u001b[32m│\u001b[0m\n",
              "\u001b[32m│\u001b[0m  \u001b[1;32mLiteAgent Completed\u001b[0m                                                                                            \u001b[32m│\u001b[0m\n",
              "\u001b[32m│\u001b[0m  \u001b[37mName: \u001b[0m\u001b[32mAnalista de Contexto e Casos Práticos (Web Only)\u001b[0m                                                         \u001b[32m│\u001b[0m\n",
              "\u001b[32m│\u001b[0m  \u001b[37mid: \u001b[0m\u001b[32me42fa323-f52f-40a9-9a6d-9eeffc98c225\u001b[0m                                                                       \u001b[32m│\u001b[0m\n",
              "\u001b[32m│\u001b[0m  \u001b[37mrole: \u001b[0m\u001b[32mAnalista de Contexto e Casos Práticos (Web Only)\u001b[0m                                                         \u001b[32m│\u001b[0m\n",
              "\u001b[32m│\u001b[0m  \u001b[37mgoal: \u001b[0m\u001b[32mPara qualquer pergunta do usuário, usar SOMENTE a busca na web para encontrar notícias, artigos de blog\u001b[0m  \u001b[32m│\u001b[0m\n",
              "\u001b[32m│\u001b[0m  \u001b[32me decisões judiciais que forneçam contexto do mundo real sobre como as leis são aplicadas. Não ser \u001b[0m            \u001b[32m│\u001b[0m\n",
              "\u001b[32m│\u001b[0m  \u001b[32mredundante. Não dar opniões.\u001b[0m                                                                                   \u001b[32m│\u001b[0m\n",
              "\u001b[32m│\u001b[0m  \u001b[37mbackstory: \u001b[0m\u001b[32mVocê é um jornalista investigativo especializado no judiciário. Você sabe como encontrar exemplos \u001b[0m  \u001b[32m│\u001b[0m\n",
              "\u001b[32m│\u001b[0m  \u001b[32mque ilustram a aplicação prática das leis, ajudando a entender além do texto legal. Sua especialidade é \u001b[0m       \u001b[32m│\u001b[0m\n",
              "\u001b[32m│\u001b[0m  \u001b[32mencontrar informações relevantes usando apenas a web.\u001b[0m                                                          \u001b[32m│\u001b[0m\n",
              "\u001b[32m│\u001b[0m  \u001b[37mtools: \u001b[0m\u001b[32m[CrewStructuredTool(name='Search the internet with Serper', description='Tool Name: Search the \u001b[0m         \u001b[32m│\u001b[0m\n",
              "\u001b[32m│\u001b[0m  \u001b[32minternet with Serper\u001b[0m                                                                                           \u001b[32m│\u001b[0m\n",
              "\u001b[32m│\u001b[0m  \u001b[32mTool Arguments: {'search_query': {'description': 'Mandatory search query you want to use to search the \u001b[0m        \u001b[32m│\u001b[0m\n",
              "\u001b[32m│\u001b[0m  \u001b[32minternet', 'type': 'str'}}\u001b[0m                                                                                     \u001b[32m│\u001b[0m\n",
              "\u001b[32m│\u001b[0m  \u001b[32mTool Description: A tool that can be used to search the internet with a search_query. Supports different \u001b[0m      \u001b[32m│\u001b[0m\n",
              "\u001b[32m│\u001b[0m  \u001b[32msearch types: 'search' (default), 'news'')]\u001b[0m                                                                    \u001b[32m│\u001b[0m\n",
              "\u001b[32m│\u001b[0m  \u001b[37mverbose: \u001b[0m\u001b[32mFalse\u001b[0m                                                                                                 \u001b[32m│\u001b[0m\n",
              "\u001b[32m│\u001b[0m  \u001b[37mTool Args: \u001b[0m                                                                                                    \u001b[32m│\u001b[0m\n",
              "\u001b[32m│\u001b[0m                                                                                                                 \u001b[32m│\u001b[0m\n",
              "\u001b[32m│\u001b[0m                                                                                                                 \u001b[32m│\u001b[0m\n",
              "\u001b[32m╰─────────────────────────────────────────────────────────────────────────────────────────────────────────────────╯\u001b[0m\n"
            ],
            "text/html": [
              "<pre style=\"white-space:pre;overflow-x:auto;line-height:normal;font-family:Menlo,'DejaVu Sans Mono',consolas,'Courier New',monospace\"><span style=\"color: #008000; text-decoration-color: #008000\">╭───────────────────────────────────────────── LiteAgent Completion ──────────────────────────────────────────────╮</span>\n",
              "<span style=\"color: #008000; text-decoration-color: #008000\">│</span>                                                                                                                 <span style=\"color: #008000; text-decoration-color: #008000\">│</span>\n",
              "<span style=\"color: #008000; text-decoration-color: #008000\">│</span>  <span style=\"color: #008000; text-decoration-color: #008000; font-weight: bold\">LiteAgent Completed</span>                                                                                            <span style=\"color: #008000; text-decoration-color: #008000\">│</span>\n",
              "<span style=\"color: #008000; text-decoration-color: #008000\">│</span>  <span style=\"color: #c0c0c0; text-decoration-color: #c0c0c0\">Name: </span><span style=\"color: #008000; text-decoration-color: #008000\">Analista de Contexto e Casos Práticos (Web Only)</span>                                                         <span style=\"color: #008000; text-decoration-color: #008000\">│</span>\n",
              "<span style=\"color: #008000; text-decoration-color: #008000\">│</span>  <span style=\"color: #c0c0c0; text-decoration-color: #c0c0c0\">id: </span><span style=\"color: #008000; text-decoration-color: #008000\">e42fa323-f52f-40a9-9a6d-9eeffc98c225</span>                                                                       <span style=\"color: #008000; text-decoration-color: #008000\">│</span>\n",
              "<span style=\"color: #008000; text-decoration-color: #008000\">│</span>  <span style=\"color: #c0c0c0; text-decoration-color: #c0c0c0\">role: </span><span style=\"color: #008000; text-decoration-color: #008000\">Analista de Contexto e Casos Práticos (Web Only)</span>                                                         <span style=\"color: #008000; text-decoration-color: #008000\">│</span>\n",
              "<span style=\"color: #008000; text-decoration-color: #008000\">│</span>  <span style=\"color: #c0c0c0; text-decoration-color: #c0c0c0\">goal: </span><span style=\"color: #008000; text-decoration-color: #008000\">Para qualquer pergunta do usuário, usar SOMENTE a busca na web para encontrar notícias, artigos de blog</span>  <span style=\"color: #008000; text-decoration-color: #008000\">│</span>\n",
              "<span style=\"color: #008000; text-decoration-color: #008000\">│</span>  <span style=\"color: #008000; text-decoration-color: #008000\">e decisões judiciais que forneçam contexto do mundo real sobre como as leis são aplicadas. Não ser </span>            <span style=\"color: #008000; text-decoration-color: #008000\">│</span>\n",
              "<span style=\"color: #008000; text-decoration-color: #008000\">│</span>  <span style=\"color: #008000; text-decoration-color: #008000\">redundante. Não dar opniões.</span>                                                                                   <span style=\"color: #008000; text-decoration-color: #008000\">│</span>\n",
              "<span style=\"color: #008000; text-decoration-color: #008000\">│</span>  <span style=\"color: #c0c0c0; text-decoration-color: #c0c0c0\">backstory: </span><span style=\"color: #008000; text-decoration-color: #008000\">Você é um jornalista investigativo especializado no judiciário. Você sabe como encontrar exemplos </span>  <span style=\"color: #008000; text-decoration-color: #008000\">│</span>\n",
              "<span style=\"color: #008000; text-decoration-color: #008000\">│</span>  <span style=\"color: #008000; text-decoration-color: #008000\">que ilustram a aplicação prática das leis, ajudando a entender além do texto legal. Sua especialidade é </span>       <span style=\"color: #008000; text-decoration-color: #008000\">│</span>\n",
              "<span style=\"color: #008000; text-decoration-color: #008000\">│</span>  <span style=\"color: #008000; text-decoration-color: #008000\">encontrar informações relevantes usando apenas a web.</span>                                                          <span style=\"color: #008000; text-decoration-color: #008000\">│</span>\n",
              "<span style=\"color: #008000; text-decoration-color: #008000\">│</span>  <span style=\"color: #c0c0c0; text-decoration-color: #c0c0c0\">tools: </span><span style=\"color: #008000; text-decoration-color: #008000\">[CrewStructuredTool(name='Search the internet with Serper', description='Tool Name: Search the </span>         <span style=\"color: #008000; text-decoration-color: #008000\">│</span>\n",
              "<span style=\"color: #008000; text-decoration-color: #008000\">│</span>  <span style=\"color: #008000; text-decoration-color: #008000\">internet with Serper</span>                                                                                           <span style=\"color: #008000; text-decoration-color: #008000\">│</span>\n",
              "<span style=\"color: #008000; text-decoration-color: #008000\">│</span>  <span style=\"color: #008000; text-decoration-color: #008000\">Tool Arguments: {'search_query': {'description': 'Mandatory search query you want to use to search the </span>        <span style=\"color: #008000; text-decoration-color: #008000\">│</span>\n",
              "<span style=\"color: #008000; text-decoration-color: #008000\">│</span>  <span style=\"color: #008000; text-decoration-color: #008000\">internet', 'type': 'str'}}</span>                                                                                     <span style=\"color: #008000; text-decoration-color: #008000\">│</span>\n",
              "<span style=\"color: #008000; text-decoration-color: #008000\">│</span>  <span style=\"color: #008000; text-decoration-color: #008000\">Tool Description: A tool that can be used to search the internet with a search_query. Supports different </span>      <span style=\"color: #008000; text-decoration-color: #008000\">│</span>\n",
              "<span style=\"color: #008000; text-decoration-color: #008000\">│</span>  <span style=\"color: #008000; text-decoration-color: #008000\">search types: 'search' (default), 'news'')]</span>                                                                    <span style=\"color: #008000; text-decoration-color: #008000\">│</span>\n",
              "<span style=\"color: #008000; text-decoration-color: #008000\">│</span>  <span style=\"color: #c0c0c0; text-decoration-color: #c0c0c0\">verbose: </span><span style=\"color: #008000; text-decoration-color: #008000\">False</span>                                                                                                 <span style=\"color: #008000; text-decoration-color: #008000\">│</span>\n",
              "<span style=\"color: #008000; text-decoration-color: #008000\">│</span>  <span style=\"color: #c0c0c0; text-decoration-color: #c0c0c0\">Tool Args: </span>                                                                                                    <span style=\"color: #008000; text-decoration-color: #008000\">│</span>\n",
              "<span style=\"color: #008000; text-decoration-color: #008000\">│</span>                                                                                                                 <span style=\"color: #008000; text-decoration-color: #008000\">│</span>\n",
              "<span style=\"color: #008000; text-decoration-color: #008000\">│</span>                                                                                                                 <span style=\"color: #008000; text-decoration-color: #008000\">│</span>\n",
              "<span style=\"color: #008000; text-decoration-color: #008000\">╰─────────────────────────────────────────────────────────────────────────────────────────────────────────────────╯</span>\n",
              "</pre>\n"
            ]
          },
          "metadata": {}
        },
        {
          "output_type": "display_data",
          "data": {
            "text/plain": [
              "\n"
            ],
            "text/html": [
              "<pre style=\"white-space:pre;overflow-x:auto;line-height:normal;font-family:Menlo,'DejaVu Sans Mono',consolas,'Courier New',monospace\">\n",
              "</pre>\n"
            ]
          },
          "metadata": {}
        },
        {
          "output_type": "display_data",
          "data": {
            "text/plain": [
              "Output()"
            ],
            "application/vnd.jupyter.widget-view+json": {
              "version_major": 2,
              "version_minor": 0,
              "model_id": "1ad99da77e8d4dc38227d584d629536e"
            }
          },
          "metadata": {}
        },
        {
          "output_type": "display_data",
          "data": {
            "text/plain": [],
            "text/html": [
              "<pre style=\"white-space:pre;overflow-x:auto;line-height:normal;font-family:Menlo,'DejaVu Sans Mono',consolas,'Courier New',monospace\"></pre>\n"
            ]
          },
          "metadata": {}
        },
        {
          "output_type": "display_data",
          "data": {
            "text/plain": [
              "\u001b[32m╭─\u001b[0m\u001b[32m────────────────────────────────────────────\u001b[0m\u001b[32m LiteAgent Completion \u001b[0m\u001b[32m─────────────────────────────────────────────\u001b[0m\u001b[32m─╮\u001b[0m\n",
              "\u001b[32m│\u001b[0m                                                                                                                 \u001b[32m│\u001b[0m\n",
              "\u001b[32m│\u001b[0m  \u001b[1;32mLiteAgent Completed\u001b[0m                                                                                            \u001b[32m│\u001b[0m\n",
              "\u001b[32m│\u001b[0m  \u001b[37mName: \u001b[0m\u001b[32mPesquisador Jurídico (RAG Only)\u001b[0m                                                                          \u001b[32m│\u001b[0m\n",
              "\u001b[32m│\u001b[0m  \u001b[37mid: \u001b[0m\u001b[32m08a185be-ea73-464c-a64c-7d96159b01c8\u001b[0m                                                                       \u001b[32m│\u001b[0m\n",
              "\u001b[32m│\u001b[0m  \u001b[37mrole: \u001b[0m\u001b[32mPesquisador Jurídico (RAG Only)\u001b[0m                                                                          \u001b[32m│\u001b[0m\n",
              "\u001b[32m│\u001b[0m  \u001b[37mgoal: \u001b[0m\u001b[32mPara qualquer pergunta do usuário, usar SOMENTE a ferramenta RAG para encontrar artigos de lei \u001b[0m          \u001b[32m│\u001b[0m\n",
              "\u001b[32m│\u001b[0m  \u001b[32mrelevantes e informações dentro da base de conhecimento fornecida. Não ser redundante. Não dar opniões.\u001b[0m        \u001b[32m│\u001b[0m\n",
              "\u001b[32m│\u001b[0m  \u001b[37mbackstory: \u001b[0m\u001b[32mVocê é um especialista em análise de documentos legais internos. Sua expertise é encontrar e citar\u001b[0m  \u001b[32m│\u001b[0m\n",
              "\u001b[32m│\u001b[0m  \u001b[32martigos de lei e outras informações relevantes exclusivamente dentro da sua base de conhecimento interna.\u001b[0m      \u001b[32m│\u001b[0m\n",
              "\u001b[32m│\u001b[0m  \u001b[37mtools: \u001b[0m\u001b[32m[CrewStructuredTool(name='Search a txt's content', description='Tool Name: Search a txt's content\u001b[0m       \u001b[32m│\u001b[0m\n",
              "\u001b[32m│\u001b[0m  \u001b[32mTool Arguments: {'search_query': {'description': \"Mandatory search query you want to use to search the txt's \u001b[0m  \u001b[32m│\u001b[0m\n",
              "\u001b[32m│\u001b[0m  \u001b[32mcontent\", 'type': 'str'}}\u001b[0m                                                                                      \u001b[32m│\u001b[0m\n",
              "\u001b[32m│\u001b[0m  \u001b[32mTool Description: A tool that can be used to semantic search a query the knowledge.txt txt's content.')]\u001b[0m       \u001b[32m│\u001b[0m\n",
              "\u001b[32m│\u001b[0m  \u001b[37mverbose: \u001b[0m\u001b[32mFalse\u001b[0m                                                                                                 \u001b[32m│\u001b[0m\n",
              "\u001b[32m│\u001b[0m  \u001b[37mTool Args: \u001b[0m                                                                                                    \u001b[32m│\u001b[0m\n",
              "\u001b[32m│\u001b[0m                                                                                                                 \u001b[32m│\u001b[0m\n",
              "\u001b[32m│\u001b[0m                                                                                                                 \u001b[32m│\u001b[0m\n",
              "\u001b[32m╰─────────────────────────────────────────────────────────────────────────────────────────────────────────────────╯\u001b[0m\n"
            ],
            "text/html": [
              "<pre style=\"white-space:pre;overflow-x:auto;line-height:normal;font-family:Menlo,'DejaVu Sans Mono',consolas,'Courier New',monospace\"><span style=\"color: #008000; text-decoration-color: #008000\">╭───────────────────────────────────────────── LiteAgent Completion ──────────────────────────────────────────────╮</span>\n",
              "<span style=\"color: #008000; text-decoration-color: #008000\">│</span>                                                                                                                 <span style=\"color: #008000; text-decoration-color: #008000\">│</span>\n",
              "<span style=\"color: #008000; text-decoration-color: #008000\">│</span>  <span style=\"color: #008000; text-decoration-color: #008000; font-weight: bold\">LiteAgent Completed</span>                                                                                            <span style=\"color: #008000; text-decoration-color: #008000\">│</span>\n",
              "<span style=\"color: #008000; text-decoration-color: #008000\">│</span>  <span style=\"color: #c0c0c0; text-decoration-color: #c0c0c0\">Name: </span><span style=\"color: #008000; text-decoration-color: #008000\">Pesquisador Jurídico (RAG Only)</span>                                                                          <span style=\"color: #008000; text-decoration-color: #008000\">│</span>\n",
              "<span style=\"color: #008000; text-decoration-color: #008000\">│</span>  <span style=\"color: #c0c0c0; text-decoration-color: #c0c0c0\">id: </span><span style=\"color: #008000; text-decoration-color: #008000\">08a185be-ea73-464c-a64c-7d96159b01c8</span>                                                                       <span style=\"color: #008000; text-decoration-color: #008000\">│</span>\n",
              "<span style=\"color: #008000; text-decoration-color: #008000\">│</span>  <span style=\"color: #c0c0c0; text-decoration-color: #c0c0c0\">role: </span><span style=\"color: #008000; text-decoration-color: #008000\">Pesquisador Jurídico (RAG Only)</span>                                                                          <span style=\"color: #008000; text-decoration-color: #008000\">│</span>\n",
              "<span style=\"color: #008000; text-decoration-color: #008000\">│</span>  <span style=\"color: #c0c0c0; text-decoration-color: #c0c0c0\">goal: </span><span style=\"color: #008000; text-decoration-color: #008000\">Para qualquer pergunta do usuário, usar SOMENTE a ferramenta RAG para encontrar artigos de lei </span>          <span style=\"color: #008000; text-decoration-color: #008000\">│</span>\n",
              "<span style=\"color: #008000; text-decoration-color: #008000\">│</span>  <span style=\"color: #008000; text-decoration-color: #008000\">relevantes e informações dentro da base de conhecimento fornecida. Não ser redundante. Não dar opniões.</span>        <span style=\"color: #008000; text-decoration-color: #008000\">│</span>\n",
              "<span style=\"color: #008000; text-decoration-color: #008000\">│</span>  <span style=\"color: #c0c0c0; text-decoration-color: #c0c0c0\">backstory: </span><span style=\"color: #008000; text-decoration-color: #008000\">Você é um especialista em análise de documentos legais internos. Sua expertise é encontrar e citar</span>  <span style=\"color: #008000; text-decoration-color: #008000\">│</span>\n",
              "<span style=\"color: #008000; text-decoration-color: #008000\">│</span>  <span style=\"color: #008000; text-decoration-color: #008000\">artigos de lei e outras informações relevantes exclusivamente dentro da sua base de conhecimento interna.</span>      <span style=\"color: #008000; text-decoration-color: #008000\">│</span>\n",
              "<span style=\"color: #008000; text-decoration-color: #008000\">│</span>  <span style=\"color: #c0c0c0; text-decoration-color: #c0c0c0\">tools: </span><span style=\"color: #008000; text-decoration-color: #008000\">[CrewStructuredTool(name='Search a txt's content', description='Tool Name: Search a txt's content</span>       <span style=\"color: #008000; text-decoration-color: #008000\">│</span>\n",
              "<span style=\"color: #008000; text-decoration-color: #008000\">│</span>  <span style=\"color: #008000; text-decoration-color: #008000\">Tool Arguments: {'search_query': {'description': \"Mandatory search query you want to use to search the txt's </span>  <span style=\"color: #008000; text-decoration-color: #008000\">│</span>\n",
              "<span style=\"color: #008000; text-decoration-color: #008000\">│</span>  <span style=\"color: #008000; text-decoration-color: #008000\">content\", 'type': 'str'}}</span>                                                                                      <span style=\"color: #008000; text-decoration-color: #008000\">│</span>\n",
              "<span style=\"color: #008000; text-decoration-color: #008000\">│</span>  <span style=\"color: #008000; text-decoration-color: #008000\">Tool Description: A tool that can be used to semantic search a query the knowledge.txt txt's content.')]</span>       <span style=\"color: #008000; text-decoration-color: #008000\">│</span>\n",
              "<span style=\"color: #008000; text-decoration-color: #008000\">│</span>  <span style=\"color: #c0c0c0; text-decoration-color: #c0c0c0\">verbose: </span><span style=\"color: #008000; text-decoration-color: #008000\">False</span>                                                                                                 <span style=\"color: #008000; text-decoration-color: #008000\">│</span>\n",
              "<span style=\"color: #008000; text-decoration-color: #008000\">│</span>  <span style=\"color: #c0c0c0; text-decoration-color: #c0c0c0\">Tool Args: </span>                                                                                                    <span style=\"color: #008000; text-decoration-color: #008000\">│</span>\n",
              "<span style=\"color: #008000; text-decoration-color: #008000\">│</span>                                                                                                                 <span style=\"color: #008000; text-decoration-color: #008000\">│</span>\n",
              "<span style=\"color: #008000; text-decoration-color: #008000\">│</span>                                                                                                                 <span style=\"color: #008000; text-decoration-color: #008000\">│</span>\n",
              "<span style=\"color: #008000; text-decoration-color: #008000\">╰─────────────────────────────────────────────────────────────────────────────────────────────────────────────────╯</span>\n",
              "</pre>\n"
            ]
          },
          "metadata": {}
        },
        {
          "output_type": "display_data",
          "data": {
            "text/plain": [
              "\n"
            ],
            "text/html": [
              "<pre style=\"white-space:pre;overflow-x:auto;line-height:normal;font-family:Menlo,'DejaVu Sans Mono',consolas,'Courier New',monospace\">\n",
              "</pre>\n"
            ]
          },
          "metadata": {}
        },
        {
          "output_type": "display_data",
          "data": {
            "text/plain": [
              "Output()"
            ],
            "application/vnd.jupyter.widget-view+json": {
              "version_major": 2,
              "version_minor": 0,
              "model_id": "762b02d9f3f24add82c44c0ac85bf6d8"
            }
          },
          "metadata": {}
        },
        {
          "output_type": "display_data",
          "data": {
            "text/plain": [],
            "text/html": [
              "<pre style=\"white-space:pre;overflow-x:auto;line-height:normal;font-family:Menlo,'DejaVu Sans Mono',consolas,'Courier New',monospace\"></pre>\n"
            ]
          },
          "metadata": {}
        },
        {
          "output_type": "display_data",
          "data": {
            "text/plain": [
              "\u001b[36m╭─\u001b[0m\u001b[36m──────────────────────────────────────────────\u001b[0m\u001b[36m LiteAgent Started \u001b[0m\u001b[36m──────────────────────────────────────────────\u001b[0m\u001b[36m─╮\u001b[0m\n",
              "\u001b[36m│\u001b[0m                                                                                                                 \u001b[36m│\u001b[0m\n",
              "\u001b[36m│\u001b[0m  \u001b[1;36mLiteAgent Session Started\u001b[0m                                                                                      \u001b[36m│\u001b[0m\n",
              "\u001b[36m│\u001b[0m  \u001b[37mName: \u001b[0m\u001b[36mAnalista Sênior de Informações\u001b[0m                                                                           \u001b[36m│\u001b[0m\n",
              "\u001b[36m│\u001b[0m  \u001b[37mid: \u001b[0m\u001b[36m7456cc88-47d2-424d-914e-7c3ec73fd918\u001b[0m                                                                       \u001b[36m│\u001b[0m\n",
              "\u001b[36m│\u001b[0m  \u001b[37mrole: \u001b[0m\u001b[36mAnalista Sênior de Informações\u001b[0m                                                                           \u001b[36m│\u001b[0m\n",
              "\u001b[36m│\u001b[0m  \u001b[37mgoal: \u001b[0m\u001b[36mAnalisar a pesquisa legal (RAG) e os exemplos práticos (Web) para elaborar uma análise detalhada e uma \u001b[0m  \u001b[36m│\u001b[0m\n",
              "\u001b[36m│\u001b[0m  \u001b[36mproposta de resposta para a pergunta do usuário.\u001b[0m                                                               \u001b[36m│\u001b[0m\n",
              "\u001b[36m│\u001b[0m  \u001b[37mbackstory: \u001b[0m\u001b[36mVocê é um analista experiente, mestre em cruzar dados de legislação com casos práticos do mundo \u001b[0m    \u001b[36m│\u001b[0m\n",
              "\u001b[36m│\u001b[0m  \u001b[36mreal.\u001b[0m                                                                                                          \u001b[36m│\u001b[0m\n",
              "\u001b[36m│\u001b[0m  \u001b[36m                Sua função é examinar as informações brutas dos pesquisadores e construir um argumento coeso \u001b[0m  \u001b[36m│\u001b[0m\n",
              "\u001b[36m│\u001b[0m  \u001b[36me bem fundamentado.\u001b[0m                                                                                            \u001b[36m│\u001b[0m\n",
              "\u001b[36m│\u001b[0m  \u001b[36m                Sua análise aprofundada servirá como uma das várias perspectivas que serão usadas para \u001b[0m        \u001b[36m│\u001b[0m\n",
              "\u001b[36m│\u001b[0m  \u001b[36mconstruir a resposta final.\u001b[0m                                                                                    \u001b[36m│\u001b[0m\n",
              "\u001b[36m│\u001b[0m  \u001b[37mtools: \u001b[0m\u001b[36m[]\u001b[0m                                                                                                      \u001b[36m│\u001b[0m\n",
              "\u001b[36m│\u001b[0m  \u001b[37mverbose: \u001b[0m\u001b[36mFalse\u001b[0m                                                                                                 \u001b[36m│\u001b[0m\n",
              "\u001b[36m│\u001b[0m  \u001b[37mTool Args: \u001b[0m                                                                                                    \u001b[36m│\u001b[0m\n",
              "\u001b[36m│\u001b[0m                                                                                                                 \u001b[36m│\u001b[0m\n",
              "\u001b[36m│\u001b[0m                                                                                                                 \u001b[36m│\u001b[0m\n",
              "\u001b[36m╰─────────────────────────────────────────────────────────────────────────────────────────────────────────────────╯\u001b[0m\n"
            ],
            "text/html": [
              "<pre style=\"white-space:pre;overflow-x:auto;line-height:normal;font-family:Menlo,'DejaVu Sans Mono',consolas,'Courier New',monospace\"><span style=\"color: #008080; text-decoration-color: #008080\">╭─────────────────────────────────────────────── LiteAgent Started ───────────────────────────────────────────────╮</span>\n",
              "<span style=\"color: #008080; text-decoration-color: #008080\">│</span>                                                                                                                 <span style=\"color: #008080; text-decoration-color: #008080\">│</span>\n",
              "<span style=\"color: #008080; text-decoration-color: #008080\">│</span>  <span style=\"color: #008080; text-decoration-color: #008080; font-weight: bold\">LiteAgent Session Started</span>                                                                                      <span style=\"color: #008080; text-decoration-color: #008080\">│</span>\n",
              "<span style=\"color: #008080; text-decoration-color: #008080\">│</span>  <span style=\"color: #c0c0c0; text-decoration-color: #c0c0c0\">Name: </span><span style=\"color: #008080; text-decoration-color: #008080\">Analista Sênior de Informações</span>                                                                           <span style=\"color: #008080; text-decoration-color: #008080\">│</span>\n",
              "<span style=\"color: #008080; text-decoration-color: #008080\">│</span>  <span style=\"color: #c0c0c0; text-decoration-color: #c0c0c0\">id: </span><span style=\"color: #008080; text-decoration-color: #008080\">7456cc88-47d2-424d-914e-7c3ec73fd918</span>                                                                       <span style=\"color: #008080; text-decoration-color: #008080\">│</span>\n",
              "<span style=\"color: #008080; text-decoration-color: #008080\">│</span>  <span style=\"color: #c0c0c0; text-decoration-color: #c0c0c0\">role: </span><span style=\"color: #008080; text-decoration-color: #008080\">Analista Sênior de Informações</span>                                                                           <span style=\"color: #008080; text-decoration-color: #008080\">│</span>\n",
              "<span style=\"color: #008080; text-decoration-color: #008080\">│</span>  <span style=\"color: #c0c0c0; text-decoration-color: #c0c0c0\">goal: </span><span style=\"color: #008080; text-decoration-color: #008080\">Analisar a pesquisa legal (RAG) e os exemplos práticos (Web) para elaborar uma análise detalhada e uma </span>  <span style=\"color: #008080; text-decoration-color: #008080\">│</span>\n",
              "<span style=\"color: #008080; text-decoration-color: #008080\">│</span>  <span style=\"color: #008080; text-decoration-color: #008080\">proposta de resposta para a pergunta do usuário.</span>                                                               <span style=\"color: #008080; text-decoration-color: #008080\">│</span>\n",
              "<span style=\"color: #008080; text-decoration-color: #008080\">│</span>  <span style=\"color: #c0c0c0; text-decoration-color: #c0c0c0\">backstory: </span><span style=\"color: #008080; text-decoration-color: #008080\">Você é um analista experiente, mestre em cruzar dados de legislação com casos práticos do mundo </span>    <span style=\"color: #008080; text-decoration-color: #008080\">│</span>\n",
              "<span style=\"color: #008080; text-decoration-color: #008080\">│</span>  <span style=\"color: #008080; text-decoration-color: #008080\">real.</span>                                                                                                          <span style=\"color: #008080; text-decoration-color: #008080\">│</span>\n",
              "<span style=\"color: #008080; text-decoration-color: #008080\">│</span>  <span style=\"color: #008080; text-decoration-color: #008080\">                Sua função é examinar as informações brutas dos pesquisadores e construir um argumento coeso </span>  <span style=\"color: #008080; text-decoration-color: #008080\">│</span>\n",
              "<span style=\"color: #008080; text-decoration-color: #008080\">│</span>  <span style=\"color: #008080; text-decoration-color: #008080\">e bem fundamentado.</span>                                                                                            <span style=\"color: #008080; text-decoration-color: #008080\">│</span>\n",
              "<span style=\"color: #008080; text-decoration-color: #008080\">│</span>  <span style=\"color: #008080; text-decoration-color: #008080\">                Sua análise aprofundada servirá como uma das várias perspectivas que serão usadas para </span>        <span style=\"color: #008080; text-decoration-color: #008080\">│</span>\n",
              "<span style=\"color: #008080; text-decoration-color: #008080\">│</span>  <span style=\"color: #008080; text-decoration-color: #008080\">construir a resposta final.</span>                                                                                    <span style=\"color: #008080; text-decoration-color: #008080\">│</span>\n",
              "<span style=\"color: #008080; text-decoration-color: #008080\">│</span>  <span style=\"color: #c0c0c0; text-decoration-color: #c0c0c0\">tools: </span><span style=\"color: #008080; text-decoration-color: #008080\">[]</span>                                                                                                      <span style=\"color: #008080; text-decoration-color: #008080\">│</span>\n",
              "<span style=\"color: #008080; text-decoration-color: #008080\">│</span>  <span style=\"color: #c0c0c0; text-decoration-color: #c0c0c0\">verbose: </span><span style=\"color: #008080; text-decoration-color: #008080\">False</span>                                                                                                 <span style=\"color: #008080; text-decoration-color: #008080\">│</span>\n",
              "<span style=\"color: #008080; text-decoration-color: #008080\">│</span>  <span style=\"color: #c0c0c0; text-decoration-color: #c0c0c0\">Tool Args: </span>                                                                                                    <span style=\"color: #008080; text-decoration-color: #008080\">│</span>\n",
              "<span style=\"color: #008080; text-decoration-color: #008080\">│</span>                                                                                                                 <span style=\"color: #008080; text-decoration-color: #008080\">│</span>\n",
              "<span style=\"color: #008080; text-decoration-color: #008080\">│</span>                                                                                                                 <span style=\"color: #008080; text-decoration-color: #008080\">│</span>\n",
              "<span style=\"color: #008080; text-decoration-color: #008080\">╰─────────────────────────────────────────────────────────────────────────────────────────────────────────────────╯</span>\n",
              "</pre>\n"
            ]
          },
          "metadata": {}
        },
        {
          "output_type": "display_data",
          "data": {
            "text/plain": [
              "\n"
            ],
            "text/html": [
              "<pre style=\"white-space:pre;overflow-x:auto;line-height:normal;font-family:Menlo,'DejaVu Sans Mono',consolas,'Courier New',monospace\">\n",
              "</pre>\n"
            ]
          },
          "metadata": {}
        },
        {
          "output_type": "display_data",
          "data": {
            "text/plain": [
              "\u001b[36m╭─\u001b[0m\u001b[36m──────────────────────────────────────────────\u001b[0m\u001b[36m LiteAgent Started \u001b[0m\u001b[36m──────────────────────────────────────────────\u001b[0m\u001b[36m─╮\u001b[0m\n",
              "\u001b[36m│\u001b[0m                                                                                                                 \u001b[36m│\u001b[0m\n",
              "\u001b[36m│\u001b[0m  \u001b[1;36mLiteAgent Session Started\u001b[0m                                                                                      \u001b[36m│\u001b[0m\n",
              "\u001b[36m│\u001b[0m  \u001b[37mName: \u001b[0m\u001b[36mAnalista Sênior de Informações\u001b[0m                                                                           \u001b[36m│\u001b[0m\n",
              "\u001b[36m│\u001b[0m  \u001b[37mid: \u001b[0m\u001b[36m31ad6ef0-200c-487e-b706-187f2cba68fd\u001b[0m                                                                       \u001b[36m│\u001b[0m\n",
              "\u001b[36m│\u001b[0m  \u001b[37mrole: \u001b[0m\u001b[36mAnalista Sênior de Informações\u001b[0m                                                                           \u001b[36m│\u001b[0m\n",
              "\u001b[36m│\u001b[0m  \u001b[37mgoal: \u001b[0m\u001b[36mAnalisar a pesquisa legal (RAG) e os exemplos práticos (Web) para elaborar uma análise detalhada e uma \u001b[0m  \u001b[36m│\u001b[0m\n",
              "\u001b[36m│\u001b[0m  \u001b[36mproposta de resposta para a pergunta do usuário.\u001b[0m                                                               \u001b[36m│\u001b[0m\n",
              "\u001b[36m│\u001b[0m  \u001b[37mbackstory: \u001b[0m\u001b[36mVocê é um analista experiente, mestre em cruzar dados de legislação com casos práticos do mundo \u001b[0m    \u001b[36m│\u001b[0m\n",
              "\u001b[36m│\u001b[0m  \u001b[36mreal.\u001b[0m                                                                                                          \u001b[36m│\u001b[0m\n",
              "\u001b[36m│\u001b[0m  \u001b[36m                Sua função é examinar as informações brutas dos pesquisadores e construir um argumento coeso \u001b[0m  \u001b[36m│\u001b[0m\n",
              "\u001b[36m│\u001b[0m  \u001b[36me bem fundamentado.\u001b[0m                                                                                            \u001b[36m│\u001b[0m\n",
              "\u001b[36m│\u001b[0m  \u001b[36m                Sua análise aprofundada servirá como uma das várias perspectivas que serão usadas para \u001b[0m        \u001b[36m│\u001b[0m\n",
              "\u001b[36m│\u001b[0m  \u001b[36mconstruir a resposta final.\u001b[0m                                                                                    \u001b[36m│\u001b[0m\n",
              "\u001b[36m│\u001b[0m  \u001b[37mtools: \u001b[0m\u001b[36m[]\u001b[0m                                                                                                      \u001b[36m│\u001b[0m\n",
              "\u001b[36m│\u001b[0m  \u001b[37mverbose: \u001b[0m\u001b[36mFalse\u001b[0m                                                                                                 \u001b[36m│\u001b[0m\n",
              "\u001b[36m│\u001b[0m  \u001b[37mTool Args: \u001b[0m                                                                                                    \u001b[36m│\u001b[0m\n",
              "\u001b[36m│\u001b[0m                                                                                                                 \u001b[36m│\u001b[0m\n",
              "\u001b[36m│\u001b[0m                                                                                                                 \u001b[36m│\u001b[0m\n",
              "\u001b[36m╰─────────────────────────────────────────────────────────────────────────────────────────────────────────────────╯\u001b[0m\n"
            ],
            "text/html": [
              "<pre style=\"white-space:pre;overflow-x:auto;line-height:normal;font-family:Menlo,'DejaVu Sans Mono',consolas,'Courier New',monospace\"><span style=\"color: #008080; text-decoration-color: #008080\">╭─────────────────────────────────────────────── LiteAgent Started ───────────────────────────────────────────────╮</span>\n",
              "<span style=\"color: #008080; text-decoration-color: #008080\">│</span>                                                                                                                 <span style=\"color: #008080; text-decoration-color: #008080\">│</span>\n",
              "<span style=\"color: #008080; text-decoration-color: #008080\">│</span>  <span style=\"color: #008080; text-decoration-color: #008080; font-weight: bold\">LiteAgent Session Started</span>                                                                                      <span style=\"color: #008080; text-decoration-color: #008080\">│</span>\n",
              "<span style=\"color: #008080; text-decoration-color: #008080\">│</span>  <span style=\"color: #c0c0c0; text-decoration-color: #c0c0c0\">Name: </span><span style=\"color: #008080; text-decoration-color: #008080\">Analista Sênior de Informações</span>                                                                           <span style=\"color: #008080; text-decoration-color: #008080\">│</span>\n",
              "<span style=\"color: #008080; text-decoration-color: #008080\">│</span>  <span style=\"color: #c0c0c0; text-decoration-color: #c0c0c0\">id: </span><span style=\"color: #008080; text-decoration-color: #008080\">31ad6ef0-200c-487e-b706-187f2cba68fd</span>                                                                       <span style=\"color: #008080; text-decoration-color: #008080\">│</span>\n",
              "<span style=\"color: #008080; text-decoration-color: #008080\">│</span>  <span style=\"color: #c0c0c0; text-decoration-color: #c0c0c0\">role: </span><span style=\"color: #008080; text-decoration-color: #008080\">Analista Sênior de Informações</span>                                                                           <span style=\"color: #008080; text-decoration-color: #008080\">│</span>\n",
              "<span style=\"color: #008080; text-decoration-color: #008080\">│</span>  <span style=\"color: #c0c0c0; text-decoration-color: #c0c0c0\">goal: </span><span style=\"color: #008080; text-decoration-color: #008080\">Analisar a pesquisa legal (RAG) e os exemplos práticos (Web) para elaborar uma análise detalhada e uma </span>  <span style=\"color: #008080; text-decoration-color: #008080\">│</span>\n",
              "<span style=\"color: #008080; text-decoration-color: #008080\">│</span>  <span style=\"color: #008080; text-decoration-color: #008080\">proposta de resposta para a pergunta do usuário.</span>                                                               <span style=\"color: #008080; text-decoration-color: #008080\">│</span>\n",
              "<span style=\"color: #008080; text-decoration-color: #008080\">│</span>  <span style=\"color: #c0c0c0; text-decoration-color: #c0c0c0\">backstory: </span><span style=\"color: #008080; text-decoration-color: #008080\">Você é um analista experiente, mestre em cruzar dados de legislação com casos práticos do mundo </span>    <span style=\"color: #008080; text-decoration-color: #008080\">│</span>\n",
              "<span style=\"color: #008080; text-decoration-color: #008080\">│</span>  <span style=\"color: #008080; text-decoration-color: #008080\">real.</span>                                                                                                          <span style=\"color: #008080; text-decoration-color: #008080\">│</span>\n",
              "<span style=\"color: #008080; text-decoration-color: #008080\">│</span>  <span style=\"color: #008080; text-decoration-color: #008080\">                Sua função é examinar as informações brutas dos pesquisadores e construir um argumento coeso </span>  <span style=\"color: #008080; text-decoration-color: #008080\">│</span>\n",
              "<span style=\"color: #008080; text-decoration-color: #008080\">│</span>  <span style=\"color: #008080; text-decoration-color: #008080\">e bem fundamentado.</span>                                                                                            <span style=\"color: #008080; text-decoration-color: #008080\">│</span>\n",
              "<span style=\"color: #008080; text-decoration-color: #008080\">│</span>  <span style=\"color: #008080; text-decoration-color: #008080\">                Sua análise aprofundada servirá como uma das várias perspectivas que serão usadas para </span>        <span style=\"color: #008080; text-decoration-color: #008080\">│</span>\n",
              "<span style=\"color: #008080; text-decoration-color: #008080\">│</span>  <span style=\"color: #008080; text-decoration-color: #008080\">construir a resposta final.</span>                                                                                    <span style=\"color: #008080; text-decoration-color: #008080\">│</span>\n",
              "<span style=\"color: #008080; text-decoration-color: #008080\">│</span>  <span style=\"color: #c0c0c0; text-decoration-color: #c0c0c0\">tools: </span><span style=\"color: #008080; text-decoration-color: #008080\">[]</span>                                                                                                      <span style=\"color: #008080; text-decoration-color: #008080\">│</span>\n",
              "<span style=\"color: #008080; text-decoration-color: #008080\">│</span>  <span style=\"color: #c0c0c0; text-decoration-color: #c0c0c0\">verbose: </span><span style=\"color: #008080; text-decoration-color: #008080\">False</span>                                                                                                 <span style=\"color: #008080; text-decoration-color: #008080\">│</span>\n",
              "<span style=\"color: #008080; text-decoration-color: #008080\">│</span>  <span style=\"color: #c0c0c0; text-decoration-color: #c0c0c0\">Tool Args: </span>                                                                                                    <span style=\"color: #008080; text-decoration-color: #008080\">│</span>\n",
              "<span style=\"color: #008080; text-decoration-color: #008080\">│</span>                                                                                                                 <span style=\"color: #008080; text-decoration-color: #008080\">│</span>\n",
              "<span style=\"color: #008080; text-decoration-color: #008080\">│</span>                                                                                                                 <span style=\"color: #008080; text-decoration-color: #008080\">│</span>\n",
              "<span style=\"color: #008080; text-decoration-color: #008080\">╰─────────────────────────────────────────────────────────────────────────────────────────────────────────────────╯</span>\n",
              "</pre>\n"
            ]
          },
          "metadata": {}
        },
        {
          "output_type": "display_data",
          "data": {
            "text/plain": [
              "\n"
            ],
            "text/html": [
              "<pre style=\"white-space:pre;overflow-x:auto;line-height:normal;font-family:Menlo,'DejaVu Sans Mono',consolas,'Courier New',monospace\">\n",
              "</pre>\n"
            ]
          },
          "metadata": {}
        },
        {
          "output_type": "display_data",
          "data": {
            "text/plain": [
              "\u001b[36m╭─\u001b[0m\u001b[36m──────────────────────────────────────────────\u001b[0m\u001b[36m LiteAgent Started \u001b[0m\u001b[36m──────────────────────────────────────────────\u001b[0m\u001b[36m─╮\u001b[0m\n",
              "\u001b[36m│\u001b[0m                                                                                                                 \u001b[36m│\u001b[0m\n",
              "\u001b[36m│\u001b[0m  \u001b[1;36mLiteAgent Session Started\u001b[0m                                                                                      \u001b[36m│\u001b[0m\n",
              "\u001b[36m│\u001b[0m  \u001b[37mName: \u001b[0m\u001b[36mAnalista Sênior de Informações\u001b[0m                                                                           \u001b[36m│\u001b[0m\n",
              "\u001b[36m│\u001b[0m  \u001b[37mid: \u001b[0m\u001b[36m53e5eb9f-bf61-48bf-bee4-98aaace07ce0\u001b[0m                                                                       \u001b[36m│\u001b[0m\n",
              "\u001b[36m│\u001b[0m  \u001b[37mrole: \u001b[0m\u001b[36mAnalista Sênior de Informações\u001b[0m                                                                           \u001b[36m│\u001b[0m\n",
              "\u001b[36m│\u001b[0m  \u001b[37mgoal: \u001b[0m\u001b[36mAnalisar a pesquisa legal (RAG) e os exemplos práticos (Web) para elaborar uma análise detalhada e uma \u001b[0m  \u001b[36m│\u001b[0m\n",
              "\u001b[36m│\u001b[0m  \u001b[36mproposta de resposta para a pergunta do usuário.\u001b[0m                                                               \u001b[36m│\u001b[0m\n",
              "\u001b[36m│\u001b[0m  \u001b[37mbackstory: \u001b[0m\u001b[36mVocê é um analista experiente, mestre em cruzar dados de legislação com casos práticos do mundo \u001b[0m    \u001b[36m│\u001b[0m\n",
              "\u001b[36m│\u001b[0m  \u001b[36mreal.\u001b[0m                                                                                                          \u001b[36m│\u001b[0m\n",
              "\u001b[36m│\u001b[0m  \u001b[36m                Sua função é examinar as informações brutas dos pesquisadores e construir um argumento coeso \u001b[0m  \u001b[36m│\u001b[0m\n",
              "\u001b[36m│\u001b[0m  \u001b[36me bem fundamentado.\u001b[0m                                                                                            \u001b[36m│\u001b[0m\n",
              "\u001b[36m│\u001b[0m  \u001b[36m                Sua análise aprofundada servirá como uma das várias perspectivas que serão usadas para \u001b[0m        \u001b[36m│\u001b[0m\n",
              "\u001b[36m│\u001b[0m  \u001b[36mconstruir a resposta final.\u001b[0m                                                                                    \u001b[36m│\u001b[0m\n",
              "\u001b[36m│\u001b[0m  \u001b[37mtools: \u001b[0m\u001b[36m[]\u001b[0m                                                                                                      \u001b[36m│\u001b[0m\n",
              "\u001b[36m│\u001b[0m  \u001b[37mverbose: \u001b[0m\u001b[36mFalse\u001b[0m                                                                                                 \u001b[36m│\u001b[0m\n",
              "\u001b[36m│\u001b[0m  \u001b[37mTool Args: \u001b[0m                                                                                                    \u001b[36m│\u001b[0m\n",
              "\u001b[36m│\u001b[0m                                                                                                                 \u001b[36m│\u001b[0m\n",
              "\u001b[36m│\u001b[0m                                                                                                                 \u001b[36m│\u001b[0m\n",
              "\u001b[36m╰─────────────────────────────────────────────────────────────────────────────────────────────────────────────────╯\u001b[0m\n"
            ],
            "text/html": [
              "<pre style=\"white-space:pre;overflow-x:auto;line-height:normal;font-family:Menlo,'DejaVu Sans Mono',consolas,'Courier New',monospace\"><span style=\"color: #008080; text-decoration-color: #008080\">╭─────────────────────────────────────────────── LiteAgent Started ───────────────────────────────────────────────╮</span>\n",
              "<span style=\"color: #008080; text-decoration-color: #008080\">│</span>                                                                                                                 <span style=\"color: #008080; text-decoration-color: #008080\">│</span>\n",
              "<span style=\"color: #008080; text-decoration-color: #008080\">│</span>  <span style=\"color: #008080; text-decoration-color: #008080; font-weight: bold\">LiteAgent Session Started</span>                                                                                      <span style=\"color: #008080; text-decoration-color: #008080\">│</span>\n",
              "<span style=\"color: #008080; text-decoration-color: #008080\">│</span>  <span style=\"color: #c0c0c0; text-decoration-color: #c0c0c0\">Name: </span><span style=\"color: #008080; text-decoration-color: #008080\">Analista Sênior de Informações</span>                                                                           <span style=\"color: #008080; text-decoration-color: #008080\">│</span>\n",
              "<span style=\"color: #008080; text-decoration-color: #008080\">│</span>  <span style=\"color: #c0c0c0; text-decoration-color: #c0c0c0\">id: </span><span style=\"color: #008080; text-decoration-color: #008080\">53e5eb9f-bf61-48bf-bee4-98aaace07ce0</span>                                                                       <span style=\"color: #008080; text-decoration-color: #008080\">│</span>\n",
              "<span style=\"color: #008080; text-decoration-color: #008080\">│</span>  <span style=\"color: #c0c0c0; text-decoration-color: #c0c0c0\">role: </span><span style=\"color: #008080; text-decoration-color: #008080\">Analista Sênior de Informações</span>                                                                           <span style=\"color: #008080; text-decoration-color: #008080\">│</span>\n",
              "<span style=\"color: #008080; text-decoration-color: #008080\">│</span>  <span style=\"color: #c0c0c0; text-decoration-color: #c0c0c0\">goal: </span><span style=\"color: #008080; text-decoration-color: #008080\">Analisar a pesquisa legal (RAG) e os exemplos práticos (Web) para elaborar uma análise detalhada e uma </span>  <span style=\"color: #008080; text-decoration-color: #008080\">│</span>\n",
              "<span style=\"color: #008080; text-decoration-color: #008080\">│</span>  <span style=\"color: #008080; text-decoration-color: #008080\">proposta de resposta para a pergunta do usuário.</span>                                                               <span style=\"color: #008080; text-decoration-color: #008080\">│</span>\n",
              "<span style=\"color: #008080; text-decoration-color: #008080\">│</span>  <span style=\"color: #c0c0c0; text-decoration-color: #c0c0c0\">backstory: </span><span style=\"color: #008080; text-decoration-color: #008080\">Você é um analista experiente, mestre em cruzar dados de legislação com casos práticos do mundo </span>    <span style=\"color: #008080; text-decoration-color: #008080\">│</span>\n",
              "<span style=\"color: #008080; text-decoration-color: #008080\">│</span>  <span style=\"color: #008080; text-decoration-color: #008080\">real.</span>                                                                                                          <span style=\"color: #008080; text-decoration-color: #008080\">│</span>\n",
              "<span style=\"color: #008080; text-decoration-color: #008080\">│</span>  <span style=\"color: #008080; text-decoration-color: #008080\">                Sua função é examinar as informações brutas dos pesquisadores e construir um argumento coeso </span>  <span style=\"color: #008080; text-decoration-color: #008080\">│</span>\n",
              "<span style=\"color: #008080; text-decoration-color: #008080\">│</span>  <span style=\"color: #008080; text-decoration-color: #008080\">e bem fundamentado.</span>                                                                                            <span style=\"color: #008080; text-decoration-color: #008080\">│</span>\n",
              "<span style=\"color: #008080; text-decoration-color: #008080\">│</span>  <span style=\"color: #008080; text-decoration-color: #008080\">                Sua análise aprofundada servirá como uma das várias perspectivas que serão usadas para </span>        <span style=\"color: #008080; text-decoration-color: #008080\">│</span>\n",
              "<span style=\"color: #008080; text-decoration-color: #008080\">│</span>  <span style=\"color: #008080; text-decoration-color: #008080\">construir a resposta final.</span>                                                                                    <span style=\"color: #008080; text-decoration-color: #008080\">│</span>\n",
              "<span style=\"color: #008080; text-decoration-color: #008080\">│</span>  <span style=\"color: #c0c0c0; text-decoration-color: #c0c0c0\">tools: </span><span style=\"color: #008080; text-decoration-color: #008080\">[]</span>                                                                                                      <span style=\"color: #008080; text-decoration-color: #008080\">│</span>\n",
              "<span style=\"color: #008080; text-decoration-color: #008080\">│</span>  <span style=\"color: #c0c0c0; text-decoration-color: #c0c0c0\">verbose: </span><span style=\"color: #008080; text-decoration-color: #008080\">False</span>                                                                                                 <span style=\"color: #008080; text-decoration-color: #008080\">│</span>\n",
              "<span style=\"color: #008080; text-decoration-color: #008080\">│</span>  <span style=\"color: #c0c0c0; text-decoration-color: #c0c0c0\">Tool Args: </span>                                                                                                    <span style=\"color: #008080; text-decoration-color: #008080\">│</span>\n",
              "<span style=\"color: #008080; text-decoration-color: #008080\">│</span>                                                                                                                 <span style=\"color: #008080; text-decoration-color: #008080\">│</span>\n",
              "<span style=\"color: #008080; text-decoration-color: #008080\">│</span>                                                                                                                 <span style=\"color: #008080; text-decoration-color: #008080\">│</span>\n",
              "<span style=\"color: #008080; text-decoration-color: #008080\">╰─────────────────────────────────────────────────────────────────────────────────────────────────────────────────╯</span>\n",
              "</pre>\n"
            ]
          },
          "metadata": {}
        },
        {
          "output_type": "display_data",
          "data": {
            "text/plain": [
              "\n"
            ],
            "text/html": [
              "<pre style=\"white-space:pre;overflow-x:auto;line-height:normal;font-family:Menlo,'DejaVu Sans Mono',consolas,'Courier New',monospace\">\n",
              "</pre>\n"
            ]
          },
          "metadata": {}
        },
        {
          "output_type": "display_data",
          "data": {
            "text/plain": [],
            "text/html": [
              "<pre style=\"white-space:pre;overflow-x:auto;line-height:normal;font-family:Menlo,'DejaVu Sans Mono',consolas,'Courier New',monospace\"></pre>\n"
            ]
          },
          "metadata": {}
        },
        {
          "output_type": "display_data",
          "data": {
            "text/plain": [
              "\u001b[32m╭─\u001b[0m\u001b[32m────────────────────────────────────────────\u001b[0m\u001b[32m LiteAgent Completion \u001b[0m\u001b[32m─────────────────────────────────────────────\u001b[0m\u001b[32m─╮\u001b[0m\n",
              "\u001b[32m│\u001b[0m                                                                                                                 \u001b[32m│\u001b[0m\n",
              "\u001b[32m│\u001b[0m  \u001b[1;32mLiteAgent Completed\u001b[0m                                                                                            \u001b[32m│\u001b[0m\n",
              "\u001b[32m│\u001b[0m  \u001b[37mName: \u001b[0m\u001b[32mAnalista Sênior de Informações\u001b[0m                                                                           \u001b[32m│\u001b[0m\n",
              "\u001b[32m│\u001b[0m  \u001b[37mid: \u001b[0m\u001b[32m53e5eb9f-bf61-48bf-bee4-98aaace07ce0\u001b[0m                                                                       \u001b[32m│\u001b[0m\n",
              "\u001b[32m│\u001b[0m  \u001b[37mrole: \u001b[0m\u001b[32mAnalista Sênior de Informações\u001b[0m                                                                           \u001b[32m│\u001b[0m\n",
              "\u001b[32m│\u001b[0m  \u001b[37mgoal: \u001b[0m\u001b[32mAnalisar a pesquisa legal (RAG) e os exemplos práticos (Web) para elaborar uma análise detalhada e uma \u001b[0m  \u001b[32m│\u001b[0m\n",
              "\u001b[32m│\u001b[0m  \u001b[32mproposta de resposta para a pergunta do usuário.\u001b[0m                                                               \u001b[32m│\u001b[0m\n",
              "\u001b[32m│\u001b[0m  \u001b[37mbackstory: \u001b[0m\u001b[32mVocê é um analista experiente, mestre em cruzar dados de legislação com casos práticos do mundo \u001b[0m    \u001b[32m│\u001b[0m\n",
              "\u001b[32m│\u001b[0m  \u001b[32mreal.\u001b[0m                                                                                                          \u001b[32m│\u001b[0m\n",
              "\u001b[32m│\u001b[0m  \u001b[32m                Sua função é examinar as informações brutas dos pesquisadores e construir um argumento coeso \u001b[0m  \u001b[32m│\u001b[0m\n",
              "\u001b[32m│\u001b[0m  \u001b[32me bem fundamentado.\u001b[0m                                                                                            \u001b[32m│\u001b[0m\n",
              "\u001b[32m│\u001b[0m  \u001b[32m                Sua análise aprofundada servirá como uma das várias perspectivas que serão usadas para \u001b[0m        \u001b[32m│\u001b[0m\n",
              "\u001b[32m│\u001b[0m  \u001b[32mconstruir a resposta final.\u001b[0m                                                                                    \u001b[32m│\u001b[0m\n",
              "\u001b[32m│\u001b[0m  \u001b[37mtools: \u001b[0m\u001b[32m[]\u001b[0m                                                                                                      \u001b[32m│\u001b[0m\n",
              "\u001b[32m│\u001b[0m  \u001b[37mverbose: \u001b[0m\u001b[32mFalse\u001b[0m                                                                                                 \u001b[32m│\u001b[0m\n",
              "\u001b[32m│\u001b[0m  \u001b[37mTool Args: \u001b[0m                                                                                                    \u001b[32m│\u001b[0m\n",
              "\u001b[32m│\u001b[0m                                                                                                                 \u001b[32m│\u001b[0m\n",
              "\u001b[32m│\u001b[0m                                                                                                                 \u001b[32m│\u001b[0m\n",
              "\u001b[32m╰─────────────────────────────────────────────────────────────────────────────────────────────────────────────────╯\u001b[0m\n"
            ],
            "text/html": [
              "<pre style=\"white-space:pre;overflow-x:auto;line-height:normal;font-family:Menlo,'DejaVu Sans Mono',consolas,'Courier New',monospace\"><span style=\"color: #008000; text-decoration-color: #008000\">╭───────────────────────────────────────────── LiteAgent Completion ──────────────────────────────────────────────╮</span>\n",
              "<span style=\"color: #008000; text-decoration-color: #008000\">│</span>                                                                                                                 <span style=\"color: #008000; text-decoration-color: #008000\">│</span>\n",
              "<span style=\"color: #008000; text-decoration-color: #008000\">│</span>  <span style=\"color: #008000; text-decoration-color: #008000; font-weight: bold\">LiteAgent Completed</span>                                                                                            <span style=\"color: #008000; text-decoration-color: #008000\">│</span>\n",
              "<span style=\"color: #008000; text-decoration-color: #008000\">│</span>  <span style=\"color: #c0c0c0; text-decoration-color: #c0c0c0\">Name: </span><span style=\"color: #008000; text-decoration-color: #008000\">Analista Sênior de Informações</span>                                                                           <span style=\"color: #008000; text-decoration-color: #008000\">│</span>\n",
              "<span style=\"color: #008000; text-decoration-color: #008000\">│</span>  <span style=\"color: #c0c0c0; text-decoration-color: #c0c0c0\">id: </span><span style=\"color: #008000; text-decoration-color: #008000\">53e5eb9f-bf61-48bf-bee4-98aaace07ce0</span>                                                                       <span style=\"color: #008000; text-decoration-color: #008000\">│</span>\n",
              "<span style=\"color: #008000; text-decoration-color: #008000\">│</span>  <span style=\"color: #c0c0c0; text-decoration-color: #c0c0c0\">role: </span><span style=\"color: #008000; text-decoration-color: #008000\">Analista Sênior de Informações</span>                                                                           <span style=\"color: #008000; text-decoration-color: #008000\">│</span>\n",
              "<span style=\"color: #008000; text-decoration-color: #008000\">│</span>  <span style=\"color: #c0c0c0; text-decoration-color: #c0c0c0\">goal: </span><span style=\"color: #008000; text-decoration-color: #008000\">Analisar a pesquisa legal (RAG) e os exemplos práticos (Web) para elaborar uma análise detalhada e uma </span>  <span style=\"color: #008000; text-decoration-color: #008000\">│</span>\n",
              "<span style=\"color: #008000; text-decoration-color: #008000\">│</span>  <span style=\"color: #008000; text-decoration-color: #008000\">proposta de resposta para a pergunta do usuário.</span>                                                               <span style=\"color: #008000; text-decoration-color: #008000\">│</span>\n",
              "<span style=\"color: #008000; text-decoration-color: #008000\">│</span>  <span style=\"color: #c0c0c0; text-decoration-color: #c0c0c0\">backstory: </span><span style=\"color: #008000; text-decoration-color: #008000\">Você é um analista experiente, mestre em cruzar dados de legislação com casos práticos do mundo </span>    <span style=\"color: #008000; text-decoration-color: #008000\">│</span>\n",
              "<span style=\"color: #008000; text-decoration-color: #008000\">│</span>  <span style=\"color: #008000; text-decoration-color: #008000\">real.</span>                                                                                                          <span style=\"color: #008000; text-decoration-color: #008000\">│</span>\n",
              "<span style=\"color: #008000; text-decoration-color: #008000\">│</span>  <span style=\"color: #008000; text-decoration-color: #008000\">                Sua função é examinar as informações brutas dos pesquisadores e construir um argumento coeso </span>  <span style=\"color: #008000; text-decoration-color: #008000\">│</span>\n",
              "<span style=\"color: #008000; text-decoration-color: #008000\">│</span>  <span style=\"color: #008000; text-decoration-color: #008000\">e bem fundamentado.</span>                                                                                            <span style=\"color: #008000; text-decoration-color: #008000\">│</span>\n",
              "<span style=\"color: #008000; text-decoration-color: #008000\">│</span>  <span style=\"color: #008000; text-decoration-color: #008000\">                Sua análise aprofundada servirá como uma das várias perspectivas que serão usadas para </span>        <span style=\"color: #008000; text-decoration-color: #008000\">│</span>\n",
              "<span style=\"color: #008000; text-decoration-color: #008000\">│</span>  <span style=\"color: #008000; text-decoration-color: #008000\">construir a resposta final.</span>                                                                                    <span style=\"color: #008000; text-decoration-color: #008000\">│</span>\n",
              "<span style=\"color: #008000; text-decoration-color: #008000\">│</span>  <span style=\"color: #c0c0c0; text-decoration-color: #c0c0c0\">tools: </span><span style=\"color: #008000; text-decoration-color: #008000\">[]</span>                                                                                                      <span style=\"color: #008000; text-decoration-color: #008000\">│</span>\n",
              "<span style=\"color: #008000; text-decoration-color: #008000\">│</span>  <span style=\"color: #c0c0c0; text-decoration-color: #c0c0c0\">verbose: </span><span style=\"color: #008000; text-decoration-color: #008000\">False</span>                                                                                                 <span style=\"color: #008000; text-decoration-color: #008000\">│</span>\n",
              "<span style=\"color: #008000; text-decoration-color: #008000\">│</span>  <span style=\"color: #c0c0c0; text-decoration-color: #c0c0c0\">Tool Args: </span>                                                                                                    <span style=\"color: #008000; text-decoration-color: #008000\">│</span>\n",
              "<span style=\"color: #008000; text-decoration-color: #008000\">│</span>                                                                                                                 <span style=\"color: #008000; text-decoration-color: #008000\">│</span>\n",
              "<span style=\"color: #008000; text-decoration-color: #008000\">│</span>                                                                                                                 <span style=\"color: #008000; text-decoration-color: #008000\">│</span>\n",
              "<span style=\"color: #008000; text-decoration-color: #008000\">╰─────────────────────────────────────────────────────────────────────────────────────────────────────────────────╯</span>\n",
              "</pre>\n"
            ]
          },
          "metadata": {}
        },
        {
          "output_type": "display_data",
          "data": {
            "text/plain": [
              "\n"
            ],
            "text/html": [
              "<pre style=\"white-space:pre;overflow-x:auto;line-height:normal;font-family:Menlo,'DejaVu Sans Mono',consolas,'Courier New',monospace\">\n",
              "</pre>\n"
            ]
          },
          "metadata": {}
        },
        {
          "output_type": "display_data",
          "data": {
            "text/plain": [
              "Output()"
            ],
            "application/vnd.jupyter.widget-view+json": {
              "version_major": 2,
              "version_minor": 0,
              "model_id": "611cf8674ae547e797e6a4f557c606ba"
            }
          },
          "metadata": {}
        },
        {
          "output_type": "display_data",
          "data": {
            "text/plain": [],
            "text/html": [
              "<pre style=\"white-space:pre;overflow-x:auto;line-height:normal;font-family:Menlo,'DejaVu Sans Mono',consolas,'Courier New',monospace\"></pre>\n"
            ]
          },
          "metadata": {}
        },
        {
          "output_type": "display_data",
          "data": {
            "text/plain": [
              "\u001b[32m╭─\u001b[0m\u001b[32m────────────────────────────────────────────\u001b[0m\u001b[32m LiteAgent Completion \u001b[0m\u001b[32m─────────────────────────────────────────────\u001b[0m\u001b[32m─╮\u001b[0m\n",
              "\u001b[32m│\u001b[0m                                                                                                                 \u001b[32m│\u001b[0m\n",
              "\u001b[32m│\u001b[0m  \u001b[1;32mLiteAgent Completed\u001b[0m                                                                                            \u001b[32m│\u001b[0m\n",
              "\u001b[32m│\u001b[0m  \u001b[37mName: \u001b[0m\u001b[32mAnalista Sênior de Informações\u001b[0m                                                                           \u001b[32m│\u001b[0m\n",
              "\u001b[32m│\u001b[0m  \u001b[37mid: \u001b[0m\u001b[32m31ad6ef0-200c-487e-b706-187f2cba68fd\u001b[0m                                                                       \u001b[32m│\u001b[0m\n",
              "\u001b[32m│\u001b[0m  \u001b[37mrole: \u001b[0m\u001b[32mAnalista Sênior de Informações\u001b[0m                                                                           \u001b[32m│\u001b[0m\n",
              "\u001b[32m│\u001b[0m  \u001b[37mgoal: \u001b[0m\u001b[32mAnalisar a pesquisa legal (RAG) e os exemplos práticos (Web) para elaborar uma análise detalhada e uma \u001b[0m  \u001b[32m│\u001b[0m\n",
              "\u001b[32m│\u001b[0m  \u001b[32mproposta de resposta para a pergunta do usuário.\u001b[0m                                                               \u001b[32m│\u001b[0m\n",
              "\u001b[32m│\u001b[0m  \u001b[37mbackstory: \u001b[0m\u001b[32mVocê é um analista experiente, mestre em cruzar dados de legislação com casos práticos do mundo \u001b[0m    \u001b[32m│\u001b[0m\n",
              "\u001b[32m│\u001b[0m  \u001b[32mreal.\u001b[0m                                                                                                          \u001b[32m│\u001b[0m\n",
              "\u001b[32m│\u001b[0m  \u001b[32m                Sua função é examinar as informações brutas dos pesquisadores e construir um argumento coeso \u001b[0m  \u001b[32m│\u001b[0m\n",
              "\u001b[32m│\u001b[0m  \u001b[32me bem fundamentado.\u001b[0m                                                                                            \u001b[32m│\u001b[0m\n",
              "\u001b[32m│\u001b[0m  \u001b[32m                Sua análise aprofundada servirá como uma das várias perspectivas que serão usadas para \u001b[0m        \u001b[32m│\u001b[0m\n",
              "\u001b[32m│\u001b[0m  \u001b[32mconstruir a resposta final.\u001b[0m                                                                                    \u001b[32m│\u001b[0m\n",
              "\u001b[32m│\u001b[0m  \u001b[37mtools: \u001b[0m\u001b[32m[]\u001b[0m                                                                                                      \u001b[32m│\u001b[0m\n",
              "\u001b[32m│\u001b[0m  \u001b[37mverbose: \u001b[0m\u001b[32mFalse\u001b[0m                                                                                                 \u001b[32m│\u001b[0m\n",
              "\u001b[32m│\u001b[0m  \u001b[37mTool Args: \u001b[0m                                                                                                    \u001b[32m│\u001b[0m\n",
              "\u001b[32m│\u001b[0m                                                                                                                 \u001b[32m│\u001b[0m\n",
              "\u001b[32m│\u001b[0m                                                                                                                 \u001b[32m│\u001b[0m\n",
              "\u001b[32m╰─────────────────────────────────────────────────────────────────────────────────────────────────────────────────╯\u001b[0m\n"
            ],
            "text/html": [
              "<pre style=\"white-space:pre;overflow-x:auto;line-height:normal;font-family:Menlo,'DejaVu Sans Mono',consolas,'Courier New',monospace\"><span style=\"color: #008000; text-decoration-color: #008000\">╭───────────────────────────────────────────── LiteAgent Completion ──────────────────────────────────────────────╮</span>\n",
              "<span style=\"color: #008000; text-decoration-color: #008000\">│</span>                                                                                                                 <span style=\"color: #008000; text-decoration-color: #008000\">│</span>\n",
              "<span style=\"color: #008000; text-decoration-color: #008000\">│</span>  <span style=\"color: #008000; text-decoration-color: #008000; font-weight: bold\">LiteAgent Completed</span>                                                                                            <span style=\"color: #008000; text-decoration-color: #008000\">│</span>\n",
              "<span style=\"color: #008000; text-decoration-color: #008000\">│</span>  <span style=\"color: #c0c0c0; text-decoration-color: #c0c0c0\">Name: </span><span style=\"color: #008000; text-decoration-color: #008000\">Analista Sênior de Informações</span>                                                                           <span style=\"color: #008000; text-decoration-color: #008000\">│</span>\n",
              "<span style=\"color: #008000; text-decoration-color: #008000\">│</span>  <span style=\"color: #c0c0c0; text-decoration-color: #c0c0c0\">id: </span><span style=\"color: #008000; text-decoration-color: #008000\">31ad6ef0-200c-487e-b706-187f2cba68fd</span>                                                                       <span style=\"color: #008000; text-decoration-color: #008000\">│</span>\n",
              "<span style=\"color: #008000; text-decoration-color: #008000\">│</span>  <span style=\"color: #c0c0c0; text-decoration-color: #c0c0c0\">role: </span><span style=\"color: #008000; text-decoration-color: #008000\">Analista Sênior de Informações</span>                                                                           <span style=\"color: #008000; text-decoration-color: #008000\">│</span>\n",
              "<span style=\"color: #008000; text-decoration-color: #008000\">│</span>  <span style=\"color: #c0c0c0; text-decoration-color: #c0c0c0\">goal: </span><span style=\"color: #008000; text-decoration-color: #008000\">Analisar a pesquisa legal (RAG) e os exemplos práticos (Web) para elaborar uma análise detalhada e uma </span>  <span style=\"color: #008000; text-decoration-color: #008000\">│</span>\n",
              "<span style=\"color: #008000; text-decoration-color: #008000\">│</span>  <span style=\"color: #008000; text-decoration-color: #008000\">proposta de resposta para a pergunta do usuário.</span>                                                               <span style=\"color: #008000; text-decoration-color: #008000\">│</span>\n",
              "<span style=\"color: #008000; text-decoration-color: #008000\">│</span>  <span style=\"color: #c0c0c0; text-decoration-color: #c0c0c0\">backstory: </span><span style=\"color: #008000; text-decoration-color: #008000\">Você é um analista experiente, mestre em cruzar dados de legislação com casos práticos do mundo </span>    <span style=\"color: #008000; text-decoration-color: #008000\">│</span>\n",
              "<span style=\"color: #008000; text-decoration-color: #008000\">│</span>  <span style=\"color: #008000; text-decoration-color: #008000\">real.</span>                                                                                                          <span style=\"color: #008000; text-decoration-color: #008000\">│</span>\n",
              "<span style=\"color: #008000; text-decoration-color: #008000\">│</span>  <span style=\"color: #008000; text-decoration-color: #008000\">                Sua função é examinar as informações brutas dos pesquisadores e construir um argumento coeso </span>  <span style=\"color: #008000; text-decoration-color: #008000\">│</span>\n",
              "<span style=\"color: #008000; text-decoration-color: #008000\">│</span>  <span style=\"color: #008000; text-decoration-color: #008000\">e bem fundamentado.</span>                                                                                            <span style=\"color: #008000; text-decoration-color: #008000\">│</span>\n",
              "<span style=\"color: #008000; text-decoration-color: #008000\">│</span>  <span style=\"color: #008000; text-decoration-color: #008000\">                Sua análise aprofundada servirá como uma das várias perspectivas que serão usadas para </span>        <span style=\"color: #008000; text-decoration-color: #008000\">│</span>\n",
              "<span style=\"color: #008000; text-decoration-color: #008000\">│</span>  <span style=\"color: #008000; text-decoration-color: #008000\">construir a resposta final.</span>                                                                                    <span style=\"color: #008000; text-decoration-color: #008000\">│</span>\n",
              "<span style=\"color: #008000; text-decoration-color: #008000\">│</span>  <span style=\"color: #c0c0c0; text-decoration-color: #c0c0c0\">tools: </span><span style=\"color: #008000; text-decoration-color: #008000\">[]</span>                                                                                                      <span style=\"color: #008000; text-decoration-color: #008000\">│</span>\n",
              "<span style=\"color: #008000; text-decoration-color: #008000\">│</span>  <span style=\"color: #c0c0c0; text-decoration-color: #c0c0c0\">verbose: </span><span style=\"color: #008000; text-decoration-color: #008000\">False</span>                                                                                                 <span style=\"color: #008000; text-decoration-color: #008000\">│</span>\n",
              "<span style=\"color: #008000; text-decoration-color: #008000\">│</span>  <span style=\"color: #c0c0c0; text-decoration-color: #c0c0c0\">Tool Args: </span>                                                                                                    <span style=\"color: #008000; text-decoration-color: #008000\">│</span>\n",
              "<span style=\"color: #008000; text-decoration-color: #008000\">│</span>                                                                                                                 <span style=\"color: #008000; text-decoration-color: #008000\">│</span>\n",
              "<span style=\"color: #008000; text-decoration-color: #008000\">│</span>                                                                                                                 <span style=\"color: #008000; text-decoration-color: #008000\">│</span>\n",
              "<span style=\"color: #008000; text-decoration-color: #008000\">╰─────────────────────────────────────────────────────────────────────────────────────────────────────────────────╯</span>\n",
              "</pre>\n"
            ]
          },
          "metadata": {}
        },
        {
          "output_type": "display_data",
          "data": {
            "text/plain": [
              "\n"
            ],
            "text/html": [
              "<pre style=\"white-space:pre;overflow-x:auto;line-height:normal;font-family:Menlo,'DejaVu Sans Mono',consolas,'Courier New',monospace\">\n",
              "</pre>\n"
            ]
          },
          "metadata": {}
        },
        {
          "output_type": "display_data",
          "data": {
            "text/plain": [
              "Output()"
            ],
            "application/vnd.jupyter.widget-view+json": {
              "version_major": 2,
              "version_minor": 0,
              "model_id": "4db218e14ff14b2aaf70ff20850d407f"
            }
          },
          "metadata": {}
        },
        {
          "output_type": "display_data",
          "data": {
            "text/plain": [],
            "text/html": [
              "<pre style=\"white-space:pre;overflow-x:auto;line-height:normal;font-family:Menlo,'DejaVu Sans Mono',consolas,'Courier New',monospace\"></pre>\n"
            ]
          },
          "metadata": {}
        },
        {
          "output_type": "display_data",
          "data": {
            "text/plain": [
              "\u001b[32m╭─\u001b[0m\u001b[32m────────────────────────────────────────────\u001b[0m\u001b[32m LiteAgent Completion \u001b[0m\u001b[32m─────────────────────────────────────────────\u001b[0m\u001b[32m─╮\u001b[0m\n",
              "\u001b[32m│\u001b[0m                                                                                                                 \u001b[32m│\u001b[0m\n",
              "\u001b[32m│\u001b[0m  \u001b[1;32mLiteAgent Completed\u001b[0m                                                                                            \u001b[32m│\u001b[0m\n",
              "\u001b[32m│\u001b[0m  \u001b[37mName: \u001b[0m\u001b[32mAnalista Sênior de Informações\u001b[0m                                                                           \u001b[32m│\u001b[0m\n",
              "\u001b[32m│\u001b[0m  \u001b[37mid: \u001b[0m\u001b[32m7456cc88-47d2-424d-914e-7c3ec73fd918\u001b[0m                                                                       \u001b[32m│\u001b[0m\n",
              "\u001b[32m│\u001b[0m  \u001b[37mrole: \u001b[0m\u001b[32mAnalista Sênior de Informações\u001b[0m                                                                           \u001b[32m│\u001b[0m\n",
              "\u001b[32m│\u001b[0m  \u001b[37mgoal: \u001b[0m\u001b[32mAnalisar a pesquisa legal (RAG) e os exemplos práticos (Web) para elaborar uma análise detalhada e uma \u001b[0m  \u001b[32m│\u001b[0m\n",
              "\u001b[32m│\u001b[0m  \u001b[32mproposta de resposta para a pergunta do usuário.\u001b[0m                                                               \u001b[32m│\u001b[0m\n",
              "\u001b[32m│\u001b[0m  \u001b[37mbackstory: \u001b[0m\u001b[32mVocê é um analista experiente, mestre em cruzar dados de legislação com casos práticos do mundo \u001b[0m    \u001b[32m│\u001b[0m\n",
              "\u001b[32m│\u001b[0m  \u001b[32mreal.\u001b[0m                                                                                                          \u001b[32m│\u001b[0m\n",
              "\u001b[32m│\u001b[0m  \u001b[32m                Sua função é examinar as informações brutas dos pesquisadores e construir um argumento coeso \u001b[0m  \u001b[32m│\u001b[0m\n",
              "\u001b[32m│\u001b[0m  \u001b[32me bem fundamentado.\u001b[0m                                                                                            \u001b[32m│\u001b[0m\n",
              "\u001b[32m│\u001b[0m  \u001b[32m                Sua análise aprofundada servirá como uma das várias perspectivas que serão usadas para \u001b[0m        \u001b[32m│\u001b[0m\n",
              "\u001b[32m│\u001b[0m  \u001b[32mconstruir a resposta final.\u001b[0m                                                                                    \u001b[32m│\u001b[0m\n",
              "\u001b[32m│\u001b[0m  \u001b[37mtools: \u001b[0m\u001b[32m[]\u001b[0m                                                                                                      \u001b[32m│\u001b[0m\n",
              "\u001b[32m│\u001b[0m  \u001b[37mverbose: \u001b[0m\u001b[32mFalse\u001b[0m                                                                                                 \u001b[32m│\u001b[0m\n",
              "\u001b[32m│\u001b[0m  \u001b[37mTool Args: \u001b[0m                                                                                                    \u001b[32m│\u001b[0m\n",
              "\u001b[32m│\u001b[0m                                                                                                                 \u001b[32m│\u001b[0m\n",
              "\u001b[32m│\u001b[0m                                                                                                                 \u001b[32m│\u001b[0m\n",
              "\u001b[32m╰─────────────────────────────────────────────────────────────────────────────────────────────────────────────────╯\u001b[0m\n"
            ],
            "text/html": [
              "<pre style=\"white-space:pre;overflow-x:auto;line-height:normal;font-family:Menlo,'DejaVu Sans Mono',consolas,'Courier New',monospace\"><span style=\"color: #008000; text-decoration-color: #008000\">╭───────────────────────────────────────────── LiteAgent Completion ──────────────────────────────────────────────╮</span>\n",
              "<span style=\"color: #008000; text-decoration-color: #008000\">│</span>                                                                                                                 <span style=\"color: #008000; text-decoration-color: #008000\">│</span>\n",
              "<span style=\"color: #008000; text-decoration-color: #008000\">│</span>  <span style=\"color: #008000; text-decoration-color: #008000; font-weight: bold\">LiteAgent Completed</span>                                                                                            <span style=\"color: #008000; text-decoration-color: #008000\">│</span>\n",
              "<span style=\"color: #008000; text-decoration-color: #008000\">│</span>  <span style=\"color: #c0c0c0; text-decoration-color: #c0c0c0\">Name: </span><span style=\"color: #008000; text-decoration-color: #008000\">Analista Sênior de Informações</span>                                                                           <span style=\"color: #008000; text-decoration-color: #008000\">│</span>\n",
              "<span style=\"color: #008000; text-decoration-color: #008000\">│</span>  <span style=\"color: #c0c0c0; text-decoration-color: #c0c0c0\">id: </span><span style=\"color: #008000; text-decoration-color: #008000\">7456cc88-47d2-424d-914e-7c3ec73fd918</span>                                                                       <span style=\"color: #008000; text-decoration-color: #008000\">│</span>\n",
              "<span style=\"color: #008000; text-decoration-color: #008000\">│</span>  <span style=\"color: #c0c0c0; text-decoration-color: #c0c0c0\">role: </span><span style=\"color: #008000; text-decoration-color: #008000\">Analista Sênior de Informações</span>                                                                           <span style=\"color: #008000; text-decoration-color: #008000\">│</span>\n",
              "<span style=\"color: #008000; text-decoration-color: #008000\">│</span>  <span style=\"color: #c0c0c0; text-decoration-color: #c0c0c0\">goal: </span><span style=\"color: #008000; text-decoration-color: #008000\">Analisar a pesquisa legal (RAG) e os exemplos práticos (Web) para elaborar uma análise detalhada e uma </span>  <span style=\"color: #008000; text-decoration-color: #008000\">│</span>\n",
              "<span style=\"color: #008000; text-decoration-color: #008000\">│</span>  <span style=\"color: #008000; text-decoration-color: #008000\">proposta de resposta para a pergunta do usuário.</span>                                                               <span style=\"color: #008000; text-decoration-color: #008000\">│</span>\n",
              "<span style=\"color: #008000; text-decoration-color: #008000\">│</span>  <span style=\"color: #c0c0c0; text-decoration-color: #c0c0c0\">backstory: </span><span style=\"color: #008000; text-decoration-color: #008000\">Você é um analista experiente, mestre em cruzar dados de legislação com casos práticos do mundo </span>    <span style=\"color: #008000; text-decoration-color: #008000\">│</span>\n",
              "<span style=\"color: #008000; text-decoration-color: #008000\">│</span>  <span style=\"color: #008000; text-decoration-color: #008000\">real.</span>                                                                                                          <span style=\"color: #008000; text-decoration-color: #008000\">│</span>\n",
              "<span style=\"color: #008000; text-decoration-color: #008000\">│</span>  <span style=\"color: #008000; text-decoration-color: #008000\">                Sua função é examinar as informações brutas dos pesquisadores e construir um argumento coeso </span>  <span style=\"color: #008000; text-decoration-color: #008000\">│</span>\n",
              "<span style=\"color: #008000; text-decoration-color: #008000\">│</span>  <span style=\"color: #008000; text-decoration-color: #008000\">e bem fundamentado.</span>                                                                                            <span style=\"color: #008000; text-decoration-color: #008000\">│</span>\n",
              "<span style=\"color: #008000; text-decoration-color: #008000\">│</span>  <span style=\"color: #008000; text-decoration-color: #008000\">                Sua análise aprofundada servirá como uma das várias perspectivas que serão usadas para </span>        <span style=\"color: #008000; text-decoration-color: #008000\">│</span>\n",
              "<span style=\"color: #008000; text-decoration-color: #008000\">│</span>  <span style=\"color: #008000; text-decoration-color: #008000\">construir a resposta final.</span>                                                                                    <span style=\"color: #008000; text-decoration-color: #008000\">│</span>\n",
              "<span style=\"color: #008000; text-decoration-color: #008000\">│</span>  <span style=\"color: #c0c0c0; text-decoration-color: #c0c0c0\">tools: </span><span style=\"color: #008000; text-decoration-color: #008000\">[]</span>                                                                                                      <span style=\"color: #008000; text-decoration-color: #008000\">│</span>\n",
              "<span style=\"color: #008000; text-decoration-color: #008000\">│</span>  <span style=\"color: #c0c0c0; text-decoration-color: #c0c0c0\">verbose: </span><span style=\"color: #008000; text-decoration-color: #008000\">False</span>                                                                                                 <span style=\"color: #008000; text-decoration-color: #008000\">│</span>\n",
              "<span style=\"color: #008000; text-decoration-color: #008000\">│</span>  <span style=\"color: #c0c0c0; text-decoration-color: #c0c0c0\">Tool Args: </span>                                                                                                    <span style=\"color: #008000; text-decoration-color: #008000\">│</span>\n",
              "<span style=\"color: #008000; text-decoration-color: #008000\">│</span>                                                                                                                 <span style=\"color: #008000; text-decoration-color: #008000\">│</span>\n",
              "<span style=\"color: #008000; text-decoration-color: #008000\">│</span>                                                                                                                 <span style=\"color: #008000; text-decoration-color: #008000\">│</span>\n",
              "<span style=\"color: #008000; text-decoration-color: #008000\">╰─────────────────────────────────────────────────────────────────────────────────────────────────────────────────╯</span>\n",
              "</pre>\n"
            ]
          },
          "metadata": {}
        },
        {
          "output_type": "display_data",
          "data": {
            "text/plain": [
              "\n"
            ],
            "text/html": [
              "<pre style=\"white-space:pre;overflow-x:auto;line-height:normal;font-family:Menlo,'DejaVu Sans Mono',consolas,'Courier New',monospace\">\n",
              "</pre>\n"
            ]
          },
          "metadata": {}
        },
        {
          "output_type": "display_data",
          "data": {
            "text/plain": [
              "Output()"
            ],
            "application/vnd.jupyter.widget-view+json": {
              "version_major": 2,
              "version_minor": 0,
              "model_id": "dff1f6c69fd74442a81175d7bbdae6d4"
            }
          },
          "metadata": {}
        },
        {
          "output_type": "display_data",
          "data": {
            "text/plain": [],
            "text/html": [
              "<pre style=\"white-space:pre;overflow-x:auto;line-height:normal;font-family:Menlo,'DejaVu Sans Mono',consolas,'Courier New',monospace\"></pre>\n"
            ]
          },
          "metadata": {}
        },
        {
          "output_type": "display_data",
          "data": {
            "text/plain": [
              "\u001b[36m╭─\u001b[0m\u001b[36m──────────────────────────────────────────────\u001b[0m\u001b[36m LiteAgent Started \u001b[0m\u001b[36m──────────────────────────────────────────────\u001b[0m\u001b[36m─╮\u001b[0m\n",
              "\u001b[36m│\u001b[0m                                                                                                                 \u001b[36m│\u001b[0m\n",
              "\u001b[36m│\u001b[0m  \u001b[1;36mLiteAgent Session Started\u001b[0m                                                                                      \u001b[36m│\u001b[0m\n",
              "\u001b[36m│\u001b[0m  \u001b[37mName: \u001b[0m\u001b[36mEspecialista em Síntese e Comunicação\u001b[0m                                                                    \u001b[36m│\u001b[0m\n",
              "\u001b[36m│\u001b[0m  \u001b[37mid: \u001b[0m\u001b[36m142987e1-4fb2-498e-ad22-21d424e41c59\u001b[0m                                                                       \u001b[36m│\u001b[0m\n",
              "\u001b[36m│\u001b[0m  \u001b[37mrole: \u001b[0m\u001b[36mEspecialista em Síntese e Comunicação\u001b[0m                                                                    \u001b[36m│\u001b[0m\n",
              "\u001b[36m│\u001b[0m  \u001b[37mgoal: \u001b[0m\u001b[36mConsolidar as múltiplas análises recebidas para formular uma resposta única, coesa e fácil de entender \u001b[0m  \u001b[36m│\u001b[0m\n",
              "\u001b[36m│\u001b[0m  \u001b[36mpara a pergunta do usuário, garantindo que todos os pontos importantes sejam abordados.\u001b[0m                        \u001b[36m│\u001b[0m\n",
              "\u001b[36m│\u001b[0m  \u001b[37mbackstory: \u001b[0m\u001b[36mVocê é um comunicador mestre, com a rara habilidade de transformar informações densas e complexas \u001b[0m  \u001b[36m│\u001b[0m\n",
              "\u001b[36m│\u001b[0m  \u001b[36mde várias fontes em uma resposta clara e direta.\u001b[0m                                                               \u001b[36m│\u001b[0m\n",
              "\u001b[36m│\u001b[0m  \u001b[36m                 Seu trabalho não é julgar, mas sim esclarecer. Você revisa os diferentes pontos de vista dos\u001b[0m  \u001b[36m│\u001b[0m\n",
              "\u001b[36m│\u001b[0m  \u001b[36manalistas para construir a resposta mais completa e útil possível para o usuário final, respondendo \u001b[0m           \u001b[36m│\u001b[0m\n",
              "\u001b[36m│\u001b[0m  \u001b[36mdiretamente à sua pergunta.\u001b[0m                                                                                    \u001b[36m│\u001b[0m\n",
              "\u001b[36m│\u001b[0m  \u001b[37mtools: \u001b[0m\u001b[36m[]\u001b[0m                                                                                                      \u001b[36m│\u001b[0m\n",
              "\u001b[36m│\u001b[0m  \u001b[37mverbose: \u001b[0m\u001b[36mFalse\u001b[0m                                                                                                 \u001b[36m│\u001b[0m\n",
              "\u001b[36m│\u001b[0m  \u001b[37mTool Args: \u001b[0m                                                                                                    \u001b[36m│\u001b[0m\n",
              "\u001b[36m│\u001b[0m                                                                                                                 \u001b[36m│\u001b[0m\n",
              "\u001b[36m│\u001b[0m                                                                                                                 \u001b[36m│\u001b[0m\n",
              "\u001b[36m╰─────────────────────────────────────────────────────────────────────────────────────────────────────────────────╯\u001b[0m\n"
            ],
            "text/html": [
              "<pre style=\"white-space:pre;overflow-x:auto;line-height:normal;font-family:Menlo,'DejaVu Sans Mono',consolas,'Courier New',monospace\"><span style=\"color: #008080; text-decoration-color: #008080\">╭─────────────────────────────────────────────── LiteAgent Started ───────────────────────────────────────────────╮</span>\n",
              "<span style=\"color: #008080; text-decoration-color: #008080\">│</span>                                                                                                                 <span style=\"color: #008080; text-decoration-color: #008080\">│</span>\n",
              "<span style=\"color: #008080; text-decoration-color: #008080\">│</span>  <span style=\"color: #008080; text-decoration-color: #008080; font-weight: bold\">LiteAgent Session Started</span>                                                                                      <span style=\"color: #008080; text-decoration-color: #008080\">│</span>\n",
              "<span style=\"color: #008080; text-decoration-color: #008080\">│</span>  <span style=\"color: #c0c0c0; text-decoration-color: #c0c0c0\">Name: </span><span style=\"color: #008080; text-decoration-color: #008080\">Especialista em Síntese e Comunicação</span>                                                                    <span style=\"color: #008080; text-decoration-color: #008080\">│</span>\n",
              "<span style=\"color: #008080; text-decoration-color: #008080\">│</span>  <span style=\"color: #c0c0c0; text-decoration-color: #c0c0c0\">id: </span><span style=\"color: #008080; text-decoration-color: #008080\">142987e1-4fb2-498e-ad22-21d424e41c59</span>                                                                       <span style=\"color: #008080; text-decoration-color: #008080\">│</span>\n",
              "<span style=\"color: #008080; text-decoration-color: #008080\">│</span>  <span style=\"color: #c0c0c0; text-decoration-color: #c0c0c0\">role: </span><span style=\"color: #008080; text-decoration-color: #008080\">Especialista em Síntese e Comunicação</span>                                                                    <span style=\"color: #008080; text-decoration-color: #008080\">│</span>\n",
              "<span style=\"color: #008080; text-decoration-color: #008080\">│</span>  <span style=\"color: #c0c0c0; text-decoration-color: #c0c0c0\">goal: </span><span style=\"color: #008080; text-decoration-color: #008080\">Consolidar as múltiplas análises recebidas para formular uma resposta única, coesa e fácil de entender </span>  <span style=\"color: #008080; text-decoration-color: #008080\">│</span>\n",
              "<span style=\"color: #008080; text-decoration-color: #008080\">│</span>  <span style=\"color: #008080; text-decoration-color: #008080\">para a pergunta do usuário, garantindo que todos os pontos importantes sejam abordados.</span>                        <span style=\"color: #008080; text-decoration-color: #008080\">│</span>\n",
              "<span style=\"color: #008080; text-decoration-color: #008080\">│</span>  <span style=\"color: #c0c0c0; text-decoration-color: #c0c0c0\">backstory: </span><span style=\"color: #008080; text-decoration-color: #008080\">Você é um comunicador mestre, com a rara habilidade de transformar informações densas e complexas </span>  <span style=\"color: #008080; text-decoration-color: #008080\">│</span>\n",
              "<span style=\"color: #008080; text-decoration-color: #008080\">│</span>  <span style=\"color: #008080; text-decoration-color: #008080\">de várias fontes em uma resposta clara e direta.</span>                                                               <span style=\"color: #008080; text-decoration-color: #008080\">│</span>\n",
              "<span style=\"color: #008080; text-decoration-color: #008080\">│</span>  <span style=\"color: #008080; text-decoration-color: #008080\">                 Seu trabalho não é julgar, mas sim esclarecer. Você revisa os diferentes pontos de vista dos</span>  <span style=\"color: #008080; text-decoration-color: #008080\">│</span>\n",
              "<span style=\"color: #008080; text-decoration-color: #008080\">│</span>  <span style=\"color: #008080; text-decoration-color: #008080\">analistas para construir a resposta mais completa e útil possível para o usuário final, respondendo </span>           <span style=\"color: #008080; text-decoration-color: #008080\">│</span>\n",
              "<span style=\"color: #008080; text-decoration-color: #008080\">│</span>  <span style=\"color: #008080; text-decoration-color: #008080\">diretamente à sua pergunta.</span>                                                                                    <span style=\"color: #008080; text-decoration-color: #008080\">│</span>\n",
              "<span style=\"color: #008080; text-decoration-color: #008080\">│</span>  <span style=\"color: #c0c0c0; text-decoration-color: #c0c0c0\">tools: </span><span style=\"color: #008080; text-decoration-color: #008080\">[]</span>                                                                                                      <span style=\"color: #008080; text-decoration-color: #008080\">│</span>\n",
              "<span style=\"color: #008080; text-decoration-color: #008080\">│</span>  <span style=\"color: #c0c0c0; text-decoration-color: #c0c0c0\">verbose: </span><span style=\"color: #008080; text-decoration-color: #008080\">False</span>                                                                                                 <span style=\"color: #008080; text-decoration-color: #008080\">│</span>\n",
              "<span style=\"color: #008080; text-decoration-color: #008080\">│</span>  <span style=\"color: #c0c0c0; text-decoration-color: #c0c0c0\">Tool Args: </span>                                                                                                    <span style=\"color: #008080; text-decoration-color: #008080\">│</span>\n",
              "<span style=\"color: #008080; text-decoration-color: #008080\">│</span>                                                                                                                 <span style=\"color: #008080; text-decoration-color: #008080\">│</span>\n",
              "<span style=\"color: #008080; text-decoration-color: #008080\">│</span>                                                                                                                 <span style=\"color: #008080; text-decoration-color: #008080\">│</span>\n",
              "<span style=\"color: #008080; text-decoration-color: #008080\">╰─────────────────────────────────────────────────────────────────────────────────────────────────────────────────╯</span>\n",
              "</pre>\n"
            ]
          },
          "metadata": {}
        },
        {
          "output_type": "display_data",
          "data": {
            "text/plain": [
              "\n"
            ],
            "text/html": [
              "<pre style=\"white-space:pre;overflow-x:auto;line-height:normal;font-family:Menlo,'DejaVu Sans Mono',consolas,'Courier New',monospace\">\n",
              "</pre>\n"
            ]
          },
          "metadata": {}
        },
        {
          "output_type": "display_data",
          "data": {
            "text/plain": [],
            "text/html": [
              "<pre style=\"white-space:pre;overflow-x:auto;line-height:normal;font-family:Menlo,'DejaVu Sans Mono',consolas,'Courier New',monospace\"></pre>\n"
            ]
          },
          "metadata": {}
        },
        {
          "output_type": "display_data",
          "data": {
            "text/plain": [
              "\u001b[32m╭─\u001b[0m\u001b[32m────────────────────────────────────────────\u001b[0m\u001b[32m LiteAgent Completion \u001b[0m\u001b[32m─────────────────────────────────────────────\u001b[0m\u001b[32m─╮\u001b[0m\n",
              "\u001b[32m│\u001b[0m                                                                                                                 \u001b[32m│\u001b[0m\n",
              "\u001b[32m│\u001b[0m  \u001b[1;32mLiteAgent Completed\u001b[0m                                                                                            \u001b[32m│\u001b[0m\n",
              "\u001b[32m│\u001b[0m  \u001b[37mName: \u001b[0m\u001b[32mEspecialista em Síntese e Comunicação\u001b[0m                                                                    \u001b[32m│\u001b[0m\n",
              "\u001b[32m│\u001b[0m  \u001b[37mid: \u001b[0m\u001b[32m142987e1-4fb2-498e-ad22-21d424e41c59\u001b[0m                                                                       \u001b[32m│\u001b[0m\n",
              "\u001b[32m│\u001b[0m  \u001b[37mrole: \u001b[0m\u001b[32mEspecialista em Síntese e Comunicação\u001b[0m                                                                    \u001b[32m│\u001b[0m\n",
              "\u001b[32m│\u001b[0m  \u001b[37mgoal: \u001b[0m\u001b[32mConsolidar as múltiplas análises recebidas para formular uma resposta única, coesa e fácil de entender \u001b[0m  \u001b[32m│\u001b[0m\n",
              "\u001b[32m│\u001b[0m  \u001b[32mpara a pergunta do usuário, garantindo que todos os pontos importantes sejam abordados.\u001b[0m                        \u001b[32m│\u001b[0m\n",
              "\u001b[32m│\u001b[0m  \u001b[37mbackstory: \u001b[0m\u001b[32mVocê é um comunicador mestre, com a rara habilidade de transformar informações densas e complexas \u001b[0m  \u001b[32m│\u001b[0m\n",
              "\u001b[32m│\u001b[0m  \u001b[32mde várias fontes em uma resposta clara e direta.\u001b[0m                                                               \u001b[32m│\u001b[0m\n",
              "\u001b[32m│\u001b[0m  \u001b[32m                 Seu trabalho não é julgar, mas sim esclarecer. Você revisa os diferentes pontos de vista dos\u001b[0m  \u001b[32m│\u001b[0m\n",
              "\u001b[32m│\u001b[0m  \u001b[32manalistas para construir a resposta mais completa e útil possível para o usuário final, respondendo \u001b[0m           \u001b[32m│\u001b[0m\n",
              "\u001b[32m│\u001b[0m  \u001b[32mdiretamente à sua pergunta.\u001b[0m                                                                                    \u001b[32m│\u001b[0m\n",
              "\u001b[32m│\u001b[0m  \u001b[37mtools: \u001b[0m\u001b[32m[]\u001b[0m                                                                                                      \u001b[32m│\u001b[0m\n",
              "\u001b[32m│\u001b[0m  \u001b[37mverbose: \u001b[0m\u001b[32mFalse\u001b[0m                                                                                                 \u001b[32m│\u001b[0m\n",
              "\u001b[32m│\u001b[0m  \u001b[37mTool Args: \u001b[0m                                                                                                    \u001b[32m│\u001b[0m\n",
              "\u001b[32m│\u001b[0m                                                                                                                 \u001b[32m│\u001b[0m\n",
              "\u001b[32m│\u001b[0m                                                                                                                 \u001b[32m│\u001b[0m\n",
              "\u001b[32m╰─────────────────────────────────────────────────────────────────────────────────────────────────────────────────╯\u001b[0m\n"
            ],
            "text/html": [
              "<pre style=\"white-space:pre;overflow-x:auto;line-height:normal;font-family:Menlo,'DejaVu Sans Mono',consolas,'Courier New',monospace\"><span style=\"color: #008000; text-decoration-color: #008000\">╭───────────────────────────────────────────── LiteAgent Completion ──────────────────────────────────────────────╮</span>\n",
              "<span style=\"color: #008000; text-decoration-color: #008000\">│</span>                                                                                                                 <span style=\"color: #008000; text-decoration-color: #008000\">│</span>\n",
              "<span style=\"color: #008000; text-decoration-color: #008000\">│</span>  <span style=\"color: #008000; text-decoration-color: #008000; font-weight: bold\">LiteAgent Completed</span>                                                                                            <span style=\"color: #008000; text-decoration-color: #008000\">│</span>\n",
              "<span style=\"color: #008000; text-decoration-color: #008000\">│</span>  <span style=\"color: #c0c0c0; text-decoration-color: #c0c0c0\">Name: </span><span style=\"color: #008000; text-decoration-color: #008000\">Especialista em Síntese e Comunicação</span>                                                                    <span style=\"color: #008000; text-decoration-color: #008000\">│</span>\n",
              "<span style=\"color: #008000; text-decoration-color: #008000\">│</span>  <span style=\"color: #c0c0c0; text-decoration-color: #c0c0c0\">id: </span><span style=\"color: #008000; text-decoration-color: #008000\">142987e1-4fb2-498e-ad22-21d424e41c59</span>                                                                       <span style=\"color: #008000; text-decoration-color: #008000\">│</span>\n",
              "<span style=\"color: #008000; text-decoration-color: #008000\">│</span>  <span style=\"color: #c0c0c0; text-decoration-color: #c0c0c0\">role: </span><span style=\"color: #008000; text-decoration-color: #008000\">Especialista em Síntese e Comunicação</span>                                                                    <span style=\"color: #008000; text-decoration-color: #008000\">│</span>\n",
              "<span style=\"color: #008000; text-decoration-color: #008000\">│</span>  <span style=\"color: #c0c0c0; text-decoration-color: #c0c0c0\">goal: </span><span style=\"color: #008000; text-decoration-color: #008000\">Consolidar as múltiplas análises recebidas para formular uma resposta única, coesa e fácil de entender </span>  <span style=\"color: #008000; text-decoration-color: #008000\">│</span>\n",
              "<span style=\"color: #008000; text-decoration-color: #008000\">│</span>  <span style=\"color: #008000; text-decoration-color: #008000\">para a pergunta do usuário, garantindo que todos os pontos importantes sejam abordados.</span>                        <span style=\"color: #008000; text-decoration-color: #008000\">│</span>\n",
              "<span style=\"color: #008000; text-decoration-color: #008000\">│</span>  <span style=\"color: #c0c0c0; text-decoration-color: #c0c0c0\">backstory: </span><span style=\"color: #008000; text-decoration-color: #008000\">Você é um comunicador mestre, com a rara habilidade de transformar informações densas e complexas </span>  <span style=\"color: #008000; text-decoration-color: #008000\">│</span>\n",
              "<span style=\"color: #008000; text-decoration-color: #008000\">│</span>  <span style=\"color: #008000; text-decoration-color: #008000\">de várias fontes em uma resposta clara e direta.</span>                                                               <span style=\"color: #008000; text-decoration-color: #008000\">│</span>\n",
              "<span style=\"color: #008000; text-decoration-color: #008000\">│</span>  <span style=\"color: #008000; text-decoration-color: #008000\">                 Seu trabalho não é julgar, mas sim esclarecer. Você revisa os diferentes pontos de vista dos</span>  <span style=\"color: #008000; text-decoration-color: #008000\">│</span>\n",
              "<span style=\"color: #008000; text-decoration-color: #008000\">│</span>  <span style=\"color: #008000; text-decoration-color: #008000\">analistas para construir a resposta mais completa e útil possível para o usuário final, respondendo </span>           <span style=\"color: #008000; text-decoration-color: #008000\">│</span>\n",
              "<span style=\"color: #008000; text-decoration-color: #008000\">│</span>  <span style=\"color: #008000; text-decoration-color: #008000\">diretamente à sua pergunta.</span>                                                                                    <span style=\"color: #008000; text-decoration-color: #008000\">│</span>\n",
              "<span style=\"color: #008000; text-decoration-color: #008000\">│</span>  <span style=\"color: #c0c0c0; text-decoration-color: #c0c0c0\">tools: </span><span style=\"color: #008000; text-decoration-color: #008000\">[]</span>                                                                                                      <span style=\"color: #008000; text-decoration-color: #008000\">│</span>\n",
              "<span style=\"color: #008000; text-decoration-color: #008000\">│</span>  <span style=\"color: #c0c0c0; text-decoration-color: #c0c0c0\">verbose: </span><span style=\"color: #008000; text-decoration-color: #008000\">False</span>                                                                                                 <span style=\"color: #008000; text-decoration-color: #008000\">│</span>\n",
              "<span style=\"color: #008000; text-decoration-color: #008000\">│</span>  <span style=\"color: #c0c0c0; text-decoration-color: #c0c0c0\">Tool Args: </span>                                                                                                    <span style=\"color: #008000; text-decoration-color: #008000\">│</span>\n",
              "<span style=\"color: #008000; text-decoration-color: #008000\">│</span>                                                                                                                 <span style=\"color: #008000; text-decoration-color: #008000\">│</span>\n",
              "<span style=\"color: #008000; text-decoration-color: #008000\">│</span>                                                                                                                 <span style=\"color: #008000; text-decoration-color: #008000\">│</span>\n",
              "<span style=\"color: #008000; text-decoration-color: #008000\">╰─────────────────────────────────────────────────────────────────────────────────────────────────────────────────╯</span>\n",
              "</pre>\n"
            ]
          },
          "metadata": {}
        },
        {
          "output_type": "display_data",
          "data": {
            "text/plain": [
              "\n"
            ],
            "text/html": [
              "<pre style=\"white-space:pre;overflow-x:auto;line-height:normal;font-family:Menlo,'DejaVu Sans Mono',consolas,'Courier New',monospace\">\n",
              "</pre>\n"
            ]
          },
          "metadata": {}
        },
        {
          "output_type": "display_data",
          "data": {
            "text/plain": [
              "Output()"
            ],
            "application/vnd.jupyter.widget-view+json": {
              "version_major": 2,
              "version_minor": 0,
              "model_id": "fe55e6e2cf6e4e2fb61da538fb2dabf0"
            }
          },
          "metadata": {}
        },
        {
          "output_type": "display_data",
          "data": {
            "text/plain": [],
            "text/html": [
              "<pre style=\"white-space:pre;overflow-x:auto;line-height:normal;font-family:Menlo,'DejaVu Sans Mono',consolas,'Courier New',monospace\"></pre>\n"
            ]
          },
          "metadata": {}
        },
        {
          "output_type": "display_data",
          "data": {
            "text/plain": [
              "\u001b[32m╭─\u001b[0m\u001b[32m───────────────────────────────────────────────\u001b[0m\u001b[32m Flow Completion \u001b[0m\u001b[32m───────────────────────────────────────────────\u001b[0m\u001b[32m─╮\u001b[0m\n",
              "\u001b[32m│\u001b[0m                                                                                                                 \u001b[32m│\u001b[0m\n",
              "\u001b[32m│\u001b[0m  \u001b[1;32mFlow Execution Completed\u001b[0m                                                                                       \u001b[32m│\u001b[0m\n",
              "\u001b[32m│\u001b[0m  \u001b[37mName: \u001b[0m\u001b[32mFluxoDeAnaliseJuridica\u001b[0m                                                                                   \u001b[32m│\u001b[0m\n",
              "\u001b[32m│\u001b[0m  \u001b[37mID: \u001b[0m\u001b[32m30428d66-bb5b-4973-b979-633d2b80b925\u001b[0m                                                                       \u001b[32m│\u001b[0m\n",
              "\u001b[32m│\u001b[0m  \u001b[37mTool Args: \u001b[0m                                                                                                    \u001b[32m│\u001b[0m\n",
              "\u001b[32m│\u001b[0m                                                                                                                 \u001b[32m│\u001b[0m\n",
              "\u001b[32m│\u001b[0m                                                                                                                 \u001b[32m│\u001b[0m\n",
              "\u001b[32m╰─────────────────────────────────────────────────────────────────────────────────────────────────────────────────╯\u001b[0m\n"
            ],
            "text/html": [
              "<pre style=\"white-space:pre;overflow-x:auto;line-height:normal;font-family:Menlo,'DejaVu Sans Mono',consolas,'Courier New',monospace\"><span style=\"color: #008000; text-decoration-color: #008000\">╭──────────────────────────────────────────────── Flow Completion ────────────────────────────────────────────────╮</span>\n",
              "<span style=\"color: #008000; text-decoration-color: #008000\">│</span>                                                                                                                 <span style=\"color: #008000; text-decoration-color: #008000\">│</span>\n",
              "<span style=\"color: #008000; text-decoration-color: #008000\">│</span>  <span style=\"color: #008000; text-decoration-color: #008000; font-weight: bold\">Flow Execution Completed</span>                                                                                       <span style=\"color: #008000; text-decoration-color: #008000\">│</span>\n",
              "<span style=\"color: #008000; text-decoration-color: #008000\">│</span>  <span style=\"color: #c0c0c0; text-decoration-color: #c0c0c0\">Name: </span><span style=\"color: #008000; text-decoration-color: #008000\">FluxoDeAnaliseJuridica</span>                                                                                   <span style=\"color: #008000; text-decoration-color: #008000\">│</span>\n",
              "<span style=\"color: #008000; text-decoration-color: #008000\">│</span>  <span style=\"color: #c0c0c0; text-decoration-color: #c0c0c0\">ID: </span><span style=\"color: #008000; text-decoration-color: #008000\">30428d66-bb5b-4973-b979-633d2b80b925</span>                                                                       <span style=\"color: #008000; text-decoration-color: #008000\">│</span>\n",
              "<span style=\"color: #008000; text-decoration-color: #008000\">│</span>  <span style=\"color: #c0c0c0; text-decoration-color: #c0c0c0\">Tool Args: </span>                                                                                                    <span style=\"color: #008000; text-decoration-color: #008000\">│</span>\n",
              "<span style=\"color: #008000; text-decoration-color: #008000\">│</span>                                                                                                                 <span style=\"color: #008000; text-decoration-color: #008000\">│</span>\n",
              "<span style=\"color: #008000; text-decoration-color: #008000\">│</span>                                                                                                                 <span style=\"color: #008000; text-decoration-color: #008000\">│</span>\n",
              "<span style=\"color: #008000; text-decoration-color: #008000\">╰─────────────────────────────────────────────────────────────────────────────────────────────────────────────────╯</span>\n",
              "</pre>\n"
            ]
          },
          "metadata": {}
        },
        {
          "output_type": "display_data",
          "data": {
            "text/plain": [
              "\n"
            ],
            "text/html": [
              "<pre style=\"white-space:pre;overflow-x:auto;line-height:normal;font-family:Menlo,'DejaVu Sans Mono',consolas,'Courier New',monospace\">\n",
              "</pre>\n"
            ]
          },
          "metadata": {}
        },
        {
          "output_type": "stream",
          "name": "stdout",
          "text": [
            "Receber um e-mail de marketing sem ter se cadastrado ou consentido previamente com essa finalidade é uma prática que, em regra geral, **não é permitida pela legislação brasileira**.\n",
            "\n",
            "A base legal primordial para essa proibição reside na **Lei Geral de Proteção de Dados Pessoais (LGPD)**. Segundo o Art. 7º, inciso I da LGPD, o tratamento de dados pessoais, como o seu endereço de e-mail, para fins de marketing, só é legítimo mediante o **consentimento livre, informado e inequívoco** do titular. Isso significa que você deve ter explicitamente concordado em receber tais comunicações, e essa concordância deve ser específica para a finalidade de marketing, não sendo válida autorizações genéricas obtidas em outros tipos de cadastro (Art. 8º, §4º da LGPD).\n",
            "\n",
            "Além disso, o **Código de Defesa do Consumidor (CDC)** protege o consumidor contra práticas comerciais abusivas (Art. 39, IV), e o envio massivo de e-mails de marketing não solicitados pode ser caracterizado como tal. Conforme os artigos 66 e 67 do CDC, a publicidade enganosa ou abusiva pode gerar sanções.\n",
            "\n",
            "Embora a LGPD preveja a base legal do \"legítimo interesse\", o envio de e-mails de marketing sem qualquer vínculo ou consentimento prévio raramente se enquadra nesta permissão, especialmente quando não há um mecanismo claro de \"descadastro\" (opt-out) ou quando este não é respeitado.\n",
            "\n",
            "A jurisprudência brasileira já tem se posicionado no sentido de coibir essas práticas, com decisões que condenam empresas por envios não solicitados, inclusive com base na LGPD.\n",
            "\n",
            "**Portanto, se você recebeu um e-mail de marketing sem ter se cadastrado ou autorizado, você tem o direito de solicitar imediatamente o descadastramento e a exclusão de seus dados da lista de marketing da empresa. A empresa tem a obrigação de atender a essa solicitação.** Caso a prática persista, você pode registrar uma reclamação junto à Autoridade Nacional de Proteção de Dados (ANPD) ou aos órgãos de defesa do consumidor.\n"
          ]
        }
      ]
    }
  ],
  "metadata": {
    "colab": {
      "provenance": [],
      "collapsed_sections": [
        "UVFSMf14ku7o",
        "0bvf08emlkYi",
        "X38sr-MClyBh",
        "lbFXnAhglrIJ",
        "uMLVMWTll4Ab",
        "Ls1i6mCVbEo0",
        "44SK3SYpYKOn",
        "sNiIixQyYVKq"
      ]
    },
    "kernelspec": {
      "display_name": "agents-3pPokBLJ",
      "language": "python",
      "name": "python3"
    },
    "language_info": {
      "codemirror_mode": {
        "name": "ipython",
        "version": 3
      },
      "file_extension": ".py",
      "mimetype": "text/x-python",
      "name": "python",
      "nbconvert_exporter": "python",
      "pygments_lexer": "ipython3",
      "version": "3.12.3"
    },
    "widgets": {
      "application/vnd.jupyter.widget-state+json": {
        "b72e0f3e93214689989fe65679ae3cc3": {
          "model_module": "@jupyter-widgets/output",
          "model_name": "OutputModel",
          "model_module_version": "1.0.0",
          "state": {
            "_dom_classes": [],
            "_model_module": "@jupyter-widgets/output",
            "_model_module_version": "1.0.0",
            "_model_name": "OutputModel",
            "_view_count": null,
            "_view_module": "@jupyter-widgets/output",
            "_view_module_version": "1.0.0",
            "_view_name": "OutputView",
            "layout": "IPY_MODEL_b959a7395cd146ffb52cdda68e95db94",
            "msg_id": "",
            "outputs": [
              {
                "output_type": "display_data",
                "data": {
                  "text/plain": "\n",
                  "text/html": "<pre style=\"white-space:pre;overflow-x:auto;line-height:normal;font-family:Menlo,'DejaVu Sans Mono',consolas,'Courier New',monospace\">\n</pre>\n"
                },
                "metadata": {}
              },
              {
                "output_type": "display_data",
                "data": {
                  "text/plain": "\u001b[1;34m🌊 Flow: \u001b[0m\u001b[34mFluxoDeAnaliseJuridica\u001b[0m\n\u001b[37mID: \u001b[0m\u001b[34m30428d66-bb5b-4973-b979-633d2b80b925\u001b[0m\n├── \u001b[33m🧠 Starting Flow...\u001b[0m\n├── \u001b[1;33m🔄 Running:\u001b[0m\u001b[1;33m pesquisar_com_rag\u001b[0m\n└── \u001b[1;33m🔄 Running:\u001b[0m\u001b[1;33m pesquisar_na_web\u001b[0m\n",
                  "text/html": "<pre style=\"white-space:pre;overflow-x:auto;line-height:normal;font-family:Menlo,'DejaVu Sans Mono',consolas,'Courier New',monospace\"><span style=\"color: #000080; text-decoration-color: #000080; font-weight: bold\">🌊 Flow: </span><span style=\"color: #000080; text-decoration-color: #000080\">FluxoDeAnaliseJuridica</span>\n<span style=\"color: #c0c0c0; text-decoration-color: #c0c0c0\">ID: </span><span style=\"color: #000080; text-decoration-color: #000080\">30428d66-bb5b-4973-b979-633d2b80b925</span>\n├── <span style=\"color: #808000; text-decoration-color: #808000\">🧠 Starting Flow...</span>\n├── <span style=\"color: #808000; text-decoration-color: #808000; font-weight: bold\">🔄 Running: pesquisar_com_rag</span>\n└── <span style=\"color: #808000; text-decoration-color: #808000; font-weight: bold\">🔄 Running: pesquisar_na_web</span>\n</pre>\n"
                },
                "metadata": {}
              }
            ]
          }
        },
        "b959a7395cd146ffb52cdda68e95db94": {
          "model_module": "@jupyter-widgets/base",
          "model_name": "LayoutModel",
          "model_module_version": "1.2.0",
          "state": {
            "_model_module": "@jupyter-widgets/base",
            "_model_module_version": "1.2.0",
            "_model_name": "LayoutModel",
            "_view_count": null,
            "_view_module": "@jupyter-widgets/base",
            "_view_module_version": "1.2.0",
            "_view_name": "LayoutView",
            "align_content": null,
            "align_items": null,
            "align_self": null,
            "border": null,
            "bottom": null,
            "display": null,
            "flex": null,
            "flex_flow": null,
            "grid_area": null,
            "grid_auto_columns": null,
            "grid_auto_flow": null,
            "grid_auto_rows": null,
            "grid_column": null,
            "grid_gap": null,
            "grid_row": null,
            "grid_template_areas": null,
            "grid_template_columns": null,
            "grid_template_rows": null,
            "height": null,
            "justify_content": null,
            "justify_items": null,
            "left": null,
            "margin": null,
            "max_height": null,
            "max_width": null,
            "min_height": null,
            "min_width": null,
            "object_fit": null,
            "object_position": null,
            "order": null,
            "overflow": null,
            "overflow_x": null,
            "overflow_y": null,
            "padding": null,
            "right": null,
            "top": null,
            "visibility": null,
            "width": null
          }
        },
        "aac645421653413bb3f27591cd936c35": {
          "model_module": "@jupyter-widgets/output",
          "model_name": "OutputModel",
          "model_module_version": "1.0.0",
          "state": {
            "_dom_classes": [],
            "_model_module": "@jupyter-widgets/output",
            "_model_module_version": "1.0.0",
            "_model_name": "OutputModel",
            "_view_count": null,
            "_view_module": "@jupyter-widgets/output",
            "_view_module_version": "1.0.0",
            "_view_name": "OutputView",
            "layout": "IPY_MODEL_a9093c248a994cdea14b97631bc87846",
            "msg_id": "",
            "outputs": [
              {
                "output_type": "display_data",
                "data": {
                  "text/plain": "\u001b[1;32m✅ LiteAgent: \u001b[0m\u001b[32mAnalista de Contexto e Casos Práticos (Web Only)\u001b[0m\n\u001b[37mStatus: \u001b[0m\u001b[1;32mCompleted\u001b[0m\n├── \u001b[1;33m🔧 \u001b[0m\u001b[33mUsing Search the internet with Serper (1)\u001b[0m\n├── \u001b[1;33m🔧 \u001b[0m\u001b[33mUsing Search the internet with Serper (2)\u001b[0m\n└── \u001b[1;34m🧠 \u001b[0m\u001b[34mThinking...\u001b[0m\n",
                  "text/html": "<pre style=\"white-space:pre;overflow-x:auto;line-height:normal;font-family:Menlo,'DejaVu Sans Mono',consolas,'Courier New',monospace\"><span style=\"color: #008000; text-decoration-color: #008000; font-weight: bold\">✅ LiteAgent: </span><span style=\"color: #008000; text-decoration-color: #008000\">Analista de Contexto e Casos Práticos (Web Only)</span>\n<span style=\"color: #c0c0c0; text-decoration-color: #c0c0c0\">Status: </span><span style=\"color: #008000; text-decoration-color: #008000; font-weight: bold\">Completed</span>\n├── <span style=\"color: #808000; text-decoration-color: #808000; font-weight: bold\">🔧 </span><span style=\"color: #808000; text-decoration-color: #808000\">Using Search the internet with Serper (1)</span>\n├── <span style=\"color: #808000; text-decoration-color: #808000; font-weight: bold\">🔧 </span><span style=\"color: #808000; text-decoration-color: #808000\">Using Search the internet with Serper (2)</span>\n└── <span style=\"color: #000080; text-decoration-color: #000080; font-weight: bold\">🧠 </span><span style=\"color: #000080; text-decoration-color: #000080\">Thinking...</span>\n</pre>\n"
                },
                "metadata": {}
              }
            ]
          }
        },
        "a9093c248a994cdea14b97631bc87846": {
          "model_module": "@jupyter-widgets/base",
          "model_name": "LayoutModel",
          "model_module_version": "1.2.0",
          "state": {
            "_model_module": "@jupyter-widgets/base",
            "_model_module_version": "1.2.0",
            "_model_name": "LayoutModel",
            "_view_count": null,
            "_view_module": "@jupyter-widgets/base",
            "_view_module_version": "1.2.0",
            "_view_name": "LayoutView",
            "align_content": null,
            "align_items": null,
            "align_self": null,
            "border": null,
            "bottom": null,
            "display": null,
            "flex": null,
            "flex_flow": null,
            "grid_area": null,
            "grid_auto_columns": null,
            "grid_auto_flow": null,
            "grid_auto_rows": null,
            "grid_column": null,
            "grid_gap": null,
            "grid_row": null,
            "grid_template_areas": null,
            "grid_template_columns": null,
            "grid_template_rows": null,
            "height": null,
            "justify_content": null,
            "justify_items": null,
            "left": null,
            "margin": null,
            "max_height": null,
            "max_width": null,
            "min_height": null,
            "min_width": null,
            "object_fit": null,
            "object_position": null,
            "order": null,
            "overflow": null,
            "overflow_x": null,
            "overflow_y": null,
            "padding": null,
            "right": null,
            "top": null,
            "visibility": null,
            "width": null
          }
        },
        "5faa440310194a3dafb60e49f10f563a": {
          "model_module": "@jupyter-widgets/output",
          "model_name": "OutputModel",
          "model_module_version": "1.0.0",
          "state": {
            "_dom_classes": [],
            "_model_module": "@jupyter-widgets/output",
            "_model_module_version": "1.0.0",
            "_model_name": "OutputModel",
            "_view_count": null,
            "_view_module": "@jupyter-widgets/output",
            "_view_module_version": "1.0.0",
            "_view_name": "OutputView",
            "layout": "IPY_MODEL_f77bda3cc905414aa1d5ba8bbccb3c89",
            "msg_id": "",
            "outputs": [
              {
                "output_type": "display_data",
                "data": {
                  "text/plain": "\u001b[1;32m✅ LiteAgent: \u001b[0m\u001b[32mPesquisador Jurídico (RAG Only)\u001b[0m\n\u001b[37mStatus: \u001b[0m\u001b[1;32mCompleted\u001b[0m\n├── \u001b[1;33m🔧 \u001b[0m\u001b[33mUsing Search the internet with Serper (1)\u001b[0m\n├── \u001b[1;33m🔧 \u001b[0m\u001b[33mUsing Search the internet with Serper (2)\u001b[0m\n├── \u001b[1;33m🔧 \u001b[0m\u001b[33mUsing Search a txt's content (2)\u001b[0m\n└── \u001b[1;34m🧠 \u001b[0m\u001b[34mThinking...\u001b[0m\n",
                  "text/html": "<pre style=\"white-space:pre;overflow-x:auto;line-height:normal;font-family:Menlo,'DejaVu Sans Mono',consolas,'Courier New',monospace\"><span style=\"color: #008000; text-decoration-color: #008000; font-weight: bold\">✅ LiteAgent: </span><span style=\"color: #008000; text-decoration-color: #008000\">Pesquisador Jurídico (RAG Only)</span>\n<span style=\"color: #c0c0c0; text-decoration-color: #c0c0c0\">Status: </span><span style=\"color: #008000; text-decoration-color: #008000; font-weight: bold\">Completed</span>\n├── <span style=\"color: #808000; text-decoration-color: #808000; font-weight: bold\">🔧 </span><span style=\"color: #808000; text-decoration-color: #808000\">Using Search the internet with Serper (1)</span>\n├── <span style=\"color: #808000; text-decoration-color: #808000; font-weight: bold\">🔧 </span><span style=\"color: #808000; text-decoration-color: #808000\">Using Search the internet with Serper (2)</span>\n├── <span style=\"color: #808000; text-decoration-color: #808000; font-weight: bold\">🔧 </span><span style=\"color: #808000; text-decoration-color: #808000\">Using Search a txt's content (2)</span>\n└── <span style=\"color: #000080; text-decoration-color: #000080; font-weight: bold\">🧠 </span><span style=\"color: #000080; text-decoration-color: #000080\">Thinking...</span>\n</pre>\n"
                },
                "metadata": {}
              }
            ]
          }
        },
        "f77bda3cc905414aa1d5ba8bbccb3c89": {
          "model_module": "@jupyter-widgets/base",
          "model_name": "LayoutModel",
          "model_module_version": "1.2.0",
          "state": {
            "_model_module": "@jupyter-widgets/base",
            "_model_module_version": "1.2.0",
            "_model_name": "LayoutModel",
            "_view_count": null,
            "_view_module": "@jupyter-widgets/base",
            "_view_module_version": "1.2.0",
            "_view_name": "LayoutView",
            "align_content": null,
            "align_items": null,
            "align_self": null,
            "border": null,
            "bottom": null,
            "display": null,
            "flex": null,
            "flex_flow": null,
            "grid_area": null,
            "grid_auto_columns": null,
            "grid_auto_flow": null,
            "grid_auto_rows": null,
            "grid_column": null,
            "grid_gap": null,
            "grid_row": null,
            "grid_template_areas": null,
            "grid_template_columns": null,
            "grid_template_rows": null,
            "height": null,
            "justify_content": null,
            "justify_items": null,
            "left": null,
            "margin": null,
            "max_height": null,
            "max_width": null,
            "min_height": null,
            "min_width": null,
            "object_fit": null,
            "object_position": null,
            "order": null,
            "overflow": null,
            "overflow_x": null,
            "overflow_y": null,
            "padding": null,
            "right": null,
            "top": null,
            "visibility": null,
            "width": null
          }
        },
        "e7029888822645f4bb90cb54668c003c": {
          "model_module": "@jupyter-widgets/output",
          "model_name": "OutputModel",
          "model_module_version": "1.0.0",
          "state": {
            "_dom_classes": [],
            "_model_module": "@jupyter-widgets/output",
            "_model_module_version": "1.0.0",
            "_model_name": "OutputModel",
            "_view_count": null,
            "_view_module": "@jupyter-widgets/output",
            "_view_module_version": "1.0.0",
            "_view_name": "OutputView",
            "layout": "IPY_MODEL_a2af14cca7fd4e0d9f647b2ed6c07d3f",
            "msg_id": "",
            "outputs": [
              {
                "output_type": "display_data",
                "data": {
                  "text/plain": "\u001b[1;34m🌊 Flow: \u001b[0m\u001b[34mFluxoDeAnaliseJuridica\u001b[0m\n\u001b[37mID: \u001b[0m\u001b[34m30428d66-bb5b-4973-b979-633d2b80b925\u001b[0m\n├── \u001b[37mFlow Method Step\u001b[0m\n├── \u001b[1;32m✅ Completed:\u001b[0m\u001b[1;32m pesquisar_com_rag\u001b[0m\n├── \u001b[1;32m✅ Completed:\u001b[0m\u001b[1;32m pesquisar_na_web\u001b[0m\n├── \u001b[1;33m🔄 Running:\u001b[0m\u001b[1;33m gerar_analise_independente_1\u001b[0m\n└── \u001b[1;33m🔄 Running:\u001b[0m\u001b[1;33m gerar_analise_independente_2\u001b[0m\n",
                  "text/html": "<pre style=\"white-space:pre;overflow-x:auto;line-height:normal;font-family:Menlo,'DejaVu Sans Mono',consolas,'Courier New',monospace\"><span style=\"color: #000080; text-decoration-color: #000080; font-weight: bold\">🌊 Flow: </span><span style=\"color: #000080; text-decoration-color: #000080\">FluxoDeAnaliseJuridica</span>\n<span style=\"color: #c0c0c0; text-decoration-color: #c0c0c0\">ID: </span><span style=\"color: #000080; text-decoration-color: #000080\">30428d66-bb5b-4973-b979-633d2b80b925</span>\n├── <span style=\"color: #c0c0c0; text-decoration-color: #c0c0c0\">Flow Method Step</span>\n├── <span style=\"color: #008000; text-decoration-color: #008000; font-weight: bold\">✅ Completed: pesquisar_com_rag</span>\n├── <span style=\"color: #008000; text-decoration-color: #008000; font-weight: bold\">✅ Completed: pesquisar_na_web</span>\n├── <span style=\"color: #808000; text-decoration-color: #808000; font-weight: bold\">🔄 Running: gerar_analise_independente_1</span>\n└── <span style=\"color: #808000; text-decoration-color: #808000; font-weight: bold\">🔄 Running: gerar_analise_independente_2</span>\n</pre>\n"
                },
                "metadata": {}
              }
            ]
          }
        },
        "a2af14cca7fd4e0d9f647b2ed6c07d3f": {
          "model_module": "@jupyter-widgets/base",
          "model_name": "LayoutModel",
          "model_module_version": "1.2.0",
          "state": {
            "_model_module": "@jupyter-widgets/base",
            "_model_module_version": "1.2.0",
            "_model_name": "LayoutModel",
            "_view_count": null,
            "_view_module": "@jupyter-widgets/base",
            "_view_module_version": "1.2.0",
            "_view_name": "LayoutView",
            "align_content": null,
            "align_items": null,
            "align_self": null,
            "border": null,
            "bottom": null,
            "display": null,
            "flex": null,
            "flex_flow": null,
            "grid_area": null,
            "grid_auto_columns": null,
            "grid_auto_flow": null,
            "grid_auto_rows": null,
            "grid_column": null,
            "grid_gap": null,
            "grid_row": null,
            "grid_template_areas": null,
            "grid_template_columns": null,
            "grid_template_rows": null,
            "height": null,
            "justify_content": null,
            "justify_items": null,
            "left": null,
            "margin": null,
            "max_height": null,
            "max_width": null,
            "min_height": null,
            "min_width": null,
            "object_fit": null,
            "object_position": null,
            "order": null,
            "overflow": null,
            "overflow_x": null,
            "overflow_y": null,
            "padding": null,
            "right": null,
            "top": null,
            "visibility": null,
            "width": null
          }
        },
        "1c24008331ee437cacd39171919f0280": {
          "model_module": "@jupyter-widgets/output",
          "model_name": "OutputModel",
          "model_module_version": "1.0.0",
          "state": {
            "_dom_classes": [],
            "_model_module": "@jupyter-widgets/output",
            "_model_module_version": "1.0.0",
            "_model_name": "OutputModel",
            "_view_count": null,
            "_view_module": "@jupyter-widgets/output",
            "_view_module_version": "1.0.0",
            "_view_name": "OutputView",
            "layout": "IPY_MODEL_a21efbe257a24748a8bdd039e078ed77",
            "msg_id": "",
            "outputs": [
              {
                "output_type": "display_data",
                "data": {
                  "text/plain": "\u001b[1;32m✅ LiteAgent: \u001b[0m\u001b[32mAnalista Sênior de Informações\u001b[0m\n\u001b[37mStatus: \u001b[0m\u001b[1;32mCompleted\u001b[0m\n├── \u001b[1;33m🔧 \u001b[0m\u001b[33mUsing Search the internet with Serper (1)\u001b[0m\n├── \u001b[1;33m🔧 \u001b[0m\u001b[33mUsing Search the internet with Serper (2)\u001b[0m\n├── \u001b[1;33m🔧 \u001b[0m\u001b[33mUsing Search a txt's content (2)\u001b[0m\n└── \u001b[1;34m🧠 \u001b[0m\u001b[34mThinking...\u001b[0m\n",
                  "text/html": "<pre style=\"white-space:pre;overflow-x:auto;line-height:normal;font-family:Menlo,'DejaVu Sans Mono',consolas,'Courier New',monospace\"><span style=\"color: #008000; text-decoration-color: #008000; font-weight: bold\">✅ LiteAgent: </span><span style=\"color: #008000; text-decoration-color: #008000\">Analista Sênior de Informações</span>\n<span style=\"color: #c0c0c0; text-decoration-color: #c0c0c0\">Status: </span><span style=\"color: #008000; text-decoration-color: #008000; font-weight: bold\">Completed</span>\n├── <span style=\"color: #808000; text-decoration-color: #808000; font-weight: bold\">🔧 </span><span style=\"color: #808000; text-decoration-color: #808000\">Using Search the internet with Serper (1)</span>\n├── <span style=\"color: #808000; text-decoration-color: #808000; font-weight: bold\">🔧 </span><span style=\"color: #808000; text-decoration-color: #808000\">Using Search the internet with Serper (2)</span>\n├── <span style=\"color: #808000; text-decoration-color: #808000; font-weight: bold\">🔧 </span><span style=\"color: #808000; text-decoration-color: #808000\">Using Search a txt's content (2)</span>\n└── <span style=\"color: #000080; text-decoration-color: #000080; font-weight: bold\">🧠 </span><span style=\"color: #000080; text-decoration-color: #000080\">Thinking...</span>\n</pre>\n"
                },
                "metadata": {}
              }
            ]
          }
        },
        "a21efbe257a24748a8bdd039e078ed77": {
          "model_module": "@jupyter-widgets/base",
          "model_name": "LayoutModel",
          "model_module_version": "1.2.0",
          "state": {
            "_model_module": "@jupyter-widgets/base",
            "_model_module_version": "1.2.0",
            "_model_name": "LayoutModel",
            "_view_count": null,
            "_view_module": "@jupyter-widgets/base",
            "_view_module_version": "1.2.0",
            "_view_name": "LayoutView",
            "align_content": null,
            "align_items": null,
            "align_self": null,
            "border": null,
            "bottom": null,
            "display": null,
            "flex": null,
            "flex_flow": null,
            "grid_area": null,
            "grid_auto_columns": null,
            "grid_auto_flow": null,
            "grid_auto_rows": null,
            "grid_column": null,
            "grid_gap": null,
            "grid_row": null,
            "grid_template_areas": null,
            "grid_template_columns": null,
            "grid_template_rows": null,
            "height": null,
            "justify_content": null,
            "justify_items": null,
            "left": null,
            "margin": null,
            "max_height": null,
            "max_width": null,
            "min_height": null,
            "min_width": null,
            "object_fit": null,
            "object_position": null,
            "order": null,
            "overflow": null,
            "overflow_x": null,
            "overflow_y": null,
            "padding": null,
            "right": null,
            "top": null,
            "visibility": null,
            "width": null
          }
        },
        "662f6097fdea458199e760bcde5f8865": {
          "model_module": "@jupyter-widgets/output",
          "model_name": "OutputModel",
          "model_module_version": "1.0.0",
          "state": {
            "_dom_classes": [],
            "_model_module": "@jupyter-widgets/output",
            "_model_module_version": "1.0.0",
            "_model_name": "OutputModel",
            "_view_count": null,
            "_view_module": "@jupyter-widgets/output",
            "_view_module_version": "1.0.0",
            "_view_name": "OutputView",
            "layout": "IPY_MODEL_88dba5147b9a4e75b071e7cd73b77971",
            "msg_id": "",
            "outputs": [
              {
                "output_type": "display_data",
                "data": {
                  "text/plain": "\u001b[1;32m✅ LiteAgent: \u001b[0m\u001b[32mAnalista Sênior de Informações\u001b[0m\n\u001b[37mStatus: \u001b[0m\u001b[1;32mCompleted\u001b[0m\n├── \u001b[1;33m🔧 \u001b[0m\u001b[33mUsing Search the internet with Serper (1)\u001b[0m\n├── \u001b[1;33m🔧 \u001b[0m\u001b[33mUsing Search the internet with Serper (2)\u001b[0m\n├── \u001b[1;33m🔧 \u001b[0m\u001b[33mUsing Search a txt's content (2)\u001b[0m\n└── \u001b[1;34m🧠 \u001b[0m\u001b[34mThinking...\u001b[0m\n",
                  "text/html": "<pre style=\"white-space:pre;overflow-x:auto;line-height:normal;font-family:Menlo,'DejaVu Sans Mono',consolas,'Courier New',monospace\"><span style=\"color: #008000; text-decoration-color: #008000; font-weight: bold\">✅ LiteAgent: </span><span style=\"color: #008000; text-decoration-color: #008000\">Analista Sênior de Informações</span>\n<span style=\"color: #c0c0c0; text-decoration-color: #c0c0c0\">Status: </span><span style=\"color: #008000; text-decoration-color: #008000; font-weight: bold\">Completed</span>\n├── <span style=\"color: #808000; text-decoration-color: #808000; font-weight: bold\">🔧 </span><span style=\"color: #808000; text-decoration-color: #808000\">Using Search the internet with Serper (1)</span>\n├── <span style=\"color: #808000; text-decoration-color: #808000; font-weight: bold\">🔧 </span><span style=\"color: #808000; text-decoration-color: #808000\">Using Search the internet with Serper (2)</span>\n├── <span style=\"color: #808000; text-decoration-color: #808000; font-weight: bold\">🔧 </span><span style=\"color: #808000; text-decoration-color: #808000\">Using Search a txt's content (2)</span>\n└── <span style=\"color: #000080; text-decoration-color: #000080; font-weight: bold\">🧠 </span><span style=\"color: #000080; text-decoration-color: #000080\">Thinking...</span>\n</pre>\n"
                },
                "metadata": {}
              }
            ]
          }
        },
        "88dba5147b9a4e75b071e7cd73b77971": {
          "model_module": "@jupyter-widgets/base",
          "model_name": "LayoutModel",
          "model_module_version": "1.2.0",
          "state": {
            "_model_module": "@jupyter-widgets/base",
            "_model_module_version": "1.2.0",
            "_model_name": "LayoutModel",
            "_view_count": null,
            "_view_module": "@jupyter-widgets/base",
            "_view_module_version": "1.2.0",
            "_view_name": "LayoutView",
            "align_content": null,
            "align_items": null,
            "align_self": null,
            "border": null,
            "bottom": null,
            "display": null,
            "flex": null,
            "flex_flow": null,
            "grid_area": null,
            "grid_auto_columns": null,
            "grid_auto_flow": null,
            "grid_auto_rows": null,
            "grid_column": null,
            "grid_gap": null,
            "grid_row": null,
            "grid_template_areas": null,
            "grid_template_columns": null,
            "grid_template_rows": null,
            "height": null,
            "justify_content": null,
            "justify_items": null,
            "left": null,
            "margin": null,
            "max_height": null,
            "max_width": null,
            "min_height": null,
            "min_width": null,
            "object_fit": null,
            "object_position": null,
            "order": null,
            "overflow": null,
            "overflow_x": null,
            "overflow_y": null,
            "padding": null,
            "right": null,
            "top": null,
            "visibility": null,
            "width": null
          }
        },
        "317321b47d9f40f881953404f877feb8": {
          "model_module": "@jupyter-widgets/output",
          "model_name": "OutputModel",
          "model_module_version": "1.0.0",
          "state": {
            "_dom_classes": [],
            "_model_module": "@jupyter-widgets/output",
            "_model_module_version": "1.0.0",
            "_model_name": "OutputModel",
            "_view_count": null,
            "_view_module": "@jupyter-widgets/output",
            "_view_module_version": "1.0.0",
            "_view_name": "OutputView",
            "layout": "IPY_MODEL_c0240ec8069e4abfac99cb3ee63dedec",
            "msg_id": "",
            "outputs": [
              {
                "output_type": "display_data",
                "data": {
                  "text/plain": "\u001b[1;34m🌊 Flow: \u001b[0m\u001b[34mFluxoDeAnaliseJuridica\u001b[0m\n\u001b[37mID: \u001b[0m\u001b[34m30428d66-bb5b-4973-b979-633d2b80b925\u001b[0m\n├── \u001b[37mFlow Method Step\u001b[0m\n├── \u001b[1;32m✅ Completed:\u001b[0m\u001b[1;32m pesquisar_com_rag\u001b[0m\n├── \u001b[1;32m✅ Completed:\u001b[0m\u001b[1;32m pesquisar_na_web\u001b[0m\n├── \u001b[1;32m✅ Completed:\u001b[0m\u001b[1;32m gerar_analise_independente_1\u001b[0m\n├── \u001b[1;32m✅ Completed:\u001b[0m\u001b[1;32m gerar_analise_independente_2\u001b[0m\n├── \u001b[1;32m✅ Completed:\u001b[0m\u001b[1;32m gerar_analise_independente_3\u001b[0m\n└── \u001b[1;33m🔄 Running:\u001b[0m\u001b[1;33m sintetizar_resposta_final\u001b[0m\n",
                  "text/html": "<pre style=\"white-space:pre;overflow-x:auto;line-height:normal;font-family:Menlo,'DejaVu Sans Mono',consolas,'Courier New',monospace\"><span style=\"color: #000080; text-decoration-color: #000080; font-weight: bold\">🌊 Flow: </span><span style=\"color: #000080; text-decoration-color: #000080\">FluxoDeAnaliseJuridica</span>\n<span style=\"color: #c0c0c0; text-decoration-color: #c0c0c0\">ID: </span><span style=\"color: #000080; text-decoration-color: #000080\">30428d66-bb5b-4973-b979-633d2b80b925</span>\n├── <span style=\"color: #c0c0c0; text-decoration-color: #c0c0c0\">Flow Method Step</span>\n├── <span style=\"color: #008000; text-decoration-color: #008000; font-weight: bold\">✅ Completed: pesquisar_com_rag</span>\n├── <span style=\"color: #008000; text-decoration-color: #008000; font-weight: bold\">✅ Completed: pesquisar_na_web</span>\n├── <span style=\"color: #008000; text-decoration-color: #008000; font-weight: bold\">✅ Completed: gerar_analise_independente_1</span>\n├── <span style=\"color: #008000; text-decoration-color: #008000; font-weight: bold\">✅ Completed: gerar_analise_independente_2</span>\n├── <span style=\"color: #008000; text-decoration-color: #008000; font-weight: bold\">✅ Completed: gerar_analise_independente_3</span>\n└── <span style=\"color: #808000; text-decoration-color: #808000; font-weight: bold\">🔄 Running: sintetizar_resposta_final</span>\n</pre>\n"
                },
                "metadata": {}
              }
            ]
          }
        },
        "c0240ec8069e4abfac99cb3ee63dedec": {
          "model_module": "@jupyter-widgets/base",
          "model_name": "LayoutModel",
          "model_module_version": "1.2.0",
          "state": {
            "_model_module": "@jupyter-widgets/base",
            "_model_module_version": "1.2.0",
            "_model_name": "LayoutModel",
            "_view_count": null,
            "_view_module": "@jupyter-widgets/base",
            "_view_module_version": "1.2.0",
            "_view_name": "LayoutView",
            "align_content": null,
            "align_items": null,
            "align_self": null,
            "border": null,
            "bottom": null,
            "display": null,
            "flex": null,
            "flex_flow": null,
            "grid_area": null,
            "grid_auto_columns": null,
            "grid_auto_flow": null,
            "grid_auto_rows": null,
            "grid_column": null,
            "grid_gap": null,
            "grid_row": null,
            "grid_template_areas": null,
            "grid_template_columns": null,
            "grid_template_rows": null,
            "height": null,
            "justify_content": null,
            "justify_items": null,
            "left": null,
            "margin": null,
            "max_height": null,
            "max_width": null,
            "min_height": null,
            "min_width": null,
            "object_fit": null,
            "object_position": null,
            "order": null,
            "overflow": null,
            "overflow_x": null,
            "overflow_y": null,
            "padding": null,
            "right": null,
            "top": null,
            "visibility": null,
            "width": null
          }
        },
        "6be8783e1ecc4b7394417f4f7b3cec4f": {
          "model_module": "@jupyter-widgets/output",
          "model_name": "OutputModel",
          "model_module_version": "1.0.0",
          "state": {
            "_dom_classes": [],
            "_model_module": "@jupyter-widgets/output",
            "_model_module_version": "1.0.0",
            "_model_name": "OutputModel",
            "_view_count": null,
            "_view_module": "@jupyter-widgets/output",
            "_view_module_version": "1.0.0",
            "_view_name": "OutputView",
            "layout": "IPY_MODEL_32d07236c68949f7831146a1235392d3",
            "msg_id": "",
            "outputs": [
              {
                "output_type": "display_data",
                "data": {
                  "text/plain": "\u001b[1;32m✅ Flow Finished: \u001b[0m\u001b[32mFluxoDeAnaliseJuridica\u001b[0m\n├── \u001b[37mFlow Method Step\u001b[0m\n├── \u001b[1;32m✅ Completed:\u001b[0m\u001b[1;32m pesquisar_com_rag\u001b[0m\n├── \u001b[1;32m✅ Completed:\u001b[0m\u001b[1;32m pesquisar_na_web\u001b[0m\n├── \u001b[1;32m✅ Completed:\u001b[0m\u001b[1;32m gerar_analise_independente_1\u001b[0m\n├── \u001b[1;32m✅ Completed:\u001b[0m\u001b[1;32m gerar_analise_independente_2\u001b[0m\n├── \u001b[1;32m✅ Completed:\u001b[0m\u001b[1;32m gerar_analise_independente_3\u001b[0m\n└── \u001b[1;32m✅ Completed:\u001b[0m\u001b[1;32m sintetizar_resposta_final\u001b[0m\n",
                  "text/html": "<pre style=\"white-space:pre;overflow-x:auto;line-height:normal;font-family:Menlo,'DejaVu Sans Mono',consolas,'Courier New',monospace\"><span style=\"color: #008000; text-decoration-color: #008000; font-weight: bold\">✅ Flow Finished: </span><span style=\"color: #008000; text-decoration-color: #008000\">FluxoDeAnaliseJuridica</span>\n├── <span style=\"color: #c0c0c0; text-decoration-color: #c0c0c0\">Flow Method Step</span>\n├── <span style=\"color: #008000; text-decoration-color: #008000; font-weight: bold\">✅ Completed: pesquisar_com_rag</span>\n├── <span style=\"color: #008000; text-decoration-color: #008000; font-weight: bold\">✅ Completed: pesquisar_na_web</span>\n├── <span style=\"color: #008000; text-decoration-color: #008000; font-weight: bold\">✅ Completed: gerar_analise_independente_1</span>\n├── <span style=\"color: #008000; text-decoration-color: #008000; font-weight: bold\">✅ Completed: gerar_analise_independente_2</span>\n├── <span style=\"color: #008000; text-decoration-color: #008000; font-weight: bold\">✅ Completed: gerar_analise_independente_3</span>\n└── <span style=\"color: #008000; text-decoration-color: #008000; font-weight: bold\">✅ Completed: sintetizar_resposta_final</span>\n</pre>\n"
                },
                "metadata": {}
              }
            ]
          }
        },
        "32d07236c68949f7831146a1235392d3": {
          "model_module": "@jupyter-widgets/base",
          "model_name": "LayoutModel",
          "model_module_version": "1.2.0",
          "state": {
            "_model_module": "@jupyter-widgets/base",
            "_model_module_version": "1.2.0",
            "_model_name": "LayoutModel",
            "_view_count": null,
            "_view_module": "@jupyter-widgets/base",
            "_view_module_version": "1.2.0",
            "_view_name": "LayoutView",
            "align_content": null,
            "align_items": null,
            "align_self": null,
            "border": null,
            "bottom": null,
            "display": null,
            "flex": null,
            "flex_flow": null,
            "grid_area": null,
            "grid_auto_columns": null,
            "grid_auto_flow": null,
            "grid_auto_rows": null,
            "grid_column": null,
            "grid_gap": null,
            "grid_row": null,
            "grid_template_areas": null,
            "grid_template_columns": null,
            "grid_template_rows": null,
            "height": null,
            "justify_content": null,
            "justify_items": null,
            "left": null,
            "margin": null,
            "max_height": null,
            "max_width": null,
            "min_height": null,
            "min_width": null,
            "object_fit": null,
            "object_position": null,
            "order": null,
            "overflow": null,
            "overflow_x": null,
            "overflow_y": null,
            "padding": null,
            "right": null,
            "top": null,
            "visibility": null,
            "width": null
          }
        },
        "1d148a4c63ab47edb356dba7b40c614c": {
          "model_module": "@jupyter-widgets/output",
          "model_name": "OutputModel",
          "model_module_version": "1.0.0",
          "state": {
            "_dom_classes": [],
            "_model_module": "@jupyter-widgets/output",
            "_model_module_version": "1.0.0",
            "_model_name": "OutputModel",
            "_view_count": null,
            "_view_module": "@jupyter-widgets/output",
            "_view_module_version": "1.0.0",
            "_view_name": "OutputView",
            "layout": "IPY_MODEL_34b7e053ab6a4a02a464c772507812b0",
            "msg_id": "",
            "outputs": [
              {
                "output_type": "display_data",
                "data": {
                  "text/plain": "\u001b[1;34m🌊 Flow: \u001b[0m\u001b[34mFluxoDeAnaliseJuridica\u001b[0m\n\u001b[37mID: \u001b[0m\u001b[34m30428d66-bb5b-4973-b979-633d2b80b925\u001b[0m\n├── \u001b[33m🧠 Starting Flow...\u001b[0m\n├── \u001b[1;33m🔄 Running:\u001b[0m\u001b[1;33m pesquisar_com_rag\u001b[0m\n└── \u001b[1;33m🔄 Running:\u001b[0m\u001b[1;33m pesquisar_na_web\u001b[0m\n",
                  "text/html": "<pre style=\"white-space:pre;overflow-x:auto;line-height:normal;font-family:Menlo,'DejaVu Sans Mono',consolas,'Courier New',monospace\"><span style=\"color: #000080; text-decoration-color: #000080; font-weight: bold\">🌊 Flow: </span><span style=\"color: #000080; text-decoration-color: #000080\">FluxoDeAnaliseJuridica</span>\n<span style=\"color: #c0c0c0; text-decoration-color: #c0c0c0\">ID: </span><span style=\"color: #000080; text-decoration-color: #000080\">30428d66-bb5b-4973-b979-633d2b80b925</span>\n├── <span style=\"color: #808000; text-decoration-color: #808000\">🧠 Starting Flow...</span>\n├── <span style=\"color: #808000; text-decoration-color: #808000; font-weight: bold\">🔄 Running: pesquisar_com_rag</span>\n└── <span style=\"color: #808000; text-decoration-color: #808000; font-weight: bold\">🔄 Running: pesquisar_na_web</span>\n</pre>\n"
                },
                "metadata": {}
              }
            ]
          }
        },
        "34b7e053ab6a4a02a464c772507812b0": {
          "model_module": "@jupyter-widgets/base",
          "model_name": "LayoutModel",
          "model_module_version": "1.2.0",
          "state": {
            "_model_module": "@jupyter-widgets/base",
            "_model_module_version": "1.2.0",
            "_model_name": "LayoutModel",
            "_view_count": null,
            "_view_module": "@jupyter-widgets/base",
            "_view_module_version": "1.2.0",
            "_view_name": "LayoutView",
            "align_content": null,
            "align_items": null,
            "align_self": null,
            "border": null,
            "bottom": null,
            "display": null,
            "flex": null,
            "flex_flow": null,
            "grid_area": null,
            "grid_auto_columns": null,
            "grid_auto_flow": null,
            "grid_auto_rows": null,
            "grid_column": null,
            "grid_gap": null,
            "grid_row": null,
            "grid_template_areas": null,
            "grid_template_columns": null,
            "grid_template_rows": null,
            "height": null,
            "justify_content": null,
            "justify_items": null,
            "left": null,
            "margin": null,
            "max_height": null,
            "max_width": null,
            "min_height": null,
            "min_width": null,
            "object_fit": null,
            "object_position": null,
            "order": null,
            "overflow": null,
            "overflow_x": null,
            "overflow_y": null,
            "padding": null,
            "right": null,
            "top": null,
            "visibility": null,
            "width": null
          }
        },
        "e781d8e362e1474ea5b30c14e9c26e10": {
          "model_module": "@jupyter-widgets/output",
          "model_name": "OutputModel",
          "model_module_version": "1.0.0",
          "state": {
            "_dom_classes": [],
            "_model_module": "@jupyter-widgets/output",
            "_model_module_version": "1.0.0",
            "_model_name": "OutputModel",
            "_view_count": null,
            "_view_module": "@jupyter-widgets/output",
            "_view_module_version": "1.0.0",
            "_view_name": "OutputView",
            "layout": "IPY_MODEL_6bd8ade9bf0942dea4f8a58dbc1e4643",
            "msg_id": "",
            "outputs": [
              {
                "output_type": "display_data",
                "data": {
                  "text/plain": "\u001b[1;32m✅ LiteAgent: \u001b[0m\u001b[32mAnalista de Contexto e Casos Práticos (Web Only)\u001b[0m\n\u001b[37mStatus: \u001b[0m\u001b[1;32mCompleted\u001b[0m\n├── \u001b[1;33m🔧 \u001b[0m\u001b[33mUsing Search the internet with Serper (1)\u001b[0m\n├── \u001b[1;33m🔧 \u001b[0m\u001b[33mUsing Search the internet with Serper (2)\u001b[0m\n├── \u001b[1;33m🔧 \u001b[0m\u001b[33mUsing Search a txt's content (2)\u001b[0m\n├── \u001b[1;33m🔧 \u001b[0m\u001b[33mUsing Search a txt's content (3)\u001b[0m\n├── \u001b[1;33m🔧 \u001b[0m\u001b[33mUsing Search the internet with Serper (4)\u001b[0m\n├── \u001b[1;33m🔧 \u001b[0m\u001b[33mUsing Search the internet with Serper (5)\u001b[0m\n└── \u001b[1;34m🧠 \u001b[0m\u001b[34mThinking...\u001b[0m\n",
                  "text/html": "<pre style=\"white-space:pre;overflow-x:auto;line-height:normal;font-family:Menlo,'DejaVu Sans Mono',consolas,'Courier New',monospace\"><span style=\"color: #008000; text-decoration-color: #008000; font-weight: bold\">✅ LiteAgent: </span><span style=\"color: #008000; text-decoration-color: #008000\">Analista de Contexto e Casos Práticos (Web Only)</span>\n<span style=\"color: #c0c0c0; text-decoration-color: #c0c0c0\">Status: </span><span style=\"color: #008000; text-decoration-color: #008000; font-weight: bold\">Completed</span>\n├── <span style=\"color: #808000; text-decoration-color: #808000; font-weight: bold\">🔧 </span><span style=\"color: #808000; text-decoration-color: #808000\">Using Search the internet with Serper (1)</span>\n├── <span style=\"color: #808000; text-decoration-color: #808000; font-weight: bold\">🔧 </span><span style=\"color: #808000; text-decoration-color: #808000\">Using Search the internet with Serper (2)</span>\n├── <span style=\"color: #808000; text-decoration-color: #808000; font-weight: bold\">🔧 </span><span style=\"color: #808000; text-decoration-color: #808000\">Using Search a txt's content (2)</span>\n├── <span style=\"color: #808000; text-decoration-color: #808000; font-weight: bold\">🔧 </span><span style=\"color: #808000; text-decoration-color: #808000\">Using Search a txt's content (3)</span>\n├── <span style=\"color: #808000; text-decoration-color: #808000; font-weight: bold\">🔧 </span><span style=\"color: #808000; text-decoration-color: #808000\">Using Search the internet with Serper (4)</span>\n├── <span style=\"color: #808000; text-decoration-color: #808000; font-weight: bold\">🔧 </span><span style=\"color: #808000; text-decoration-color: #808000\">Using Search the internet with Serper (5)</span>\n└── <span style=\"color: #000080; text-decoration-color: #000080; font-weight: bold\">🧠 </span><span style=\"color: #000080; text-decoration-color: #000080\">Thinking...</span>\n</pre>\n"
                },
                "metadata": {}
              }
            ]
          }
        },
        "6bd8ade9bf0942dea4f8a58dbc1e4643": {
          "model_module": "@jupyter-widgets/base",
          "model_name": "LayoutModel",
          "model_module_version": "1.2.0",
          "state": {
            "_model_module": "@jupyter-widgets/base",
            "_model_module_version": "1.2.0",
            "_model_name": "LayoutModel",
            "_view_count": null,
            "_view_module": "@jupyter-widgets/base",
            "_view_module_version": "1.2.0",
            "_view_name": "LayoutView",
            "align_content": null,
            "align_items": null,
            "align_self": null,
            "border": null,
            "bottom": null,
            "display": null,
            "flex": null,
            "flex_flow": null,
            "grid_area": null,
            "grid_auto_columns": null,
            "grid_auto_flow": null,
            "grid_auto_rows": null,
            "grid_column": null,
            "grid_gap": null,
            "grid_row": null,
            "grid_template_areas": null,
            "grid_template_columns": null,
            "grid_template_rows": null,
            "height": null,
            "justify_content": null,
            "justify_items": null,
            "left": null,
            "margin": null,
            "max_height": null,
            "max_width": null,
            "min_height": null,
            "min_width": null,
            "object_fit": null,
            "object_position": null,
            "order": null,
            "overflow": null,
            "overflow_x": null,
            "overflow_y": null,
            "padding": null,
            "right": null,
            "top": null,
            "visibility": null,
            "width": null
          }
        },
        "1ad99da77e8d4dc38227d584d629536e": {
          "model_module": "@jupyter-widgets/output",
          "model_name": "OutputModel",
          "model_module_version": "1.0.0",
          "state": {
            "_dom_classes": [],
            "_model_module": "@jupyter-widgets/output",
            "_model_module_version": "1.0.0",
            "_model_name": "OutputModel",
            "_view_count": null,
            "_view_module": "@jupyter-widgets/output",
            "_view_module_version": "1.0.0",
            "_view_name": "OutputView",
            "layout": "IPY_MODEL_6a7a79a51ced44d1abd9a3e293155d9a",
            "msg_id": "",
            "outputs": [
              {
                "output_type": "display_data",
                "data": {
                  "text/plain": "\u001b[1;32m✅ LiteAgent: \u001b[0m\u001b[32mPesquisador Jurídico (RAG Only)\u001b[0m\n\u001b[37mStatus: \u001b[0m\u001b[1;32mCompleted\u001b[0m\n├── \u001b[1;33m🔧 \u001b[0m\u001b[33mUsing Search the internet with Serper (1)\u001b[0m\n├── \u001b[1;33m🔧 \u001b[0m\u001b[33mUsing Search the internet with Serper (2)\u001b[0m\n├── \u001b[1;33m🔧 \u001b[0m\u001b[33mUsing Search a txt's content (2)\u001b[0m\n├── \u001b[1;33m🔧 \u001b[0m\u001b[33mUsing Search a txt's content (3)\u001b[0m\n├── \u001b[1;33m🔧 \u001b[0m\u001b[33mUsing Search the internet with Serper (4)\u001b[0m\n├── \u001b[1;33m🔧 \u001b[0m\u001b[33mUsing Search the internet with Serper (5)\u001b[0m\n├── \u001b[1;33m🔧 \u001b[0m\u001b[33mUsing Search a txt's content (4)\u001b[0m\n└── \u001b[1;34m🧠 \u001b[0m\u001b[34mThinking...\u001b[0m\n",
                  "text/html": "<pre style=\"white-space:pre;overflow-x:auto;line-height:normal;font-family:Menlo,'DejaVu Sans Mono',consolas,'Courier New',monospace\"><span style=\"color: #008000; text-decoration-color: #008000; font-weight: bold\">✅ LiteAgent: </span><span style=\"color: #008000; text-decoration-color: #008000\">Pesquisador Jurídico (RAG Only)</span>\n<span style=\"color: #c0c0c0; text-decoration-color: #c0c0c0\">Status: </span><span style=\"color: #008000; text-decoration-color: #008000; font-weight: bold\">Completed</span>\n├── <span style=\"color: #808000; text-decoration-color: #808000; font-weight: bold\">🔧 </span><span style=\"color: #808000; text-decoration-color: #808000\">Using Search the internet with Serper (1)</span>\n├── <span style=\"color: #808000; text-decoration-color: #808000; font-weight: bold\">🔧 </span><span style=\"color: #808000; text-decoration-color: #808000\">Using Search the internet with Serper (2)</span>\n├── <span style=\"color: #808000; text-decoration-color: #808000; font-weight: bold\">🔧 </span><span style=\"color: #808000; text-decoration-color: #808000\">Using Search a txt's content (2)</span>\n├── <span style=\"color: #808000; text-decoration-color: #808000; font-weight: bold\">🔧 </span><span style=\"color: #808000; text-decoration-color: #808000\">Using Search a txt's content (3)</span>\n├── <span style=\"color: #808000; text-decoration-color: #808000; font-weight: bold\">🔧 </span><span style=\"color: #808000; text-decoration-color: #808000\">Using Search the internet with Serper (4)</span>\n├── <span style=\"color: #808000; text-decoration-color: #808000; font-weight: bold\">🔧 </span><span style=\"color: #808000; text-decoration-color: #808000\">Using Search the internet with Serper (5)</span>\n├── <span style=\"color: #808000; text-decoration-color: #808000; font-weight: bold\">🔧 </span><span style=\"color: #808000; text-decoration-color: #808000\">Using Search a txt's content (4)</span>\n└── <span style=\"color: #000080; text-decoration-color: #000080; font-weight: bold\">🧠 </span><span style=\"color: #000080; text-decoration-color: #000080\">Thinking...</span>\n</pre>\n"
                },
                "metadata": {}
              }
            ]
          }
        },
        "6a7a79a51ced44d1abd9a3e293155d9a": {
          "model_module": "@jupyter-widgets/base",
          "model_name": "LayoutModel",
          "model_module_version": "1.2.0",
          "state": {
            "_model_module": "@jupyter-widgets/base",
            "_model_module_version": "1.2.0",
            "_model_name": "LayoutModel",
            "_view_count": null,
            "_view_module": "@jupyter-widgets/base",
            "_view_module_version": "1.2.0",
            "_view_name": "LayoutView",
            "align_content": null,
            "align_items": null,
            "align_self": null,
            "border": null,
            "bottom": null,
            "display": null,
            "flex": null,
            "flex_flow": null,
            "grid_area": null,
            "grid_auto_columns": null,
            "grid_auto_flow": null,
            "grid_auto_rows": null,
            "grid_column": null,
            "grid_gap": null,
            "grid_row": null,
            "grid_template_areas": null,
            "grid_template_columns": null,
            "grid_template_rows": null,
            "height": null,
            "justify_content": null,
            "justify_items": null,
            "left": null,
            "margin": null,
            "max_height": null,
            "max_width": null,
            "min_height": null,
            "min_width": null,
            "object_fit": null,
            "object_position": null,
            "order": null,
            "overflow": null,
            "overflow_x": null,
            "overflow_y": null,
            "padding": null,
            "right": null,
            "top": null,
            "visibility": null,
            "width": null
          }
        },
        "762b02d9f3f24add82c44c0ac85bf6d8": {
          "model_module": "@jupyter-widgets/output",
          "model_name": "OutputModel",
          "model_module_version": "1.0.0",
          "state": {
            "_dom_classes": [],
            "_model_module": "@jupyter-widgets/output",
            "_model_module_version": "1.0.0",
            "_model_name": "OutputModel",
            "_view_count": null,
            "_view_module": "@jupyter-widgets/output",
            "_view_module_version": "1.0.0",
            "_view_name": "OutputView",
            "layout": "IPY_MODEL_ba19808125684c8d9f384e5586afe530",
            "msg_id": "",
            "outputs": [
              {
                "output_type": "display_data",
                "data": {
                  "text/plain": "\u001b[1;34m🌊 Flow: \u001b[0m\u001b[34mFluxoDeAnaliseJuridica\u001b[0m\n\u001b[37mID: \u001b[0m\u001b[34m30428d66-bb5b-4973-b979-633d2b80b925\u001b[0m\n├── \u001b[37mFlow Method Step\u001b[0m\n├── \u001b[1;32m✅ Completed:\u001b[0m\u001b[1;32m pesquisar_com_rag\u001b[0m\n├── \u001b[1;32m✅ Completed:\u001b[0m\u001b[1;32m pesquisar_na_web\u001b[0m\n├── \u001b[1;33m🔄 Running:\u001b[0m\u001b[1;33m gerar_analise_independente_1\u001b[0m\n├── \u001b[1;33m🔄 Running:\u001b[0m\u001b[1;33m gerar_analise_independente_2\u001b[0m\n└── \u001b[1;33m🔄 Running:\u001b[0m\u001b[1;33m gerar_analise_independente_3\u001b[0m\n",
                  "text/html": "<pre style=\"white-space:pre;overflow-x:auto;line-height:normal;font-family:Menlo,'DejaVu Sans Mono',consolas,'Courier New',monospace\"><span style=\"color: #000080; text-decoration-color: #000080; font-weight: bold\">🌊 Flow: </span><span style=\"color: #000080; text-decoration-color: #000080\">FluxoDeAnaliseJuridica</span>\n<span style=\"color: #c0c0c0; text-decoration-color: #c0c0c0\">ID: </span><span style=\"color: #000080; text-decoration-color: #000080\">30428d66-bb5b-4973-b979-633d2b80b925</span>\n├── <span style=\"color: #c0c0c0; text-decoration-color: #c0c0c0\">Flow Method Step</span>\n├── <span style=\"color: #008000; text-decoration-color: #008000; font-weight: bold\">✅ Completed: pesquisar_com_rag</span>\n├── <span style=\"color: #008000; text-decoration-color: #008000; font-weight: bold\">✅ Completed: pesquisar_na_web</span>\n├── <span style=\"color: #808000; text-decoration-color: #808000; font-weight: bold\">🔄 Running: gerar_analise_independente_1</span>\n├── <span style=\"color: #808000; text-decoration-color: #808000; font-weight: bold\">🔄 Running: gerar_analise_independente_2</span>\n└── <span style=\"color: #808000; text-decoration-color: #808000; font-weight: bold\">🔄 Running: gerar_analise_independente_3</span>\n</pre>\n"
                },
                "metadata": {}
              }
            ]
          }
        },
        "ba19808125684c8d9f384e5586afe530": {
          "model_module": "@jupyter-widgets/base",
          "model_name": "LayoutModel",
          "model_module_version": "1.2.0",
          "state": {
            "_model_module": "@jupyter-widgets/base",
            "_model_module_version": "1.2.0",
            "_model_name": "LayoutModel",
            "_view_count": null,
            "_view_module": "@jupyter-widgets/base",
            "_view_module_version": "1.2.0",
            "_view_name": "LayoutView",
            "align_content": null,
            "align_items": null,
            "align_self": null,
            "border": null,
            "bottom": null,
            "display": null,
            "flex": null,
            "flex_flow": null,
            "grid_area": null,
            "grid_auto_columns": null,
            "grid_auto_flow": null,
            "grid_auto_rows": null,
            "grid_column": null,
            "grid_gap": null,
            "grid_row": null,
            "grid_template_areas": null,
            "grid_template_columns": null,
            "grid_template_rows": null,
            "height": null,
            "justify_content": null,
            "justify_items": null,
            "left": null,
            "margin": null,
            "max_height": null,
            "max_width": null,
            "min_height": null,
            "min_width": null,
            "object_fit": null,
            "object_position": null,
            "order": null,
            "overflow": null,
            "overflow_x": null,
            "overflow_y": null,
            "padding": null,
            "right": null,
            "top": null,
            "visibility": null,
            "width": null
          }
        },
        "611cf8674ae547e797e6a4f557c606ba": {
          "model_module": "@jupyter-widgets/output",
          "model_name": "OutputModel",
          "model_module_version": "1.0.0",
          "state": {
            "_dom_classes": [],
            "_model_module": "@jupyter-widgets/output",
            "_model_module_version": "1.0.0",
            "_model_name": "OutputModel",
            "_view_count": null,
            "_view_module": "@jupyter-widgets/output",
            "_view_module_version": "1.0.0",
            "_view_name": "OutputView",
            "layout": "IPY_MODEL_3f1fc63a7b584728a85376a889014bfe",
            "msg_id": "",
            "outputs": [
              {
                "output_type": "display_data",
                "data": {
                  "text/plain": "\u001b[1;32m✅ LiteAgent: \u001b[0m\u001b[32mAnalista Sênior de Informações\u001b[0m\n\u001b[37mStatus: \u001b[0m\u001b[1;32mCompleted\u001b[0m\n├── \u001b[1;33m🔧 \u001b[0m\u001b[33mUsing Search the internet with Serper (1)\u001b[0m\n├── \u001b[1;33m🔧 \u001b[0m\u001b[33mUsing Search the internet with Serper (2)\u001b[0m\n├── \u001b[1;33m🔧 \u001b[0m\u001b[33mUsing Search a txt's content (2)\u001b[0m\n├── \u001b[1;33m🔧 \u001b[0m\u001b[33mUsing Search a txt's content (3)\u001b[0m\n├── \u001b[1;33m🔧 \u001b[0m\u001b[33mUsing Search the internet with Serper (4)\u001b[0m\n├── \u001b[1;33m🔧 \u001b[0m\u001b[33mUsing Search the internet with Serper (5)\u001b[0m\n├── \u001b[1;33m🔧 \u001b[0m\u001b[33mUsing Search a txt's content (4)\u001b[0m\n└── \u001b[1;34m🧠 \u001b[0m\u001b[34mThinking...\u001b[0m\n",
                  "text/html": "<pre style=\"white-space:pre;overflow-x:auto;line-height:normal;font-family:Menlo,'DejaVu Sans Mono',consolas,'Courier New',monospace\"><span style=\"color: #008000; text-decoration-color: #008000; font-weight: bold\">✅ LiteAgent: </span><span style=\"color: #008000; text-decoration-color: #008000\">Analista Sênior de Informações</span>\n<span style=\"color: #c0c0c0; text-decoration-color: #c0c0c0\">Status: </span><span style=\"color: #008000; text-decoration-color: #008000; font-weight: bold\">Completed</span>\n├── <span style=\"color: #808000; text-decoration-color: #808000; font-weight: bold\">🔧 </span><span style=\"color: #808000; text-decoration-color: #808000\">Using Search the internet with Serper (1)</span>\n├── <span style=\"color: #808000; text-decoration-color: #808000; font-weight: bold\">🔧 </span><span style=\"color: #808000; text-decoration-color: #808000\">Using Search the internet with Serper (2)</span>\n├── <span style=\"color: #808000; text-decoration-color: #808000; font-weight: bold\">🔧 </span><span style=\"color: #808000; text-decoration-color: #808000\">Using Search a txt's content (2)</span>\n├── <span style=\"color: #808000; text-decoration-color: #808000; font-weight: bold\">🔧 </span><span style=\"color: #808000; text-decoration-color: #808000\">Using Search a txt's content (3)</span>\n├── <span style=\"color: #808000; text-decoration-color: #808000; font-weight: bold\">🔧 </span><span style=\"color: #808000; text-decoration-color: #808000\">Using Search the internet with Serper (4)</span>\n├── <span style=\"color: #808000; text-decoration-color: #808000; font-weight: bold\">🔧 </span><span style=\"color: #808000; text-decoration-color: #808000\">Using Search the internet with Serper (5)</span>\n├── <span style=\"color: #808000; text-decoration-color: #808000; font-weight: bold\">🔧 </span><span style=\"color: #808000; text-decoration-color: #808000\">Using Search a txt's content (4)</span>\n└── <span style=\"color: #000080; text-decoration-color: #000080; font-weight: bold\">🧠 </span><span style=\"color: #000080; text-decoration-color: #000080\">Thinking...</span>\n</pre>\n"
                },
                "metadata": {}
              }
            ]
          }
        },
        "3f1fc63a7b584728a85376a889014bfe": {
          "model_module": "@jupyter-widgets/base",
          "model_name": "LayoutModel",
          "model_module_version": "1.2.0",
          "state": {
            "_model_module": "@jupyter-widgets/base",
            "_model_module_version": "1.2.0",
            "_model_name": "LayoutModel",
            "_view_count": null,
            "_view_module": "@jupyter-widgets/base",
            "_view_module_version": "1.2.0",
            "_view_name": "LayoutView",
            "align_content": null,
            "align_items": null,
            "align_self": null,
            "border": null,
            "bottom": null,
            "display": null,
            "flex": null,
            "flex_flow": null,
            "grid_area": null,
            "grid_auto_columns": null,
            "grid_auto_flow": null,
            "grid_auto_rows": null,
            "grid_column": null,
            "grid_gap": null,
            "grid_row": null,
            "grid_template_areas": null,
            "grid_template_columns": null,
            "grid_template_rows": null,
            "height": null,
            "justify_content": null,
            "justify_items": null,
            "left": null,
            "margin": null,
            "max_height": null,
            "max_width": null,
            "min_height": null,
            "min_width": null,
            "object_fit": null,
            "object_position": null,
            "order": null,
            "overflow": null,
            "overflow_x": null,
            "overflow_y": null,
            "padding": null,
            "right": null,
            "top": null,
            "visibility": null,
            "width": null
          }
        },
        "4db218e14ff14b2aaf70ff20850d407f": {
          "model_module": "@jupyter-widgets/output",
          "model_name": "OutputModel",
          "model_module_version": "1.0.0",
          "state": {
            "_dom_classes": [],
            "_model_module": "@jupyter-widgets/output",
            "_model_module_version": "1.0.0",
            "_model_name": "OutputModel",
            "_view_count": null,
            "_view_module": "@jupyter-widgets/output",
            "_view_module_version": "1.0.0",
            "_view_name": "OutputView",
            "layout": "IPY_MODEL_dd9330b0a0764d43ad46c92f4ae15224",
            "msg_id": "",
            "outputs": [
              {
                "output_type": "display_data",
                "data": {
                  "text/plain": "\u001b[1;32m✅ LiteAgent: \u001b[0m\u001b[32mAnalista Sênior de Informações\u001b[0m\n\u001b[37mStatus: \u001b[0m\u001b[1;32mCompleted\u001b[0m\n├── \u001b[1;33m🔧 \u001b[0m\u001b[33mUsing Search the internet with Serper (1)\u001b[0m\n├── \u001b[1;33m🔧 \u001b[0m\u001b[33mUsing Search the internet with Serper (2)\u001b[0m\n├── \u001b[1;33m🔧 \u001b[0m\u001b[33mUsing Search a txt's content (2)\u001b[0m\n├── \u001b[1;33m🔧 \u001b[0m\u001b[33mUsing Search a txt's content (3)\u001b[0m\n├── \u001b[1;33m🔧 \u001b[0m\u001b[33mUsing Search the internet with Serper (4)\u001b[0m\n├── \u001b[1;33m🔧 \u001b[0m\u001b[33mUsing Search the internet with Serper (5)\u001b[0m\n├── \u001b[1;33m🔧 \u001b[0m\u001b[33mUsing Search a txt's content (4)\u001b[0m\n└── \u001b[1;34m🧠 \u001b[0m\u001b[34mThinking...\u001b[0m\n",
                  "text/html": "<pre style=\"white-space:pre;overflow-x:auto;line-height:normal;font-family:Menlo,'DejaVu Sans Mono',consolas,'Courier New',monospace\"><span style=\"color: #008000; text-decoration-color: #008000; font-weight: bold\">✅ LiteAgent: </span><span style=\"color: #008000; text-decoration-color: #008000\">Analista Sênior de Informações</span>\n<span style=\"color: #c0c0c0; text-decoration-color: #c0c0c0\">Status: </span><span style=\"color: #008000; text-decoration-color: #008000; font-weight: bold\">Completed</span>\n├── <span style=\"color: #808000; text-decoration-color: #808000; font-weight: bold\">🔧 </span><span style=\"color: #808000; text-decoration-color: #808000\">Using Search the internet with Serper (1)</span>\n├── <span style=\"color: #808000; text-decoration-color: #808000; font-weight: bold\">🔧 </span><span style=\"color: #808000; text-decoration-color: #808000\">Using Search the internet with Serper (2)</span>\n├── <span style=\"color: #808000; text-decoration-color: #808000; font-weight: bold\">🔧 </span><span style=\"color: #808000; text-decoration-color: #808000\">Using Search a txt's content (2)</span>\n├── <span style=\"color: #808000; text-decoration-color: #808000; font-weight: bold\">🔧 </span><span style=\"color: #808000; text-decoration-color: #808000\">Using Search a txt's content (3)</span>\n├── <span style=\"color: #808000; text-decoration-color: #808000; font-weight: bold\">🔧 </span><span style=\"color: #808000; text-decoration-color: #808000\">Using Search the internet with Serper (4)</span>\n├── <span style=\"color: #808000; text-decoration-color: #808000; font-weight: bold\">🔧 </span><span style=\"color: #808000; text-decoration-color: #808000\">Using Search the internet with Serper (5)</span>\n├── <span style=\"color: #808000; text-decoration-color: #808000; font-weight: bold\">🔧 </span><span style=\"color: #808000; text-decoration-color: #808000\">Using Search a txt's content (4)</span>\n└── <span style=\"color: #000080; text-decoration-color: #000080; font-weight: bold\">🧠 </span><span style=\"color: #000080; text-decoration-color: #000080\">Thinking...</span>\n</pre>\n"
                },
                "metadata": {}
              }
            ]
          }
        },
        "dd9330b0a0764d43ad46c92f4ae15224": {
          "model_module": "@jupyter-widgets/base",
          "model_name": "LayoutModel",
          "model_module_version": "1.2.0",
          "state": {
            "_model_module": "@jupyter-widgets/base",
            "_model_module_version": "1.2.0",
            "_model_name": "LayoutModel",
            "_view_count": null,
            "_view_module": "@jupyter-widgets/base",
            "_view_module_version": "1.2.0",
            "_view_name": "LayoutView",
            "align_content": null,
            "align_items": null,
            "align_self": null,
            "border": null,
            "bottom": null,
            "display": null,
            "flex": null,
            "flex_flow": null,
            "grid_area": null,
            "grid_auto_columns": null,
            "grid_auto_flow": null,
            "grid_auto_rows": null,
            "grid_column": null,
            "grid_gap": null,
            "grid_row": null,
            "grid_template_areas": null,
            "grid_template_columns": null,
            "grid_template_rows": null,
            "height": null,
            "justify_content": null,
            "justify_items": null,
            "left": null,
            "margin": null,
            "max_height": null,
            "max_width": null,
            "min_height": null,
            "min_width": null,
            "object_fit": null,
            "object_position": null,
            "order": null,
            "overflow": null,
            "overflow_x": null,
            "overflow_y": null,
            "padding": null,
            "right": null,
            "top": null,
            "visibility": null,
            "width": null
          }
        },
        "dff1f6c69fd74442a81175d7bbdae6d4": {
          "model_module": "@jupyter-widgets/output",
          "model_name": "OutputModel",
          "model_module_version": "1.0.0",
          "state": {
            "_dom_classes": [],
            "_model_module": "@jupyter-widgets/output",
            "_model_module_version": "1.0.0",
            "_model_name": "OutputModel",
            "_view_count": null,
            "_view_module": "@jupyter-widgets/output",
            "_view_module_version": "1.0.0",
            "_view_name": "OutputView",
            "layout": "IPY_MODEL_76e9952fd0ad4769994e849b2e1a0c6b",
            "msg_id": "",
            "outputs": [
              {
                "output_type": "display_data",
                "data": {
                  "text/plain": "\u001b[1;34m🌊 Flow: \u001b[0m\u001b[34mFluxoDeAnaliseJuridica\u001b[0m\n\u001b[37mID: \u001b[0m\u001b[34m30428d66-bb5b-4973-b979-633d2b80b925\u001b[0m\n├── \u001b[37mFlow Method Step\u001b[0m\n├── \u001b[1;32m✅ Completed:\u001b[0m\u001b[1;32m pesquisar_com_rag\u001b[0m\n├── \u001b[1;32m✅ Completed:\u001b[0m\u001b[1;32m pesquisar_na_web\u001b[0m\n├── \u001b[1;32m✅ Completed:\u001b[0m\u001b[1;32m gerar_analise_independente_1\u001b[0m\n├── \u001b[1;32m✅ Completed:\u001b[0m\u001b[1;32m gerar_analise_independente_2\u001b[0m\n├── \u001b[1;32m✅ Completed:\u001b[0m\u001b[1;32m gerar_analise_independente_3\u001b[0m\n└── \u001b[1;33m🔄 Running:\u001b[0m\u001b[1;33m sintetizar_resposta_final\u001b[0m\n",
                  "text/html": "<pre style=\"white-space:pre;overflow-x:auto;line-height:normal;font-family:Menlo,'DejaVu Sans Mono',consolas,'Courier New',monospace\"><span style=\"color: #000080; text-decoration-color: #000080; font-weight: bold\">🌊 Flow: </span><span style=\"color: #000080; text-decoration-color: #000080\">FluxoDeAnaliseJuridica</span>\n<span style=\"color: #c0c0c0; text-decoration-color: #c0c0c0\">ID: </span><span style=\"color: #000080; text-decoration-color: #000080\">30428d66-bb5b-4973-b979-633d2b80b925</span>\n├── <span style=\"color: #c0c0c0; text-decoration-color: #c0c0c0\">Flow Method Step</span>\n├── <span style=\"color: #008000; text-decoration-color: #008000; font-weight: bold\">✅ Completed: pesquisar_com_rag</span>\n├── <span style=\"color: #008000; text-decoration-color: #008000; font-weight: bold\">✅ Completed: pesquisar_na_web</span>\n├── <span style=\"color: #008000; text-decoration-color: #008000; font-weight: bold\">✅ Completed: gerar_analise_independente_1</span>\n├── <span style=\"color: #008000; text-decoration-color: #008000; font-weight: bold\">✅ Completed: gerar_analise_independente_2</span>\n├── <span style=\"color: #008000; text-decoration-color: #008000; font-weight: bold\">✅ Completed: gerar_analise_independente_3</span>\n└── <span style=\"color: #808000; text-decoration-color: #808000; font-weight: bold\">🔄 Running: sintetizar_resposta_final</span>\n</pre>\n"
                },
                "metadata": {}
              }
            ]
          }
        },
        "76e9952fd0ad4769994e849b2e1a0c6b": {
          "model_module": "@jupyter-widgets/base",
          "model_name": "LayoutModel",
          "model_module_version": "1.2.0",
          "state": {
            "_model_module": "@jupyter-widgets/base",
            "_model_module_version": "1.2.0",
            "_model_name": "LayoutModel",
            "_view_count": null,
            "_view_module": "@jupyter-widgets/base",
            "_view_module_version": "1.2.0",
            "_view_name": "LayoutView",
            "align_content": null,
            "align_items": null,
            "align_self": null,
            "border": null,
            "bottom": null,
            "display": null,
            "flex": null,
            "flex_flow": null,
            "grid_area": null,
            "grid_auto_columns": null,
            "grid_auto_flow": null,
            "grid_auto_rows": null,
            "grid_column": null,
            "grid_gap": null,
            "grid_row": null,
            "grid_template_areas": null,
            "grid_template_columns": null,
            "grid_template_rows": null,
            "height": null,
            "justify_content": null,
            "justify_items": null,
            "left": null,
            "margin": null,
            "max_height": null,
            "max_width": null,
            "min_height": null,
            "min_width": null,
            "object_fit": null,
            "object_position": null,
            "order": null,
            "overflow": null,
            "overflow_x": null,
            "overflow_y": null,
            "padding": null,
            "right": null,
            "top": null,
            "visibility": null,
            "width": null
          }
        },
        "fe55e6e2cf6e4e2fb61da538fb2dabf0": {
          "model_module": "@jupyter-widgets/output",
          "model_name": "OutputModel",
          "model_module_version": "1.0.0",
          "state": {
            "_dom_classes": [],
            "_model_module": "@jupyter-widgets/output",
            "_model_module_version": "1.0.0",
            "_model_name": "OutputModel",
            "_view_count": null,
            "_view_module": "@jupyter-widgets/output",
            "_view_module_version": "1.0.0",
            "_view_name": "OutputView",
            "layout": "IPY_MODEL_64a3ea0fc5c149438a16afc07f9086a9",
            "msg_id": "",
            "outputs": [
              {
                "output_type": "display_data",
                "data": {
                  "text/plain": "\u001b[1;32m✅ Flow Finished: \u001b[0m\u001b[32mFluxoDeAnaliseJuridica\u001b[0m\n├── \u001b[37mFlow Method Step\u001b[0m\n├── \u001b[1;32m✅ Completed:\u001b[0m\u001b[1;32m pesquisar_com_rag\u001b[0m\n├── \u001b[1;32m✅ Completed:\u001b[0m\u001b[1;32m pesquisar_na_web\u001b[0m\n├── \u001b[1;32m✅ Completed:\u001b[0m\u001b[1;32m gerar_analise_independente_1\u001b[0m\n├── \u001b[1;32m✅ Completed:\u001b[0m\u001b[1;32m gerar_analise_independente_2\u001b[0m\n├── \u001b[1;32m✅ Completed:\u001b[0m\u001b[1;32m gerar_analise_independente_3\u001b[0m\n└── \u001b[1;32m✅ Completed:\u001b[0m\u001b[1;32m sintetizar_resposta_final\u001b[0m\n",
                  "text/html": "<pre style=\"white-space:pre;overflow-x:auto;line-height:normal;font-family:Menlo,'DejaVu Sans Mono',consolas,'Courier New',monospace\"><span style=\"color: #008000; text-decoration-color: #008000; font-weight: bold\">✅ Flow Finished: </span><span style=\"color: #008000; text-decoration-color: #008000\">FluxoDeAnaliseJuridica</span>\n├── <span style=\"color: #c0c0c0; text-decoration-color: #c0c0c0\">Flow Method Step</span>\n├── <span style=\"color: #008000; text-decoration-color: #008000; font-weight: bold\">✅ Completed: pesquisar_com_rag</span>\n├── <span style=\"color: #008000; text-decoration-color: #008000; font-weight: bold\">✅ Completed: pesquisar_na_web</span>\n├── <span style=\"color: #008000; text-decoration-color: #008000; font-weight: bold\">✅ Completed: gerar_analise_independente_1</span>\n├── <span style=\"color: #008000; text-decoration-color: #008000; font-weight: bold\">✅ Completed: gerar_analise_independente_2</span>\n├── <span style=\"color: #008000; text-decoration-color: #008000; font-weight: bold\">✅ Completed: gerar_analise_independente_3</span>\n└── <span style=\"color: #008000; text-decoration-color: #008000; font-weight: bold\">✅ Completed: sintetizar_resposta_final</span>\n</pre>\n"
                },
                "metadata": {}
              }
            ]
          }
        },
        "64a3ea0fc5c149438a16afc07f9086a9": {
          "model_module": "@jupyter-widgets/base",
          "model_name": "LayoutModel",
          "model_module_version": "1.2.0",
          "state": {
            "_model_module": "@jupyter-widgets/base",
            "_model_module_version": "1.2.0",
            "_model_name": "LayoutModel",
            "_view_count": null,
            "_view_module": "@jupyter-widgets/base",
            "_view_module_version": "1.2.0",
            "_view_name": "LayoutView",
            "align_content": null,
            "align_items": null,
            "align_self": null,
            "border": null,
            "bottom": null,
            "display": null,
            "flex": null,
            "flex_flow": null,
            "grid_area": null,
            "grid_auto_columns": null,
            "grid_auto_flow": null,
            "grid_auto_rows": null,
            "grid_column": null,
            "grid_gap": null,
            "grid_row": null,
            "grid_template_areas": null,
            "grid_template_columns": null,
            "grid_template_rows": null,
            "height": null,
            "justify_content": null,
            "justify_items": null,
            "left": null,
            "margin": null,
            "max_height": null,
            "max_width": null,
            "min_height": null,
            "min_width": null,
            "object_fit": null,
            "object_position": null,
            "order": null,
            "overflow": null,
            "overflow_x": null,
            "overflow_y": null,
            "padding": null,
            "right": null,
            "top": null,
            "visibility": null,
            "width": null
          }
        }
      }
    }
  },
  "nbformat": 4,
  "nbformat_minor": 5
}