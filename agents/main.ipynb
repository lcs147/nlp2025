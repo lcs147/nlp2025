{
 "cells": [
  {
   "cell_type": "code",
   "execution_count": null,
   "id": "95b20970",
   "metadata": {},
   "outputs": [],
   "source": [
    "!pip install crewai crewai_tools langchain_community python-dotenv"
   ]
  },
  {
   "cell_type": "code",
   "execution_count": 78,
   "id": "ba34e7bd",
   "metadata": {},
   "outputs": [
    {
     "data": {
      "text/plain": [
       "True"
      ]
     },
     "execution_count": 78,
     "metadata": {},
     "output_type": "execute_result"
    }
   ],
   "source": [
    "from dotenv import load_dotenv\n",
    "load_dotenv()"
   ]
  },
  {
   "cell_type": "code",
   "execution_count": 79,
   "id": "aa8217a4",
   "metadata": {},
   "outputs": [],
   "source": [
    "from langchain_community.llms import Ollama\n",
    "from crewai import Agent, Task, Crew, Process\n",
    "from crewai_tools import DirectorySearchTool, SerperDevTool\n",
    "\n",
    "class LegalAnalysisCrew:\n",
    "    def __init__(self, model_name=\"gemma3:1b\"):\n",
    "        self.model_name = model_name\n",
    "        \n",
    "        self.rag_tool = DirectorySearchTool(\n",
    "            directory=\"resources/\",\n",
    "            config=dict(\n",
    "                llm=dict(\n",
    "                    provider=\"ollama\",\n",
    "                    config=dict(\n",
    "                        model=model_name,\n",
    "                    ),\n",
    "                ),\n",
    "                embedder=dict(\n",
    "                    provider=\"google\",\n",
    "                    config=dict(\n",
    "                        model=\"models/embedding-001\",\n",
    "                        task_type=\"retrieval_document\",\n",
    "                    ),\n",
    "                ),\n",
    "            )\n",
    "        )\n",
    "\n",
    "        self.ollama_llm = Ollama(model=self.model_name)\n",
    "        \n",
    "        self.search_tool = SerperDevTool(country = \"br\")\n",
    "        self._define_agents()\n",
    "\n",
    "    def _define_agents(self):\n",
    "\n",
    "        self.pesquisador_legal = Agent(\n",
    "            role='Pesquisador Jurídico Especialista',\n",
    "            goal=f'Analisar a pergunta do usuário, identificar as áreas legais relevantes (Consumidor, Civil, Proteção de Dados) e usar a ferramenta RAG para encontrar os artigos de lei exatos que se aplicam ao caso.',\n",
    "            backstory='Você é um advogado meticuloso com vasta experiência em pesquisa jurídica. Sua principal habilidade é conectar problemas do mundo real com o texto exato da lei.',\n",
    "            verbose=True,\n",
    "            llm=self.ollama_llm,\n",
    "            tools=[self.rag_tool, self.search_tool],\n",
    "            allow_delegation=False\n",
    "        )\n",
    "\n",
    "        self.analista_de_contexto = Agent(\n",
    "            role='Analista de Contexto e Casos Práticos',\n",
    "            goal=f'Para qualquer pergunta do usuário, usar a busca na web para encontrar notícias, artigos de blog e decisões judiciais que forneçam contexto do mundo real sobre como as leis são aplicadas.',\n",
    "            backstory='Você é um jornalista investigativo especializado no judiciário. Você sabe como encontrar exemplos que ilustram a aplicação prática das leis, ajudando a entender além do texto legal.',\n",
    "            verbose=True,\n",
    "            llm=self.ollama_llm,\n",
    "            tools=[self.search_tool],\n",
    "            allow_delegation=False\n",
    "        )\n",
    "\n",
    "        self.revisor_sintetizador = Agent(\n",
    "            role='Revisor Jurídico Sênior',\n",
    "            goal=f'Revisar as análises dos pesquisadores, comparar as informações da lei com o contexto da web, e sintetizar tudo em uma resposta final, coesa, bem-estruturada e fácil de entender para o usuário.',\n",
    "            backstory='Com anos de experiência como juiz, você é especialista em consolidar múltiplas fontes de informação em uma única conclusão lógica e bem fundamentada. Sua clareza e precisão são incomparáveis.',\n",
    "            verbose=True,\n",
    "            llm=self.ollama_llm,\n",
    "            allow_delegation=False\n",
    "        )\n",
    "\n",
    "    def run(self, question: str):\n",
    "        \"\"\"Executa o fluxo de trabalho da crew para uma determinada pergunta.\"\"\"\n",
    "        \n",
    "        task_pesquisa_legal = Task(\n",
    "            description=f\"Analise a pergunta do usuário: '{question}'. Foque em identificar e extrair os artigos relevantes da sua base de conhecimento legal (RAG tool) que se aplicam diretamente a esta situação.\",\n",
    "            expected_output=\"Uma lista de artigos de lei (do CDC, LGPD, Código Civil) relevantes para a pergunta, com uma breve explicação de cada um.\",\n",
    "            agent=self.pesquisador_legal,\n",
    "            async_execution=True\n",
    "        )\n",
    "\n",
    "        task_analise_contexto = Task(\n",
    "            description=f\"Pesquise na web por contexto prático relacionado à pergunta do usuário: '{question}'. Encontre notícias, posts de blogs de advogados ou resumos de casos que mostrem como essa situação é tratada na prática.\",\n",
    "            expected_output=\"Um resumo das descobertas da web, incluindo links para 2-3 fontes importantes que dão contexto sobre o tema.\",\n",
    "            agent=self.analista_de_contexto,\n",
    "            async_execution=True\n",
    "        )\n",
    "\n",
    "        task_revisao_final = Task(\n",
    "            description=f\"Usando os resultados da pesquisa legal e da análise de contexto, formule uma resposta final abrangente e bem estruturada para a pergunta do usuário: '{question}'. Sua resposta deve: 1. Explicar claramente os direitos e deveres com base nos artigos de lei encontrados. 2. Usar o contexto da web para dar exemplos práticos. 3. Ser dividida em seções lógicas para fácil leitura. 4. Concluir com um resumo dos próximos passos que o usuário pode tomar e o disclaimer legal.\",\n",
    "            expected_output=\"A resposta final e completa a ser entregue ao usuário.\",\n",
    "            agent=self.revisor_sintetizador,\n",
    "            context=[task_pesquisa_legal, task_analise_contexto]\n",
    "        )\n",
    "\n",
    "        # Montar e executar a crew com as tarefas dinâmicas\n",
    "        crew = Crew(\n",
    "            agents=[self.pesquisador_legal, self.analista_de_contexto, self.revisor_sintetizador],\n",
    "            tasks=[task_pesquisa_legal, task_analise_contexto, task_revisao_final],\n",
    "            process=Process.sequential,\n",
    "            verbose=2\n",
    "        )\n",
    "\n",
    "        return crew.kickoff()"
   ]
  },
  {
   "cell_type": "code",
   "execution_count": 80,
   "id": "c2ac50f3",
   "metadata": {},
   "outputs": [
    {
     "name": "stdout",
     "output_type": "stream",
     "text": [
      "Criando instância da LegalAnalysisCrew...\n"
     ]
    },
    {
     "name": "stderr",
     "output_type": "stream",
     "text": [
      "/home/castro/.local/share/virtualenvs/agents-3pPokBLJ/lib/python3.12/site-packages/alembic/config.py:592: DeprecationWarning: No path_separator found in configuration; falling back to legacy splitting on spaces, commas, and colons for prepend_sys_path.  Consider adding path_separator=os to Alembic config.\n",
      "  util.warn_deprecated(\n",
      "Inserting batches in chromadb:   0%|          | 0/21 [00:12<?, ?it/s]\n",
      "Inserting batches in chromadb:   0%|          | 0/18 [00:12<?, ?it/s]"
     ]
    },
    {
     "name": "stdout",
     "output_type": "stream",
     "text": [
      "\n",
      "\n",
      "\n",
      "\n",
      "\n",
      "\n",
      "\n",
      "\n",
      "\n"
     ]
    },
    {
     "name": "stderr",
     "output_type": "stream",
     "text": [
      "\n"
     ]
    }
   ],
   "source": [
    "print(\"Criando instância da LegalAnalysisCrew...\")\n",
    "legal_crew = LegalAnalysisCrew()"
   ]
  },
  {
   "cell_type": "code",
   "execution_count": null,
   "id": "ffdbf62c",
   "metadata": {},
   "outputs": [],
   "source": []
  },
  {
   "cell_type": "code",
   "execution_count": null,
   "id": "407b908d",
   "metadata": {},
   "outputs": [],
   "source": []
  }
 ],
 "metadata": {
  "kernelspec": {
   "display_name": "agents-3pPokBLJ",
   "language": "python",
   "name": "python3"
  },
  "language_info": {
   "codemirror_mode": {
    "name": "ipython",
    "version": 3
   },
   "file_extension": ".py",
   "mimetype": "text/x-python",
   "name": "python",
   "nbconvert_exporter": "python",
   "pygments_lexer": "ipython3",
   "version": "3.12.3"
  }
 },
 "nbformat": 4,
 "nbformat_minor": 5
}
